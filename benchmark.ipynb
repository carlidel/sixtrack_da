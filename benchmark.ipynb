{
 "cells": [
  {
   "cell_type": "markdown",
   "metadata": {},
   "source": [
    "# Benchmarking SixTrack(wrap)"
   ]
  },
  {
   "cell_type": "code",
   "execution_count": 1,
   "metadata": {},
   "outputs": [],
   "source": [
    "# Base libraries\n",
    "import math\n",
    "import numpy as np\n",
    "import scipy.integrate as integrate\n",
    "from tqdm import tqdm\n",
    "from scipy.special import erf\n",
    "import pickle\n",
    "import itertools\n",
    "\n",
    "# Personal libraries\n",
    "import sixtrackwrap as sx\n",
    "\n",
    "import time\n",
    "import matplotlib.pyplot as plt"
   ]
  },
  {
   "cell_type": "code",
   "execution_count": 3,
   "metadata": {},
   "outputs": [],
   "source": [
    "sample_list = np.logspace(1, 4, 100, dtype=np.int)\n",
    "n_iterations = 10"
   ]
  },
  {
   "cell_type": "code",
   "execution_count": 4,
   "metadata": {
    "scrolled": true
   },
   "outputs": [
    {
     "name": "stderr",
     "output_type": "stream",
     "text": [
      "  0%|          | 0/100 [00:00<?, ?it/s]"
     ]
    },
    {
     "name": "stdout",
     "output_type": "stream",
     "text": [
      "Simple Tracking\n",
      "0.7307682037353516\n",
      "0.0073076820373535155\n",
      "Full Tracking\n"
     ]
    },
    {
     "name": "stderr",
     "output_type": "stream",
     "text": [
      "  1%|          | 1/100 [00:01<03:03,  1.85s/it]"
     ]
    },
    {
     "name": "stdout",
     "output_type": "stream",
     "text": [
      "1.122837781906128\n",
      "0.01122837781906128\n",
      "Simple Tracking\n",
      "0.4945259094238281\n",
      "0.004945259094238281\n",
      "Full Tracking\n"
     ]
    },
    {
     "name": "stderr",
     "output_type": "stream",
     "text": [
      "  2%|▏         | 2/100 [00:02<02:35,  1.58s/it]"
     ]
    },
    {
     "name": "stdout",
     "output_type": "stream",
     "text": [
      "0.4591829776763916\n",
      "0.004591829776763916\n",
      "Simple Tracking\n",
      "0.4928009510040283\n",
      "0.004480008645491166\n",
      "Full Tracking\n"
     ]
    },
    {
     "name": "stderr",
     "output_type": "stream",
     "text": [
      "  3%|▎         | 3/100 [00:03<02:15,  1.39s/it]"
     ]
    },
    {
     "name": "stdout",
     "output_type": "stream",
     "text": [
      "0.45743370056152344\n",
      "0.00415848818692294\n",
      "Simple Tracking\n",
      "0.49533915519714355\n",
      "0.00412782629330953\n",
      "Full Tracking\n"
     ]
    },
    {
     "name": "stderr",
     "output_type": "stream",
     "text": [
      "  4%|▍         | 4/100 [00:04<02:01,  1.26s/it]"
     ]
    },
    {
     "name": "stdout",
     "output_type": "stream",
     "text": [
      "0.46115994453430176\n",
      "0.003842999537785848\n",
      "Simple Tracking\n",
      "0.4984745979309082\n",
      "0.0038344199840839093\n",
      "Full Tracking\n"
     ]
    },
    {
     "name": "stderr",
     "output_type": "stream",
     "text": [
      "  5%|▌         | 5/100 [00:05<01:51,  1.17s/it]"
     ]
    },
    {
     "name": "stdout",
     "output_type": "stream",
     "text": [
      "0.45724010467529297\n",
      "0.0035172315744253307\n",
      "Simple Tracking\n",
      "0.5014829635620117\n",
      "0.003582021168300084\n",
      "Full Tracking\n"
     ]
    },
    {
     "name": "stderr",
     "output_type": "stream",
     "text": [
      "  6%|▌         | 6/100 [00:06<01:44,  1.11s/it]"
     ]
    },
    {
     "name": "stdout",
     "output_type": "stream",
     "text": [
      "0.4595048427581787\n",
      "0.0032821774482727053\n",
      "Simple Tracking\n",
      "0.4945669174194336\n",
      "0.003297112782796224\n",
      "Full Tracking\n"
     ]
    },
    {
     "name": "stderr",
     "output_type": "stream",
     "text": [
      "  7%|▋         | 7/100 [00:07<01:38,  1.06s/it]"
     ]
    },
    {
     "name": "stdout",
     "output_type": "stream",
     "text": [
      "0.4575991630554199\n",
      "0.0030506610870361327\n",
      "Simple Tracking\n",
      "0.49390697479248047\n",
      "0.003086918592453003\n",
      "Full Tracking\n"
     ]
    },
    {
     "name": "stderr",
     "output_type": "stream",
     "text": [
      "  8%|▊         | 8/100 [00:08<01:34,  1.03s/it]"
     ]
    },
    {
     "name": "stdout",
     "output_type": "stream",
     "text": [
      "0.45757508277893066\n",
      "0.0028598442673683166\n",
      "Simple Tracking\n",
      "0.49494147300720215\n",
      "0.0029114204294541303\n",
      "Full Tracking\n"
     ]
    },
    {
     "name": "stderr",
     "output_type": "stream",
     "text": [
      "  9%|▉         | 9/100 [00:09<01:31,  1.01s/it]"
     ]
    },
    {
     "name": "stdout",
     "output_type": "stream",
     "text": [
      "0.4592256546020508\n",
      "0.0027013273800120634\n",
      "Simple Tracking\n",
      "0.4963347911834717\n",
      "0.002757415506574843\n",
      "Full Tracking\n"
     ]
    },
    {
     "name": "stderr",
     "output_type": "stream",
     "text": [
      " 10%|█         | 10/100 [00:10<01:29,  1.01it/s]"
     ]
    },
    {
     "name": "stdout",
     "output_type": "stream",
     "text": [
      "0.458878755569458\n",
      "0.002549326419830322\n",
      "Simple Tracking\n",
      "0.49559998512268066\n",
      "0.0024779999256134035\n",
      "Full Tracking\n"
     ]
    },
    {
     "name": "stderr",
     "output_type": "stream",
     "text": [
      " 11%|█         | 11/100 [00:11<01:27,  1.02it/s]"
     ]
    },
    {
     "name": "stdout",
     "output_type": "stream",
     "text": [
      "0.45925354957580566\n",
      "0.0022962677478790285\n",
      "Simple Tracking\n",
      "0.49620556831359863\n",
      "0.002362883658636184\n",
      "Full Tracking\n"
     ]
    },
    {
     "name": "stderr",
     "output_type": "stream",
     "text": [
      " 12%|█▏        | 12/100 [00:12<01:25,  1.03it/s]"
     ]
    },
    {
     "name": "stdout",
     "output_type": "stream",
     "text": [
      "0.46075010299682617\n",
      "0.002194048109508696\n",
      "Simple Tracking\n",
      "0.49712204933166504\n",
      "0.0021614002144855\n",
      "Full Tracking\n"
     ]
    },
    {
     "name": "stderr",
     "output_type": "stream",
     "text": [
      " 13%|█▎        | 13/100 [00:13<01:24,  1.03it/s]"
     ]
    },
    {
     "name": "stdout",
     "output_type": "stream",
     "text": [
      "0.45999908447265625\n",
      "0.0019999960194463317\n",
      "Simple Tracking\n",
      "0.4966716766357422\n",
      "0.0020694653193155926\n",
      "Full Tracking\n"
     ]
    },
    {
     "name": "stderr",
     "output_type": "stream",
     "text": [
      " 14%|█▍        | 14/100 [00:14<01:23,  1.04it/s]"
     ]
    },
    {
     "name": "stdout",
     "output_type": "stream",
     "text": [
      "0.4609184265136719\n",
      "0.0019204934438069661\n",
      "Simple Tracking\n",
      "0.497983455657959\n",
      "0.0019153209832998422\n",
      "Full Tracking\n"
     ]
    },
    {
     "name": "stderr",
     "output_type": "stream",
     "text": [
      " 15%|█▌        | 15/100 [00:15<01:21,  1.04it/s]"
     ]
    },
    {
     "name": "stdout",
     "output_type": "stream",
     "text": [
      "0.4625568389892578\n",
      "0.0017790647653432993\n",
      "Simple Tracking\n",
      "0.4976944923400879\n",
      "0.0017774803297860282\n",
      "Full Tracking\n"
     ]
    },
    {
     "name": "stderr",
     "output_type": "stream",
     "text": [
      " 16%|█▌        | 16/100 [00:16<01:21,  1.04it/s]"
     ]
    },
    {
     "name": "stdout",
     "output_type": "stream",
     "text": [
      "0.4663383960723877\n",
      "0.0016654942716870988\n",
      "Simple Tracking\n",
      "0.49770259857177734\n",
      "0.0016590086619059244\n",
      "Full Tracking\n"
     ]
    },
    {
     "name": "stderr",
     "output_type": "stream",
     "text": [
      " 17%|█▋        | 17/100 [00:17<01:19,  1.04it/s]"
     ]
    },
    {
     "name": "stdout",
     "output_type": "stream",
     "text": [
      "0.46010518074035645\n",
      "0.0015336839358011882\n",
      "Simple Tracking\n",
      "0.49676012992858887\n",
      "0.0015523754060268401\n",
      "Full Tracking\n"
     ]
    },
    {
     "name": "stderr",
     "output_type": "stream",
     "text": [
      " 18%|█▊        | 18/100 [00:18<01:18,  1.04it/s]"
     ]
    },
    {
     "name": "stdout",
     "output_type": "stream",
     "text": [
      "0.45989394187927246\n",
      "0.0014371685683727264\n",
      "Simple Tracking\n",
      "0.5250804424285889\n",
      "0.001500229835510254\n",
      "Full Tracking\n"
     ]
    },
    {
     "name": "stderr",
     "output_type": "stream",
     "text": [
      " 19%|█▉        | 19/100 [00:19<01:19,  1.02it/s]"
     ]
    },
    {
     "name": "stdout",
     "output_type": "stream",
     "text": [
      "0.48726773262023926\n",
      "0.0013921935217721122\n",
      "Simple Tracking\n",
      "0.5259227752685547\n",
      "0.0014214129061312288\n",
      "Full Tracking\n"
     ]
    },
    {
     "name": "stderr",
     "output_type": "stream",
     "text": [
      " 20%|██        | 20/100 [00:20<01:19,  1.01it/s]"
     ]
    },
    {
     "name": "stdout",
     "output_type": "stream",
     "text": [
      "0.48784494400024414\n",
      "0.0013184998486493085\n",
      "Simple Tracking\n",
      "0.526172399520874\n",
      "0.001315430998802185\n",
      "Full Tracking\n"
     ]
    },
    {
     "name": "stderr",
     "output_type": "stream",
     "text": [
      " 21%|██        | 21/100 [00:21<01:18,  1.00it/s]"
     ]
    },
    {
     "name": "stdout",
     "output_type": "stream",
     "text": [
      "0.488116979598999\n",
      "0.0012202924489974976\n",
      "Simple Tracking\n",
      "0.5263257026672363\n",
      "0.0012240132620168287\n",
      "Full Tracking\n"
     ]
    },
    {
     "name": "stderr",
     "output_type": "stream",
     "text": [
      " 22%|██▏       | 22/100 [00:22<01:18,  1.00s/it]"
     ]
    },
    {
     "name": "stdout",
     "output_type": "stream",
     "text": [
      "0.48719096183776855\n",
      "0.0011330022368320198\n",
      "Simple Tracking\n",
      "0.526273250579834\n",
      "0.0011440722838692043\n",
      "Full Tracking\n"
     ]
    },
    {
     "name": "stderr",
     "output_type": "stream",
     "text": [
      " 23%|██▎       | 23/100 [00:23<01:17,  1.01s/it]"
     ]
    },
    {
     "name": "stdout",
     "output_type": "stream",
     "text": [
      "0.486583948135376\n",
      "0.0010577911915986434\n",
      "Simple Tracking\n",
      "0.5275092124938965\n",
      "0.00107654941325285\n",
      "Full Tracking\n"
     ]
    },
    {
     "name": "stderr",
     "output_type": "stream",
     "text": [
      " 24%|██▍       | 24/100 [00:24<01:16,  1.01s/it]"
     ]
    },
    {
     "name": "stdout",
     "output_type": "stream",
     "text": [
      "0.4880037307739258\n",
      "0.0009959259811712772\n",
      "Simple Tracking\n",
      "0.5283486843109131\n",
      "0.0009968843100205908\n",
      "Full Tracking\n"
     ]
    },
    {
     "name": "stderr",
     "output_type": "stream",
     "text": [
      " 25%|██▌       | 25/100 [00:25<01:15,  1.01s/it]"
     ]
    },
    {
     "name": "stdout",
     "output_type": "stream",
     "text": [
      "0.4893147945404053\n",
      "0.000923235461396991\n",
      "Simple Tracking\n",
      "0.5278534889221191\n",
      "0.0009260587524949459\n",
      "Full Tracking\n"
     ]
    },
    {
     "name": "stderr",
     "output_type": "stream",
     "text": [
      " 26%|██▌       | 26/100 [00:26<01:14,  1.01s/it]"
     ]
    },
    {
     "name": "stdout",
     "output_type": "stream",
     "text": [
      "0.48892736434936523\n",
      "0.0008577673058760794\n",
      "Simple Tracking\n",
      "0.5284085273742676\n",
      "0.0008662434874987993\n",
      "Full Tracking\n"
     ]
    },
    {
     "name": "stderr",
     "output_type": "stream",
     "text": [
      " 27%|██▋       | 27/100 [00:27<01:14,  1.01s/it]"
     ]
    },
    {
     "name": "stdout",
     "output_type": "stream",
     "text": [
      "0.48908257484436035\n",
      "0.0008017747128596072\n",
      "Simple Tracking\n",
      "0.4920637607574463\n",
      "0.0007570211703960713\n",
      "Full Tracking\n"
     ]
    },
    {
     "name": "stderr",
     "output_type": "stream",
     "text": [
      " 28%|██▊       | 28/100 [00:28<01:11,  1.00it/s]"
     ]
    },
    {
     "name": "stdout",
     "output_type": "stream",
     "text": [
      "0.4594838619232178\n",
      "0.0007068982491126427\n",
      "Simple Tracking\n",
      "0.49301815032958984\n",
      "0.0007043116433279855\n",
      "Full Tracking\n"
     ]
    },
    {
     "name": "stderr",
     "output_type": "stream",
     "text": [
      " 29%|██▉       | 29/100 [00:29<01:09,  1.02it/s]"
     ]
    },
    {
     "name": "stdout",
     "output_type": "stream",
     "text": [
      "0.45931339263916016\n",
      "0.0006561619894845146\n",
      "Simple Tracking\n",
      "0.49355411529541016\n",
      "0.0006580721537272136\n",
      "Full Tracking\n"
     ]
    },
    {
     "name": "stderr",
     "output_type": "stream",
     "text": [
      " 30%|███       | 30/100 [00:30<01:08,  1.03it/s]"
     ]
    },
    {
     "name": "stdout",
     "output_type": "stream",
     "text": [
      "0.45931315422058105\n",
      "0.0006124175389607747\n",
      "Simple Tracking\n",
      "0.4944303035736084\n",
      "0.00061040778218964\n",
      "Full Tracking\n"
     ]
    },
    {
     "name": "stderr",
     "output_type": "stream",
     "text": [
      " 31%|███       | 31/100 [00:31<01:06,  1.03it/s]"
     ]
    },
    {
     "name": "stdout",
     "output_type": "stream",
     "text": [
      "0.46095705032348633\n",
      "0.0005690827781771437\n",
      "Simple Tracking\n",
      "0.49916672706604004\n",
      "0.0005804264268209768\n",
      "Full Tracking\n"
     ]
    },
    {
     "name": "stderr",
     "output_type": "stream",
     "text": [
      " 32%|███▏      | 32/100 [00:32<01:05,  1.04it/s]"
     ]
    },
    {
     "name": "stdout",
     "output_type": "stream",
     "text": [
      "0.4599921703338623\n",
      "0.0005348746166672818\n",
      "Simple Tracking\n",
      "0.49668121337890625\n",
      "0.0005340658208375336\n",
      "Full Tracking\n"
     ]
    },
    {
     "name": "stderr",
     "output_type": "stream",
     "text": [
      " 33%|███▎      | 33/100 [00:32<01:04,  1.04it/s]"
     ]
    },
    {
     "name": "stdout",
     "output_type": "stream",
     "text": [
      "0.46014952659606934\n",
      "0.0004947844372000746\n",
      "Simple Tracking\n",
      "0.5252313613891602\n",
      "0.0005252313613891602\n",
      "Full Tracking\n"
     ]
    },
    {
     "name": "stderr",
     "output_type": "stream",
     "text": [
      " 34%|███▍      | 34/100 [00:34<01:04,  1.02it/s]"
     ]
    },
    {
     "name": "stdout",
     "output_type": "stream",
     "text": [
      "0.48590707778930664\n",
      "0.0004859070777893066\n",
      "Simple Tracking\n",
      "0.5258297920227051\n",
      "0.0004914297121707524\n",
      "Full Tracking\n"
     ]
    },
    {
     "name": "stderr",
     "output_type": "stream",
     "text": [
      " 35%|███▌      | 35/100 [00:35<01:04,  1.01it/s]"
     ]
    },
    {
     "name": "stdout",
     "output_type": "stream",
     "text": [
      "0.48661160469055176\n",
      "0.0004547772006453755\n",
      "Simple Tracking\n",
      "0.5262115001678467\n",
      "0.00046158903523495324\n",
      "Full Tracking\n"
     ]
    },
    {
     "name": "stderr",
     "output_type": "stream",
     "text": [
      " 36%|███▌      | 36/100 [00:36<01:03,  1.00it/s]"
     ]
    },
    {
     "name": "stdout",
     "output_type": "stream",
     "text": [
      "0.48789286613464355\n",
      "0.0004279761983637224\n",
      "Simple Tracking\n",
      "0.5274555683135986\n",
      "0.00042882566529560867\n",
      "Full Tracking\n"
     ]
    },
    {
     "name": "stderr",
     "output_type": "stream",
     "text": [
      " 37%|███▋      | 37/100 [00:37<01:03,  1.00s/it]"
     ]
    },
    {
     "name": "stdout",
     "output_type": "stream",
     "text": [
      "0.48798441886901855\n",
      "0.000396735299893511\n",
      "Simple Tracking\n",
      "0.5275793075561523\n",
      "0.00039968129360314574\n",
      "Full Tracking\n"
     ]
    },
    {
     "name": "stderr",
     "output_type": "stream",
     "text": [
      " 38%|███▊      | 38/100 [00:38<01:02,  1.01s/it]"
     ]
    },
    {
     "name": "stdout",
     "output_type": "stream",
     "text": [
      "0.4879589080810547\n",
      "0.00036966583945534446\n",
      "Simple Tracking\n",
      "0.528961181640625\n",
      "0.00037514977421320924\n",
      "Full Tracking\n"
     ]
    },
    {
     "name": "stderr",
     "output_type": "stream",
     "text": [
      " 39%|███▉      | 39/100 [00:39<01:01,  1.01s/it]"
     ]
    },
    {
     "name": "stdout",
     "output_type": "stream",
     "text": [
      "0.48791956901550293\n",
      "0.0003460422475287255\n",
      "Simple Tracking\n",
      "0.5268962383270264\n",
      "0.00034893790617683865\n",
      "Full Tracking\n"
     ]
    },
    {
     "name": "stderr",
     "output_type": "stream",
     "text": [
      " 40%|████      | 40/100 [00:40<01:00,  1.01s/it]"
     ]
    },
    {
     "name": "stdout",
     "output_type": "stream",
     "text": [
      "0.48659229278564453\n",
      "0.00032224655151367185\n",
      "Simple Tracking\n",
      "0.586453914642334\n",
      "0.00036200858928539135\n",
      "Full Tracking\n"
     ]
    },
    {
     "name": "stderr",
     "output_type": "stream",
     "text": [
      " 41%|████      | 41/100 [00:41<01:01,  1.04s/it]"
     ]
    },
    {
     "name": "stdout",
     "output_type": "stream",
     "text": [
      "0.5241062641143799\n",
      "0.0003235223852557901\n",
      "Simple Tracking\n",
      "0.5876755714416504\n",
      "0.00033774458128830483\n",
      "Full Tracking\n"
     ]
    },
    {
     "name": "stderr",
     "output_type": "stream",
     "text": [
      " 42%|████▏     | 42/100 [00:42<01:01,  1.06s/it]"
     ]
    },
    {
     "name": "stdout",
     "output_type": "stream",
     "text": [
      "0.5251080989837646\n",
      "0.0003017862637837728\n",
      "Simple Tracking\n",
      "0.5898725986480713\n",
      "0.0003154398923251718\n",
      "Full Tracking\n"
     ]
    },
    {
     "name": "stderr",
     "output_type": "stream",
     "text": [
      " 43%|████▎     | 43/100 [00:43<01:01,  1.08s/it]"
     ]
    },
    {
     "name": "stdout",
     "output_type": "stream",
     "text": [
      "0.525425910949707\n",
      "0.00028097642296775777\n",
      "Simple Tracking\n",
      "0.5876784324645996\n",
      "0.0002938392162322998\n",
      "Full Tracking\n"
     ]
    },
    {
     "name": "stderr",
     "output_type": "stream",
     "text": [
      " 44%|████▍     | 44/100 [00:44<01:01,  1.09s/it]"
     ]
    },
    {
     "name": "stdout",
     "output_type": "stream",
     "text": [
      "0.5422916412353516\n",
      "0.0002711458206176758\n",
      "Simple Tracking\n",
      "0.586871862411499\n",
      "0.00027296365693558095\n",
      "Full Tracking\n"
     ]
    },
    {
     "name": "stderr",
     "output_type": "stream",
     "text": [
      " 45%|████▌     | 45/100 [00:45<01:00,  1.10s/it]"
     ]
    },
    {
     "name": "stdout",
     "output_type": "stream",
     "text": [
      "0.5418496131896973\n",
      "0.0002520230759021848\n",
      "Simple Tracking\n",
      "0.6675007343292236\n",
      "0.00028896135685247776\n",
      "Full Tracking\n"
     ]
    },
    {
     "name": "stderr",
     "output_type": "stream",
     "text": [
      " 46%|████▌     | 46/100 [00:46<01:02,  1.16s/it]"
     ]
    },
    {
     "name": "stdout",
     "output_type": "stream",
     "text": [
      "0.6186869144439697\n",
      "0.00026782983309262757\n",
      "Simple Tracking\n",
      "0.6695268154144287\n",
      "0.0002710634880220359\n",
      "Full Tracking\n"
     ]
    },
    {
     "name": "stderr",
     "output_type": "stream",
     "text": [
      " 47%|████▋     | 47/100 [00:48<01:03,  1.20s/it]"
     ]
    },
    {
     "name": "stdout",
     "output_type": "stream",
     "text": [
      "0.6165075302124023\n",
      "0.00024959819036939366\n",
      "Simple Tracking\n",
      "0.5252933502197266\n",
      "0.00019822390574329303\n",
      "Full Tracking\n"
     ]
    },
    {
     "name": "stderr",
     "output_type": "stream",
     "text": [
      " 48%|████▊     | 48/100 [00:49<00:59,  1.14s/it]"
     ]
    },
    {
     "name": "stdout",
     "output_type": "stream",
     "text": [
      "0.4847841262817383\n",
      "0.0001829374061440522\n",
      "Simple Tracking\n",
      "0.5277602672576904\n",
      "0.00018583108002031353\n",
      "Full Tracking\n"
     ]
    },
    {
     "name": "stderr",
     "output_type": "stream",
     "text": [
      " 49%|████▉     | 49/100 [00:50<00:56,  1.10s/it]"
     ]
    },
    {
     "name": "stdout",
     "output_type": "stream",
     "text": [
      "0.48951148986816406\n",
      "0.00017236320065780426\n",
      "Simple Tracking\n",
      "0.5229063034057617\n",
      "0.00017144468964123334\n",
      "Full Tracking\n"
     ]
    },
    {
     "name": "stderr",
     "output_type": "stream",
     "text": [
      " 50%|█████     | 50/100 [00:51<00:53,  1.08s/it]"
     ]
    },
    {
     "name": "stdout",
     "output_type": "stream",
     "text": [
      "0.4846160411834717\n",
      "0.0001588905053060563\n",
      "Simple Tracking\n",
      "0.5245687961578369\n",
      "0.00016041859209719783\n",
      "Full Tracking\n"
     ]
    },
    {
     "name": "stderr",
     "output_type": "stream",
     "text": [
      " 51%|█████     | 51/100 [00:52<00:51,  1.06s/it]"
     ]
    },
    {
     "name": "stdout",
     "output_type": "stream",
     "text": [
      "0.4858100414276123\n",
      "0.0001485657619044686\n",
      "Simple Tracking\n",
      "0.5266687870025635\n",
      "0.0001500480874651178\n",
      "Full Tracking\n"
     ]
    },
    {
     "name": "stderr",
     "output_type": "stream",
     "text": [
      " 52%|█████▏    | 52/100 [00:53<00:50,  1.04s/it]"
     ]
    },
    {
     "name": "stdout",
     "output_type": "stream",
     "text": [
      "0.48998117446899414\n",
      "0.00013959577620199264\n",
      "Simple Tracking\n",
      "0.5917549133300781\n",
      "0.00015738162588565909\n",
      "Full Tracking\n"
     ]
    },
    {
     "name": "stderr",
     "output_type": "stream",
     "text": [
      " 53%|█████▎    | 53/100 [00:54<00:50,  1.07s/it]"
     ]
    },
    {
     "name": "stdout",
     "output_type": "stream",
     "text": [
      "0.5257189273834229\n",
      "0.00013981886366580396\n",
      "Simple Tracking\n",
      "0.4928457736968994\n",
      "0.00012229423664935469\n",
      "Full Tracking\n"
     ]
    },
    {
     "name": "stderr",
     "output_type": "stream",
     "text": [
      " 54%|█████▍    | 54/100 [00:55<00:47,  1.03s/it]"
     ]
    },
    {
     "name": "stdout",
     "output_type": "stream",
     "text": [
      "0.4566962718963623\n",
      "0.00011332413694698816\n",
      "Simple Tracking\n",
      "0.58579421043396\n",
      "0.00013560051167452777\n",
      "Full Tracking\n"
     ]
    },
    {
     "name": "stderr",
     "output_type": "stream",
     "text": [
      " 55%|█████▌    | 55/100 [00:56<00:47,  1.06s/it]"
     ]
    },
    {
     "name": "stdout",
     "output_type": "stream",
     "text": [
      "0.5435488224029541\n",
      "0.0001258214866673505\n",
      "Simple Tracking\n",
      "0.6664004325866699\n",
      "0.00014362078288505817\n",
      "Full Tracking\n"
     ]
    },
    {
     "name": "stderr",
     "output_type": "stream",
     "text": [
      " 56%|█████▌    | 56/100 [00:57<00:49,  1.13s/it]"
     ]
    },
    {
     "name": "stdout",
     "output_type": "stream",
     "text": [
      "0.6149587631225586\n",
      "0.0001325342161902066\n",
      "Simple Tracking\n",
      "0.49085283279418945\n",
      "9.876314543142645e-05\n",
      "Full Tracking\n"
     ]
    },
    {
     "name": "stderr",
     "output_type": "stream",
     "text": [
      " 57%|█████▋    | 57/100 [00:58<00:46,  1.07s/it]"
     ]
    },
    {
     "name": "stdout",
     "output_type": "stream",
     "text": [
      "0.45746898651123047\n",
      "9.204607374471437e-05\n",
      "Simple Tracking\n",
      "0.5202052593231201\n",
      "9.759948580171109e-05\n",
      "Full Tracking\n"
     ]
    },
    {
     "name": "stderr",
     "output_type": "stream",
     "text": [
      " 58%|█████▊    | 58/100 [00:59<00:44,  1.05s/it]"
     ]
    },
    {
     "name": "stdout",
     "output_type": "stream",
     "text": [
      "0.4803330898284912\n",
      "9.011877857945427e-05\n",
      "Simple Tracking\n",
      "0.523169755935669\n",
      "9.146324404469736e-05\n",
      "Full Tracking\n"
     ]
    },
    {
     "name": "stderr",
     "output_type": "stream",
     "text": [
      " 59%|█████▉    | 59/100 [01:00<00:42,  1.04s/it]"
     ]
    },
    {
     "name": "stdout",
     "output_type": "stream",
     "text": [
      "0.4874076843261719\n",
      "8.521113362345663e-05\n",
      "Simple Tracking\n",
      "2.843310594558716\n",
      "0.0004638353335332326\n",
      "Full Tracking\n"
     ]
    },
    {
     "name": "stderr",
     "output_type": "stream",
     "text": [
      " 60%|██████    | 60/100 [01:06<01:34,  2.35s/it]"
     ]
    },
    {
     "name": "stdout",
     "output_type": "stream",
     "text": [
      "2.571061849594116\n",
      "0.0004194228139631511\n",
      "Simple Tracking\n",
      "0.6048386096954346\n",
      "9.206067118651972e-05\n",
      "Full Tracking\n"
     ]
    },
    {
     "name": "stderr",
     "output_type": "stream",
     "text": [
      " 61%|██████    | 61/100 [01:07<01:17,  1.99s/it]"
     ]
    },
    {
     "name": "stdout",
     "output_type": "stream",
     "text": [
      "0.5436279773712158\n",
      "8.27439843791805e-05\n",
      "Simple Tracking\n",
      "0.6651351451873779\n",
      "9.43454106648763e-05\n",
      "Full Tracking\n"
     ]
    },
    {
     "name": "stderr",
     "output_type": "stream",
     "text": [
      " 62%|██████▏   | 62/100 [01:08<01:07,  1.78s/it]"
     ]
    },
    {
     "name": "stdout",
     "output_type": "stream",
     "text": [
      "0.6125123500823975\n",
      "8.688118440885071e-05\n",
      "Simple Tracking\n",
      "0.66506028175354\n",
      "8.797093673988625e-05\n",
      "Full Tracking\n"
     ]
    },
    {
     "name": "stderr",
     "output_type": "stream",
     "text": [
      " 63%|██████▎   | 63/100 [01:09<01:00,  1.63s/it]"
     ]
    },
    {
     "name": "stdout",
     "output_type": "stream",
     "text": [
      "0.6141104698181152\n",
      "8.123154362673482e-05\n",
      "Simple Tracking\n",
      "3.7474474906921387\n",
      "0.0004620773724651219\n",
      "Full Tracking\n"
     ]
    },
    {
     "name": "stderr",
     "output_type": "stream",
     "text": [
      " 64%|██████▍   | 64/100 [01:17<01:58,  3.28s/it]"
     ]
    },
    {
     "name": "stdout",
     "output_type": "stream",
     "text": [
      "3.386246681213379\n",
      "0.0004175396647612058\n",
      "Simple Tracking\n",
      "0.4899570941925049\n",
      "5.6381713946203095e-05\n",
      "Full Tracking\n"
     ]
    },
    {
     "name": "stderr",
     "output_type": "stream",
     "text": [
      " 65%|██████▌   | 65/100 [01:17<01:30,  2.58s/it]"
     ]
    },
    {
     "name": "stdout",
     "output_type": "stream",
     "text": [
      "0.4589695930480957\n",
      "5.2815833492301004e-05\n",
      "Simple Tracking\n",
      "0.6613547801971436\n",
      "7.096081332587377e-05\n",
      "Full Tracking\n"
     ]
    },
    {
     "name": "stderr",
     "output_type": "stream",
     "text": [
      " 66%|██████▌   | 66/100 [01:19<01:14,  2.19s/it]"
     ]
    },
    {
     "name": "stdout",
     "output_type": "stream",
     "text": [
      "0.612910270690918\n",
      "6.57629045805706e-05\n",
      "Simple Tracking\n",
      "0.6644268035888672\n",
      "6.644268035888671e-05\n",
      "Full Tracking\n"
     ]
    },
    {
     "name": "stderr",
     "output_type": "stream",
     "text": [
      " 67%|██████▋   | 67/100 [01:20<01:03,  1.91s/it]"
     ]
    },
    {
     "name": "stdout",
     "output_type": "stream",
     "text": [
      "0.6087982654571533\n",
      "6.087982654571533e-05\n",
      "Simple Tracking\n",
      "0.5220375061035156\n",
      "4.8697528554432425e-05\n",
      "Full Tracking\n"
     ]
    },
    {
     "name": "stderr",
     "output_type": "stream",
     "text": [
      " 68%|██████▊   | 68/100 [01:21<00:52,  1.64s/it]"
     ]
    },
    {
     "name": "stdout",
     "output_type": "stream",
     "text": [
      "0.4888010025024414\n",
      "4.5597108442391925e-05\n",
      "Simple Tracking\n",
      "1.9399774074554443\n",
      "0.00016884050543563485\n",
      "Full Tracking\n"
     ]
    },
    {
     "name": "stderr",
     "output_type": "stream",
     "text": [
      " 69%|██████▉   | 69/100 [01:25<01:10,  2.26s/it]"
     ]
    },
    {
     "name": "stdout",
     "output_type": "stream",
     "text": [
      "1.7524914741516113\n",
      "0.0001525231918321681\n",
      "Simple Tracking\n",
      "0.5723402500152588\n",
      "4.645618912461516e-05\n",
      "Full Tracking\n"
     ]
    },
    {
     "name": "stderr",
     "output_type": "stream",
     "text": [
      " 70%|███████   | 70/100 [01:26<00:57,  1.91s/it]"
     ]
    },
    {
     "name": "stdout",
     "output_type": "stream",
     "text": [
      "0.52986741065979\n",
      "4.300871839771023e-05\n",
      "Simple Tracking\n",
      "6.03239107131958\n",
      "0.0004566533740590144\n",
      "Full Tracking\n"
     ]
    },
    {
     "name": "stderr",
     "output_type": "stream",
     "text": [
      " 71%|███████   | 71/100 [01:37<02:18,  4.78s/it]"
     ]
    },
    {
     "name": "stdout",
     "output_type": "stream",
     "text": [
      "5.433870792388916\n",
      "0.0004113452530196\n",
      "Simple Tracking\n",
      "0.5197868347167969\n",
      "3.668220428488333e-05\n",
      "Full Tracking\n"
     ]
    },
    {
     "name": "stderr",
     "output_type": "stream",
     "text": [
      " 72%|███████▏  | 72/100 [01:38<01:42,  3.65s/it]"
     ]
    },
    {
     "name": "stdout",
     "output_type": "stream",
     "text": [
      "0.48679637908935547\n",
      "3.4354014050060374e-05\n",
      "Simple Tracking\n",
      "0.5802173614501953\n",
      "3.81973246510991e-05\n",
      "Full Tracking\n"
     ]
    },
    {
     "name": "stderr",
     "output_type": "stream",
     "text": [
      " 73%|███████▎  | 73/100 [01:39<01:17,  2.89s/it]"
     ]
    },
    {
     "name": "stdout",
     "output_type": "stream",
     "text": [
      "0.5375094413757324\n",
      "3.5385743342707863e-05\n",
      "Simple Tracking\n",
      "0.5837643146514893\n",
      "3.5835746755769754e-05\n",
      "Full Tracking\n"
     ]
    },
    {
     "name": "stderr",
     "output_type": "stream",
     "text": [
      " 74%|███████▍  | 74/100 [01:41<01:01,  2.36s/it]"
     ]
    },
    {
     "name": "stdout",
     "output_type": "stream",
     "text": [
      "0.531404972076416\n",
      "3.2621545247171027e-05\n",
      "Simple Tracking\n",
      "7.838769912719727\n",
      "0.00044869890742528485\n",
      "Full Tracking\n"
     ]
    },
    {
     "name": "stderr",
     "output_type": "stream",
     "text": [
      " 75%|███████▌  | 75/100 [01:55<02:33,  6.12s/it]"
     ]
    },
    {
     "name": "stdout",
     "output_type": "stream",
     "text": [
      "7.0694825649261475\n",
      "0.0004046641422396192\n",
      "Simple Tracking\n",
      "8.666184902191162\n",
      "0.0004626900641853263\n",
      "Full Tracking\n"
     ]
    },
    {
     "name": "stderr",
     "output_type": "stream",
     "text": [
      " 76%|███████▌  | 76/100 [02:12<03:41,  9.23s/it]"
     ]
    },
    {
     "name": "stdout",
     "output_type": "stream",
     "text": [
      "7.818288564682007\n",
      "0.00041742063879775796\n",
      "Simple Tracking\n",
      "0.5846831798553467\n",
      "2.9103194616990874e-05\n",
      "Full Tracking\n"
     ]
    },
    {
     "name": "stderr",
     "output_type": "stream",
     "text": [
      " 77%|███████▋  | 77/100 [02:13<02:36,  6.80s/it]"
     ]
    },
    {
     "name": "stdout",
     "output_type": "stream",
     "text": [
      "0.5388278961181641\n",
      "2.6820701648489998e-05\n",
      "Simple Tracking\n",
      "1.8735671043395996\n",
      "8.698083121353759e-05\n",
      "Full Tracking\n"
     ]
    },
    {
     "name": "stderr",
     "output_type": "stream",
     "text": [
      " 78%|███████▊  | 78/100 [02:17<02:08,  5.84s/it]"
     ]
    },
    {
     "name": "stdout",
     "output_type": "stream",
     "text": [
      "1.7203645706176758\n",
      "7.986836446693016e-05\n",
      "Simple Tracking\n",
      "0.5909957885742188\n",
      "2.5584233271611203e-05\n",
      "Full Tracking\n"
     ]
    },
    {
     "name": "stderr",
     "output_type": "stream",
     "text": [
      " 79%|███████▉  | 79/100 [02:18<01:33,  4.43s/it]"
     ]
    },
    {
     "name": "stdout",
     "output_type": "stream",
     "text": [
      "0.5487098693847656\n",
      "2.37536739993405e-05\n",
      "Simple Tracking\n",
      "11.028608083724976\n",
      "0.0004452405362828008\n",
      "Full Tracking\n"
     ]
    },
    {
     "name": "stderr",
     "output_type": "stream",
     "text": [
      " 80%|████████  | 80/100 [02:39<03:07,  9.39s/it]"
     ]
    },
    {
     "name": "stdout",
     "output_type": "stream",
     "text": [
      "9.941884756088257\n",
      "0.00040136797561922714\n",
      "Simple Tracking\n",
      "1.0228393077850342\n",
      "3.851051610636424e-05\n",
      "Full Tracking\n"
     ]
    },
    {
     "name": "stderr",
     "output_type": "stream",
     "text": [
      " 81%|████████  | 81/100 [02:41<02:15,  7.16s/it]"
     ]
    },
    {
     "name": "stdout",
     "output_type": "stream",
     "text": [
      "0.9210519790649414\n",
      "3.467816186238484e-05\n",
      "Simple Tracking\n",
      "1.027277946472168\n",
      "3.607015261489354e-05\n",
      "Full Tracking\n"
     ]
    },
    {
     "name": "stderr",
     "output_type": "stream",
     "text": [
      " 82%|████████▏ | 82/100 [02:43<01:40,  5.60s/it]"
     ]
    },
    {
     "name": "stdout",
     "output_type": "stream",
     "text": [
      "0.9216265678405762\n",
      "3.2360483421368544e-05\n",
      "Simple Tracking\n",
      "1.0321238040924072\n",
      "3.380687206329536e-05\n",
      "Full Tracking\n"
     ]
    },
    {
     "name": "stderr",
     "output_type": "stream",
     "text": [
      " 83%|████████▎ | 83/100 [02:45<01:16,  4.50s/it]"
     ]
    },
    {
     "name": "stdout",
     "output_type": "stream",
     "text": [
      "0.9115266799926758\n",
      "2.9856753357113522e-05\n",
      "Simple Tracking\n",
      "7.394685506820679\n",
      "0.00022586088902934267\n",
      "Full Tracking\n"
     ]
    },
    {
     "name": "stderr",
     "output_type": "stream",
     "text": [
      " 84%|████████▍ | 84/100 [02:59<01:57,  7.37s/it]"
     ]
    },
    {
     "name": "stdout",
     "output_type": "stream",
     "text": [
      "6.671430349349976\n",
      "0.00020377001677916848\n",
      "Simple Tracking\n",
      "15.579105615615845\n",
      "0.00044372274610127724\n",
      "Full Tracking\n"
     ]
    },
    {
     "name": "stderr",
     "output_type": "stream",
     "text": [
      " 85%|████████▌ | 85/100 [03:28<03:30, 14.04s/it]"
     ]
    },
    {
     "name": "stdout",
     "output_type": "stream",
     "text": [
      "14.039239883422852\n",
      "0.0003998644227690929\n",
      "Simple Tracking\n",
      "4.58953595161438\n",
      "0.00012193241104182731\n",
      "Full Tracking\n"
     ]
    },
    {
     "name": "stderr",
     "output_type": "stream",
     "text": [
      " 86%|████████▌ | 86/100 [03:37<02:54, 12.45s/it]"
     ]
    },
    {
     "name": "stdout",
     "output_type": "stream",
     "text": [
      "4.153660297393799\n",
      "0.00011035229270440485\n",
      "Simple Tracking\n",
      "1.9615018367767334\n",
      "4.858810593947816e-05\n",
      "Full Tracking\n"
     ]
    },
    {
     "name": "stderr",
     "output_type": "stream",
     "text": [
      " 87%|████████▋ | 87/100 [03:41<02:07,  9.84s/it]"
     ]
    },
    {
     "name": "stdout",
     "output_type": "stream",
     "text": [
      "1.7627360820770264\n",
      "4.366450537718668e-05\n",
      "Simple Tracking\n",
      "2.77382493019104\n",
      "6.409022481957117e-05\n",
      "Full Tracking\n"
     ]
    },
    {
     "name": "stderr",
     "output_type": "stream",
     "text": [
      " 88%|████████▊ | 88/100 [03:46<01:41,  8.47s/it]"
     ]
    },
    {
     "name": "stdout",
     "output_type": "stream",
     "text": [
      "2.5184197425842285\n",
      "5.818899590074465e-05\n",
      "Simple Tracking\n",
      "1.0295600891113281\n",
      "2.2184013986453956e-05\n",
      "Full Tracking\n"
     ]
    },
    {
     "name": "stderr",
     "output_type": "stream",
     "text": [
      " 89%|████████▉ | 89/100 [03:48<01:11,  6.53s/it]"
     ]
    },
    {
     "name": "stdout",
     "output_type": "stream",
     "text": [
      "0.9500586986541748\n",
      "2.0470991136698446e-05\n",
      "Simple Tracking\n",
      "1.0507769584655762\n",
      "2.11126573933208e-05\n",
      "Full Tracking\n"
     ]
    },
    {
     "name": "stderr",
     "output_type": "stream",
     "text": [
      " 90%|█████████ | 90/100 [03:50<00:51,  5.17s/it]"
     ]
    },
    {
     "name": "stdout",
     "output_type": "stream",
     "text": [
      "0.96832275390625\n",
      "1.9455952459438416e-05\n",
      "Simple Tracking\n",
      "1.047936201095581\n",
      "1.9638984278402944e-05\n",
      "Full Tracking\n"
     ]
    },
    {
     "name": "stderr",
     "output_type": "stream",
     "text": [
      " 91%|█████████ | 91/100 [03:52<00:38,  4.23s/it]"
     ]
    },
    {
     "name": "stdout",
     "output_type": "stream",
     "text": [
      "0.9671421051025391\n",
      "1.8124852044650283e-05\n",
      "Simple Tracking\n",
      "12.864737272262573\n",
      "0.0002248293825980876\n",
      "Full Tracking\n"
     ]
    },
    {
     "name": "stderr",
     "output_type": "stream",
     "text": [
      " 92%|█████████▏| 92/100 [04:17<01:22, 10.29s/it]"
     ]
    },
    {
     "name": "stdout",
     "output_type": "stream",
     "text": [
      "11.576220989227295\n",
      "0.00020231074780194505\n",
      "Simple Tracking\n",
      "1.9494123458862305\n",
      "3.177526236163375e-05\n",
      "Full Tracking\n"
     ]
    },
    {
     "name": "stderr",
     "output_type": "stream",
     "text": [
      " 93%|█████████▎| 93/100 [04:20<00:58,  8.32s/it]"
     ]
    },
    {
     "name": "stdout",
     "output_type": "stream",
     "text": [
      "1.7782533168792725\n",
      "2.898538413821145e-05\n",
      "Simple Tracking\n",
      "1.7045080661773682\n",
      "2.5908315339373283e-05\n",
      "Full Tracking\n"
     ]
    },
    {
     "name": "stderr",
     "output_type": "stream",
     "text": [
      " 94%|█████████▍| 94/100 [04:24<00:40,  6.80s/it]"
     ]
    },
    {
     "name": "stdout",
     "output_type": "stream",
     "text": [
      "1.558215618133545\n",
      "2.3684687918126538e-05\n",
      "Simple Tracking\n",
      "15.578306436538696\n",
      "0.0002208435843002367\n",
      "Full Tracking\n"
     ]
    },
    {
     "name": "stderr",
     "output_type": "stream",
     "text": [
      " 95%|█████████▌| 95/100 [04:53<01:08, 13.65s/it]"
     ]
    },
    {
     "name": "stdout",
     "output_type": "stream",
     "text": [
      "14.042098999023438\n",
      "0.00019906576409162797\n",
      "Simple Tracking\n",
      "1.5659778118133545\n",
      "2.070303823127121e-05\n",
      "Full Tracking\n"
     ]
    },
    {
     "name": "stderr",
     "output_type": "stream",
     "text": [
      " 96%|█████████▌| 96/100 [04:56<00:41, 10.45s/it]"
     ]
    },
    {
     "name": "stdout",
     "output_type": "stream",
     "text": [
      "1.4306061267852783\n",
      "1.8913354399593842e-05\n",
      "Simple Tracking\n",
      "35.5779812335968\n",
      "0.0004386386540944002\n",
      "Full Tracking\n"
     ]
    },
    {
     "name": "stderr",
     "output_type": "stream",
     "text": [
      " 97%|█████████▋| 97/100 [06:04<01:22, 27.60s/it]"
     ]
    },
    {
     "name": "stdout",
     "output_type": "stream",
     "text": [
      "32.03603649139404\n",
      "0.00039497024400683077\n",
      "Simple Tracking\n",
      "1.4767742156982422\n",
      "1.6980271538441326e-05\n",
      "Full Tracking\n"
     ]
    },
    {
     "name": "stderr",
     "output_type": "stream",
     "text": [
      " 98%|█████████▊| 98/100 [06:07<00:40, 20.17s/it]"
     ]
    },
    {
     "name": "stdout",
     "output_type": "stream",
     "text": [
      "1.3562705516815186\n",
      "1.559469416674162e-05\n",
      "Simple Tracking\n",
      "20.56797957420349\n",
      "0.00022054449468371747\n",
      "Full Tracking\n"
     ]
    },
    {
     "name": "stderr",
     "output_type": "stream",
     "text": [
      " 99%|█████████▉| 99/100 [06:46<00:25, 25.85s/it]"
     ]
    },
    {
     "name": "stdout",
     "output_type": "stream",
     "text": [
      "18.535860538482666\n",
      "0.0001987546701531489\n",
      "Simple Tracking\n",
      "2.0434634685516357\n",
      "2.0434634685516357e-05\n",
      "Full Tracking\n"
     ]
    },
    {
     "name": "stderr",
     "output_type": "stream",
     "text": [
      "100%|██████████| 100/100 [06:50<00:00,  4.10s/it]"
     ]
    },
    {
     "name": "stdout",
     "output_type": "stream",
     "text": [
      "1.866041898727417\n",
      "1.866041898727417e-05\n"
     ]
    },
    {
     "name": "stderr",
     "output_type": "stream",
     "text": [
      "\n"
     ]
    }
   ],
   "source": [
    "data1 = []\n",
    "data2 = []\n",
    "\n",
    "for sample in tqdm(sample_list):\n",
    "    \n",
    "    # Simple tracking\n",
    "    print(\"Simple Tracking\")\n",
    "    start = time.time()\n",
    "    particles = sx.track_particles(np.zeros(sample), np.zeros(sample), np.zeros(sample), np.zeros(sample), n_iterations)\n",
    "    tracking_time = time.time() - start\n",
    "    print(tracking_time)\n",
    "    data1.append(tracking_time / (sample * n_iterations))\n",
    "    print(data1[-1])\n",
    "    \n",
    "    # Full tracking\n",
    "    print(\"Full Tracking\")\n",
    "    start = time.time()\n",
    "    stuff = sx.full_track_particles(np.ones(sample), np.ones(sample), np.ones(sample), np.ones(sample), n_iterations)\n",
    "    tracking_time = time.time() - start\n",
    "    print(tracking_time)\n",
    "    data2.append(tracking_time / (sample * n_iterations))\n",
    "    print(data2[-1])"
   ]
  },
  {
   "cell_type": "code",
   "execution_count": 6,
   "metadata": {},
   "outputs": [
    {
     "data": {
      "image/png": "[encoded data removed]",
      "text/plain": [
       "<Figure size 432x288 with 1 Axes>"
      ]
     },
     "metadata": {
      "needs_background": "light"
     },
     "output_type": "display_data"
    }
   ],
   "source": [
    "import matplotlib.pyplot as plt\n",
    "\n",
    "plt.plot(sample_list[:len(data1)], data1, label=\"Simple Tracking\")\n",
    "plt.plot(sample_list[:len(data2)], data2, label=\"Full Tracking\")\n",
    "plt.yscale(\"log\")\n",
    "plt.xscale(\"log\")\n",
    "plt.legend()\n",
    "plt.title(\"SixTrack Benchmark, LHC Lattice with no BB\\n Device: Nvidia GTX 970\")\n",
    "plt.xlabel(\"Particles in the parallel batch\")\n",
    "plt.ylabel(\"Time required for computing \\n a single turn of a single particle\")\n",
    "plt.tight_layout()\n",
    "plt.savefig(\"bench.jpg\",dpi=600)"
   ]
  },
  {
   "cell_type": "code",
   "execution_count": 5,
   "metadata": {},
   "outputs": [
    {
     "data": {
      "image/png": "[encoded data removed]",
      "text/plain": [
       "<Figure size 432x288 with 1 Axes>"
      ]
     },
     "metadata": {
      "needs_background": "light"
     },
     "output_type": "display_data"
    }
   ],
   "source": [
    "import matplotlib.pyplot as plt\n",
    "\n",
    "plt.plot(sample_list[:len(data1)], data1, label=\"Simple Tracking\")\n",
    "plt.plot(sample_list[:len(data2)], data2, label=\"Full Tracking\")\n",
    "plt.yscale(\"log\")\n",
    "plt.xscale(\"log\")\n",
    "plt.legend()\n",
    "plt.title(\"SixTrack Benchmark, LHC Lattice with no BB\\n Device: Nvidia GTX 970\")\n",
    "plt.xlabel(\"Particles in the parallel batch\")\n",
    "plt.ylabel(\"Time required for computing \\n a single turn of a single particle\")\n",
    "plt.tight_layout()\n",
    "plt.savefig(\"bench.jpg\",dpi=600)"
   ]
  },
  {
   "cell_type": "code",
   "execution_count": 3,
   "metadata": {},
   "outputs": [],
   "source": [
    "import pickle\n",
    "with open(\"tesla_benchmark.pkl\", 'rb') as f:\n",
    "    samples_in_batch, raw_data1, raw_data2, data1, data2 = pickle.load(f)\n",
    "with open(\"gtx_benchmark.pkl\", 'rb') as f:\n",
    "    samples_in_batch_g, raw_data1_g, raw_data2_g, data1_g, data2_g = pickle.load(f)"
   ]
  },
  {
   "cell_type": "code",
   "execution_count": 15,
   "metadata": {},
   "outputs": [
    {
     "data": {
      "image/png": "[encoded data removed]",
      "text/plain": [
       "<Figure size 432x288 with 1 Axes>"
      ]
     },
     "metadata": {
      "needs_background": "light"
     },
     "output_type": "display_data"
    }
   ],
   "source": [
    "fig, ax = plt.subplots()\n",
    "ax.plot(samples_in_batch[10:], raw_data1[10:], label=\"Tesla V100\")\n",
    "ax.plot(samples_in_batch_g[10:], raw_data1_g[10:], label=\"GTX 970\")\n",
    "ax.set_xlabel(\"number of particles in batch\")\n",
    "ax.set_ylabel(\"total execution time [seconds]\")\n",
    "ax.legend(title=\"Device\")\n",
    "plt.title(\"Raw execution times\\n(SixTrackLib, 50 iterations, LHC lattice, OpenCL backend)\")\n",
    "plt.tight_layout()\n",
    "plt.savefig(\"img/raw_times.jpg\", dpi=600)"
   ]
  },
  {
   "cell_type": "code",
   "execution_count": 16,
   "metadata": {},
   "outputs": [
    {
     "data": {
      "image/png": "[encoded data removed]",
      "text/plain": [
       "<Figure size 432x288 with 1 Axes>"
      ]
     },
     "metadata": {
      "needs_background": "light"
     },
     "output_type": "display_data"
    }
   ],
   "source": [
    "fig, ax = plt.subplots()\n",
    "ax.plot(samples_in_batch[10:], data1[10:], label=\"Tesla V100\")\n",
    "ax.plot(samples_in_batch_g[10:], data1_g[10:], label=\"GTX 970\")\n",
    "ax.set_xlabel(\"number of particles in batch\")\n",
    "ax.set_ylabel(\"time execution for a single iteration\\nof a single particle [seconds]\")\n",
    "ax.set_yscale(\"log\")\n",
    "ax.set_xscale(\"log\")\n",
    "ax.legend(title=\"Device\")\n",
    "ax.set_title(\"Refined times\\n(SixTrackLib, LHC lattice, OpenCL backend)\")\n",
    "plt.tight_layout()\n",
    "plt.savefig(\"img/refined_times.jpg\", dpi=600)"
   ]
  },
  {
   "cell_type": "code",
   "execution_count": null,
   "metadata": {},
   "outputs": [],
   "source": []
  }
 ],
 "metadata": {
  "kernelspec": {
   "display_name": "Python 3",
   "language": "python",
   "name": "python3"
  },
  "language_info": {
   "codemirror_mode": {
    "name": "ipython",
    "version": 3
   },
   "file_extension": ".py",
   "mimetype": "text/x-python",
   "name": "python",
   "nbconvert_exporter": "python",
   "pygments_lexer": "ipython3",
   "version": "3.8.1"
  }
 },
 "nbformat": 4,
 "nbformat_minor": 4
}
