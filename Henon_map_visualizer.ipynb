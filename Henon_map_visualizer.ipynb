{
 "cells": [
  {
   "cell_type": "markdown",
   "metadata": {},
   "source": [
    "# Simple interactive visualizer for an Hénon map\n",
    "### We want to observe the local evolution of a group of particles with the same initial action $I_0$"
   ]
  },
  {
   "cell_type": "markdown",
   "metadata": {},
   "source": [
    "## Setup scripts if we are under SWAN"
   ]
  },
  {
   "cell_type": "code",
   "execution_count": null,
   "metadata": {},
   "outputs": [],
   "source": [
    "# Working in the right path\n",
    "%cd /eos/project/d/da-and-diffusion-studies/DA_Studies/Simulations/Models/da_sixtrack"
   ]
  },
  {
   "cell_type": "code",
   "execution_count": null,
   "metadata": {},
   "outputs": [],
   "source": [
    "# Install the libraries\n",
    "import sys\n",
    "!{sys.executable} -m pip install --user --upgrade --force-reinstall tqdm pynverse sixtrackwrap crank-nicolson-numba henon-map\n",
    "!export PYTHONPATH=$CERNBOX_HOME/.local/lib/python3.7/site-packages:$PYTHONPATH"
   ]
  },
  {
   "cell_type": "code",
   "execution_count": null,
   "metadata": {},
   "outputs": [],
   "source": [
    "# For this \"presentation\" only!\n",
    "import warnings\n",
    "warnings.filterwarnings('ignore')"
   ]
  },
  {
   "cell_type": "markdown",
   "metadata": {},
   "source": [
    "### Library Imports"
   ]
  },
  {
   "cell_type": "code",
   "execution_count": 1,
   "metadata": {},
   "outputs": [],
   "source": [
    "%matplotlib widget"
   ]
  },
  {
   "cell_type": "code",
   "execution_count": 2,
   "metadata": {},
   "outputs": [],
   "source": [
    "import numpy as np\n",
    "from numba import njit\n",
    "import pandas as pd\n",
    "import matplotlib\n",
    "import matplotlib.pyplot as plt\n",
    "from tqdm.notebook import tqdm\n",
    "import scipy.interpolate as interpolate\n",
    "import scipy.integrate as integrate\n",
    "from scipy.misc import derivative as derivative\n",
    "from pynverse import inversefunc\n",
    "import scipy.optimize as optimize\n",
    "from uncertainties import ufloat\n",
    "import itertools\n",
    "import scipy\n",
    "\n",
    "import ipywidgets as widgets\n",
    "from IPython.display import display\n",
    "\n",
    "# Personal libraries\n",
    "import symplectic_map as sm\n",
    "import henon_map as hm\n",
    "import crank_nicolson_numba.nekhoroshev as nk\n",
    "import crank_nicolson_numba.generic as cn\n",
    "\n",
    "# animation\n",
    "from matplotlib import animation, rc\n",
    "from IPython.display import HTML"
   ]
  },
  {
   "cell_type": "code",
   "execution_count": 3,
   "metadata": {},
   "outputs": [],
   "source": [
    "def moving_average(a, n=3) :\n",
    "    ret = np.cumsum(a, dtype=float)\n",
    "    ret[n:] = ret[n:] - ret[:-n]\n",
    "    return ret[n - 1:] / n"
   ]
  },
  {
   "cell_type": "markdown",
   "metadata": {},
   "source": [
    "## Choose your parameters"
   ]
  },
  {
   "cell_type": "code",
   "execution_count": 14,
   "metadata": {},
   "outputs": [],
   "source": [
    "# With epsilon = 16.0 we have approx DA(1000 turns) = 0.59 [a.u.]\n",
    "epsilon = 16.0\n",
    "samples = 1000\n",
    "steps = 1000 # iterations to perform\n",
    "bins = 100 # bins in the visualization system\n",
    "r_0 = 0.50 # if we want to be at the DA we set 0.59 here\n",
    "\n",
    "# Setup\n",
    "I_0 = r_0 ** 2 / 2\n",
    "r_sigma = 0.0001\n",
    "r0 = np.random.normal(r_0, r_sigma, size=samples)\n",
    "\n",
    "# We choose the angles as absolutely random!\n",
    "alpha = np.random.rand(samples) * np.pi / 2\n",
    "theta1 = np.random.rand(samples) * np.pi * 2\n",
    "theta2 = np.random.rand(samples) * np.pi * 2\n",
    "x = r0 * np.sin(alpha) * np.cos(theta1)\n",
    "px = r0 * np.sin(alpha) * np.sin(theta1)\n",
    "y = r0 * np.cos(alpha) * np.cos(theta2)\n",
    "py = r0 * np.cos(alpha) * np.sin(theta2)"
   ]
  },
  {
   "cell_type": "markdown",
   "metadata": {},
   "source": [
    "### Execute and interact with the result"
   ]
  },
  {
   "cell_type": "code",
   "execution_count": 13,
   "metadata": {},
   "outputs": [
    {
     "data": {
      "application/vnd.jupyter.widget-view+json": {
       "model_id": "9fdca5786a2b46c5aad4e6d6a6e61bfc",
       "version_major": 2,
       "version_minor": 0
      },
      "text/plain": [
       "Canvas(toolbar=Toolbar(toolitems=[('Home', 'Reset original view', 'home', 'home'), ('Back', 'Back to previous …"
      ]
     },
     "metadata": {},
     "output_type": "display_data"
    },
    {
     "name": "stdout",
     "output_type": "stream",
     "text": [
      "Computing...\n",
      "Done computing.\n"
     ]
    },
    {
     "data": {
      "application/vnd.jupyter.widget-view+json": {
       "model_id": "987dedd9b56d4dfd822551390b03af47",
       "version_major": 2,
       "version_minor": 0
      },
      "text/plain": [
       "VBox(children=(Label(value='t sample'), IntSlider(value=0, max=999)))"
      ]
     },
     "metadata": {},
     "output_type": "display_data"
    },
    {
     "data": {
      "application/vnd.jupyter.widget-view+json": {
       "model_id": "d99c8fa1eb4b4e4290c73647ba0d636b",
       "version_major": 2,
       "version_minor": 0
      },
      "text/plain": [
       "Output()"
      ]
     },
     "metadata": {},
     "output_type": "display_data"
    }
   ],
   "source": [
    "henon_fig, henon_ax = plt.subplots()\n",
    "print(\"Computing...\")\n",
    "r, a, th1, th2 = hm.cartesian_to_polar(x, px, y, py)\n",
    "henon_engine = hm.full_track.generate_instance(\n",
    "    r, a, th1, th2,\n",
    "    np.ones(samples, dtype=np.int) * steps,\n",
    "    epsilon\n",
    ")\n",
    "x, px, y, py = henon_engine.compute()\n",
    "\n",
    "actions = (np.power(x, 2) + np.power(px, 2) + np.power(y, 2) + np.power(py, 2)) / 2\n",
    "\n",
    "print(\"Done computing.\")\n",
    "\n",
    "def histo_test(index):\n",
    "    henon_ax.clear()\n",
    "    \n",
    "    filtered_data = actions[index][np.logical_not(np.isnan(actions[index]))]\n",
    "    weights = np.empty_like(filtered_data)\n",
    "    ### USEFUL! ###\n",
    "    weights.fill((filtered_data.size/actions[index].size) * bins / (filtered_data.max()-filtered_data.min()) / filtered_data.size)\n",
    "    ###############\n",
    "    n, _, _ = henon_ax.hist(filtered_data, weights=weights, bins=bins, range=(0, np.nanmax(actions)))\n",
    "    \n",
    "    #henon_ax.hist(actions[index, :], bins=bins, range=(0, np.max(actions)))\n",
    "    henon_ax.set_xlim(0, np.nanmax(actions))\n",
    "    henon_ax.set_ylim(0, 50)\n",
    "    henon_ax.set_xlabel(\"$I$\")\n",
    "    henon_ax.set_ylabel(\"$\\\\rho(I)$\") # We set this so that we have a stable view, but of course can be remodulated...\n",
    "    henon_ax.set_title(\"Iterations $= {}$, $I_0={:.2}$, valid beam $={:.2}$\".format(index, I_0, 1 - np.count_nonzero(np.isnan(actions[index])) / samples))\n",
    "    \n",
    "widj_idx_I = widgets.IntSlider(value=0, min=0, max=steps-1, step=1, continuous_update=True)\n",
    "\n",
    "ui = widgets.VBox([\n",
    "    widgets.Label(\"t sample\"), widj_idx_I,\n",
    "])\n",
    "out = widgets.interactive_output(\n",
    "    histo_test,\n",
    "    {\"index\":widj_idx_I}\n",
    ")\n",
    "\n",
    "display(ui, out)"
   ]
  },
  {
   "cell_type": "markdown",
   "metadata": {},
   "source": [
    "**At a first glance, we do not observe a \"proper\" diffusion, but more an immediate relaxation into a distribution of more-or-less chaotic orbits that does not resembles immediatly a diffusive process.**"
   ]
  },
  {
   "cell_type": "code",
   "execution_count": null,
   "metadata": {},
   "outputs": [],
   "source": []
  }
 ],
 "metadata": {
  "kernelspec": {
   "display_name": "Python 3",
   "language": "python",
   "name": "python3"
  },
  "language_info": {
   "codemirror_mode": {
    "name": "ipython",
    "version": 3
   },
   "file_extension": ".py",
   "mimetype": "text/x-python",
   "name": "python",
   "nbconvert_exporter": "python",
   "pygments_lexer": "ipython3",
   "version": "3.7.7"
  }
 },
 "nbformat": 4,
 "nbformat_minor": 4
}
