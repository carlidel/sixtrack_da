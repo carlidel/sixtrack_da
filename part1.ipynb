{
 "cells": [
  {
   "cell_type": "markdown",
   "metadata": {},
   "source": [
    "# Computing Baseline and Standard Integral\n",
    "## Importing Libraries"
   ]
  },
  {
   "cell_type": "code",
   "execution_count": 1,
   "metadata": {},
   "outputs": [],
   "source": [
    "# Base libraries\n",
    "import math\n",
    "import numpy as np\n",
    "import scipy.integrate as integrate\n",
    "from tqdm import tqdm\n",
    "from scipy.special import erf\n",
    "import pickle\n",
    "import itertools\n",
    "\n",
    "from SALib.sample import saltelli\n",
    "from SALib.analyze import sobol\n",
    "\n",
    "# Personal libraries\n",
    "import sixtrackwrap as sx\n",
    "\n",
    "from parameters import *"
   ]
  },
  {
   "cell_type": "markdown",
   "metadata": {},
   "source": [
    "## Setup coordinates"
   ]
  },
  {
   "cell_type": "code",
   "execution_count": 2,
   "metadata": {},
   "outputs": [],
   "source": [
    "DA_b = {}\n",
    "error_b = {}\n",
    "\n",
    "alpha_preliminary_values = np.linspace(-1.0, 1.0, baseline_samples)\n",
    "alpha_values = np.arccos(alpha_preliminary_values) / 2\n",
    "theta1_values = np.linspace(0.0, np.pi * 2.0, baseline_samples, endpoint=False)\n",
    "theta2_values = np.linspace(0.0, np.pi * 2.0, baseline_samples, endpoint=False)\n",
    "\n",
    "d_preliminar_alpha = alpha_preliminary_values[1] - alpha_preliminary_values[0]\n",
    "d_theta1 = theta1_values[1] - theta1_values[0]\n",
    "d_theta2 = theta2_values[1] - theta2_values[0]\n",
    "\n",
    "alpha_mesh, theta1_mesh, theta2_mesh = np.meshgrid(alpha_values, theta1_values, theta2_values, indexing='ij')\n",
    "\n",
    "alpha_flat = alpha_mesh.flatten()\n",
    "theta1_flat = theta1_mesh.flatten()\n",
    "theta2_flat = theta2_mesh.flatten()"
   ]
  },
  {
   "cell_type": "markdown",
   "metadata": {},
   "source": [
    "## Baseline"
   ]
  },
  {
   "cell_type": "code",
   "execution_count": null,
   "metadata": {},
   "outputs": [
    {
     "name": "stdout",
     "output_type": "stream",
     "text": [
      "Active radiuses: 42875 / 42875\n",
      "Sample size per active radius: 1\n",
      "Expected execution time for step: nan\n",
      "Elapsed time for whole iteration: 64.43\n",
      "Time per single iteration: 1.5026768108846147e-05\n",
      "r: 10.0 . Turns to do: 100 . Min found: 100\n",
      "Active radiuses: 42875 / 42875\n",
      "Sample size per active radius: 1\n",
      "Expected execution time for step: 64.43\n",
      "Elapsed time for whole iteration: 64.35\n",
      "Time per single iteration: 1.5008669705849695e-05\n",
      "r: 11.0 . Turns to do: 100 . Min found: 100\n",
      "Active radiuses: 42875 / 42875\n",
      "Sample size per active radius: 1\n",
      "Expected execution time for step: 64.35\n",
      "Elapsed time for whole iteration: 64.33\n",
      "Time per single iteration: 1.5004739733548624e-05\n",
      "r: 12.0 . Turns to do: 100 . Min found: 100\n",
      "Active radiuses: 42875 / 42875\n",
      "Sample size per active radius: 1\n",
      "Expected execution time for step: 64.33\n",
      "Elapsed time for whole iteration: 64.33\n",
      "Time per single iteration: 1.5003040803069623e-05\n",
      "r: 13.0 . Turns to do: 100 . Min found: 100\n",
      "Active radiuses: 42875 / 42875\n",
      "Sample size per active radius: 1\n",
      "Expected execution time for step: 64.33\n",
      "Elapsed time for whole iteration: 64.40\n",
      "Time per single iteration: 1.501945056303597e-05\n",
      "r: 14.0 . Turns to do: 100 . Min found: 100\n",
      "Active radiuses: 42875 / 42875\n",
      "Sample size per active radius: 1\n",
      "Expected execution time for step: 64.40\n",
      "Elapsed time for whole iteration: 64.35\n",
      "Time per single iteration: 1.5007828915431964e-05\n",
      "r: 15.0 . Turns to do: 100 . Min found: 100\n",
      "Active radiuses: 42875 / 42875\n",
      "Sample size per active radius: 1\n",
      "Expected execution time for step: 64.35\n",
      "Elapsed time for whole iteration: 64.35\n",
      "Time per single iteration: 1.500882379515178e-05\n",
      "r: 16.0 . Turns to do: 100 . Min found: 79\n",
      "Active radiuses: 42875 / 42875\n",
      "Sample size per active radius: 1\n",
      "Expected execution time for step: 64.35\n",
      "Elapsed time for whole iteration: 64.34\n",
      "Time per single iteration: 1.5005661600185204e-05\n",
      "r: 17.0 . Turns to do: 100 . Min found: 59\n",
      "Active radiuses: 42875 / 42875\n",
      "Sample size per active radius: 1\n",
      "Expected execution time for step: 64.34\n",
      "Elapsed time for whole iteration: 64.32\n",
      "Time per single iteration: 1.5000839789476756e-05\n",
      "r: 18.0 . Turns to do: 100 . Min found: 44\n",
      "Active radiuses: 42875 / 42875\n",
      "Sample size per active radius: 1\n",
      "Expected execution time for step: 64.32\n",
      "Elapsed time for whole iteration: 64.34\n",
      "Time per single iteration: 1.5006550213338336e-05\n",
      "r: 19.0 . Turns to do: 100 . Min found: 39\n",
      "Active radiuses: 42875 / 42875\n",
      "Sample size per active radius: 1\n",
      "Expected execution time for step: 64.34\n",
      "Elapsed time for whole iteration: 64.31\n",
      "Time per single iteration: 1.5000023744544205e-05\n",
      "r: 20.0 . Turns to do: 100 . Min found: 35\n",
      "Active radiuses: 42875 / 42875\n",
      "Sample size per active radius: 1\n",
      "Expected execution time for step: 64.31\n",
      "Elapsed time for whole iteration: 64.14\n",
      "Time per single iteration: 1.49596047470938e-05\n",
      "r: 21.0 . Turns to do: 100 . Min found: 29\n",
      "Active radiuses: 42875 / 42875\n",
      "Sample size per active radius: 1\n",
      "Expected execution time for step: 64.14\n",
      "Elapsed time for whole iteration: 64.24\n",
      "Time per single iteration: 1.4982487592335692e-05\n",
      "r: 22.0 . Turns to do: 100 . Min found: 11\n",
      "Active radiuses: 42875 / 42875\n",
      "Sample size per active radius: 1\n",
      "Expected execution time for step: 64.24\n"
     ]
    }
   ],
   "source": [
    "# Data generation\n",
    "engine = sx.radial_scanner(alpha_flat, theta1_flat, theta2_flat, d_r, starting_step=starting_step)\n",
    "\n",
    "engine.scan(max_turns, min_turns, batch_size=batch_size)\n",
    "\n",
    "radiuses = engine.extract_DA(turn_sampling)\n",
    "radiuses = radiuses.reshape((baseline_samples, baseline_samples, baseline_samples, len(turn_sampling)))\n",
    "\n",
    "data_b = radiuses"
   ]
  },
  {
   "cell_type": "code",
   "execution_count": 4,
   "metadata": {},
   "outputs": [],
   "source": [
    "radiuses = data_b\n",
    "# Computing DA\n",
    "DA = []\n",
    "error_list = []\n",
    "mod_radiuses = radiuses.copy()\n",
    "mod_radiuses = np.power(radiuses, 4)\n",
    "\n",
    "mod_radiuses1 = integrate.romb(mod_radiuses, dx=d_theta1, axis=1)\n",
    "error_radiuses1 = np.absolute(\n",
    "    (mod_radiuses1 - integrate.romb(mod_radiuses[:,::2,:], dx=d_theta1 * 2, axis=1)) / mod_radiuses1\n",
    ")\n",
    "error_radiuses1 = np.average(error_radiuses1, axis=1)\n",
    "\n",
    "mod_radiuses2 = integrate.romb(mod_radiuses1, dx=d_theta2, axis=1)\n",
    "error_radiuses2 = np.absolute(\n",
    "    (mod_radiuses2 - integrate.romb(mod_radiuses1[:,::2], dx=d_theta2 * 2, axis=1)) / mod_radiuses2\n",
    ")\n",
    "error_radiuses2 += error_radiuses1\n",
    "error_radiuses2 = np.average(error_radiuses2, axis=0)\n",
    "\n",
    "mod_radiuses3 = integrate.romb(mod_radiuses2, dx=d_preliminar_alpha, axis=0)\n",
    "error_radiuses3 = np.absolute(\n",
    "    (mod_radiuses3 - integrate.romb(mod_radiuses2[::2], dx=d_preliminar_alpha * 2, axis=0)) / mod_radiuses3\n",
    ")\n",
    "error_radiuses3 += error_radiuses2\n",
    "\n",
    "error_raw = mod_radiuses3/ (2 * 2 * 2 * np.pi * np.pi) * error_radiuses3\n",
    "error = 0.25 * np.power(mod_radiuses3 / (2 * 2 * 2 * np.pi * np.pi), -3/4) * error_raw\n",
    "\n",
    "for i in range(len(turn_sampling)):\n",
    "    DA.append(\n",
    "        np.power(\n",
    "            mod_radiuses3[i] / (2 * 2 * 2 * np.pi * np.pi),\n",
    "            1/4\n",
    "        )\n",
    "    )\n",
    "    error_list.append(error[i])\n",
    "DA_b = np.asarray(DA)\n",
    "error_b = np.asarray(error_list)"
   ]
  },
  {
   "cell_type": "markdown",
   "metadata": {},
   "source": [
    "### Saving Data"
   ]
  },
  {
   "cell_type": "code",
   "execution_count": 5,
   "metadata": {},
   "outputs": [],
   "source": [
    "with open(\"data/raw_data_b.pkl\", 'wb') as f:\n",
    "    pickle.dump(data_b, f, protocol=4)\n",
    "    \n",
    "with open(\"data/DA_b.pkl\", 'wb') as f:\n",
    "    pickle.dump(DA_b, f, protocol=4)\n",
    "    \n",
    "with open(\"data/error_b.pkl\", 'wb') as f:\n",
    "    pickle.dump(error_b, f, protocol=4)"
   ]
  },
  {
   "cell_type": "markdown",
   "metadata": {},
   "source": [
    "## Monte Carlo Comparison"
   ]
  },
  {
   "cell_type": "code",
   "execution_count": 6,
   "metadata": {},
   "outputs": [],
   "source": [
    "radiuses = data_b.reshape(-1, data_b.shape[-1])\n",
    "    \n",
    "average = np.average(np.power(radiuses, 4), axis=0)\n",
    "error = np.std(np.power(radiuses, 4), axis=0) / np.sqrt(radiuses.shape[0])\n",
    "\n",
    "DA_b_mc = np.power(average, 1/4)\n",
    "error_b_mc = 0.25 * np.power(average, -3/4) * error"
   ]
  },
  {
   "cell_type": "markdown",
   "metadata": {},
   "source": [
    "### Saving Data"
   ]
  },
  {
   "cell_type": "code",
   "execution_count": 7,
   "metadata": {},
   "outputs": [],
   "source": [
    "with open(\"data/DA_b_mc.pkl\", 'wb') as f:\n",
    "    pickle.dump(DA_b_mc, f, protocol=4)\n",
    "    \n",
    "with open(\"data/error_b_mc.pkl\", 'wb') as f:\n",
    "    pickle.dump(error_b_mc, f, protocol=4)"
   ]
  },
  {
   "cell_type": "markdown",
   "metadata": {},
   "source": [
    "## Standard Integral"
   ]
  },
  {
   "cell_type": "code",
   "execution_count": 8,
   "metadata": {},
   "outputs": [],
   "source": [
    "DA_1 = {}\n",
    "error_1 = {}\n",
    "base_radiuses = data_b\n",
    "\n",
    "values = [2]\n",
    "while True:\n",
    "    if (baseline_samples - 1) // values[-1] > 4:\n",
    "        values.append(values[-1] * 2)\n",
    "    else:\n",
    "        break\n",
    "\n",
    "for i in values:\n",
    "    radiuses = base_radiuses[::i, ::i, ::i]\n",
    "    DA = []\n",
    "    error_list = []\n",
    "    mod_radiuses = radiuses.copy()\n",
    "    mod_radiuses = np.power(radiuses, 4)\n",
    "\n",
    "    mod_radiuses1 = integrate.romb(mod_radiuses, dx=d_theta1 * i, axis=1)\n",
    "    error_radiuses1 = np.absolute(\n",
    "        (mod_radiuses1 - integrate.romb(mod_radiuses[:,::2,:], dx=d_theta1 * i * 2, axis=1)) / mod_radiuses1\n",
    "    )\n",
    "    error_radiuses1 = np.average(error_radiuses1, axis=1)\n",
    "\n",
    "    mod_radiuses2 = integrate.romb(mod_radiuses1, dx=d_theta2 * i, axis=1)\n",
    "    error_radiuses2 = np.absolute(\n",
    "        (mod_radiuses2 - integrate.romb(mod_radiuses1[:,::2], dx=d_theta2 * i * 2, axis=1)) / mod_radiuses2\n",
    "    )\n",
    "    error_radiuses2 += error_radiuses1\n",
    "    error_radiuses2 = np.average(error_radiuses2, axis=0)\n",
    "\n",
    "    mod_radiuses3 = integrate.romb(mod_radiuses2, dx=d_preliminar_alpha * i, axis=0)\n",
    "    error_radiuses3 = np.absolute(\n",
    "        (mod_radiuses3 - integrate.romb(mod_radiuses2[::2], dx=d_preliminar_alpha * i * 2, axis=0)) / mod_radiuses3\n",
    "    )\n",
    "    error_radiuses3 += error_radiuses2\n",
    "\n",
    "    error_raw = mod_radiuses3/ (2 * 2 * 2 * np.pi * np.pi) * error_radiuses3\n",
    "    error = 0.25 * np.power(mod_radiuses3 / (2 * 2 * 2 * np.pi * np.pi), -3/4) * error_raw\n",
    "\n",
    "    for j in range(len(turn_sampling)):\n",
    "        DA.append(\n",
    "            np.power(\n",
    "                mod_radiuses3[j] / (2 * 2 * 2 * np.pi * np.pi),\n",
    "                1/4\n",
    "            )\n",
    "        )\n",
    "        error_list.append(error[j])\n",
    "    DA_1[radiuses.shape[0]**3] = np.asarray(DA)\n",
    "    error_1[radiuses.shape[0]**3] = np.asarray(error_list)"
   ]
  },
  {
   "cell_type": "markdown",
   "metadata": {},
   "source": [
    "### Saving Data"
   ]
  },
  {
   "cell_type": "code",
   "execution_count": 9,
   "metadata": {},
   "outputs": [],
   "source": [
    "with open(\"data/DA_1.pkl\", 'wb') as f:\n",
    "    pickle.dump(DA_1, f, protocol=4)\n",
    "    \n",
    "with open(\"data/error_1.pkl\", 'wb') as f:\n",
    "    pickle.dump(error_1, f, protocol=4)"
   ]
  },
  {
   "cell_type": "code",
   "execution_count": null,
   "metadata": {},
   "outputs": [],
   "source": []
  }
 ],
 "metadata": {
  "kernelspec": {
   "display_name": "Python 3",
   "language": "python",
   "name": "python3"
  },
  "language_info": {
   "codemirror_mode": {
    "name": "ipython",
    "version": 3
   },
   "file_extension": ".py",
   "mimetype": "text/x-python",
   "name": "python",
   "nbconvert_exporter": "python",
   "pygments_lexer": "ipython3",
   "version": "3.8.1"
  }
 },
 "nbformat": 4,
 "nbformat_minor": 4
}
