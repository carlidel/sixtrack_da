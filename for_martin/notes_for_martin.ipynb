{
 "cells": [
  {
   "cell_type": "markdown",
   "metadata": {},
   "source": [
    "# Notes for Martin\n",
    "\n",
    "## Two notebooks with colorful stuff\n",
    "\n",
    "Right now, we used SixTrackLib for two things:\n",
    "\n",
    "1. Radial scans for Dynamic Aperture (DA) analysis (`stability_plots_and_da.ipynb`)\n",
    "2. Individual turn-by-turn tracking of particles for inspecting resonances in the 4D phase-space (`resonance_plots.ipynb`)\n",
    "\n",
    "I have included the most explicative plots with an (extremely) small explanation of what they represent. I have used interactive plots with the ipywidget backend but if you need any kind of different format or different kind of plots please let me know.\n",
    "\n",
    "## What is sixtrackwrap?\n",
    "\n",
    "For keeping my spaghetti code in one place with all the necessary scripts, classes and data structures, I built a small package over SixTrackLib and called \"sixtrackwrap\". It's meant for personal use only (i.e. it's partially undocumented and mostly not decent), but it does its dirty job and it's available on pypi."
   ]
  },
  {
   "cell_type": "code",
   "execution_count": null,
   "metadata": {},
   "outputs": [],
   "source": []
  }
 ],
 "metadata": {
  "kernelspec": {
   "display_name": "Python 3",
   "language": "python",
   "name": "python3"
  },
  "language_info": {
   "codemirror_mode": {
    "name": "ipython",
    "version": 3
   },
   "file_extension": ".py",
   "mimetype": "text/x-python",
   "name": "python",
   "nbconvert_exporter": "python",
   "pygments_lexer": "ipython3",
   "version": "3.7.6"
  }
 },
 "nbformat": 4,
 "nbformat_minor": 4
}
