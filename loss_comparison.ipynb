{
 "cells": [
  {
   "cell_type": "markdown",
   "metadata": {},
   "source": [
    "# Comparison between real loss and DA loss"
   ]
  },
  {
   "cell_type": "code",
   "execution_count": 1,
   "metadata": {},
   "outputs": [],
   "source": [
    "# Base libraries\n",
    "import math\n",
    "import numpy as np\n",
    "import scipy.integrate as integrate\n",
    "from tqdm import tqdm\n",
    "from scipy.special import erf\n",
    "import pickle\n",
    "import itertools\n",
    "\n",
    "# Personal libraries\n",
    "import sixtrackwrap as sx\n",
    "\n",
    "import time\n",
    "import matplotlib.pyplot as plt"
   ]
  },
  {
   "cell_type": "markdown",
   "metadata": {},
   "source": [
    "## Parameters"
   ]
  },
  {
   "cell_type": "code",
   "execution_count": 2,
   "metadata": {},
   "outputs": [],
   "source": [
    "min_turns = 100\n",
    "max_turns = 1000\n",
    "n_turn_samples = 10\n",
    "\n",
    "turn_sampling = np.linspace(min_turns, max_turns, n_turn_samples, dtype=np.int_)[::-1]\n",
    "\n",
    "d_r = 1.0\n",
    "starting_step = 10 # USE IT CAREFULLY AS IT REQUIRES PRIOR KNOWLEDGE ON DA\n",
    "\n",
    "batch_size = 50000\n",
    "\n",
    "baseline_samples = 17\n",
    "baseline_total_samples = baseline_samples ** 3"
   ]
  },
  {
   "cell_type": "markdown",
   "metadata": {},
   "source": [
    "### Setup and everything goes..."
   ]
  },
  {
   "cell_type": "code",
   "execution_count": 3,
   "metadata": {},
   "outputs": [],
   "source": [
    "alpha_preliminary_values = np.linspace(-1.0, 1.0, baseline_samples)\n",
    "alpha_values = np.arccos(alpha_preliminary_values) / 2\n",
    "theta1_values = np.linspace(0.0, np.pi * 2.0, baseline_samples, endpoint=False)\n",
    "theta2_values = np.linspace(0.0, np.pi * 2.0, baseline_samples, endpoint=False)\n",
    "\n",
    "d_preliminar_alpha = alpha_preliminary_values[1] - alpha_preliminary_values[0]\n",
    "d_theta1 = theta1_values[1] - theta1_values[0]\n",
    "d_theta2 = theta2_values[1] - theta2_values[0]\n",
    "\n",
    "alpha_mesh, theta1_mesh, theta2_mesh = np.meshgrid(alpha_values, theta1_values, theta2_values, indexing='ij')\n",
    "\n",
    "alpha_flat = alpha_mesh.flatten()\n",
    "theta1_flat = theta1_mesh.flatten()\n",
    "theta2_flat = theta2_mesh.flatten()"
   ]
  },
  {
   "cell_type": "code",
   "execution_count": null,
   "metadata": {},
   "outputs": [
    {
     "name": "stdout",
     "output_type": "stream",
     "text": [
      "Active radiuses: 4913 / 4913\n",
      "Sample size per active radius: 11\n",
      "Expected execution time for step: nan\n"
     ]
    }
   ],
   "source": [
    "# Data generation\n",
    "engine = sx.radial_scanner(alpha_flat, theta1_flat, theta2_flat, d_r, starting_step=starting_step)\n",
    "\n",
    "engine.scan(max_turns, min_turns, batch_size=batch_size)\n",
    "\n",
    "radiuses = engine.extract_DA(turn_sampling)\n",
    "radiuses = radiuses.reshape((baseline_samples, baseline_samples, baseline_samples, len(turn_sampling)))"
   ]
  },
  {
   "cell_type": "code",
   "execution_count": 55,
   "metadata": {},
   "outputs": [],
   "source": [
    "DA = []\n",
    "\n",
    "mod_radiuses = radiuses.copy()\n",
    "mod_radiuses = np.power(radiuses, 4)\n",
    "mod_radiuses1 = integrate.simps(mod_radiuses, x=theta1_values, axis=1)\n",
    "mod_radiuses2 = integrate.simps(mod_radiuses1, x=theta2_values, axis=1)\n",
    "mod_radiuses3 = integrate.simps(mod_radiuses2, x=alpha_preliminary_values, axis=0)\n",
    "\n",
    "for i in range(len(turn_sampling)):\n",
    "    DA.append(\n",
    "        np.power(\n",
    "            mod_radiuses3[i] / (2 * theta1_values[-1] * theta2_values[-1]),\n",
    "            1/4\n",
    "        )\n",
    "    )\n",
    "\n",
    "DA = np.asarray(DA)"
   ]
  },
  {
   "cell_type": "markdown",
   "metadata": {},
   "source": [
    "## Attempt with simple gaussian"
   ]
  },
  {
   "cell_type": "code",
   "execution_count": 86,
   "metadata": {},
   "outputs": [
    {
     "data": {
      "text/plain": [
       "array([0.17136481, 0.17871447, 0.1858069 , 0.19610725, 0.20802822,\n",
       "       0.2248595 , 0.24807118, 0.28202807, 0.32760983, 0.42009854,\n",
       "       1.        ])"
      ]
     },
     "execution_count": 86,
     "metadata": {},
     "output_type": "execute_result"
    }
   ],
   "source": [
    "sigma = 30\n",
    "\n",
    "# a = - np.exp(- 1 ** 2 / 2) * (1 ** 2 + 2) + 2\n",
    "\n",
    "# Cursed Sanity Check\n",
    "def loss_from_DA(DA_list, DA_max):\n",
    "    temp = - np.exp(- ((DA_list / sigma) ** 2) / 2) * (DA_list ** 2 + 2 * sigma ** 2) + 2 * sigma ** 2\n",
    "    return np.concatenate((temp, [- np.exp(- ((DA_max / sigma) ** 2) / 2) * (DA_max ** 2 + 2 * sigma ** 2) + 2 * sigma ** 2]))\n",
    "\n",
    "values = loss_from_DA(DA, 40.0)\n",
    "values /= values[-1]\n",
    "values"
   ]
  },
  {
   "cell_type": "code",
   "execution_count": 87,
   "metadata": {},
   "outputs": [],
   "source": [
    "engine.assign_weights(\n",
    "    lambda r, a, b, c: - np.exp(- ((r / sigma) ** 2) / 2) * (r ** 2 + 2 * sigma ** 2) + 2 * sigma ** 2\n",
    ")"
   ]
  },
  {
   "cell_type": "code",
   "execution_count": 88,
   "metadata": {},
   "outputs": [
    {
     "data": {
      "text/plain": [
       "[<matplotlib.lines.Line2D at 0x7fe8218ddd90>]"
      ]
     },
     "execution_count": 88,
     "metadata": {},
     "output_type": "execute_result"
    },
    {
     "data": {
      "image/png": "[encoded data removed]",
      "text/plain": [
       "<Figure size 432x288 with 1 Axes>"
      ]
     },
     "metadata": {
      "needs_background": "light"
     },
     "output_type": "display_data"
    }
   ],
   "source": [
    "real_values = engine.compute_loss(turn_sampling, 40)\n",
    "real_values\n",
    "plt.plot(real_values)\n",
    "plt.plot(values)"
   ]
  },
  {
   "cell_type": "markdown",
   "metadata": {},
   "source": [
    "### If we manipulate things?"
   ]
  },
  {
   "cell_type": "code",
   "execution_count": 42,
   "metadata": {},
   "outputs": [],
   "source": [
    "actual_turns = engine.steps.copy()\n",
    "for i in range(engine.steps.shape[0]):\n",
    "    engine.steps[i] = np.linspace(100, 5, engine.steps.shape[1])\n",
    "\n",
    "radiuses = engine.extract_DA(turn_sampling)\n",
    "radiuses = radiuses.reshape((baseline_samples, baseline_samples, baseline_samples, len(turn_sampling)))    \n",
    "\n",
    "DA = []\n",
    "\n",
    "mod_radiuses = radiuses.copy()\n",
    "mod_radiuses = np.power(radiuses, 4)\n",
    "mod_radiuses1 = integrate.simps(mod_radiuses, x=theta1_values, axis=1)\n",
    "mod_radiuses2 = integrate.simps(mod_radiuses1, x=theta2_values, axis=1)\n",
    "mod_radiuses3 = integrate.simps(mod_radiuses2, x=alpha_preliminary_values, axis=0)\n",
    "\n",
    "for i in range(len(turn_sampling)):\n",
    "    DA.append(\n",
    "        np.power(\n",
    "            mod_radiuses3[i] / (2 * theta1_values[-1] * theta2_values[-1]),\n",
    "            1/4\n",
    "        )\n",
    "    )\n",
    "\n",
    "DA = np.asarray(DA)"
   ]
  },
  {
   "cell_type": "code",
   "execution_count": 45,
   "metadata": {},
   "outputs": [
    {
     "data": {
      "text/plain": [
       "array([0.09020401, 0.36607496, 0.69588808, 0.90238183, 0.97905852,\n",
       "       0.99698085, 0.99970566, 0.9999805 , 0.99999913, 0.99999999,\n",
       "       1.        ])"
      ]
     },
     "execution_count": 45,
     "metadata": {},
     "output_type": "execute_result"
    }
   ],
   "source": [
    "sigma = 10\n",
    "\n",
    "# a = - np.exp(- 1 ** 2 / 2) * (1 ** 2 + 2) + 2\n",
    "\n",
    "# Cursed Sanity Check\n",
    "def loss_from_DA(DA_list, DA_max):\n",
    "    temp = - np.exp(- ((DA_list / sigma) ** 2) / 2) * (DA_list ** 2 + 2 * sigma ** 2) + 2 * sigma ** 2\n",
    "    return np.concatenate((temp, [- np.exp(- ((DA_max / sigma) ** 2) / 2) * (DA_max ** 2 + 2 * sigma ** 2) + 2 * sigma ** 2]))\n",
    "\n",
    "values = loss_from_DA(DA, 65.0)\n",
    "values /= values[-1]\n",
    "values"
   ]
  },
  {
   "cell_type": "code",
   "execution_count": 46,
   "metadata": {},
   "outputs": [],
   "source": [
    "engine.assign_weights(\n",
    "    lambda r, a, b, c: - np.exp(- ((r / sigma) ** 2) / 2) * (r ** 2 + 2 * sigma ** 2) + 2 * sigma ** 2\n",
    ")"
   ]
  },
  {
   "cell_type": "code",
   "execution_count": 47,
   "metadata": {},
   "outputs": [
    {
     "data": {
      "text/plain": [
       "[<matplotlib.lines.Line2D at 0x7fe821d95f70>]"
      ]
     },
     "execution_count": 47,
     "metadata": {},
     "output_type": "execute_result"
    },
    {
     "data": {
      "image/png": "[encoded data removed]",
      "text/plain": [
       "<Figure size 432x288 with 1 Axes>"
      ]
     },
     "metadata": {
      "needs_background": "light"
     },
     "output_type": "display_data"
    }
   ],
   "source": [
    "real_values = engine.compute_loss(turn_sampling, 65)\n",
    "real_values\n",
    "plt.plot(real_values)\n",
    "plt.plot(values)"
   ]
  },
  {
   "cell_type": "code",
   "execution_count": 48,
   "metadata": {},
   "outputs": [
    {
     "data": {
      "text/plain": [
       "array([0.09020401, 0.36607496, 0.69588809, 0.90238184, 0.97905854,\n",
       "       0.99698086, 0.99970567, 0.99998052, 0.99999914, 1.        ,\n",
       "       1.        ])"
      ]
     },
     "execution_count": 48,
     "metadata": {},
     "output_type": "execute_result"
    }
   ],
   "source": [
    "real_values"
   ]
  },
  {
   "cell_type": "code",
   "execution_count": 49,
   "metadata": {},
   "outputs": [
    {
     "data": {
      "text/plain": [
       "array([0.09020401, 0.36607496, 0.69588808, 0.90238183, 0.97905852,\n",
       "       0.99698085, 0.99970566, 0.9999805 , 0.99999913, 0.99999999,\n",
       "       1.        ])"
      ]
     },
     "execution_count": 49,
     "metadata": {},
     "output_type": "execute_result"
    }
   ],
   "source": [
    "values"
   ]
  },
  {
   "cell_type": "markdown",
   "metadata": {},
   "source": [
    "## Basic Old Stuff"
   ]
  },
  {
   "cell_type": "code",
   "execution_count": 34,
   "metadata": {},
   "outputs": [
    {
     "data": {
      "text/plain": [
       "array([0.01599477, 0.01675922, 0.01750214, 0.01859011, 0.0198625 ,\n",
       "       0.0216829 , 0.02423867, 0.02807075, 0.0333861 , 0.04476662,\n",
       "       1.        ])"
      ]
     },
     "execution_count": 34,
     "metadata": {},
     "output_type": "execute_result"
    }
   ],
   "source": [
    "# Cursed Sanity Check\n",
    "def loss_from_DA(DA_list, DA_max):\n",
    "    temp = np.power(DA_list, 4)\n",
    "    return np.concatenate((temp, [np.power(DA_max, 4)]))\n",
    "\n",
    "values = loss_from_DA(DA, 66.0)\n",
    "values /= values[-1]\n",
    "values"
   ]
  },
  {
   "cell_type": "code",
   "execution_count": 35,
   "metadata": {},
   "outputs": [],
   "source": [
    "engine.assign_weights(\n",
    "    lambda r, a, b, c: r\n",
    ")"
   ]
  },
  {
   "cell_type": "code",
   "execution_count": 37,
   "metadata": {},
   "outputs": [
    {
     "data": {
      "text/plain": [
       "array([0.01866472, 0.01939989, 0.02028202, 0.02137876, 0.02270046,\n",
       "       0.02424771, 0.02634898, 0.02951721, 0.03448097, 0.04593857,\n",
       "       1.        ])"
      ]
     },
     "execution_count": 37,
     "metadata": {},
     "output_type": "execute_result"
    }
   ],
   "source": [
    "real_values = engine.compute_loss(turn_sampling, 66.0)\n",
    "real_values"
   ]
  },
  {
   "cell_type": "code",
   "execution_count": 39,
   "metadata": {},
   "outputs": [
    {
     "data": {
      "text/plain": [
       "[<matplotlib.lines.Line2D at 0x7fe1daad1b80>]"
      ]
     },
     "execution_count": 39,
     "metadata": {},
     "output_type": "execute_result"
    },
    {
     "data": {
      "image/png": "[encoded data removed]",
      "text/plain": [
       "<Figure size 432x288 with 1 Axes>"
      ]
     },
     "metadata": {
      "needs_background": "light"
     },
     "output_type": "display_data"
    }
   ],
   "source": [
    "plt.plot(values[:-1])\n",
    "plt.plot(real_values[:-1])"
   ]
  },
  {
   "cell_type": "code",
   "execution_count": 9,
   "metadata": {},
   "outputs": [
    {
     "data": {
      "text/plain": [
       "array([0.01656386, 0.01721628, 0.01799912, 0.01897241, 0.02014534,\n",
       "       0.02151844, 0.0233832 , 0.02619482, 0.03059986, 0.04076783,\n",
       "       1.        ])"
      ]
     },
     "execution_count": 9,
     "metadata": {},
     "output_type": "execute_result"
    }
   ],
   "source": [
    "def compute_loss(sample_list):\n",
    "    values = np.empty(len(sample_list) + 1)\n",
    "    values[-1] = sum([np.sum(weight) for weight in engine.weights])\n",
    "    for i, sample in enumerate(sample_list):\n",
    "        values[i] = np.sum(\n",
    "            [np.sum(engine.weights[j] * (engine.steps[j] >= sample)) for j in range(len(engine.weights))]\n",
    "            )\n",
    "    values /= values[-1]\n",
    "    return values    \n",
    "compute_loss(turn_sampling)"
   ]
  },
  {
   "cell_type": "code",
   "execution_count": 92,
   "metadata": {},
   "outputs": [],
   "source": [
    "test = np.linspace(1,10,100)\n",
    "double_test = np.array([test for i in range(10)])"
   ]
  },
  {
   "cell_type": "code",
   "execution_count": 95,
   "metadata": {},
   "outputs": [
    {
     "data": {
      "text/plain": [
       "array([1.00000000e-04, 1.41629670e-04, 1.95075473e-04, 2.62386449e-04,\n",
       "       3.45775562e-04, 4.47619698e-04, 5.70459668e-04, 7.17000205e-04,\n",
       "       8.90109965e-04, 1.09282153e-03, 1.32833140e-03, 1.60000000e-03,\n",
       "       1.91135168e-03, 2.26607472e-03, 2.66802131e-03, 3.12120757e-03,\n",
       "       3.62981354e-03, 4.19818318e-03, 4.83082440e-03, 5.53240899e-03,\n",
       "       6.30777269e-03, 7.16191517e-03, 8.10000000e-03, 9.12735469e-03,\n",
       "       1.02494707e-02, 1.14720033e-02, 1.28007718e-02, 1.42417594e-02,\n",
       "       1.58011133e-02, 1.74851445e-02, 1.93003278e-02, 2.12533024e-02,\n",
       "       2.33508708e-02, 2.56000000e-02, 2.80078205e-02, 3.05816269e-02,\n",
       "       3.33288778e-02, 3.62571955e-02, 3.93743665e-02, 4.26883410e-02,\n",
       "       4.62072331e-02, 4.99393211e-02, 5.38930469e-02, 5.80770166e-02,\n",
       "       6.25000000e-02, 6.71709309e-02, 7.20989072e-02, 7.72931904e-02,\n",
       "       8.27632061e-02, 8.85185438e-02, 9.45689570e-02, 1.00924363e-01,\n",
       "       1.07594843e-01, 1.14590643e-01, 1.21922171e-01, 1.29600000e-01,\n",
       "       1.37634868e-01, 1.46037675e-01, 1.54819486e-01, 1.63991531e-01,\n",
       "       1.73565200e-01, 1.83552052e-01, 1.93963807e-01, 2.04812349e-01,\n",
       "       2.16109726e-01, 2.27868151e-01, 2.40100000e-01, 2.52817813e-01,\n",
       "       2.66034294e-01, 2.79762311e-01, 2.94014897e-01, 3.08805246e-01,\n",
       "       3.24146718e-01, 3.40052838e-01, 3.56537293e-01, 3.73613933e-01,\n",
       "       3.91296776e-01, 4.09600000e-01, 4.28537948e-01, 4.48125128e-01,\n",
       "       4.68376211e-01, 4.89306031e-01, 5.10929588e-01, 5.33262045e-01,\n",
       "       5.56318728e-01, 5.80115129e-01, 6.04666901e-01, 6.29989864e-01,\n",
       "       6.56100000e-01, 6.83013455e-01, 7.10746541e-01, 7.39315730e-01,\n",
       "       7.68737661e-01, 7.99029137e-01, 8.30207124e-01, 8.62288751e-01,\n",
       "       8.95291312e-01, 9.29232266e-01, 9.64129233e-01, 1.00000000e+00])"
      ]
     },
     "execution_count": 95,
     "metadata": {},
     "output_type": "execute_result"
    }
   ],
   "source": [
    "retest = double_test ** 4\n",
    "retest[:,1:] = np.diff(retest, axis=1)\n",
    "retest = np.cumsum(retest, axis=1)\n",
    "retest = np.sum(retest, axis=0)\n",
    "retest /= retest[-1]\n",
    "retest"
   ]
  },
  {
   "cell_type": "code",
   "execution_count": 96,
   "metadata": {},
   "outputs": [
    {
     "data": {
      "text/plain": [
       "array([1.00000000e-04, 1.41629670e-04, 1.95075473e-04, 2.62386449e-04,\n",
       "       3.45775562e-04, 4.47619698e-04, 5.70459668e-04, 7.17000205e-04,\n",
       "       8.90109965e-04, 1.09282153e-03, 1.32833140e-03, 1.60000000e-03,\n",
       "       1.91135168e-03, 2.26607472e-03, 2.66802131e-03, 3.12120757e-03,\n",
       "       3.62981354e-03, 4.19818318e-03, 4.83082440e-03, 5.53240899e-03,\n",
       "       6.30777269e-03, 7.16191517e-03, 8.10000000e-03, 9.12735469e-03,\n",
       "       1.02494707e-02, 1.14720033e-02, 1.28007718e-02, 1.42417594e-02,\n",
       "       1.58011133e-02, 1.74851445e-02, 1.93003278e-02, 2.12533024e-02,\n",
       "       2.33508708e-02, 2.56000000e-02, 2.80078205e-02, 3.05816269e-02,\n",
       "       3.33288778e-02, 3.62571955e-02, 3.93743665e-02, 4.26883410e-02,\n",
       "       4.62072331e-02, 4.99393211e-02, 5.38930469e-02, 5.80770166e-02,\n",
       "       6.25000000e-02, 6.71709309e-02, 7.20989072e-02, 7.72931904e-02,\n",
       "       8.27632061e-02, 8.85185438e-02, 9.45689570e-02, 1.00924363e-01,\n",
       "       1.07594843e-01, 1.14590643e-01, 1.21922171e-01, 1.29600000e-01,\n",
       "       1.37634868e-01, 1.46037675e-01, 1.54819486e-01, 1.63991531e-01,\n",
       "       1.73565200e-01, 1.83552052e-01, 1.93963807e-01, 2.04812349e-01,\n",
       "       2.16109726e-01, 2.27868151e-01, 2.40100000e-01, 2.52817813e-01,\n",
       "       2.66034294e-01, 2.79762311e-01, 2.94014897e-01, 3.08805246e-01,\n",
       "       3.24146718e-01, 3.40052838e-01, 3.56537293e-01, 3.73613933e-01,\n",
       "       3.91296776e-01, 4.09600000e-01, 4.28537948e-01, 4.48125128e-01,\n",
       "       4.68376211e-01, 4.89306031e-01, 5.10929588e-01, 5.33262045e-01,\n",
       "       5.56318728e-01, 5.80115129e-01, 6.04666901e-01, 6.29989864e-01,\n",
       "       6.56100000e-01, 6.83013455e-01, 7.10746541e-01, 7.39315730e-01,\n",
       "       7.68737661e-01, 7.99029137e-01, 8.30207124e-01, 8.62288751e-01,\n",
       "       8.95291312e-01, 9.29232266e-01, 9.64129233e-01, 1.00000000e+00])"
      ]
     },
     "execution_count": 96,
     "metadata": {},
     "output_type": "execute_result"
    }
   ],
   "source": [
    "coso = np.power(np.linspace(1,10,100), 4)\n",
    "coso /= coso[-1]\n",
    "coso[::]"
   ]
  },
  {
   "cell_type": "code",
   "execution_count": 23,
   "metadata": {},
   "outputs": [],
   "source": [
    "selfo_temp = np.linspace(100, 10, 100)\n",
    "selfo_steps = np.array([selfo_temp for i in range(17**3)])\n",
    "selfo_starting_step = 1\n",
    "selfo_dr = 0.01\n",
    "DA = [np.argmax(selfo_temp < i) for i in [90, 50, 20]]\n",
    "\n",
    "\n",
    "def loss_from_DA(DA_list, DA_max):\n",
    "    temp = 2 * np.pi * np.pi * np.power(DA_list, 4)\n",
    "    temp = np.concatenate((temp, [2 * np.pi * np.pi * np.power(DA_max, 4)]))\n",
    "    return temp / temp[-1]\n",
    "\n",
    "def assign_weights(f=lambda r, a, th1, th2: r):\n",
    "    maximum = 0\n",
    "    for i in range(len(selfo_steps)):\n",
    "        maximum = max(maximum, len(selfo_steps[i]))\n",
    "\n",
    "    selfo_weights = np.empty((len(selfo_steps), maximum))\n",
    "\n",
    "    for i in range(len(selfo_steps)):\n",
    "        selfo_weights[i] = np.array(\n",
    "            [f(selfo_dr * (j + selfo_starting_step), 1, 1, 1) for j in range(maximum)]\n",
    "            )\n",
    "        selfo_weights[i] = np.power(selfo_weights[i], 4)\n",
    "        selfo_weights[i][1:] = np.diff(selfo_weights[i])\n",
    "    return selfo_weights\n",
    "\n",
    "def compute_loss(selfo_weights, sample_list, cutting_point=-1.0):\n",
    "    if cutting_point > selfo_starting_step:\n",
    "        cutting_point = int((cutting_point - selfo_starting_step) / selfo_dr) + 1\n",
    "    values = np.empty(len(sample_list) + 1)\n",
    "    values[-1] = sum([np.sum(weight[:cutting_point]) for weight in selfo_weights])\n",
    "    for i, sample in enumerate(sample_list):\n",
    "        values[i] = np.sum(\n",
    "            [np.sum(selfo_weights[j][:len(selfo_steps[j])] * (selfo_steps[j] >= sample))\n",
    "                for j in range(len(selfo_weights))]\n",
    "        )\n",
    "    values /= values[-1]\n",
    "    return values\n",
    "\n"
   ]
  },
  {
   "cell_type": "code",
   "execution_count": 24,
   "metadata": {},
   "outputs": [
    {
     "data": {
      "text/plain": [
       "array([2.0736000e-08, 9.8344960e-06, 6.2742241e-05, 1.0000000e+00])"
      ]
     },
     "execution_count": 24,
     "metadata": {},
     "output_type": "execute_result"
    }
   ],
   "source": [
    "loss_from_DA(DA, 1000)"
   ]
  },
  {
   "cell_type": "code",
   "execution_count": 25,
   "metadata": {},
   "outputs": [],
   "source": [
    "selfo_weights = assign_weights()"
   ]
  },
  {
   "cell_type": "code",
   "execution_count": 27,
   "metadata": {},
   "outputs": [
    {
     "data": {
      "text/plain": [
       "array([2.8561000e-04, 5.7648010e-02, 8.8529281e-01, 1.0000000e+00])"
      ]
     },
     "execution_count": 27,
     "metadata": {},
     "output_type": "execute_result"
    }
   ],
   "source": [
    "compute_loss(selfo_weights, DA[::-1], 1000)"
   ]
  },
  {
   "cell_type": "code",
   "execution_count": null,
   "metadata": {},
   "outputs": [],
   "source": [
    "sum([np.sum(selfo_weights[j][:len(selfo_steps[j])] * (selfo_steps[j] >= 50)) for j in tqdm(range(len(selfo_weights)))])"
   ]
  },
  {
   "cell_type": "code",
   "execution_count": null,
   "metadata": {},
   "outputs": [],
   "source": [
    "selfo_weights[j]"
   ]
  },
  {
   "cell_type": "code",
   "execution_count": 3,
   "metadata": {},
   "outputs": [],
   "source": [
    "from scipy.stats import multivariate_normal\n",
    "from scipy import integrate"
   ]
  },
  {
   "cell_type": "code",
   "execution_count": 13,
   "metadata": {},
   "outputs": [
    {
     "data": {
      "text/plain": [
       "0.7152327720109058"
      ]
     },
     "execution_count": 13,
     "metadata": {},
     "output_type": "execute_result"
    }
   ],
   "source": [
    "func = multivariate_normal(\n",
    "    [0.0, 0.0, 0.0, 0.0],\n",
    "    [[1.0, 0.0, 0.0, 0.0],\n",
    "     [0.0, 1.0, 0.0, 0.0],\n",
    "     [0.0, 0.0, 1.0, 0.0],\n",
    "     [0.0, 0.0, 0.0, 1.0]])\n",
    "\n",
    "def func_all(r, a, t1, t2):\n",
    "    x  = r * np.cos(a) * np.cos(t1)\n",
    "    px = r * np.cos(a) * np.sin(t1)\n",
    "    y  = r * np.sin(a) * np.cos(t2)\n",
    "    py = r * np.sin(a) * np.sin(t2)\n",
    "    return func.pdf([x, px, y, py]) * \n",
    "\n",
    "func_np = np.vectorize(func_all)\n",
    "\n",
    "a = integrate.nquad(\n",
    "    func_np,\n",
    "    [[0, 1], [0, np.pi/2], [0, 2 * np.pi], [0, 2 * np.pi]]\n",
    ")\n",
    "\n",
    "b = integrate.nquad(\n",
    "    func_np,\n",
    "    [[0, 2], [0, np.pi/2], [0, 2 * np.pi], [0, 2 * np.pi]]\n",
    ")\n",
    "\n",
    "a[0] / b[0]"
   ]
  },
  {
   "cell_type": "code",
   "execution_count": 14,
   "metadata": {},
   "outputs": [
    {
     "name": "stdout",
     "output_type": "stream",
     "text": [
      "0.18040802086209973 1.1879883005803238 2.0\n",
      "0.1518600989369775\n"
     ]
    }
   ],
   "source": [
    "a = - np.exp(- 1 ** 2 / 2) * (1 ** 2 + 2) + 2\n",
    "b = - np.exp(- 2 ** 2 / 2) * (2 ** 2 + 2) + 2\n",
    "c = - np.exp(- 20 ** 2 / 2) * (20 ** 2 + 2) + 2\n",
    "print(a, b, c)\n",
    "print(a / b)"
   ]
  },
  {
   "cell_type": "code",
   "execution_count": 3,
   "metadata": {},
   "outputs": [
    {
     "name": "stdout",
     "output_type": "stream",
     "text": [
      "0.15186009893697747\n"
     ]
    }
   ],
   "source": [
    "test = np.linspace(1,2,100)\n",
    "\n",
    "retest = test.copy()\n",
    "\n",
    "retest[0] = - np.exp(- test[0] ** 2 / 2) * (test[0] ** 2 + 2) + 2\n",
    "retest[1:] = - np.exp(- test[1:] ** 2 / 2) * (test[1:] ** 2 + 2) + np.exp(- test[:-1] ** 2 / 2) * (test[:-1] ** 2 + 2) \n",
    "\n",
    "#print(test)\n",
    "#print(retest)\n",
    "\n",
    "retest = np.cumsum(retest)\n",
    "print(retest[0] / retest[-1])"
   ]
  },
  {
   "cell_type": "code",
   "execution_count": 86,
   "metadata": {},
   "outputs": [
    {
     "data": {
      "text/plain": [
       "array([1.53636011e-02, 1.39706657e-02, 1.25994610e-02, 1.12693178e-02,\n",
       "       9.99664043e-03, 8.79470562e-03, 7.67360310e-03, 6.64030682e-03,\n",
       "       5.69885689e-03, 4.85062996e-03, 4.09467397e-03, 3.42808277e-03,\n",
       "       2.84638775e-03, 2.34394605e-03, 1.91430861e-03, 1.55055467e-03,\n",
       "       1.24558394e-03, 9.92361051e-04, 7.84110390e-04, 6.14462659e-04,\n",
       "       4.77556293e-04, 3.68098832e-04, 2.81394170e-04, 2.13342087e-04,\n",
       "       1.60416403e-04, 1.19627712e-04, 8.84760268e-05, 6.48978358e-05,\n",
       "       4.72112616e-05, 3.40621289e-05, 2.43729871e-05, 1.72964318e-05,\n",
       "       1.21734890e-05, 8.49736763e-06, 5.88253523e-06, 4.03882889e-06,\n",
       "       2.75015494e-06, 1.85724697e-06, 1.24392142e-06, 8.26279581e-07,\n",
       "       5.44342051e-07, 3.55653871e-07, 2.30459165e-07, 1.48105510e-07,\n",
       "       9.43972276e-08, 5.96702767e-08, 3.74082725e-08, 2.32588396e-08,\n",
       "       1.43423139e-08, 8.77124402e-09, 5.32002842e-09, 3.20020280e-09,\n",
       "       1.90920182e-09, 1.12963195e-09, 6.62876897e-10, 3.85779894e-10,\n",
       "       2.22667629e-10, 1.27463362e-10, 7.23643130e-11, 4.07449986e-11,\n",
       "       2.27528058e-11, 1.26010404e-11, 6.92131532e-12, 3.77034990e-12,\n",
       "       2.03697391e-12, 1.09144051e-12, 5.79996612e-13, 3.05676207e-13,\n",
       "       1.59774918e-13, 8.28259378e-14, 4.25828681e-14, 2.17127207e-14,\n",
       "       1.09800514e-14, 5.50687586e-15, 2.73915742e-15, 1.35126176e-15,\n",
       "       6.61108543e-16, 3.20787061e-16, 1.54373128e-16, 7.36779200e-17,\n",
       "       3.48749664e-17, 1.63719733e-17, 7.62252835e-18, 3.51971791e-18,\n",
       "       1.61186052e-18, 7.32078825e-19, 3.29760796e-19, 1.47316363e-19,\n",
       "       6.52700201e-20, 2.86805379e-20, 1.24988952e-20, 5.40215141e-21,\n",
       "       2.31564866e-21, 9.84440267e-22, 4.15065716e-22, 1.73562199e-22,\n",
       "       7.19787361e-23, 2.96049327e-23, 1.20763232e-23, 4.88558044e-24])"
      ]
     },
     "execution_count": 86,
     "metadata": {},
     "output_type": "execute_result"
    }
   ],
   "source": [
    "retest = func_np(double_test, np.zeros_like(double_test),np.zeros_like(double_test),np.zeros_like(double_test))\n",
    "#retest[1:] = np.diff(retest)\n",
    "#retest = np.cumsum(retest)\n",
    "#retest = np.sum(retest)\n",
    "#retest /= retest[-1]\n",
    "retest"
   ]
  },
  {
   "cell_type": "code",
   "execution_count": 96,
   "metadata": {},
   "outputs": [
    {
     "data": {
      "text/plain": [
       "array([1.00000000e-04, 1.41629670e-04, 1.95075473e-04, 2.62386449e-04,\n",
       "       3.45775562e-04, 4.47619698e-04, 5.70459668e-04, 7.17000205e-04,\n",
       "       8.90109965e-04, 1.09282153e-03, 1.32833140e-03, 1.60000000e-03,\n",
       "       1.91135168e-03, 2.26607472e-03, 2.66802131e-03, 3.12120757e-03,\n",
       "       3.62981354e-03, 4.19818318e-03, 4.83082440e-03, 5.53240899e-03,\n",
       "       6.30777269e-03, 7.16191517e-03, 8.10000000e-03, 9.12735469e-03,\n",
       "       1.02494707e-02, 1.14720033e-02, 1.28007718e-02, 1.42417594e-02,\n",
       "       1.58011133e-02, 1.74851445e-02, 1.93003278e-02, 2.12533024e-02,\n",
       "       2.33508708e-02, 2.56000000e-02, 2.80078205e-02, 3.05816269e-02,\n",
       "       3.33288778e-02, 3.62571955e-02, 3.93743665e-02, 4.26883410e-02,\n",
       "       4.62072331e-02, 4.99393211e-02, 5.38930469e-02, 5.80770166e-02,\n",
       "       6.25000000e-02, 6.71709309e-02, 7.20989072e-02, 7.72931904e-02,\n",
       "       8.27632061e-02, 8.85185438e-02, 9.45689570e-02, 1.00924363e-01,\n",
       "       1.07594843e-01, 1.14590643e-01, 1.21922171e-01, 1.29600000e-01,\n",
       "       1.37634868e-01, 1.46037675e-01, 1.54819486e-01, 1.63991531e-01,\n",
       "       1.73565200e-01, 1.83552052e-01, 1.93963807e-01, 2.04812349e-01,\n",
       "       2.16109726e-01, 2.27868151e-01, 2.40100000e-01, 2.52817813e-01,\n",
       "       2.66034294e-01, 2.79762311e-01, 2.94014897e-01, 3.08805246e-01,\n",
       "       3.24146718e-01, 3.40052838e-01, 3.56537293e-01, 3.73613933e-01,\n",
       "       3.91296776e-01, 4.09600000e-01, 4.28537948e-01, 4.48125128e-01,\n",
       "       4.68376211e-01, 4.89306031e-01, 5.10929588e-01, 5.33262045e-01,\n",
       "       5.56318728e-01, 5.80115129e-01, 6.04666901e-01, 6.29989864e-01,\n",
       "       6.56100000e-01, 6.83013455e-01, 7.10746541e-01, 7.39315730e-01,\n",
       "       7.68737661e-01, 7.99029137e-01, 8.30207124e-01, 8.62288751e-01,\n",
       "       8.95291312e-01, 9.29232266e-01, 9.64129233e-01, 1.00000000e+00])"
      ]
     },
     "execution_count": 96,
     "metadata": {},
     "output_type": "execute_result"
    }
   ],
   "source": [
    "coso = np.power(np.linspace(1,10,100), 4)\n",
    "coso /= coso[-1]\n",
    "coso[::]"
   ]
  }
 ],
 "metadata": {
  "kernelspec": {
   "display_name": "Python 3",
   "language": "python",
   "name": "python3"
  },
  "language_info": {
   "codemirror_mode": {
    "name": "ipython",
    "version": 3
   },
   "file_extension": ".py",
   "mimetype": "text/x-python",
   "name": "python",
   "nbconvert_exporter": "python",
   "pygments_lexer": "ipython3",
   "version": "3.7.7"
  }
 },
 "nbformat": 4,
 "nbformat_minor": 4
}
