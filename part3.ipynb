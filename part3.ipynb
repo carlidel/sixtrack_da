{
 "cells": [
  {
   "cell_type": "markdown",
   "metadata": {},
   "source": [
    "# Monte Carlo Scanning\n",
    "## Importing Libraries"
   ]
  },
  {
   "cell_type": "code",
   "execution_count": 1,
   "metadata": {},
   "outputs": [],
   "source": [
    "# Base libraries\n",
    "import math\n",
    "import numpy as np\n",
    "import scipy.integrate as integrate\n",
    "from tqdm import tqdm\n",
    "from scipy.special import erf\n",
    "import pickle\n",
    "import itertools\n",
    "\n",
    "from SALib.sample import saltelli\n",
    "from SALib.analyze import sobol\n",
    "\n",
    "# Personal libraries\n",
    "import sixtrackwrap as sx\n",
    "\n",
    "from parameters import *"
   ]
  },
  {
   "cell_type": "markdown",
   "metadata": {},
   "source": [
    "## Computing"
   ]
  },
  {
   "cell_type": "code",
   "execution_count": 2,
   "metadata": {
    "scrolled": true
   },
   "outputs": [
    {
     "name": "stdout",
     "output_type": "stream",
     "text": [
      "Active radiuses: 10064 / 10064\n",
      "Sample size per active radius: 1\n",
      "Expected execution time for step: nan\n",
      "Elapsed time for whole iteration: 11.97\n",
      "Time per single iteration: 2.3780536196758712e-05\n",
      "r: 15.0 . Turns to do: 50 . Min found: 50\n",
      "Active radiuses: 10064 / 10064\n",
      "Sample size per active radius: 1\n",
      "Expected execution time for step: 11.97\n",
      "Elapsed time for whole iteration: 11.88\n",
      "Time per single iteration: 2.3606130068556115e-05\n",
      "r: 20.0 . Turns to do: 50 . Min found: 37\n",
      "Active radiuses: 10064 / 10064\n",
      "Sample size per active radius: 1\n",
      "Expected execution time for step: 11.88\n",
      "Elapsed time for whole iteration: 11.87\n",
      "Time per single iteration: 2.359395518022425e-05\n",
      "r: 25.0 . Turns to do: 50 . Min found: 3\n",
      "Active radiuses: 9564 / 10064\n",
      "Sample size per active radius: 1\n",
      "Expected execution time for step: 11.28\n",
      "Elapsed time for whole iteration: 17.86\n",
      "Time per single iteration: 3.73414828158083e-05\n",
      "r: 30.0 . Turns to do: 50 . Min found: 0\n",
      "Active radiuses: 5834 / 10064\n",
      "Sample size per active radius: 1\n",
      "Expected execution time for step: 10.89\n",
      "Elapsed time for whole iteration: 22.14\n",
      "Time per single iteration: 7.588433777995824e-05\n",
      "r: 35.0 . Turns to do: 50 . Min found: 0\n",
      "Active radiuses: 1287 / 10064\n",
      "Sample size per active radius: 2\n",
      "Expected execution time for step: 9.77\n",
      "Elapsed time for whole iteration: 2.38\n",
      "Time per single iteration: 1.8502387689265894e-05\n",
      "r: 45.0 . Turns to do: 50 . Min found: 0\n",
      "Active radiuses: 13 / 10064\n",
      "Sample size per active radius: 154\n",
      "Expected execution time for step: 1.85\n",
      "Elapsed time for whole iteration: 0.37\n",
      "Time per single iteration: 3.690269443538639e-06\n",
      "r: 815.0 . Turns to do: 0 . Min found: 0\n",
      "TOTAL ELAPSED TIME IN SECONDS: 78.46\n"
     ]
    }
   ],
   "source": [
    "problem = {\n",
    "    'num_vars': 3,\n",
    "    'names': ['alpha', 'theta1', 'theta2'],\n",
    "    'bounds': [[-1, 1],\n",
    "               [0, np.pi * 2],\n",
    "               [0, np.pi * 2]]\n",
    "    }\n",
    "param_values = saltelli.sample(problem, mc_max_samples // 8 + 8)\n",
    "\n",
    "alpha = np.array([np.arccos(p[0])/2 for p in param_values])\n",
    "theta1 = np.array([p[1] for p in param_values])\n",
    "theta2 = np.array([p[2] for p in param_values])\n",
    "\n",
    "DA_3 = {}\n",
    "error_3 = {}\n",
    "data_3 = {}\n",
    "# Data generation\n",
    "engine = sx.radial_scanner(alpha, theta1, theta2, d_r, starting_step=starting_step)\n",
    "engine.scan(max_turns, min_turns, batch_size=batch_size)\n",
    "\n",
    "radiuses = engine.extract_DA(turn_sampling)\n",
    "\n",
    "data_3 = radiuses\n",
    "\n",
    "# Computing DA\n",
    "\n",
    "for sample in mc_samples:\n",
    "    average = np.average(np.power(radiuses[:sample], 4), axis=0)\n",
    "    error = np.std(np.power(radiuses[:sample], 4), axis=0) / np.sqrt(sample)\n",
    "    DA_3[sample] = np.power(average, 1/4)\n",
    "    error_3[sample] = 0.25 * np.power(average, -3/4) * error\n",
    "    "
   ]
  },
  {
   "cell_type": "markdown",
   "metadata": {},
   "source": [
    "### Saving data"
   ]
  },
  {
   "cell_type": "code",
   "execution_count": 3,
   "metadata": {},
   "outputs": [],
   "source": [
    "with open(savepath + \"data/DA_3.pkl\", 'wb') as f:\n",
    "    pickle.dump(DA_3, f, protocol=4)\n",
    "    \n",
    "with open(savepath + \"data/error_3.pkl\", 'wb') as f:\n",
    "    pickle.dump(error_3, f, protocol=4)"
   ]
  },
  {
   "cell_type": "code",
   "execution_count": null,
   "metadata": {},
   "outputs": [],
   "source": []
  }
 ],
 "metadata": {
  "kernelspec": {
   "display_name": "Python 3",
   "language": "python",
   "name": "python3"
  },
  "language_info": {
   "codemirror_mode": {
    "name": "ipython",
    "version": 3
   },
   "file_extension": ".py",
   "mimetype": "text/x-python",
   "name": "python",
   "nbconvert_exporter": "python",
   "pygments_lexer": "ipython3",
   "version": "3.8.1"
  }
 },
 "nbformat": 4,
 "nbformat_minor": 4
}
