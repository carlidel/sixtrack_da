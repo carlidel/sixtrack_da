{
 "cells": [
  {
   "cell_type": "markdown",
   "metadata": {},
   "source": [
    "# Monte Carlo Scanning\n",
    "## Importing Libraries"
   ]
  },
  {
   "cell_type": "code",
   "execution_count": 1,
   "metadata": {},
   "outputs": [],
   "source": [
    "# Base libraries\n",
    "import math\n",
    "import numpy as np\n",
    "import scipy.integrate as integrate\n",
    "from tqdm import tqdm\n",
    "from scipy.special import erf\n",
    "import pickle\n",
    "import itertools\n",
    "\n",
    "from SALib.sample import saltelli\n",
    "from SALib.analyze import sobol\n",
    "\n",
    "# Personal libraries\n",
    "import sixtrackwrap as sx\n",
    "\n",
    "from parameters import *"
   ]
  },
  {
   "cell_type": "markdown",
   "metadata": {},
   "source": [
    "## Computing"
   ]
  },
  {
   "cell_type": "code",
   "execution_count": 2,
   "metadata": {},
   "outputs": [
    {
     "name": "stdout",
     "output_type": "stream",
     "text": [
      "Active radiuses: 1064 / 1064\n",
      "Sample size per active radius: 2\n",
      "Expected execution time for step: nan\n",
      "Time per single iteration: 3.7111164483808936e-05\n",
      "r: 11.0 . Turns to do: 1000 . Min found: 1000\n",
      "Active radiuses: 1064 / 1064\n",
      "Sample size per active radius: 2\n",
      "Expected execution time for step: 78.97\n",
      "Time per single iteration: 3.680831025865741e-05\n",
      "r: 13.0 . Turns to do: 1000 . Min found: 1000\n",
      "Active radiuses: 1064 / 1064\n",
      "Sample size per active radius: 2\n",
      "Expected execution time for step: 78.33\n",
      "Time per single iteration: 3.708879884920622e-05\n",
      "r: 15.0 . Turns to do: 1000 . Min found: 1000\n",
      "Active radiuses: 1064 / 1064\n",
      "Sample size per active radius: 2\n",
      "Expected execution time for step: 78.92\n",
      "Time per single iteration: 3.689084465342357e-05\n",
      "r: 17.0 . Turns to do: 1000 . Min found: 59\n",
      "Active radiuses: 1049 / 1064\n",
      "Sample size per active radius: 2\n",
      "Expected execution time for step: 77.40\n",
      "Time per single iteration: 0.00020934025870833202\n",
      "r: 19.0 . Turns to do: 1000 . Min found: 41\n",
      "Active radiuses: 965 / 1064\n",
      "Sample size per active radius: 3\n",
      "Expected execution time for step: 606.04\n",
      "Time per single iteration: 3.137194463831979e-05\n",
      "r: 22.0 . Turns to do: 1000 . Min found: 20\n",
      "Active radiuses: 712 / 1064\n",
      "Sample size per active radius: 3\n",
      "Expected execution time for step: 67.01\n",
      "Time per single iteration: 2.0899096008543666e-05\n",
      "r: 25.0 . Turns to do: 1000 . Min found: 4\n",
      "Active radiuses: 367 / 1064\n",
      "Sample size per active radius: 6\n",
      "Expected execution time for step: 46.02\n",
      "Time per single iteration: 4.971359687756669e-05\n",
      "r: 31.0 . Turns to do: 175 . Min found: 1\n",
      "Active radiuses: 4 / 1064\n",
      "Sample size per active radius: 512\n",
      "Expected execution time for step: 17.82\n",
      "Time per single iteration: 1.1876524159950869e-05\n",
      "r: 543.0 . Turns to do: 0 . Min found: 0\n",
      "TOTAL ELAPSED TIME IN SECONDS: 1003.11\n"
     ]
    }
   ],
   "source": [
    "problem = {\n",
    "    'num_vars': 3,\n",
    "    'names': ['alpha', 'theta1', 'theta2'],\n",
    "    'bounds': [[-1, 1],\n",
    "               [0, np.pi * 2],\n",
    "               [0, np.pi * 2]]\n",
    "    }\n",
    "param_values = saltelli.sample(problem, mc_max_samples // 8 + 8)\n",
    "\n",
    "alpha = np.array([np.arccos(p[0])/2 for p in param_values])\n",
    "theta1 = np.array([p[1] for p in param_values])\n",
    "theta2 = np.array([p[2] for p in param_values])\n",
    "\n",
    "DA_3 = {}\n",
    "error_3 = {}\n",
    "data_3 = {}\n",
    "# Data generation\n",
    "engine = sx.radial_scanner(alpha, theta1, theta2, d_r, starting_step=starting_step)\n",
    "engine.scan(max_turns, min_turns)\n",
    "\n",
    "radiuses = engine.extract_DA(turn_sampling)\n",
    "\n",
    "data_3 = radiuses\n",
    "\n",
    "# Computing DA\n",
    "\n",
    "for sample in mc_samples:\n",
    "    average = np.average(np.power(radiuses[:sample], 4), axis=0)\n",
    "    error = np.std(np.power(radiuses[:sample], 4), axis=0) / np.sqrt(sample)\n",
    "    DA_3[sample] = np.power(average, 1/4)\n",
    "    error_3[sample] = 0.25 * np.power(average, -3/4) * error\n",
    "    "
   ]
  },
  {
   "cell_type": "markdown",
   "metadata": {},
   "source": [
    "### Saving data"
   ]
  },
  {
   "cell_type": "code",
   "execution_count": 3,
   "metadata": {},
   "outputs": [],
   "source": [
    "with open(\"data/DA_3.pkl\", 'wb') as f:\n",
    "    pickle.dump(DA_3, f, protocol=4)\n",
    "    \n",
    "with open(\"data/error_3.pkl\", 'wb') as f:\n",
    "    pickle.dump(error_3, f, protocol=4)"
   ]
  },
  {
   "cell_type": "code",
   "execution_count": null,
   "metadata": {},
   "outputs": [],
   "source": []
  }
 ],
 "metadata": {
  "kernelspec": {
   "display_name": "Python 3",
   "language": "python",
   "name": "python3"
  },
  "language_info": {
   "codemirror_mode": {
    "name": "ipython",
    "version": 3
   },
   "file_extension": ".py",
   "mimetype": "text/x-python",
   "name": "python",
   "nbconvert_exporter": "python",
   "pygments_lexer": "ipython3",
   "version": "3.8.1"
  }
 },
 "nbformat": 4,
 "nbformat_minor": 4
}
