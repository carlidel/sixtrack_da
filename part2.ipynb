{
 "cells": [
  {
   "cell_type": "markdown",
   "metadata": {},
   "source": [
    "# Radial Average\n",
    "## Importing libraries"
   ]
  },
  {
   "cell_type": "code",
   "execution_count": 1,
   "metadata": {},
   "outputs": [],
   "source": [
    "# Base libraries\n",
    "import math\n",
    "import numpy as np\n",
    "import scipy.integrate as integrate\n",
    "from tqdm import tqdm\n",
    "from scipy.special import erf\n",
    "import pickle\n",
    "import itertools\n",
    "\n",
    "from SALib.sample import saltelli\n",
    "from SALib.analyze import sobol\n",
    "\n",
    "# Personal libraries\n",
    "import sixtrackwrap as sx\n",
    "\n",
    "from parameters import *"
   ]
  },
  {
   "cell_type": "markdown",
   "metadata": {},
   "source": [
    "## Computing"
   ]
  },
  {
   "cell_type": "code",
   "execution_count": 2,
   "metadata": {},
   "outputs": [
    {
     "name": "stdout",
     "output_type": "stream",
     "text": [
      "Active radiuses: 1025 / 1025\n",
      "Sample size per active radius: 2\n",
      "Expected execution time for step: nan\n",
      "Time per single iteration: 2.1910466101111434e-05\n",
      "r: 11.0 . Turns to do: 1000 . Min found: 1000\n",
      "Active radiuses: 1025 / 1025\n",
      "Sample size per active radius: 2\n",
      "Expected execution time for step: 44.92\n",
      "Time per single iteration: 2.1893588856952947e-05\n",
      "r: 13.0 . Turns to do: 1000 . Min found: 1000\n",
      "Active radiuses: 1025 / 1025\n",
      "Sample size per active radius: 2\n",
      "Expected execution time for step: 44.88\n",
      "Time per single iteration: 2.1900506601101015e-05\n",
      "r: 15.0 . Turns to do: 1000 . Min found: 1000\n",
      "Active radiuses: 1025 / 1025\n",
      "Sample size per active radius: 2\n",
      "Expected execution time for step: 44.90\n",
      "Time per single iteration: 2.189296536329316e-05\n",
      "r: 17.0 . Turns to do: 1000 . Min found: 148\n",
      "Active radiuses: 1025 / 1025\n",
      "Sample size per active radius: 2\n",
      "Expected execution time for step: 44.88\n",
      "Time per single iteration: 2.1914352556554284e-05\n",
      "r: 19.0 . Turns to do: 1000 . Min found: 79\n",
      "Active radiuses: 953 / 1025\n",
      "Sample size per active radius: 3\n",
      "Expected execution time for step: 62.65\n",
      "Time per single iteration: 0.0001356533476838535\n",
      "r: 22.0 . Turns to do: 1000 . Min found: 13\n",
      "Active radiuses: 583 / 1025\n",
      "Sample size per active radius: 4\n",
      "Expected execution time for step: 316.34\n",
      "Time per single iteration: 1.955940568017714e-05\n",
      "r: 26.0 . Turns to do: 775 . Min found: 11\n",
      "Active radiuses: 204 / 1025\n",
      "Sample size per active radius: 11\n",
      "Expected execution time for step: 34.02\n",
      "Time per single iteration: 1.9926464130602754e-05\n",
      "r: 37.0 . Turns to do: 19 . Min found: 1\n",
      "TOTAL ELAPSED TIME IN SECONDS: 692.60\n"
     ]
    }
   ],
   "source": [
    "error_2 = {}\n",
    "DA_2 = {}\n",
    "count_matrix_2 = {}\n",
    "average_matrix_2 = {}\n",
    "\n",
    "alpha_preliminary_values = np.linspace(-1.0, 1.0, samples)\n",
    "alpha_values = np.arccos(alpha_preliminary_values) / 2\n",
    "d_preliminar_alpha = alpha_preliminary_values[1] - alpha_preliminary_values[0]\n",
    "\n",
    "# Extracting the radiuses with theta1 = theta2 = 0.0\n",
    "\n",
    "engine = sx.radial_scanner(\n",
    "    alpha_values, \n",
    "    np.zeros(alpha_values.shape),\n",
    "    np.zeros(alpha_values.shape),\n",
    "    d_r,\n",
    "    starting_step=starting_step\n",
    ")\n",
    "engine.scan(turn_sampling[0], turn_sampling[-1], batch_size=batch_size)\n",
    "all_radiuses = engine.extract_DA(turn_sampling)\n"
   ]
  },
  {
   "cell_type": "code",
   "execution_count": 3,
   "metadata": {
    "scrolled": true
   },
   "outputs": [
    {
     "name": "stderr",
     "output_type": "stream",
     "text": [
      "100%|██████████| 100/100 [41:45<00:00, 25.06s/it] \n"
     ]
    }
   ],
   "source": [
    "values = []\n",
    "for i in tqdm(range(len(turn_sampling))):\n",
    "    radiuses = all_radiuses[:, i]\n",
    "\n",
    "    r, a, th1, th2 = sx.full_track_particles(\n",
    "        radiuses,\n",
    "        alpha_values,\n",
    "        np.zeros(alpha_values.shape),\n",
    "        np.zeros(alpha_values.shape),\n",
    "        turn_sampling[i])\n",
    "\n",
    "    count_matrix, avg_matrix, temp_values = sx.accumulate_and_return(r, a, th1, th2, n_subdivisions)\n",
    "    \n",
    "    values.append(temp_values)\n",
    "    count_matrix_2[(samples, turn_sampling[i])] = count_matrix\n",
    "    average_matrix_2[(samples, turn_sampling[i])] = avg_matrix\n",
    "\n",
    "steps = [1]\n",
    "while True:\n",
    "    if (values[0].shape[0] - 1) / steps[-1] > 4:\n",
    "        steps.append(steps[-1] * 2)\n",
    "    else:\n",
    "        break\n",
    "\n",
    "for jump in steps:\n",
    "    DA = []\n",
    "    error = []\n",
    "    for i in range(len(turn_sampling)):\n",
    "        DA.append(integrate.romb(values[i][::jump], d_preliminar_alpha * jump) * 0.5)\n",
    "        temp = integrate.romb(values[i][::jump * 2], d_preliminar_alpha * jump * 2) * 0.5\n",
    "        error.append(np.absolute(DA[-1] - temp))\n",
    "    DA_2[len(values[i][::jump])] = DA\n",
    "    error_2[len(values[i][::jump])] = error"
   ]
  },
  {
   "cell_type": "markdown",
   "metadata": {},
   "source": [
    "## Saving data"
   ]
  },
  {
   "cell_type": "code",
   "execution_count": 4,
   "metadata": {},
   "outputs": [],
   "source": [
    "with open(\"data/DA_2.pkl\", 'wb') as f:\n",
    "    pickle.dump(DA_2, f, protocol=4)\n",
    "    \n",
    "with open(\"data/error_2.pkl\", 'wb') as f:\n",
    "    pickle.dump(error_2, f, protocol=4)\n",
    "    \n",
    "with open(\"data/count_matrix_2.pkl\", 'wb') as f:\n",
    "    pickle.dump(count_matrix_2, f, protocol=4)\n",
    "    \n",
    "with open(\"data/avg_matrix_2.pkl\", 'wb') as f:\n",
    "    pickle.dump(average_matrix_2, f, protocol=4)"
   ]
  },
  {
   "cell_type": "code",
   "execution_count": null,
   "metadata": {},
   "outputs": [],
   "source": []
  }
 ],
 "metadata": {
  "kernelspec": {
   "display_name": "Python 3",
   "language": "python",
   "name": "python3"
  },
  "language_info": {
   "codemirror_mode": {
    "name": "ipython",
    "version": 3
   },
   "file_extension": ".py",
   "mimetype": "text/x-python",
   "name": "python",
   "nbconvert_exporter": "python",
   "pygments_lexer": "ipython3",
   "version": "3.8.1"
  }
 },
 "nbformat": 4,
 "nbformat_minor": 4
}
