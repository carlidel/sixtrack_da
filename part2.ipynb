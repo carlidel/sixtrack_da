{
 "cells": [
  {
   "cell_type": "markdown",
   "metadata": {},
   "source": [
    "# Radial Average\n",
    "## Importing libraries"
   ]
  },
  {
   "cell_type": "code",
   "execution_count": 1,
   "metadata": {},
   "outputs": [],
   "source": [
    "# Base libraries\n",
    "import math\n",
    "import numpy as np\n",
    "import scipy.integrate as integrate\n",
    "from tqdm import tqdm\n",
    "from scipy.special import erf\n",
    "import pickle\n",
    "import itertools\n",
    "\n",
    "from SALib.sample import saltelli\n",
    "from SALib.analyze import sobol\n",
    "\n",
    "# Personal libraries\n",
    "import sixtrackwrap as sx\n",
    "\n",
    "from parameters import *"
   ]
  },
  {
   "cell_type": "markdown",
   "metadata": {},
   "source": [
    "## Computing"
   ]
  },
  {
   "cell_type": "code",
   "execution_count": 2,
   "metadata": {
    "scrolled": true
   },
   "outputs": [
    {
     "name": "stdout",
     "output_type": "stream",
     "text": [
      "Active radiuses: 1025 / 1025\n",
      "Sample size per active radius: 2\n",
      "Expected execution time for step: nan\n",
      "Elapsed time for whole iteration: 2.43\n",
      "Time per single iteration: 2.368154293153344e-05\n",
      "r: 20.0 . Turns to do: 50 . Min found: 50\n",
      "Active radiuses: 1025 / 1025\n",
      "Sample size per active radius: 2\n",
      "Expected execution time for step: 2.43\n",
      "Elapsed time for whole iteration: 2.39\n",
      "Time per single iteration: 2.332088423938286e-05\n",
      "r: 30.0 . Turns to do: 50 . Min found: 1\n",
      "Active radiuses: 693 / 1025\n",
      "Sample size per active radius: 3\n",
      "Expected execution time for step: 2.42\n",
      "Elapsed time for whole iteration: 2.26\n",
      "Time per single iteration: 2.176203367628691e-05\n",
      "r: 45.0 . Turns to do: 5 . Min found: 0\n",
      "TOTAL ELAPSED TIME IN SECONDS: 7.08\n"
     ]
    }
   ],
   "source": [
    "error_2 = {}\n",
    "DA_2 = {}\n",
    "count_matrix_2 = {}\n",
    "average_matrix_2 = {}\n",
    "DA_5 = {}\n",
    "error_5 = {}\n",
    "\n",
    "alpha_preliminary_values = np.linspace(-1.0, 1.0, samples)\n",
    "alpha_values = np.arccos(alpha_preliminary_values) / 2\n",
    "d_preliminar_alpha = alpha_preliminary_values[1] - alpha_preliminary_values[0]\n",
    "\n",
    "# Extracting the radiuses with theta1 = theta2 = 0.0\n",
    "\n",
    "engine = sx.radial_scanner(\n",
    "    alpha_values, \n",
    "    np.zeros(alpha_values.shape),\n",
    "    np.zeros(alpha_values.shape),\n",
    "    d_r,\n",
    "    starting_step=starting_step\n",
    ")\n",
    "engine.scan(turn_sampling[0], turn_sampling[-1], batch_size=batch_size)\n",
    "all_radiuses = engine.extract_DA(turn_sampling)\n"
   ]
  },
  {
   "cell_type": "markdown",
   "metadata": {},
   "source": [
    "### 2D simple integral"
   ]
  },
  {
   "cell_type": "code",
   "execution_count": 3,
   "metadata": {},
   "outputs": [],
   "source": [
    "skips = [1]\n",
    "while True:\n",
    "    if (samples - 1) // skips[-1] > 4:\n",
    "        skips.append(skips[-1] * 2)\n",
    "    else:\n",
    "        break\n",
    "\n",
    "for i in skips:\n",
    "    alpha = alpha_preliminary_values[::i]\n",
    "    cutted_radiuses = all_radiuses[::i]\n",
    "    value = integrate.simps(cutted_radiuses ** 2, alpha, axis=0)\n",
    "    less_value = integrate.simps(cutted_radiuses[::2] ** 2, alpha[::2], axis=0)\n",
    "    uncertainty = np.abs((value - less_value))\n",
    "\n",
    "    DA = np.sqrt(value / 2)\n",
    "    uncertainty = 0.5 * np.power(value / 2, -0.5) * uncertainty\n",
    "    DA_5[cutted_radiuses.shape] = np.asarray(DA)\n",
    "    error_5[cutted_radiuses.shape] = uncertainty "
   ]
  },
  {
   "cell_type": "markdown",
   "metadata": {},
   "source": [
    "### Actual angular averaging"
   ]
  },
  {
   "cell_type": "code",
   "execution_count": 10,
   "metadata": {
    "scrolled": true
   },
   "outputs": [
    {
     "name": "stderr",
     "output_type": "stream",
     "text": [
      "100%|██████████| 5/5 [00:07<00:00,  1.48s/it]\n"
     ]
    }
   ],
   "source": [
    "values = []\n",
    "for i in tqdm(range(len(turn_sampling))):\n",
    "    radiuses = all_radiuses[:, i]\n",
    "\n",
    "    r, a, th1, th2 = sx.full_track_particles(\n",
    "        radiuses,\n",
    "        alpha_values,\n",
    "        np.zeros(alpha_values.shape),\n",
    "        np.zeros(alpha_values.shape),\n",
    "        turn_sampling[i])\n",
    "\n",
    "    count_matrix, avg_matrix, temp_values = sx.accumulate_and_return(r, a, th1, th2, n_subdivisions)\n",
    "    \n",
    "    count_total, matrix_total, result_total = sx.recursive_accumulation(count_matrix, avg_matrix)\n",
    "    \n",
    "    values.append(result_total)\n",
    "    \n",
    "    count_matrix_2[(samples, turn_sampling[i])] = count_total\n",
    "    average_matrix_2[(samples, turn_sampling[i])] = matrix_total\n",
    "\n",
    "steps = [1]\n",
    "while True:\n",
    "    if (len(values[0][0]) - 1) / steps[-1] > 4:\n",
    "        steps.append(steps[-1] * 2)\n",
    "    else:\n",
    "        break\n",
    "\n",
    "for jump in steps:\n",
    "    for j in range(len(values[0])):\n",
    "        DA = []\n",
    "        error = []\n",
    "        for i in range(len(turn_sampling)):\n",
    "            DA.append(np.power(integrate.simps(values[i][j][::jump], dx = d_preliminar_alpha * jump) * 0.5, 1/4))\n",
    "            temp = np.power(integrate.simps(values[i][j][::jump * 2], dx = d_preliminar_alpha * jump * 2) * 0.5, 1/4)\n",
    "            error.append(np.absolute(DA[-1] - temp))\n",
    "        DA_2[(len(values[i][j][::jump]), 2 ** j)] = DA\n",
    "        error_2[(len(values[i][j][::jump]), 2 ** j)] = error"
   ]
  },
  {
   "cell_type": "markdown",
   "metadata": {},
   "source": [
    "## Saving data"
   ]
  },
  {
   "cell_type": "code",
   "execution_count": 12,
   "metadata": {},
   "outputs": [],
   "source": [
    "with open(savepath + \"data/DA_2.pkl\", 'wb') as f:\n",
    "    pickle.dump(DA_2, f, protocol=4)\n",
    "    \n",
    "with open(savepath + \"data/error_2.pkl\", 'wb') as f:\n",
    "    pickle.dump(error_2, f, protocol=4)\n",
    "    \n",
    "with open(savepath + \"data/count_matrix_2.pkl\", 'wb') as f:\n",
    "    pickle.dump(count_matrix_2, f, protocol=4)\n",
    "    \n",
    "with open(savepath + \"data/avg_matrix_2.pkl\", 'wb') as f:\n",
    "    pickle.dump(average_matrix_2, f, protocol=4)\n",
    "    \n",
    "with open(savepath + \"data/DA_5.pkl\", 'wb') as f:\n",
    "    pickle.dump(DA_5, f, protocol=4)\n",
    "    \n",
    "with open(savepath + \"data/error_5.pkl\", 'wb') as f:\n",
    "    pickle.dump(error_5, f, protocol=4)"
   ]
  },
  {
   "cell_type": "code",
   "execution_count": null,
   "metadata": {},
   "outputs": [],
   "source": []
  }
 ],
 "metadata": {
  "kernelspec": {
   "display_name": "Python 3",
   "language": "python",
   "name": "python3"
  },
  "language_info": {
   "codemirror_mode": {
    "name": "ipython",
    "version": 3
   },
   "file_extension": ".py",
   "mimetype": "text/x-python",
   "name": "python",
   "nbconvert_exporter": "python",
   "pygments_lexer": "ipython3",
   "version": "3.8.1"
  }
 },
 "nbformat": 4,
 "nbformat_minor": 4
}
