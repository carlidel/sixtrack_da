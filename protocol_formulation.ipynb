{
 "cells": [
  {
   "cell_type": "markdown",
   "metadata": {},
   "source": [
    "# Protocol studies"
   ]
  },
  {
   "cell_type": "markdown",
   "metadata": {},
   "source": [
    "## Setup scripts if we are under SWAN"
   ]
  },
  {
   "cell_type": "code",
   "execution_count": null,
   "metadata": {},
   "outputs": [],
   "source": [
    "# Working in the right path\n",
    "%cd /eos/project/d/da-and-diffusion-studies/DA_Studies/Simulations/Models/da_sixtrack"
   ]
  },
  {
   "cell_type": "code",
   "execution_count": null,
   "metadata": {},
   "outputs": [],
   "source": [
    "# Install the libraries\n",
    "import sys\n",
    "!{sys.executable} -m pip install --user tqdm pynverse sixtrackwrap crank-nicolson-numba henon-map symplectic-map\n",
    "!{sys.executable} -m pip install --user --upgrade tqdm pynverse sixtrackwrap crank-nicolson-numba henon-map symplectic-map\n",
    "!export PYTHONPATH=$CERNBOX_HOME/.local/lib/python3.7/site-packages:$PYTHONPATH"
   ]
  },
  {
   "cell_type": "code",
   "execution_count": null,
   "metadata": {},
   "outputs": [],
   "source": [
    "# For this \"presentation\" only!\n",
    "import warnings\n",
    "warnings.filterwarnings('ignore')"
   ]
  },
  {
   "cell_type": "markdown",
   "metadata": {},
   "source": [
    "## Library imports"
   ]
  },
  {
   "cell_type": "code",
   "execution_count": 1,
   "metadata": {},
   "outputs": [],
   "source": [
    "%matplotlib widget"
   ]
  },
  {
   "cell_type": "code",
   "execution_count": 2,
   "metadata": {},
   "outputs": [],
   "source": [
    "import numpy as np\n",
    "from numba import njit\n",
    "import pandas as pd\n",
    "import matplotlib\n",
    "import matplotlib.pyplot as plt\n",
    "from tqdm.notebook import tqdm\n",
    "import scipy.interpolate as interpolate\n",
    "import scipy.integrate as integrate\n",
    "from scipy.misc import derivative as derivative\n",
    "from pynverse import inversefunc\n",
    "import scipy.optimize as optimize\n",
    "from uncertainties import ufloat\n",
    "import itertools\n",
    "import scipy\n",
    "from scipy.stats import linregress\n",
    "\n",
    "import ipywidgets as widgets\n",
    "from IPython.display import display\n",
    "\n",
    "# Personal libraries\n",
    "import symplectic_map as sm\n",
    "import henon_map as hm\n",
    "import crank_nicolson_numba.nekhoroshev as nk\n",
    "import crank_nicolson_numba.generic as cn\n"
   ]
  },
  {
   "cell_type": "code",
   "execution_count": 3,
   "metadata": {},
   "outputs": [],
   "source": [
    "def moving_average(a, n=3) :\n",
    "    ret = np.cumsum(a, dtype=float)\n",
    "    ret[n:] = ret[n:] - ret[:-n]\n",
    "    return ret[n - 1:] / n"
   ]
  },
  {
   "cell_type": "markdown",
   "metadata": {},
   "source": [
    "## Noise function setup"
   ]
  },
  {
   "cell_type": "code",
   "execution_count": 4,
   "metadata": {},
   "outputs": [],
   "source": [
    "def standard_map_noise(n_samples, k, p0=1.0, th0=1.0, normed = True):\n",
    "    \"\"\"Make an array of correlated noise\n",
    "    \n",
    "    Parameters\n",
    "    ----------\n",
    "    n_samples : unsigned int\n",
    "        number of elements\n",
    "    k : float\n",
    "        standard map k parameter\n",
    "    p0 : float, optional\n",
    "        p0 starting point, by default 1.0\n",
    "    th0 : float, optional\n",
    "        th0 starting point, by default 1.0\n",
    "    \n",
    "    Returns\n",
    "    -------\n",
    "    ndarray, ndarray\n",
    "        th and p ndarrays of dimention (n_samples)\n",
    "    \"\"\"    \n",
    "    p = np.empty(n_samples)\n",
    "    th = np.empty(n_samples)\n",
    "    p[0] = p0\n",
    "    th[0] = th0\n",
    "    for i in range(1, n_samples):\n",
    "        p[i] = np.mod(p[i - 1] + k * np.sin(th[i - 1]), 2*np.pi)\n",
    "        th[i] = np.mod(th[i - 1] + p[i], 2 * np.pi)\n",
    "    noise = (p - np.pi) / np.pi\n",
    "    if normed:\n",
    "        noise -= np.average(noise)\n",
    "        noise /= np.std(noise)\n",
    "    return th, noise\n",
    "\n",
    "\n",
    "@njit\n",
    "def make_correlated_noise(n_elements, gamma=0.0):\n",
    "    \"\"\"Make an array of correlated noise\n",
    "    \n",
    "    Parameters\n",
    "    ----------\n",
    "    n_elements : unsigned int\n",
    "        number of elements\n",
    "    gamma : float, optional\n",
    "        correlation coefficient, by default 0.0\n",
    "    \n",
    "    Returns\n",
    "    -------\n",
    "    ndarray\n",
    "        the noise array\n",
    "    \"\"\"    \n",
    "    noise = np.random.normal(0.0, 1.0, n_elements)\n",
    "    if gamma != 0.0:\n",
    "        for i in range(1, n_elements):\n",
    "            noise[i] += gamma * noise[i - 1]\n",
    "    return noise"
   ]
  },
  {
   "cell_type": "markdown",
   "metadata": {},
   "source": [
    "### Noise visualization\n",
    "Correlated noise"
   ]
  },
  {
   "cell_type": "code",
   "execution_count": 5,
   "metadata": {},
   "outputs": [
    {
     "data": {
      "application/vnd.jupyter.widget-view+json": {
       "model_id": "4aa20a41aed849cfbdb7671e6eb6ebaa",
       "version_major": 2,
       "version_minor": 0
      },
      "text/plain": [
       "Canvas(toolbar=Toolbar(toolitems=[('Home', 'Reset original view', 'home', 'home'), ('Back', 'Back to previous …"
      ]
     },
     "metadata": {},
     "output_type": "display_data"
    }
   ],
   "source": [
    "n1_fig, n1_axs = plt.subplots(2, 2)\n",
    "\n",
    "n_elements = 100\n",
    "\n",
    "g0 = 0.0\n",
    "g1 = 0.25\n",
    "g2 = 0.5\n",
    "g3 = 0.75\n",
    "\n",
    "n1_axs[0][0].plot(make_correlated_noise(n_elements, gamma=g0))\n",
    "n1_axs[0][0].set_xlabel(\"$t$\")\n",
    "n1_axs[0][0].set_ylabel(\"$\\\\xi(t)$\")\n",
    "n1_axs[0][0].set_title(\"$\\\\gamma={}$\".format(g0))\n",
    "\n",
    "n1_axs[0][1].plot(make_correlated_noise(n_elements, gamma=g1))\n",
    "n1_axs[0][1].set_xlabel(\"$t$\")\n",
    "n1_axs[0][1].set_ylabel(\"$\\\\xi(t)$\")\n",
    "n1_axs[0][1].set_title(\"$\\\\gamma={}$\".format(g1))\n",
    "\n",
    "n1_axs[1][0].plot(make_correlated_noise(n_elements, gamma=g2))\n",
    "n1_axs[1][0].set_xlabel(\"$t$\")\n",
    "n1_axs[1][0].set_ylabel(\"$\\\\xi(t)$\")\n",
    "n1_axs[1][0].set_title(\"$\\\\gamma={}$\".format(g2))\n",
    "\n",
    "n1_axs[1][1].plot(make_correlated_noise(n_elements, gamma=g3))\n",
    "n1_axs[1][1].set_xlabel(\"$t$\")\n",
    "n1_axs[1][1].set_ylabel(\"$\\\\xi(t)$\")\n",
    "n1_axs[1][1].set_title(\"$\\\\gamma={}$\".format(g3))\n",
    "\n",
    "plt.tight_layout()"
   ]
  },
  {
   "cell_type": "markdown",
   "metadata": {},
   "source": [
    "Standard map"
   ]
  },
  {
   "cell_type": "code",
   "execution_count": 26,
   "metadata": {},
   "outputs": [
    {
     "data": {
      "application/vnd.jupyter.widget-view+json": {
       "model_id": "3264e0cde612424b9bcd5d0f72f661f9",
       "version_major": 2,
       "version_minor": 0
      },
      "text/plain": [
       "Canvas(toolbar=Toolbar(toolitems=[('Home', 'Reset original view', 'home', 'home'), ('Back', 'Back to previous …"
      ]
     },
     "metadata": {},
     "output_type": "display_data"
    }
   ],
   "source": [
    "n2_fig, n2_axs = plt.subplots(2, 2)\n",
    "\n",
    "n_elements = 5000\n",
    "\n",
    "g0 = 1.5\n",
    "g1 = 2.0\n",
    "g2 = 5.0\n",
    "g3 = 10.0\n",
    "\n",
    "th, p = standard_map_noise(n_elements, g0)\n",
    "n2_axs[0][0].scatter(th, p, s=1.0)\n",
    "n2_axs[0][0].set_xlabel(\"$\\\\theta$\")\n",
    "n2_axs[0][0].set_ylabel(\"$p$\")\n",
    "n2_axs[0][0].set_title(\"$\\\\kappa={}$\".format(g0))\n",
    "\n",
    "th, p = standard_map_noise(n_elements, g1)\n",
    "n2_axs[0][1].scatter(th, p, s=1.0)\n",
    "n2_axs[0][1].set_xlabel(\"$\\\\theta$\")\n",
    "n2_axs[0][1].set_ylabel(\"$p$\")\n",
    "n2_axs[0][1].set_title(\"$\\\\kappa={}$\".format(g1))\n",
    "\n",
    "th, p = standard_map_noise(n_elements, g2)\n",
    "n2_axs[1][0].scatter(th, p, s=1.0)\n",
    "n2_axs[1][0].set_xlabel(\"$\\\\theta$\")\n",
    "n2_axs[1][0].set_ylabel(\"$p$\")\n",
    "n2_axs[1][0].set_title(\"$\\\\kappa={}$\".format(g2))\n",
    "\n",
    "th, p = standard_map_noise(n_elements, g3)\n",
    "n2_axs[1][1].scatter(th, p, s=1.0)\n",
    "n2_axs[1][1].set_xlabel(\"$\\\\theta$\")\n",
    "n2_axs[1][1].set_ylabel(\"$p$\")\n",
    "n2_axs[1][1].set_title(\"$\\\\kappa={}$\".format(g3))\n",
    "\n",
    "plt.tight_layout()"
   ]
  },
  {
   "cell_type": "markdown",
   "metadata": {},
   "source": [
    "## Baseline known results\n",
    "### Setting up the map"
   ]
  },
  {
   "cell_type": "code",
   "execution_count": 27,
   "metadata": {},
   "outputs": [],
   "source": [
    "omega_0 = 0.0 * 1\n",
    "omega_1 = 0.5 * 1\n",
    "omega_2 = 0.5 * 1\n",
    "\n",
    "epsilon = 0.1\n",
    "x_star = 4.0\n",
    "delta = 0.0001\n",
    "exponent = (2)  # 1 / (2)\n",
    "\n",
    "n_iterations = 10000\n",
    "barrier_radius = 4.0    # pure x"
   ]
  },
  {
   "cell_type": "code",
   "execution_count": 28,
   "metadata": {},
   "outputs": [
    {
     "data": {
      "application/vnd.jupyter.widget-view+json": {
       "model_id": "a59a2fd584124f3b917f2f5cce151c29",
       "version_major": 2,
       "version_minor": 0
      },
      "text/plain": [
       "Canvas(toolbar=Toolbar(toolitems=[('Home', 'Reset original view', 'home', 'home'), ('Back', 'Back to previous …"
      ]
     },
     "metadata": {},
     "output_type": "display_data"
    },
    {
     "data": {
      "text/plain": [
       "[<matplotlib.lines.Line2D at 0x7f9b689abe10>]"
      ]
     },
     "execution_count": 28,
     "metadata": {},
     "output_type": "execute_result"
    }
   ],
   "source": [
    "plt.figure()\n",
    "temp = np.linspace(0, 5, 1000)\n",
    "plt.plot(temp, np.cos(omega_0 + omega_1 * temp + omega_2 * temp * temp * 0.5))\n",
    "plt.plot(temp, np.sin(omega_0 + omega_1 * temp + omega_2 * temp * temp * 0.5))"
   ]
  },
  {
   "cell_type": "code",
   "execution_count": 29,
   "metadata": {},
   "outputs": [],
   "source": [
    "# Initial I distribution\n",
    "mean = 2.0\n",
    "sigma = 1.0\n",
    "\n",
    "n_realizations = 50000\n",
    "\n",
    "# When inspecting map characteristics\n",
    "n_I_samplings = 1000\n",
    "I_min = 0\n",
    "I_max = cn.action(barrier_radius, 0)\n",
    "skip_prints = 10"
   ]
  },
  {
   "cell_type": "markdown",
   "metadata": {},
   "source": [
    "#### Crank-Nicolson engine"
   ]
  },
  {
   "cell_type": "code",
   "execution_count": 30,
   "metadata": {},
   "outputs": [],
   "source": [
    "I_linspace = np.linspace(I_min, I_max, n_I_samplings)\n",
    "\n",
    "engine = cn.cn_generic(I_min, I_max, cn.normed_normal_linspace(I_min, I_max, mean, sigma, n_I_samplings), 0.5, lambda I: cn.D_calculator(I, epsilon, x_star, delta, exponent))\n",
    "\n",
    "data0 = engine.get_data()"
   ]
  },
  {
   "cell_type": "markdown",
   "metadata": {},
   "source": [
    "iterating CN engine"
   ]
  },
  {
   "cell_type": "code",
   "execution_count": 31,
   "metadata": {},
   "outputs": [],
   "source": [
    "engine.iterate(n_iterations)\n",
    "data1 = engine.get_data()"
   ]
  },
  {
   "cell_type": "markdown",
   "metadata": {},
   "source": [
    "Visualizing CN result"
   ]
  },
  {
   "cell_type": "code",
   "execution_count": 32,
   "metadata": {},
   "outputs": [
    {
     "data": {
      "application/vnd.jupyter.widget-view+json": {
       "model_id": "02f3cc2e45d241ebb2424cb306e2b7a2",
       "version_major": 2,
       "version_minor": 0
      },
      "text/plain": [
       "Canvas(toolbar=Toolbar(toolitems=[('Home', 'Reset original view', 'home', 'home'), ('Back', 'Back to previous …"
      ]
     },
     "metadata": {},
     "output_type": "display_data"
    },
    {
     "data": {
      "text/plain": [
       "Text(0.5, 1.0, 'Crank-Nicolson evolution')"
      ]
     },
     "execution_count": 32,
     "metadata": {},
     "output_type": "execute_result"
    }
   ],
   "source": [
    "fig1, ax1 = plt.subplots()\n",
    "\n",
    "ax1.plot(I_linspace, data0, label=\"t=0\")\n",
    "ax1.plot(I_linspace, data1, label=\"t={}\".format(n_iterations))\n",
    "ax1.legend()\n",
    "ax1.set_xlabel(\"I\")\n",
    "ax1.set_ylabel(\"rho\")\n",
    "ax1.set_title(\"Crank-Nicolson evolution\")"
   ]
  },
  {
   "cell_type": "markdown",
   "metadata": {},
   "source": [
    "#### Setting up discrete map"
   ]
  },
  {
   "cell_type": "code",
   "execution_count": 33,
   "metadata": {},
   "outputs": [],
   "source": [
    "x_0 = np.array([cn.I_norm_sampling_to_x(mean, sigma) for i in range(n_realizations)])\n",
    "p_0 = np.zeros(n_realizations)\n",
    "\n",
    "discrete_engine = sm.symplectic_map.generate_instance(omega_0, omega_1, omega_2, epsilon, x_star, delta, exponent, 0.0, barrier_radius, x_0, p_0)"
   ]
  },
  {
   "cell_type": "markdown",
   "metadata": {},
   "source": [
    "#### Individual noise, $\\gamma = 0.0$"
   ]
  },
  {
   "cell_type": "code",
   "execution_count": 34,
   "metadata": {},
   "outputs": [],
   "source": [
    "discrete_engine.compute_personal_noise(n_iterations, gamma=0.0)"
   ]
  },
  {
   "cell_type": "markdown",
   "metadata": {},
   "source": [
    "Comparison with Crank-Nicolson (perect matching is observed)"
   ]
  },
  {
   "cell_type": "code",
   "execution_count": 35,
   "metadata": {},
   "outputs": [
    {
     "data": {
      "application/vnd.jupyter.widget-view+json": {
       "model_id": "10c84a951569448eb5e17efe1a0ffe93",
       "version_major": 2,
       "version_minor": 0
      },
      "text/plain": [
       "Canvas(toolbar=Toolbar(toolitems=[('Home', 'Reset original view', 'home', 'home'), ('Back', 'Back to previous …"
      ]
     },
     "metadata": {},
     "output_type": "display_data"
    },
    {
     "data": {
      "text/plain": [
       "Text(0.5, 1.0, 'Symplectic map and expected crank nicolson integration\\ndifferent noise realization for every particle $(\\\\gamma=0.0)$')"
      ]
     },
     "execution_count": 35,
     "metadata": {},
     "output_type": "execute_result"
    }
   ],
   "source": [
    "bins=60\n",
    "data = discrete_engine.get_action()\n",
    "filtered_data = data[data != 0.0]\n",
    "weights = np.empty_like(filtered_data)\n",
    "### USEFUL! ###\n",
    "weights.fill((filtered_data.size/data.size) * bins / (filtered_data.max()-filtered_data.min()) / filtered_data.size)\n",
    "###############\n",
    "\n",
    "fig2, ax2 = plt.subplots()\n",
    "\n",
    "ax2.hist(filtered_data, weights=weights, bins=bins, label=\"sm\")\n",
    "ax2.plot(I_linspace, engine.get_data(), label=\"cn\")\n",
    "ax2.legend()\n",
    "ax2.set_xlabel(\"I\")\n",
    "ax2.set_ylabel(\"rho\")\n",
    "ax2.set_title(\"Symplectic map and expected crank nicolson integration\\ndifferent noise realization for every particle $(\\\\gamma=0.0)$\")"
   ]
  },
  {
   "cell_type": "markdown",
   "metadata": {},
   "source": [
    "#### Individual noise, $\\gamma = 0.1$"
   ]
  },
  {
   "cell_type": "code",
   "execution_count": null,
   "metadata": {},
   "outputs": [],
   "source": [
    "discrete_engine.reset()"
   ]
  },
  {
   "cell_type": "code",
   "execution_count": null,
   "metadata": {},
   "outputs": [],
   "source": [
    "discrete_engine.compute_personal_noise(n_iterations, gamma=0.1)"
   ]
  },
  {
   "cell_type": "markdown",
   "metadata": {},
   "source": [
    "comparison with CN data, small discreapancies are present!"
   ]
  },
  {
   "cell_type": "code",
   "execution_count": null,
   "metadata": {},
   "outputs": [],
   "source": [
    "bins=60\n",
    "data = discrete_engine.get_action()\n",
    "filtered_data = data[data != 0.0]\n",
    "weights = np.empty_like(filtered_data)\n",
    "### USEFUL! ###\n",
    "weights.fill((filtered_data.size/data.size) * bins / (filtered_data.max()-filtered_data.min()) / filtered_data.size)\n",
    "###############\n",
    "\n",
    "fig3, ax3 = plt.subplots()\n",
    "\n",
    "ax3.hist(filtered_data, weights=weights, bins=bins, label=\"sm\")\n",
    "ax3.plot(I_linspace, engine.get_data(), label=\"cn\")\n",
    "ax3.legend()\n",
    "ax3.set_xlabel(\"I\")\n",
    "ax3.set_ylabel(\"rho\")\n",
    "ax3.set_title(\"Symplectic map and expected crank nicolson integration\\ndifferent noise realization for every particle $(\\\\gamma=0.1)$\")"
   ]
  },
  {
   "cell_type": "markdown",
   "metadata": {},
   "source": [
    "#### Individual noise, $\\gamma=0.5$"
   ]
  },
  {
   "cell_type": "code",
   "execution_count": null,
   "metadata": {},
   "outputs": [],
   "source": [
    "discrete_engine.reset()"
   ]
  },
  {
   "cell_type": "code",
   "execution_count": null,
   "metadata": {},
   "outputs": [],
   "source": [
    "discrete_engine.compute_personal_noise(int(n_iterations), gamma=0.5)"
   ]
  },
  {
   "cell_type": "markdown",
   "metadata": {},
   "source": [
    "Comparison with CN data, strong discrepancies are detected! Even though a \"general behaviour\" can be visualized..."
   ]
  },
  {
   "cell_type": "code",
   "execution_count": null,
   "metadata": {},
   "outputs": [],
   "source": [
    "bins=60\n",
    "data = discrete_engine.get_action()\n",
    "filtered_data = data[data != 0.0]\n",
    "weights = np.empty_like(filtered_data)\n",
    "### USEFUL! ###\n",
    "weights.fill((filtered_data.size/data.size) * bins / (filtered_data.max()-filtered_data.min()) / filtered_data.size)\n",
    "###############\n",
    "\n",
    "fig4, ax4 = plt.subplots()\n",
    "\n",
    "ax4.hist(filtered_data, weights=weights, bins=bins, label=\"sm\")\n",
    "ax4.plot(I_linspace, engine.get_data(), label=\"cn\")\n",
    "ax4.legend()\n",
    "ax4.set_xlabel(\"I\")\n",
    "ax4.set_ylabel(\"rho\")\n",
    "ax4.set_title(\"Symplectic map and expected crank nicolson integration\\ndifferent noise realization for every particle $(\\\\gamma=0.5)$\")\n",
    "ax4.plot(temp, np.fmod((omega_0 + omega_1 * temp + omega_2 * temp * temp * 0.5)/(np.pi*2), 0.25))\n",
    "ax4.plot(temp, np.cos((omega_0 + omega_1 * temp + omega_2 * temp * temp * 0.5)) * 0.25)\n",
    "ax4.plot(temp, np.sin((omega_0 + omega_1 * temp + omega_2 * temp * temp * 0.5)) * 0.25)"
   ]
  },
  {
   "cell_type": "markdown",
   "metadata": {},
   "source": [
    "#### Individual noise, $\\gamma=0.75$"
   ]
  },
  {
   "cell_type": "code",
   "execution_count": null,
   "metadata": {},
   "outputs": [],
   "source": [
    "discrete_engine.reset()"
   ]
  },
  {
   "cell_type": "code",
   "execution_count": null,
   "metadata": {},
   "outputs": [],
   "source": [
    "discrete_engine.compute_personal_noise(int(n_iterations), gamma=0.75)"
   ]
  },
  {
   "cell_type": "markdown",
   "metadata": {},
   "source": [
    "Comparison with CN data, strong discrepancies are detected! Even though a \"general behaviour\" can be visualized..."
   ]
  },
  {
   "cell_type": "code",
   "execution_count": null,
   "metadata": {},
   "outputs": [],
   "source": [
    "bins=60\n",
    "data = discrete_engine.get_action()\n",
    "filtered_data = data[data != 0.0]\n",
    "weights = np.empty_like(filtered_data)\n",
    "### USEFUL! ###\n",
    "weights.fill((filtered_data.size/data.size) * bins / (filtered_data.max()-filtered_data.min()) / filtered_data.size)\n",
    "###############\n",
    "\n",
    "fig4, ax4 = plt.subplots()\n",
    "\n",
    "ax4.hist(filtered_data, weights=weights, bins=bins, label=\"sm\")\n",
    "ax4.plot(I_linspace, engine.get_data(), label=\"cn\")\n",
    "ax4.legend()\n",
    "ax4.set_xlabel(\"I\")\n",
    "ax4.set_ylabel(\"rho\")\n",
    "ax4.set_title(\"Symplectic map and expected crank nicolson integration\\ndifferent noise realization for every particle $(\\\\gamma=0.75)$\")\n",
    "ax4.plot(temp, np.fmod((omega_0 + omega_1 * temp + omega_2 * temp * temp * 0.5)/(np.pi*2), 0.25))\n",
    "ax4.plot(temp, np.cos((omega_0 + omega_1 * temp + omega_2 * temp * temp * 0.5)) * 0.25)\n",
    "ax4.plot(temp, np.sin((omega_0 + omega_1 * temp + omega_2 * temp * temp * 0.5)) * 0.25)"
   ]
  },
  {
   "cell_type": "code",
   "execution_count": null,
   "metadata": {},
   "outputs": [],
   "source": [
    "bins=60\n",
    "data = discrete_engine.get_action()\n",
    "filtered_data = data[data != 0.0]\n",
    "weights = np.empty_like(filtered_data)\n",
    "### USEFUL! ###\n",
    "weights.fill((filtered_data.size/data.size) * bins / (filtered_data.max()-filtered_data.min()) / filtered_data.size)\n",
    "###############\n",
    "\n",
    "fig4, ax4 = plt.subplots()\n",
    "\n",
    "ax4.hist(filtered_data, weights=weights, bins=bins, label=\"sm\")\n",
    "ax4.plot(I_linspace, engine.get_data(), label=\"cn\")\n",
    "ax4.legend()\n",
    "ax4.set_xlabel(\"I\")\n",
    "ax4.set_ylabel(\"rho\")\n",
    "ax4.set_title(\"Symplectic map and expected crank nicolson integration\\ndifferent noise realization for every particle $(\\\\gamma=0.5)$\")"
   ]
  },
  {
   "cell_type": "markdown",
   "metadata": {},
   "source": [
    "#### Common noise, $\\gamma =0.0$"
   ]
  },
  {
   "cell_type": "code",
   "execution_count": null,
   "metadata": {},
   "outputs": [],
   "source": [
    "discrete_engine.reset()"
   ]
  },
  {
   "cell_type": "code",
   "execution_count": null,
   "metadata": {},
   "outputs": [],
   "source": [
    "noise = make_correlated_noise(n_iterations, gamma=0.0)\n",
    "discrete_engine.compute_common_noise(noise)"
   ]
  },
  {
   "cell_type": "markdown",
   "metadata": {},
   "source": [
    "CN comparison"
   ]
  },
  {
   "cell_type": "code",
   "execution_count": null,
   "metadata": {},
   "outputs": [],
   "source": [
    "bins=60\n",
    "data = discrete_engine.get_action()\n",
    "filtered_data = data[data != 0.0]\n",
    "weights = np.empty_like(filtered_data)\n",
    "### USEFUL! ###\n",
    "weights.fill((filtered_data.size/data.size) * bins / (filtered_data.max()-filtered_data.min()) / filtered_data.size)\n",
    "###############\n",
    "\n",
    "fig5, ax5 = plt.subplots()\n",
    "\n",
    "ax5.hist(filtered_data, weights=weights, bins=bins, label=\"sm\")\n",
    "ax5.plot(I_linspace, engine.get_data(), label=\"cn\")\n",
    "ax5.legend()\n",
    "ax5.set_xlabel(\"I\")\n",
    "ax5.set_ylabel(\"rho\")\n",
    "ax5.set_title(\"Symplectic map and expected crank nicolson integration\\nsame noise realization for every particle $(\\\\gamma=0.0)$\")\n",
    "\n",
    "#ax5.plot(temp, np.cos(omega_0 + omega_1 * temp + omega_2 * temp * temp * 0.5))\n",
    "#ax5.plot(temp, np.sin(omega_0 + omega_1 * temp + omega_2 * temp * temp * 0.5))"
   ]
  },
  {
   "cell_type": "markdown",
   "metadata": {},
   "source": [
    "#### Common noise, $\\gamma =0.1$"
   ]
  },
  {
   "cell_type": "code",
   "execution_count": null,
   "metadata": {},
   "outputs": [],
   "source": [
    "discrete_engine.reset()"
   ]
  },
  {
   "cell_type": "code",
   "execution_count": null,
   "metadata": {},
   "outputs": [],
   "source": [
    "noise = make_correlated_noise(n_iterations, gamma=0.1)\n",
    "discrete_engine.compute_common_noise(noise)"
   ]
  },
  {
   "cell_type": "markdown",
   "metadata": {},
   "source": [
    "CN comparison"
   ]
  },
  {
   "cell_type": "code",
   "execution_count": null,
   "metadata": {},
   "outputs": [],
   "source": [
    "bins=60\n",
    "data = discrete_engine.get_action()\n",
    "filtered_data = data[data != 0.0]\n",
    "weights = np.empty_like(filtered_data)\n",
    "### USEFUL! ###\n",
    "weights.fill((filtered_data.size/data.size) * bins / (filtered_data.max()-filtered_data.min()) / filtered_data.size)\n",
    "###############\n",
    "\n",
    "fig6, ax6 = plt.subplots()\n",
    "\n",
    "ax6.hist(filtered_data, weights=weights, bins=bins, label=\"sm\")\n",
    "ax6.plot(I_linspace, engine.get_data(), label=\"cn\")\n",
    "ax6.legend()\n",
    "ax6.set_xlabel(\"I\")\n",
    "ax6.set_ylabel(\"rho\")\n",
    "ax6.set_title(\"Symplectic map and expected crank nicolson integration\\nsame noise realization for every particle $(\\\\gamma=0.1)$\")"
   ]
  },
  {
   "cell_type": "markdown",
   "metadata": {},
   "source": [
    "#### Common noise, $\\gamma =0.5$"
   ]
  },
  {
   "cell_type": "code",
   "execution_count": null,
   "metadata": {},
   "outputs": [],
   "source": [
    "discrete_engine.reset()"
   ]
  },
  {
   "cell_type": "code",
   "execution_count": null,
   "metadata": {},
   "outputs": [],
   "source": [
    "noise = make_correlated_noise(int(n_iterations), gamma=0.5)\n",
    "discrete_engine.compute_common_noise(noise)"
   ]
  },
  {
   "cell_type": "markdown",
   "metadata": {},
   "source": [
    "CN comparison"
   ]
  },
  {
   "cell_type": "code",
   "execution_count": null,
   "metadata": {},
   "outputs": [],
   "source": [
    "bins=60\n",
    "data = discrete_engine.get_action()\n",
    "filtered_data = data[data != 0.0]\n",
    "weights = np.empty_like(filtered_data)\n",
    "### USEFUL! ###\n",
    "weights.fill((filtered_data.size/data.size) * bins / (filtered_data.max()-filtered_data.min()) / filtered_data.size)\n",
    "###############\n",
    "\n",
    "fig7, ax7 = plt.subplots()\n",
    "\n",
    "ax7.hist(filtered_data, weights=weights, bins=bins, label=\"sm\")\n",
    "ax7.plot(I_linspace, engine.get_data(), label=\"cn\")\n",
    "ax7.legend()\n",
    "ax7.set_xlabel(\"I\")\n",
    "ax7.set_ylabel(\"rho\")\n",
    "ax7.set_title(\"Symplectic map and expected crank nicolson integration\\nsame noise realization for every particle $(\\\\gamma=0.5)$\")\n",
    "\n",
    "#ax7.plot(temp, np.cos(omega_0 + omega_1 * temp + omega_2 * temp * temp * 0.5))\n",
    "#ax7.plot(temp, np.sin(omega_0 + omega_1 * temp + omega_2 * temp * temp * 0.5))\n",
    "ax7.plot(temp, np.fmod((omega_0 + omega_1 * temp + omega_2 * temp * temp * 0.5)/(np.pi*2), 0.125) / 0.25)"
   ]
  },
  {
   "cell_type": "markdown",
   "metadata": {},
   "source": [
    "#### Common noise, extremely chaotic standard map"
   ]
  },
  {
   "cell_type": "code",
   "execution_count": 64,
   "metadata": {},
   "outputs": [],
   "source": [
    "discrete_engine.reset()"
   ]
  },
  {
   "cell_type": "code",
   "execution_count": 65,
   "metadata": {},
   "outputs": [],
   "source": [
    "noise = standard_map_noise(n_iterations, 50.0)[1]\n",
    "discrete_engine.compute_common_noise(noise)"
   ]
  },
  {
   "cell_type": "markdown",
   "metadata": {},
   "source": [
    "CN comparison"
   ]
  },
  {
   "cell_type": "code",
   "execution_count": 66,
   "metadata": {},
   "outputs": [
    {
     "data": {
      "application/vnd.jupyter.widget-view+json": {
       "model_id": "b4ae43a38b9147fd940e13b038e16758",
       "version_major": 2,
       "version_minor": 0
      },
      "text/plain": [
       "Canvas(toolbar=Toolbar(toolitems=[('Home', 'Reset original view', 'home', 'home'), ('Back', 'Back to previous …"
      ]
     },
     "metadata": {},
     "output_type": "display_data"
    },
    {
     "data": {
      "text/plain": [
       "Text(0.5, 1.0, 'Symplectic map and expected crank nicolson integration\\nsame noise realization for every particle $(standard map, \\\\kappa=50.0)$')"
      ]
     },
     "execution_count": 66,
     "metadata": {},
     "output_type": "execute_result"
    }
   ],
   "source": [
    "bins=60\n",
    "data = discrete_engine.get_action()\n",
    "filtered_data = data[data != 0.0]\n",
    "weights = np.empty_like(filtered_data)\n",
    "### USEFUL! ###\n",
    "weights.fill((filtered_data.size/data.size) * bins / (filtered_data.max()-filtered_data.min()) / filtered_data.size)\n",
    "###############\n",
    "\n",
    "fig8, ax8 = plt.subplots()\n",
    "\n",
    "ax8.hist(filtered_data, weights=weights, bins=bins, label=\"sm\")\n",
    "ax8.plot(I_linspace, engine.get_data(), label=\"cn\")\n",
    "ax8.legend()\n",
    "ax8.set_xlabel(\"I\")\n",
    "ax8.set_ylabel(\"rho\")\n",
    "ax8.set_title(\"Symplectic map and expected crank nicolson integration\\nsame noise realization for every particle $(standard map, \\\\kappa=50.0)$\")"
   ]
  },
  {
   "cell_type": "markdown",
   "metadata": {},
   "source": [
    "#### Common noise, chaotic standard map"
   ]
  },
  {
   "cell_type": "code",
   "execution_count": 67,
   "metadata": {},
   "outputs": [],
   "source": [
    "discrete_engine.reset()"
   ]
  },
  {
   "cell_type": "code",
   "execution_count": 68,
   "metadata": {},
   "outputs": [],
   "source": [
    "noise = standard_map_noise(n_iterations, 10.0)[1]\n",
    "discrete_engine.compute_common_noise(noise)"
   ]
  },
  {
   "cell_type": "markdown",
   "metadata": {},
   "source": [
    "CN comparison"
   ]
  },
  {
   "cell_type": "code",
   "execution_count": 69,
   "metadata": {},
   "outputs": [
    {
     "name": "stderr",
     "output_type": "stream",
     "text": [
      "/home/carlidel/anaconda3/lib/python3.7/site-packages/ipykernel_launcher.py:9: RuntimeWarning: More than 20 figures have been opened. Figures created through the pyplot interface (`matplotlib.pyplot.figure`) are retained until explicitly closed and may consume too much memory. (To control this warning, see the rcParam `figure.max_open_warning`).\n",
      "  if __name__ == '__main__':\n"
     ]
    },
    {
     "data": {
      "application/vnd.jupyter.widget-view+json": {
       "model_id": "791f681b6fa54cd2952376bff2dc9c14",
       "version_major": 2,
       "version_minor": 0
      },
      "text/plain": [
       "Canvas(toolbar=Toolbar(toolitems=[('Home', 'Reset original view', 'home', 'home'), ('Back', 'Back to previous …"
      ]
     },
     "metadata": {},
     "output_type": "display_data"
    },
    {
     "data": {
      "text/plain": [
       "Text(0.5, 1.0, 'Symplectic map and expected crank nicolson integration\\nsame noise realization for every particle $(standard map, \\\\kappa=10.0)$')"
      ]
     },
     "execution_count": 69,
     "metadata": {},
     "output_type": "execute_result"
    }
   ],
   "source": [
    "bins=60\n",
    "data = discrete_engine.get_action()\n",
    "filtered_data = data[data != 0.0]\n",
    "weights = np.empty_like(filtered_data)\n",
    "### USEFUL! ###\n",
    "weights.fill((filtered_data.size/data.size) * bins / (filtered_data.max()-filtered_data.min()) / filtered_data.size)\n",
    "###############\n",
    "\n",
    "fig8, ax8 = plt.subplots()\n",
    "\n",
    "ax8.hist(filtered_data, weights=weights, bins=bins, label=\"sm\")\n",
    "ax8.plot(I_linspace, engine.get_data(), label=\"cn\")\n",
    "ax8.legend()\n",
    "ax8.set_xlabel(\"I\")\n",
    "ax8.set_ylabel(\"rho\")\n",
    "ax8.set_title(\"Symplectic map and expected crank nicolson integration\\nsame noise realization for every particle $(standard map, \\\\kappa=10.0)$\")"
   ]
  },
  {
   "cell_type": "markdown",
   "metadata": {},
   "source": [
    "#### Common noise, not-so-chaotic standard map"
   ]
  },
  {
   "cell_type": "code",
   "execution_count": 70,
   "metadata": {},
   "outputs": [],
   "source": [
    "discrete_engine.reset()"
   ]
  },
  {
   "cell_type": "code",
   "execution_count": 71,
   "metadata": {},
   "outputs": [],
   "source": [
    "noise = standard_map_noise(n_iterations, 2.0)[1]\n",
    "discrete_engine.compute_common_noise(noise)"
   ]
  },
  {
   "cell_type": "markdown",
   "metadata": {},
   "source": [
    "CN comparison"
   ]
  },
  {
   "cell_type": "code",
   "execution_count": 72,
   "metadata": {},
   "outputs": [
    {
     "name": "stderr",
     "output_type": "stream",
     "text": [
      "/home/carlidel/anaconda3/lib/python3.7/site-packages/ipykernel_launcher.py:9: RuntimeWarning: More than 20 figures have been opened. Figures created through the pyplot interface (`matplotlib.pyplot.figure`) are retained until explicitly closed and may consume too much memory. (To control this warning, see the rcParam `figure.max_open_warning`).\n",
      "  if __name__ == '__main__':\n"
     ]
    },
    {
     "data": {
      "application/vnd.jupyter.widget-view+json": {
       "model_id": "6d19b22655d64408a56dfe5e14b43c29",
       "version_major": 2,
       "version_minor": 0
      },
      "text/plain": [
       "Canvas(toolbar=Toolbar(toolitems=[('Home', 'Reset original view', 'home', 'home'), ('Back', 'Back to previous …"
      ]
     },
     "metadata": {},
     "output_type": "display_data"
    },
    {
     "data": {
      "text/plain": [
       "Text(0.5, 1.0, 'Symplectic map and expected crank nicolson integration\\nsame noise realization for every particle $(standard map, \\\\kappa=2.0)$')"
      ]
     },
     "execution_count": 72,
     "metadata": {},
     "output_type": "execute_result"
    }
   ],
   "source": [
    "bins=60\n",
    "data = discrete_engine.get_action()\n",
    "filtered_data = data[data != 0.0]\n",
    "weights = np.empty_like(filtered_data)\n",
    "### USEFUL! ###\n",
    "weights.fill((filtered_data.size/data.size) * bins / (filtered_data.max()-filtered_data.min()) / filtered_data.size)\n",
    "###############\n",
    "\n",
    "fig9, ax9 = plt.subplots()\n",
    "\n",
    "ax9.hist(filtered_data, weights=weights, bins=bins, label=\"sm\")\n",
    "ax9.plot(I_linspace, engine.get_data(), label=\"cn\")\n",
    "ax9.legend()\n",
    "ax9.set_xlabel(\"I\")\n",
    "ax9.set_ylabel(\"rho\")\n",
    "ax9.set_title(\"Symplectic map and expected crank nicolson integration\\nsame noise realization for every particle $(standard map, \\\\kappa=2.0)$\")"
   ]
  },
  {
   "cell_type": "markdown",
   "metadata": {},
   "source": [
    "#### Common noise, almost regular standard map"
   ]
  },
  {
   "cell_type": "code",
   "execution_count": 73,
   "metadata": {},
   "outputs": [],
   "source": [
    "discrete_engine.reset()"
   ]
  },
  {
   "cell_type": "code",
   "execution_count": 74,
   "metadata": {},
   "outputs": [],
   "source": [
    "noise = standard_map_noise(n_iterations, 1.5)[1]\n",
    "discrete_engine.compute_common_noise(noise)"
   ]
  },
  {
   "cell_type": "markdown",
   "metadata": {},
   "source": [
    "CN comparison"
   ]
  },
  {
   "cell_type": "code",
   "execution_count": 75,
   "metadata": {},
   "outputs": [
    {
     "name": "stderr",
     "output_type": "stream",
     "text": [
      "/home/carlidel/anaconda3/lib/python3.7/site-packages/ipykernel_launcher.py:9: RuntimeWarning: More than 20 figures have been opened. Figures created through the pyplot interface (`matplotlib.pyplot.figure`) are retained until explicitly closed and may consume too much memory. (To control this warning, see the rcParam `figure.max_open_warning`).\n",
      "  if __name__ == '__main__':\n"
     ]
    },
    {
     "data": {
      "application/vnd.jupyter.widget-view+json": {
       "model_id": "9041ab74d54e435a980614fd328f4413",
       "version_major": 2,
       "version_minor": 0
      },
      "text/plain": [
       "Canvas(toolbar=Toolbar(toolitems=[('Home', 'Reset original view', 'home', 'home'), ('Back', 'Back to previous …"
      ]
     },
     "metadata": {},
     "output_type": "display_data"
    },
    {
     "data": {
      "text/plain": [
       "Text(0.5, 1.0, 'Symplectic map and expected crank nicolson integration\\nsame noise realization for every particle $(standard map, \\\\kappa=1.5)$')"
      ]
     },
     "execution_count": 75,
     "metadata": {},
     "output_type": "execute_result"
    }
   ],
   "source": [
    "bins=60\n",
    "data = discrete_engine.get_action()\n",
    "filtered_data = data[data != 0.0]\n",
    "weights = np.empty_like(filtered_data)\n",
    "### USEFUL! ###\n",
    "weights.fill((filtered_data.size/data.size) * bins / (filtered_data.max()-filtered_data.min()) / filtered_data.size)\n",
    "###############\n",
    "\n",
    "fig10, ax10 = plt.subplots()\n",
    "\n",
    "ax10.hist(filtered_data, weights=weights, bins=bins, label=\"sm\")\n",
    "ax10.plot(I_linspace, engine.get_data(), label=\"cn\")\n",
    "ax10.legend()\n",
    "ax10.set_xlabel(\"I\")\n",
    "ax10.set_ylabel(\"rho\")\n",
    "ax10.set_title(\"Symplectic map and expected crank nicolson integration\\nsame noise realization for every particle $(standard map, \\\\kappa=1.5)$\")"
   ]
  },
  {
   "cell_type": "markdown",
   "metadata": {},
   "source": [
    "## From all the above plots...what can we roughly say about our map with different noises?\n",
    "\n",
    "* We can see how the increasing $\\gamma$ factor (i.e. noise correlation), breaks the basic expected diffusive process\n",
    "* We can see similar results by assigning to each particle the same noise realization (even though we observe some form of resonance here and there)\n",
    "* With a (normalized) chaotic standard map, we observe the same behaviour\n",
    "* With a not-so-chaotic standard map, we observe a complete breaking of the behaviour\n",
    "\n",
    "**TODO::study the possibility of different time scales**"
   ]
  },
  {
   "cell_type": "markdown",
   "metadata": {},
   "source": [
    "## Let's visualize the corresponding CN diffusion value"
   ]
  },
  {
   "cell_type": "code",
   "execution_count": 14,
   "metadata": {},
   "outputs": [
    {
     "data": {
      "application/vnd.jupyter.widget-view+json": {
       "model_id": "d6c6fb1e16df474d8f6f030f1602e428",
       "version_major": 2,
       "version_minor": 0
      },
      "text/plain": [
       "Canvas(toolbar=Toolbar(toolitems=[('Home', 'Reset original view', 'home', 'home'), ('Back', 'Back to previous …"
      ]
     },
     "metadata": {},
     "output_type": "display_data"
    },
    {
     "data": {
      "text/plain": [
       "Text(0.5, 1.0, 'Corresponding Crank-Nicolson diffusion value for the map')"
      ]
     },
     "execution_count": 14,
     "metadata": {},
     "output_type": "execute_result"
    }
   ],
   "source": [
    "cn_fig, cn_ax = plt.subplots()\n",
    "\n",
    "cn_ax.plot(engine.I, engine.diffusion)\n",
    "cn_ax.set_xlabel(\"$I$\")\n",
    "cn_ax.set_ylabel(\"$D(I)$\")\n",
    "cn_ax.set_title(\"Corresponding Crank-Nicolson diffusion value for the map\")"
   ]
  },
  {
   "cell_type": "markdown",
   "metadata": {},
   "source": [
    "## Now, is there a valid tool for estimating the diffusion value on the discrete map process?\n",
    "\n",
    "There is one, used by Mestre et al. in \"Stochastic approach to diffusion inside the chaotic layer ofa resonance\" (https://arxiv.org/pdf/1311.2635.pdf). It is based on a discrete evaluation of the displacement of a set of initial conditions with equal initial action value (eq. 15):\n",
    "\n",
    "$$\\mathcal{D}(I ; N) \\equiv \\frac{\\left\\langle\\left(I_{N}-\\left\\langle I_{N}\\right\\rangle\\right)^{2}\\right\\rangle}{N}$$\n",
    "\n",
    "where $N$ is the number of iterations and $I_N$ the action value of the particle at the $N$-th iteration.\n",
    "\n",
    "### Let's see how this equation behaves in our best-case scenario"
   ]
  },
  {
   "cell_type": "code",
   "execution_count": 15,
   "metadata": {},
   "outputs": [
    {
     "data": {
      "application/vnd.jupyter.widget-view+json": {
       "model_id": "a1bf1114c8144cc5b5f2dbe5eeec05d5",
       "version_major": 2,
       "version_minor": 0
      },
      "text/plain": [
       "Canvas(toolbar=Toolbar(toolitems=[('Home', 'Reset original view', 'home', 'home'), ('Back', 'Back to previous …"
      ]
     },
     "metadata": {},
     "output_type": "display_data"
    },
    {
     "data": {
      "application/vnd.jupyter.widget-view+json": {
       "model_id": "fcdba1d062434f9590c5661486ddd6e4",
       "version_major": 2,
       "version_minor": 0
      },
      "text/plain": [
       "VBox(children=(Label(value='I sample from CN engine'), IntSlider(value=500, continuous_update=False, max=1000)…"
      ]
     },
     "metadata": {},
     "output_type": "display_data"
    },
    {
     "data": {
      "application/vnd.jupyter.widget-view+json": {
       "model_id": "46f90626414b4d769ee8b704c3ab80ef",
       "version_major": 2,
       "version_minor": 0
      },
      "text/plain": [
       "Output()"
      ]
     },
     "metadata": {},
     "output_type": "display_data"
    }
   ],
   "source": [
    "samples = 50000\n",
    "steps = 1\n",
    "\n",
    "t2fig, t2ax = plt.subplots()\n",
    "\n",
    "def diffusion_test_update(index):\n",
    "    I0 = engine.I[index]\n",
    "    start = np.sqrt(I0 * 2)\n",
    "\n",
    "    angles = np.random.rand(samples) * np.pi * 2\n",
    "    x0 = start * np.cos(angles)\n",
    "    p0 = start * np.sin(angles)\n",
    "\n",
    "    diff_test_plot = sm.symplectic_map.generate_instance(omega_0, omega_1, omega_2, epsilon, x_star, delta, exponent, 0.0, barrier_radius, x0, p0)\n",
    "    \n",
    "    time_list = []\n",
    "    el_list = []\n",
    "\n",
    "    j = 0\n",
    "    for i in tqdm(range(250), leave=False):\n",
    "        diff_test_plot.compute_personal_noise(steps, gamma=0.0)\n",
    "        j += steps\n",
    "        if np.count_nonzero(diff_test_plot.get_action()) < samples:\n",
    "            print(\"Lost particles, stopping.\")\n",
    "            break\n",
    "        time_list.append(j)\n",
    "        el_list.append(np.var(diff_test_plot.get_action())/j)\n",
    "    \n",
    "    t2ax.clear()\n",
    "    t2ax.plot(time_list, el_list, label=\"Discrete $D$ evaluation\")\n",
    "    t2ax.axhline(engine.diffusion[index], c=\"red\", label=\"Actual $D(I)$ value in Crank-Nicolson\")\n",
    "    t2ax.legend()\n",
    "    t2ax.set_xlabel(\"Iteration\")\n",
    "    t2ax.set_ylabel(\"Diffusion evaluation\")\n",
    "    t2ax.set_title(\"Discrete local diffusion evalutation for $I_0={:.3}$\".format(I0))\n",
    "\n",
    "widj_idx_I = widgets.IntSlider(value=500, min=0, max=len(engine.I), step=1, continuous_update=False)\n",
    "\n",
    "ui = widgets.VBox([\n",
    "    widgets.Label(\"I sample from CN engine\"), widj_idx_I,\n",
    "])\n",
    "out = widgets.interactive_output(\n",
    "    diffusion_test_update,\n",
    "    {\"index\":widj_idx_I}\n",
    ")\n",
    "\n",
    "display(ui, out)"
   ]
  },
  {
   "cell_type": "markdown",
   "metadata": {},
   "source": [
    "#### A few comments on the plot(s) above\n",
    "* Except for the extreme cases (extremely low $I$ values, under our numerical tolerance, and high $I$ values, for which we immediatly loose the particles), we always observe a good correspondance between the discrete $D$ evaluation and the theoretical expected $D$ value (less than $1\\%$).\n",
    "* We can observe how the error is random dependant (i.e. re-executing the same evaluation twice leads to very different results).\n",
    "* However, the fluctuations are strong, and we can't push the itarations too much otherwise the diffusion we are measuring is no longer \"local\", but starts to be affected by the neighbour values.\n",
    "\n",
    "### Can we use then this tool for making a proper estimation/reconstruction of $D(I)$?\n",
    "\n",
    "Let's try to consider average value $\\pm$ standard deviation:"
   ]
  },
  {
   "cell_type": "code",
   "execution_count": 17,
   "metadata": {
    "scrolled": true
   },
   "outputs": [
    {
     "data": {
      "application/vnd.jupyter.widget-view+json": {
       "model_id": "8773b49feacb4cdda23498a1e57dd47f",
       "version_major": 2,
       "version_minor": 0
      },
      "text/plain": [
       "HBox(children=(FloatProgress(value=0.0, max=75.0), HTML(value='')))"
      ]
     },
     "metadata": {},
     "output_type": "display_data"
    },
    {
     "data": {
      "application/vnd.jupyter.widget-view+json": {
       "model_id": "9ff4e07e2e6242c09e68a785127b4042",
       "version_major": 2,
       "version_minor": 0
      },
      "text/plain": [
       "HBox(children=(FloatProgress(value=0.0, max=150.0), HTML(value='')))"
      ]
     },
     "metadata": {},
     "output_type": "display_data"
    },
    {
     "name": "stdout",
     "output_type": "stream",
     "text": [
      "\n"
     ]
    },
    {
     "data": {
      "application/vnd.jupyter.widget-view+json": {
       "model_id": "8babfbbc86ba47c08eafe8feaafb1ba7",
       "version_major": 2,
       "version_minor": 0
      },
      "text/plain": [
       "HBox(children=(FloatProgress(value=0.0, max=150.0), HTML(value='')))"
      ]
     },
     "metadata": {},
     "output_type": "display_data"
    },
    {
     "name": "stdout",
     "output_type": "stream",
     "text": [
      "\n"
     ]
    },
    {
     "data": {
      "application/vnd.jupyter.widget-view+json": {
       "model_id": "96729ef709b7490d8db80dda82a968e0",
       "version_major": 2,
       "version_minor": 0
      },
      "text/plain": [
       "HBox(children=(FloatProgress(value=0.0, max=150.0), HTML(value='')))"
      ]
     },
     "metadata": {},
     "output_type": "display_data"
    },
    {
     "name": "stdout",
     "output_type": "stream",
     "text": [
      "\n"
     ]
    },
    {
     "data": {
      "application/vnd.jupyter.widget-view+json": {
       "model_id": "fd31dbc172d94b60ba16bcfee8c032b2",
       "version_major": 2,
       "version_minor": 0
      },
      "text/plain": [
       "HBox(children=(FloatProgress(value=0.0, max=150.0), HTML(value='')))"
      ]
     },
     "metadata": {},
     "output_type": "display_data"
    },
    {
     "name": "stdout",
     "output_type": "stream",
     "text": [
      "\n"
     ]
    },
    {
     "data": {
      "application/vnd.jupyter.widget-view+json": {
       "model_id": "634284d558584fc68170366b030bd086",
       "version_major": 2,
       "version_minor": 0
      },
      "text/plain": [
       "HBox(children=(FloatProgress(value=0.0, max=150.0), HTML(value='')))"
      ]
     },
     "metadata": {},
     "output_type": "display_data"
    },
    {
     "name": "stdout",
     "output_type": "stream",
     "text": [
      "\n"
     ]
    },
    {
     "data": {
      "application/vnd.jupyter.widget-view+json": {
       "model_id": "90faebd793ea4761ad1e59579cad0875",
       "version_major": 2,
       "version_minor": 0
      },
      "text/plain": [
       "HBox(children=(FloatProgress(value=0.0, max=150.0), HTML(value='')))"
      ]
     },
     "metadata": {},
     "output_type": "display_data"
    },
    {
     "name": "stdout",
     "output_type": "stream",
     "text": [
      "\n"
     ]
    },
    {
     "data": {
      "application/vnd.jupyter.widget-view+json": {
       "model_id": "e4022c812fea4d878b18eb673724b7f2",
       "version_major": 2,
       "version_minor": 0
      },
      "text/plain": [
       "HBox(children=(FloatProgress(value=0.0, max=150.0), HTML(value='')))"
      ]
     },
     "metadata": {},
     "output_type": "display_data"
    },
    {
     "name": "stdout",
     "output_type": "stream",
     "text": [
      "\n"
     ]
    },
    {
     "data": {
      "application/vnd.jupyter.widget-view+json": {
       "model_id": "1a3c974b41a04a4aaccf6ea9924bb76d",
       "version_major": 2,
       "version_minor": 0
      },
      "text/plain": [
       "HBox(children=(FloatProgress(value=0.0, max=150.0), HTML(value='')))"
      ]
     },
     "metadata": {},
     "output_type": "display_data"
    },
    {
     "name": "stdout",
     "output_type": "stream",
     "text": [
      "\n"
     ]
    },
    {
     "data": {
      "application/vnd.jupyter.widget-view+json": {
       "model_id": "3a0f497363c541aeb598da8fbf3056cc",
       "version_major": 2,
       "version_minor": 0
      },
      "text/plain": [
       "HBox(children=(FloatProgress(value=0.0, max=150.0), HTML(value='')))"
      ]
     },
     "metadata": {},
     "output_type": "display_data"
    },
    {
     "name": "stdout",
     "output_type": "stream",
     "text": [
      "\n"
     ]
    },
    {
     "data": {
      "application/vnd.jupyter.widget-view+json": {
       "model_id": "336c00bb5d4049149befcd4cac739093",
       "version_major": 2,
       "version_minor": 0
      },
      "text/plain": [
       "HBox(children=(FloatProgress(value=0.0, max=150.0), HTML(value='')))"
      ]
     },
     "metadata": {},
     "output_type": "display_data"
    },
    {
     "name": "stdout",
     "output_type": "stream",
     "text": [
      "\n"
     ]
    },
    {
     "data": {
      "application/vnd.jupyter.widget-view+json": {
       "model_id": "ca20636d7cee4673951d34530fcb681f",
       "version_major": 2,
       "version_minor": 0
      },
      "text/plain": [
       "HBox(children=(FloatProgress(value=0.0, max=150.0), HTML(value='')))"
      ]
     },
     "metadata": {},
     "output_type": "display_data"
    },
    {
     "name": "stdout",
     "output_type": "stream",
     "text": [
      "\n"
     ]
    },
    {
     "data": {
      "application/vnd.jupyter.widget-view+json": {
       "model_id": "349669ec1d334f5186aa9f2392d3abe6",
       "version_major": 2,
       "version_minor": 0
      },
      "text/plain": [
       "HBox(children=(FloatProgress(value=0.0, max=150.0), HTML(value='')))"
      ]
     },
     "metadata": {},
     "output_type": "display_data"
    },
    {
     "name": "stdout",
     "output_type": "stream",
     "text": [
      "\n"
     ]
    },
    {
     "data": {
      "application/vnd.jupyter.widget-view+json": {
       "model_id": "89bca6afec794d29b9e8d9e9f6865dad",
       "version_major": 2,
       "version_minor": 0
      },
      "text/plain": [
       "HBox(children=(FloatProgress(value=0.0, max=150.0), HTML(value='')))"
      ]
     },
     "metadata": {},
     "output_type": "display_data"
    },
    {
     "name": "stdout",
     "output_type": "stream",
     "text": [
      "\n"
     ]
    },
    {
     "data": {
      "application/vnd.jupyter.widget-view+json": {
       "model_id": "27a275cd28454f74ad6b53653802510c",
       "version_major": 2,
       "version_minor": 0
      },
      "text/plain": [
       "HBox(children=(FloatProgress(value=0.0, max=150.0), HTML(value='')))"
      ]
     },
     "metadata": {},
     "output_type": "display_data"
    },
    {
     "name": "stdout",
     "output_type": "stream",
     "text": [
      "\n"
     ]
    },
    {
     "data": {
      "application/vnd.jupyter.widget-view+json": {
       "model_id": "93bf868d8362487fa88e4d73c95dbf82",
       "version_major": 2,
       "version_minor": 0
      },
      "text/plain": [
       "HBox(children=(FloatProgress(value=0.0, max=150.0), HTML(value='')))"
      ]
     },
     "metadata": {},
     "output_type": "display_data"
    },
    {
     "name": "stdout",
     "output_type": "stream",
     "text": [
      "\n"
     ]
    },
    {
     "data": {
      "application/vnd.jupyter.widget-view+json": {
       "model_id": "6dd9aa03742d40339c623fc27e251ac3",
       "version_major": 2,
       "version_minor": 0
      },
      "text/plain": [
       "HBox(children=(FloatProgress(value=0.0, max=150.0), HTML(value='')))"
      ]
     },
     "metadata": {},
     "output_type": "display_data"
    },
    {
     "name": "stdout",
     "output_type": "stream",
     "text": [
      "\n"
     ]
    },
    {
     "data": {
      "application/vnd.jupyter.widget-view+json": {
       "model_id": "b7e4a8e7d7b64df6a1c2946db60fd7c2",
       "version_major": 2,
       "version_minor": 0
      },
      "text/plain": [
       "HBox(children=(FloatProgress(value=0.0, max=150.0), HTML(value='')))"
      ]
     },
     "metadata": {},
     "output_type": "display_data"
    },
    {
     "name": "stdout",
     "output_type": "stream",
     "text": [
      "\n"
     ]
    },
    {
     "data": {
      "application/vnd.jupyter.widget-view+json": {
       "model_id": "160fc5abf56148ad8f3b2875d4e738af",
       "version_major": 2,
       "version_minor": 0
      },
      "text/plain": [
       "HBox(children=(FloatProgress(value=0.0, max=150.0), HTML(value='')))"
      ]
     },
     "metadata": {},
     "output_type": "display_data"
    },
    {
     "name": "stdout",
     "output_type": "stream",
     "text": [
      "\n"
     ]
    },
    {
     "data": {
      "application/vnd.jupyter.widget-view+json": {
       "model_id": "8221033445414c28a811ace8b3ff01ab",
       "version_major": 2,
       "version_minor": 0
      },
      "text/plain": [
       "HBox(children=(FloatProgress(value=0.0, max=150.0), HTML(value='')))"
      ]
     },
     "metadata": {},
     "output_type": "display_data"
    },
    {
     "name": "stdout",
     "output_type": "stream",
     "text": [
      "\n"
     ]
    },
    {
     "data": {
      "application/vnd.jupyter.widget-view+json": {
       "model_id": "db4e05ca99d9466cb0c440bf0bc5f233",
       "version_major": 2,
       "version_minor": 0
      },
      "text/plain": [
       "HBox(children=(FloatProgress(value=0.0, max=150.0), HTML(value='')))"
      ]
     },
     "metadata": {},
     "output_type": "display_data"
    },
    {
     "name": "stdout",
     "output_type": "stream",
     "text": [
      "\n"
     ]
    },
    {
     "data": {
      "application/vnd.jupyter.widget-view+json": {
       "model_id": "e2904f4bc6fa4c65b4f99778c5948607",
       "version_major": 2,
       "version_minor": 0
      },
      "text/plain": [
       "HBox(children=(FloatProgress(value=0.0, max=150.0), HTML(value='')))"
      ]
     },
     "metadata": {},
     "output_type": "display_data"
    },
    {
     "name": "stdout",
     "output_type": "stream",
     "text": [
      "\n"
     ]
    },
    {
     "data": {
      "application/vnd.jupyter.widget-view+json": {
       "model_id": "1f65c4c864e540f9a35dfc5c293f1378",
       "version_major": 2,
       "version_minor": 0
      },
      "text/plain": [
       "HBox(children=(FloatProgress(value=0.0, max=150.0), HTML(value='')))"
      ]
     },
     "metadata": {},
     "output_type": "display_data"
    },
    {
     "name": "stdout",
     "output_type": "stream",
     "text": [
      "\n"
     ]
    },
    {
     "data": {
      "application/vnd.jupyter.widget-view+json": {
       "model_id": "d668a746913549d0aabf5659454d60af",
       "version_major": 2,
       "version_minor": 0
      },
      "text/plain": [
       "HBox(children=(FloatProgress(value=0.0, max=150.0), HTML(value='')))"
      ]
     },
     "metadata": {},
     "output_type": "display_data"
    },
    {
     "name": "stdout",
     "output_type": "stream",
     "text": [
      "\n"
     ]
    },
    {
     "data": {
      "application/vnd.jupyter.widget-view+json": {
       "model_id": "941e56daef1b4b0bbbb5cb36df172dec",
       "version_major": 2,
       "version_minor": 0
      },
      "text/plain": [
       "HBox(children=(FloatProgress(value=0.0, max=150.0), HTML(value='')))"
      ]
     },
     "metadata": {},
     "output_type": "display_data"
    },
    {
     "name": "stdout",
     "output_type": "stream",
     "text": [
      "\n"
     ]
    },
    {
     "data": {
      "application/vnd.jupyter.widget-view+json": {
       "model_id": "0a658161fb634baea7d2fa0cabfaa89b",
       "version_major": 2,
       "version_minor": 0
      },
      "text/plain": [
       "HBox(children=(FloatProgress(value=0.0, max=150.0), HTML(value='')))"
      ]
     },
     "metadata": {},
     "output_type": "display_data"
    },
    {
     "name": "stdout",
     "output_type": "stream",
     "text": [
      "\n"
     ]
    },
    {
     "data": {
      "application/vnd.jupyter.widget-view+json": {
       "model_id": "a5c257335b2f44c4ac1c55179d6fe64b",
       "version_major": 2,
       "version_minor": 0
      },
      "text/plain": [
       "HBox(children=(FloatProgress(value=0.0, max=150.0), HTML(value='')))"
      ]
     },
     "metadata": {},
     "output_type": "display_data"
    },
    {
     "name": "stdout",
     "output_type": "stream",
     "text": [
      "\n"
     ]
    },
    {
     "data": {
      "application/vnd.jupyter.widget-view+json": {
       "model_id": "a9028908035248c99fa5ea696c2ca4ae",
       "version_major": 2,
       "version_minor": 0
      },
      "text/plain": [
       "HBox(children=(FloatProgress(value=0.0, max=150.0), HTML(value='')))"
      ]
     },
     "metadata": {},
     "output_type": "display_data"
    },
    {
     "name": "stdout",
     "output_type": "stream",
     "text": [
      "\n"
     ]
    },
    {
     "data": {
      "application/vnd.jupyter.widget-view+json": {
       "model_id": "acedc8b239314574a46e95e14308761a",
       "version_major": 2,
       "version_minor": 0
      },
      "text/plain": [
       "HBox(children=(FloatProgress(value=0.0, max=150.0), HTML(value='')))"
      ]
     },
     "metadata": {},
     "output_type": "display_data"
    },
    {
     "name": "stdout",
     "output_type": "stream",
     "text": [
      "\n"
     ]
    },
    {
     "data": {
      "application/vnd.jupyter.widget-view+json": {
       "model_id": "e3f4527fdb6e43aeb351170519a69447",
       "version_major": 2,
       "version_minor": 0
      },
      "text/plain": [
       "HBox(children=(FloatProgress(value=0.0, max=150.0), HTML(value='')))"
      ]
     },
     "metadata": {},
     "output_type": "display_data"
    },
    {
     "name": "stdout",
     "output_type": "stream",
     "text": [
      "\n"
     ]
    },
    {
     "data": {
      "application/vnd.jupyter.widget-view+json": {
       "model_id": "7604318276a14e5ebc05299f664cab05",
       "version_major": 2,
       "version_minor": 0
      },
      "text/plain": [
       "HBox(children=(FloatProgress(value=0.0, max=150.0), HTML(value='')))"
      ]
     },
     "metadata": {},
     "output_type": "display_data"
    },
    {
     "name": "stdout",
     "output_type": "stream",
     "text": [
      "\n"
     ]
    },
    {
     "data": {
      "application/vnd.jupyter.widget-view+json": {
       "model_id": "98fe2542e886490084fa5ae1a6c83960",
       "version_major": 2,
       "version_minor": 0
      },
      "text/plain": [
       "HBox(children=(FloatProgress(value=0.0, max=150.0), HTML(value='')))"
      ]
     },
     "metadata": {},
     "output_type": "display_data"
    },
    {
     "name": "stdout",
     "output_type": "stream",
     "text": [
      "\n"
     ]
    },
    {
     "data": {
      "application/vnd.jupyter.widget-view+json": {
       "model_id": "581c62b587db4f629d90767d8fd421c4",
       "version_major": 2,
       "version_minor": 0
      },
      "text/plain": [
       "HBox(children=(FloatProgress(value=0.0, max=150.0), HTML(value='')))"
      ]
     },
     "metadata": {},
     "output_type": "display_data"
    },
    {
     "name": "stdout",
     "output_type": "stream",
     "text": [
      "\n"
     ]
    },
    {
     "data": {
      "application/vnd.jupyter.widget-view+json": {
       "model_id": "af5c9533f3da46248a0a8ec3f5845968",
       "version_major": 2,
       "version_minor": 0
      },
      "text/plain": [
       "HBox(children=(FloatProgress(value=0.0, max=150.0), HTML(value='')))"
      ]
     },
     "metadata": {},
     "output_type": "display_data"
    },
    {
     "name": "stdout",
     "output_type": "stream",
     "text": [
      "\n"
     ]
    },
    {
     "data": {
      "application/vnd.jupyter.widget-view+json": {
       "model_id": "0140f2a3a792451a872630715fbd7410",
       "version_major": 2,
       "version_minor": 0
      },
      "text/plain": [
       "HBox(children=(FloatProgress(value=0.0, max=150.0), HTML(value='')))"
      ]
     },
     "metadata": {},
     "output_type": "display_data"
    },
    {
     "name": "stdout",
     "output_type": "stream",
     "text": [
      "\n"
     ]
    },
    {
     "data": {
      "application/vnd.jupyter.widget-view+json": {
       "model_id": "19f3d51560584a108b60e75db760d96c",
       "version_major": 2,
       "version_minor": 0
      },
      "text/plain": [
       "HBox(children=(FloatProgress(value=0.0, max=150.0), HTML(value='')))"
      ]
     },
     "metadata": {},
     "output_type": "display_data"
    },
    {
     "name": "stdout",
     "output_type": "stream",
     "text": [
      "\n"
     ]
    },
    {
     "data": {
      "application/vnd.jupyter.widget-view+json": {
       "model_id": "cde85f89fc924cfab30101af09af6c19",
       "version_major": 2,
       "version_minor": 0
      },
      "text/plain": [
       "HBox(children=(FloatProgress(value=0.0, max=150.0), HTML(value='')))"
      ]
     },
     "metadata": {},
     "output_type": "display_data"
    },
    {
     "name": "stdout",
     "output_type": "stream",
     "text": [
      "\n"
     ]
    },
    {
     "data": {
      "application/vnd.jupyter.widget-view+json": {
       "model_id": "c202d9d3691a48d3a7152839ec73b233",
       "version_major": 2,
       "version_minor": 0
      },
      "text/plain": [
       "HBox(children=(FloatProgress(value=0.0, max=150.0), HTML(value='')))"
      ]
     },
     "metadata": {},
     "output_type": "display_data"
    },
    {
     "name": "stdout",
     "output_type": "stream",
     "text": [
      "\n"
     ]
    },
    {
     "data": {
      "application/vnd.jupyter.widget-view+json": {
       "model_id": "104a2f28fc934d148c25b0b16cea4f0f",
       "version_major": 2,
       "version_minor": 0
      },
      "text/plain": [
       "HBox(children=(FloatProgress(value=0.0, max=150.0), HTML(value='')))"
      ]
     },
     "metadata": {},
     "output_type": "display_data"
    },
    {
     "name": "stdout",
     "output_type": "stream",
     "text": [
      "\n"
     ]
    },
    {
     "data": {
      "application/vnd.jupyter.widget-view+json": {
       "model_id": "6d66acbcf55f45a3a9ea5502a568952d",
       "version_major": 2,
       "version_minor": 0
      },
      "text/plain": [
       "HBox(children=(FloatProgress(value=0.0, max=150.0), HTML(value='')))"
      ]
     },
     "metadata": {},
     "output_type": "display_data"
    },
    {
     "name": "stdout",
     "output_type": "stream",
     "text": [
      "\n"
     ]
    },
    {
     "data": {
      "application/vnd.jupyter.widget-view+json": {
       "model_id": "3bd8918f7408429aa4e81bbde20ae2c8",
       "version_major": 2,
       "version_minor": 0
      },
      "text/plain": [
       "HBox(children=(FloatProgress(value=0.0, max=150.0), HTML(value='')))"
      ]
     },
     "metadata": {},
     "output_type": "display_data"
    },
    {
     "name": "stdout",
     "output_type": "stream",
     "text": [
      "\n"
     ]
    },
    {
     "data": {
      "application/vnd.jupyter.widget-view+json": {
       "model_id": "64b4a81200a14129a3940401af2b9117",
       "version_major": 2,
       "version_minor": 0
      },
      "text/plain": [
       "HBox(children=(FloatProgress(value=0.0, max=150.0), HTML(value='')))"
      ]
     },
     "metadata": {},
     "output_type": "display_data"
    },
    {
     "name": "stdout",
     "output_type": "stream",
     "text": [
      "\n"
     ]
    },
    {
     "data": {
      "application/vnd.jupyter.widget-view+json": {
       "model_id": "ce186b4cbd464c9eb221c77d80323ed7",
       "version_major": 2,
       "version_minor": 0
      },
      "text/plain": [
       "HBox(children=(FloatProgress(value=0.0, max=150.0), HTML(value='')))"
      ]
     },
     "metadata": {},
     "output_type": "display_data"
    },
    {
     "name": "stdout",
     "output_type": "stream",
     "text": [
      "\n"
     ]
    },
    {
     "data": {
      "application/vnd.jupyter.widget-view+json": {
       "model_id": "1e6843825294471aa433ff2a5e1d0a4e",
       "version_major": 2,
       "version_minor": 0
      },
      "text/plain": [
       "HBox(children=(FloatProgress(value=0.0, max=150.0), HTML(value='')))"
      ]
     },
     "metadata": {},
     "output_type": "display_data"
    },
    {
     "name": "stdout",
     "output_type": "stream",
     "text": [
      "\n"
     ]
    },
    {
     "data": {
      "application/vnd.jupyter.widget-view+json": {
       "model_id": "0369f04014674edcb60e4d29e8e2a988",
       "version_major": 2,
       "version_minor": 0
      },
      "text/plain": [
       "HBox(children=(FloatProgress(value=0.0, max=150.0), HTML(value='')))"
      ]
     },
     "metadata": {},
     "output_type": "display_data"
    },
    {
     "name": "stdout",
     "output_type": "stream",
     "text": [
      "\n"
     ]
    },
    {
     "data": {
      "application/vnd.jupyter.widget-view+json": {
       "model_id": "28d5393c263f40c980f1427696d19fe9",
       "version_major": 2,
       "version_minor": 0
      },
      "text/plain": [
       "HBox(children=(FloatProgress(value=0.0, max=150.0), HTML(value='')))"
      ]
     },
     "metadata": {},
     "output_type": "display_data"
    },
    {
     "name": "stdout",
     "output_type": "stream",
     "text": [
      "\n"
     ]
    },
    {
     "data": {
      "application/vnd.jupyter.widget-view+json": {
       "model_id": "c9bbf3dfa4474293aba471b75e1bb2a3",
       "version_major": 2,
       "version_minor": 0
      },
      "text/plain": [
       "HBox(children=(FloatProgress(value=0.0, max=150.0), HTML(value='')))"
      ]
     },
     "metadata": {},
     "output_type": "display_data"
    },
    {
     "name": "stdout",
     "output_type": "stream",
     "text": [
      "\n"
     ]
    },
    {
     "data": {
      "application/vnd.jupyter.widget-view+json": {
       "model_id": "8070263891cf4ea2b985ac1fe4193955",
       "version_major": 2,
       "version_minor": 0
      },
      "text/plain": [
       "HBox(children=(FloatProgress(value=0.0, max=150.0), HTML(value='')))"
      ]
     },
     "metadata": {},
     "output_type": "display_data"
    },
    {
     "name": "stdout",
     "output_type": "stream",
     "text": [
      "\n"
     ]
    },
    {
     "data": {
      "application/vnd.jupyter.widget-view+json": {
       "model_id": "6b0cd8ad466048788a1be9015f24d574",
       "version_major": 2,
       "version_minor": 0
      },
      "text/plain": [
       "HBox(children=(FloatProgress(value=0.0, max=150.0), HTML(value='')))"
      ]
     },
     "metadata": {},
     "output_type": "display_data"
    },
    {
     "name": "stdout",
     "output_type": "stream",
     "text": [
      "\n"
     ]
    },
    {
     "data": {
      "application/vnd.jupyter.widget-view+json": {
       "model_id": "c39153aafd05484a9f69b4a1b9f7d8c4",
       "version_major": 2,
       "version_minor": 0
      },
      "text/plain": [
       "HBox(children=(FloatProgress(value=0.0, max=150.0), HTML(value='')))"
      ]
     },
     "metadata": {},
     "output_type": "display_data"
    },
    {
     "name": "stdout",
     "output_type": "stream",
     "text": [
      "\n"
     ]
    },
    {
     "data": {
      "application/vnd.jupyter.widget-view+json": {
       "model_id": "561d13036af743699b4d5ba772d99759",
       "version_major": 2,
       "version_minor": 0
      },
      "text/plain": [
       "HBox(children=(FloatProgress(value=0.0, max=150.0), HTML(value='')))"
      ]
     },
     "metadata": {},
     "output_type": "display_data"
    },
    {
     "name": "stdout",
     "output_type": "stream",
     "text": [
      "\n"
     ]
    },
    {
     "data": {
      "application/vnd.jupyter.widget-view+json": {
       "model_id": "aba9c8d17a274b63a74672540566ee8d",
       "version_major": 2,
       "version_minor": 0
      },
      "text/plain": [
       "HBox(children=(FloatProgress(value=0.0, max=150.0), HTML(value='')))"
      ]
     },
     "metadata": {},
     "output_type": "display_data"
    },
    {
     "name": "stdout",
     "output_type": "stream",
     "text": [
      "\n"
     ]
    },
    {
     "data": {
      "application/vnd.jupyter.widget-view+json": {
       "model_id": "5c6442c413b341cfaecd7b691785fd41",
       "version_major": 2,
       "version_minor": 0
      },
      "text/plain": [
       "HBox(children=(FloatProgress(value=0.0, max=150.0), HTML(value='')))"
      ]
     },
     "metadata": {},
     "output_type": "display_data"
    },
    {
     "name": "stdout",
     "output_type": "stream",
     "text": [
      "\n"
     ]
    },
    {
     "data": {
      "application/vnd.jupyter.widget-view+json": {
       "model_id": "1322fac6f3614f4dacf88a9bdd2c8d94",
       "version_major": 2,
       "version_minor": 0
      },
      "text/plain": [
       "HBox(children=(FloatProgress(value=0.0, max=150.0), HTML(value='')))"
      ]
     },
     "metadata": {},
     "output_type": "display_data"
    },
    {
     "name": "stdout",
     "output_type": "stream",
     "text": [
      "\n"
     ]
    },
    {
     "data": {
      "application/vnd.jupyter.widget-view+json": {
       "model_id": "b99a2a31c82f47d0bdfb158dec26fee7",
       "version_major": 2,
       "version_minor": 0
      },
      "text/plain": [
       "HBox(children=(FloatProgress(value=0.0, max=150.0), HTML(value='')))"
      ]
     },
     "metadata": {},
     "output_type": "display_data"
    },
    {
     "name": "stdout",
     "output_type": "stream",
     "text": [
      "\n"
     ]
    },
    {
     "data": {
      "application/vnd.jupyter.widget-view+json": {
       "model_id": "dbb77ffc52e549e48a529602ff282b6c",
       "version_major": 2,
       "version_minor": 0
      },
      "text/plain": [
       "HBox(children=(FloatProgress(value=0.0, max=150.0), HTML(value='')))"
      ]
     },
     "metadata": {},
     "output_type": "display_data"
    },
    {
     "name": "stdout",
     "output_type": "stream",
     "text": [
      "\n"
     ]
    },
    {
     "data": {
      "application/vnd.jupyter.widget-view+json": {
       "model_id": "8a8217ed55de47c69296548fb63ad6fa",
       "version_major": 2,
       "version_minor": 0
      },
      "text/plain": [
       "HBox(children=(FloatProgress(value=0.0, max=150.0), HTML(value='')))"
      ]
     },
     "metadata": {},
     "output_type": "display_data"
    },
    {
     "name": "stdout",
     "output_type": "stream",
     "text": [
      "\n"
     ]
    },
    {
     "data": {
      "application/vnd.jupyter.widget-view+json": {
       "model_id": "a64ab3e7791547849cdb633dcb8855ae",
       "version_major": 2,
       "version_minor": 0
      },
      "text/plain": [
       "HBox(children=(FloatProgress(value=0.0, max=150.0), HTML(value='')))"
      ]
     },
     "metadata": {},
     "output_type": "display_data"
    },
    {
     "name": "stdout",
     "output_type": "stream",
     "text": [
      "\n"
     ]
    },
    {
     "data": {
      "application/vnd.jupyter.widget-view+json": {
       "model_id": "09e25dcc3692475fa69c00711a9522f0",
       "version_major": 2,
       "version_minor": 0
      },
      "text/plain": [
       "HBox(children=(FloatProgress(value=0.0, max=150.0), HTML(value='')))"
      ]
     },
     "metadata": {},
     "output_type": "display_data"
    },
    {
     "name": "stdout",
     "output_type": "stream",
     "text": [
      "\n"
     ]
    },
    {
     "data": {
      "application/vnd.jupyter.widget-view+json": {
       "model_id": "b3de63edc0c848a2854762d5685682b0",
       "version_major": 2,
       "version_minor": 0
      },
      "text/plain": [
       "HBox(children=(FloatProgress(value=0.0, max=150.0), HTML(value='')))"
      ]
     },
     "metadata": {},
     "output_type": "display_data"
    },
    {
     "name": "stdout",
     "output_type": "stream",
     "text": [
      "\n"
     ]
    },
    {
     "data": {
      "application/vnd.jupyter.widget-view+json": {
       "model_id": "2117e2fd1f8d4b1eaf08317b81c74fc8",
       "version_major": 2,
       "version_minor": 0
      },
      "text/plain": [
       "HBox(children=(FloatProgress(value=0.0, max=150.0), HTML(value='')))"
      ]
     },
     "metadata": {},
     "output_type": "display_data"
    },
    {
     "name": "stdout",
     "output_type": "stream",
     "text": [
      "\n"
     ]
    },
    {
     "data": {
      "application/vnd.jupyter.widget-view+json": {
       "model_id": "77d0bae4227744108594d1ed3585d8ff",
       "version_major": 2,
       "version_minor": 0
      },
      "text/plain": [
       "HBox(children=(FloatProgress(value=0.0, max=150.0), HTML(value='')))"
      ]
     },
     "metadata": {},
     "output_type": "display_data"
    },
    {
     "name": "stdout",
     "output_type": "stream",
     "text": [
      "\n"
     ]
    },
    {
     "data": {
      "application/vnd.jupyter.widget-view+json": {
       "model_id": "cc1e10a3768c4bb88de83a7fec456177",
       "version_major": 2,
       "version_minor": 0
      },
      "text/plain": [
       "HBox(children=(FloatProgress(value=0.0, max=150.0), HTML(value='')))"
      ]
     },
     "metadata": {},
     "output_type": "display_data"
    },
    {
     "name": "stdout",
     "output_type": "stream",
     "text": [
      "\n"
     ]
    },
    {
     "data": {
      "application/vnd.jupyter.widget-view+json": {
       "model_id": "9a3645d97bb847ba8ac00583eea05a21",
       "version_major": 2,
       "version_minor": 0
      },
      "text/plain": [
       "HBox(children=(FloatProgress(value=0.0, max=150.0), HTML(value='')))"
      ]
     },
     "metadata": {},
     "output_type": "display_data"
    },
    {
     "name": "stdout",
     "output_type": "stream",
     "text": [
      "\n"
     ]
    },
    {
     "data": {
      "application/vnd.jupyter.widget-view+json": {
       "model_id": "de1b52b8c70247e9811bfe521027e079",
       "version_major": 2,
       "version_minor": 0
      },
      "text/plain": [
       "HBox(children=(FloatProgress(value=0.0, max=150.0), HTML(value='')))"
      ]
     },
     "metadata": {},
     "output_type": "display_data"
    },
    {
     "name": "stdout",
     "output_type": "stream",
     "text": [
      "\n"
     ]
    },
    {
     "data": {
      "application/vnd.jupyter.widget-view+json": {
       "model_id": "7339e271c63c473488c086bbccf56016",
       "version_major": 2,
       "version_minor": 0
      },
      "text/plain": [
       "HBox(children=(FloatProgress(value=0.0, max=150.0), HTML(value='')))"
      ]
     },
     "metadata": {},
     "output_type": "display_data"
    },
    {
     "name": "stdout",
     "output_type": "stream",
     "text": [
      "\n"
     ]
    },
    {
     "data": {
      "application/vnd.jupyter.widget-view+json": {
       "model_id": "6d525a7995044a2bbcc865313c11f62a",
       "version_major": 2,
       "version_minor": 0
      },
      "text/plain": [
       "HBox(children=(FloatProgress(value=0.0, max=150.0), HTML(value='')))"
      ]
     },
     "metadata": {},
     "output_type": "display_data"
    },
    {
     "name": "stdout",
     "output_type": "stream",
     "text": [
      "\n"
     ]
    },
    {
     "data": {
      "application/vnd.jupyter.widget-view+json": {
       "model_id": "dc043f49a9b4468987d8c70585836a6c",
       "version_major": 2,
       "version_minor": 0
      },
      "text/plain": [
       "HBox(children=(FloatProgress(value=0.0, max=150.0), HTML(value='')))"
      ]
     },
     "metadata": {},
     "output_type": "display_data"
    },
    {
     "name": "stdout",
     "output_type": "stream",
     "text": [
      "\n"
     ]
    },
    {
     "data": {
      "application/vnd.jupyter.widget-view+json": {
       "model_id": "bb873e3465624c4a80dc3d3b1468077c",
       "version_major": 2,
       "version_minor": 0
      },
      "text/plain": [
       "HBox(children=(FloatProgress(value=0.0, max=150.0), HTML(value='')))"
      ]
     },
     "metadata": {},
     "output_type": "display_data"
    },
    {
     "name": "stdout",
     "output_type": "stream",
     "text": [
      "Lost particles, stopping.\n",
      "\n"
     ]
    },
    {
     "data": {
      "application/vnd.jupyter.widget-view+json": {
       "model_id": "19a7f9beb8cf4b8e89f3fa8b4b353894",
       "version_major": 2,
       "version_minor": 0
      },
      "text/plain": [
       "HBox(children=(FloatProgress(value=0.0, max=150.0), HTML(value='')))"
      ]
     },
     "metadata": {},
     "output_type": "display_data"
    },
    {
     "name": "stdout",
     "output_type": "stream",
     "text": [
      "Lost particles, stopping.\n",
      "\n"
     ]
    },
    {
     "data": {
      "application/vnd.jupyter.widget-view+json": {
       "model_id": "596d0fa8b2df4e0fb340253dd3f80191",
       "version_major": 2,
       "version_minor": 0
      },
      "text/plain": [
       "HBox(children=(FloatProgress(value=0.0, max=150.0), HTML(value='')))"
      ]
     },
     "metadata": {},
     "output_type": "display_data"
    },
    {
     "name": "stdout",
     "output_type": "stream",
     "text": [
      "Lost particles, stopping.\n",
      "\n"
     ]
    },
    {
     "data": {
      "application/vnd.jupyter.widget-view+json": {
       "model_id": "a1a80f788dcd448b84ca05d47b5f79aa",
       "version_major": 2,
       "version_minor": 0
      },
      "text/plain": [
       "HBox(children=(FloatProgress(value=0.0, max=150.0), HTML(value='')))"
      ]
     },
     "metadata": {},
     "output_type": "display_data"
    },
    {
     "name": "stdout",
     "output_type": "stream",
     "text": [
      "Lost particles, stopping.\n",
      "\n"
     ]
    },
    {
     "data": {
      "application/vnd.jupyter.widget-view+json": {
       "model_id": "06f2a52226b2480b9b34adde0522d264",
       "version_major": 2,
       "version_minor": 0
      },
      "text/plain": [
       "HBox(children=(FloatProgress(value=0.0, max=150.0), HTML(value='')))"
      ]
     },
     "metadata": {},
     "output_type": "display_data"
    },
    {
     "name": "stdout",
     "output_type": "stream",
     "text": [
      "Lost particles, stopping.\n",
      "\n"
     ]
    },
    {
     "data": {
      "application/vnd.jupyter.widget-view+json": {
       "model_id": "03744b488fba4e989bed615b1e101647",
       "version_major": 2,
       "version_minor": 0
      },
      "text/plain": [
       "HBox(children=(FloatProgress(value=0.0, max=150.0), HTML(value='')))"
      ]
     },
     "metadata": {},
     "output_type": "display_data"
    },
    {
     "name": "stdout",
     "output_type": "stream",
     "text": [
      "Lost particles, stopping.\n",
      "\n"
     ]
    },
    {
     "data": {
      "application/vnd.jupyter.widget-view+json": {
       "model_id": "212450a4efbf45b795714cc8638e7d05",
       "version_major": 2,
       "version_minor": 0
      },
      "text/plain": [
       "HBox(children=(FloatProgress(value=0.0, max=150.0), HTML(value='')))"
      ]
     },
     "metadata": {},
     "output_type": "display_data"
    },
    {
     "name": "stdout",
     "output_type": "stream",
     "text": [
      "Lost particles, stopping.\n",
      "\n"
     ]
    },
    {
     "data": {
      "application/vnd.jupyter.widget-view+json": {
       "model_id": "e78ce3ebc8484e08a3047fecd6ed954b",
       "version_major": 2,
       "version_minor": 0
      },
      "text/plain": [
       "HBox(children=(FloatProgress(value=0.0, max=150.0), HTML(value='')))"
      ]
     },
     "metadata": {},
     "output_type": "display_data"
    },
    {
     "name": "stdout",
     "output_type": "stream",
     "text": [
      "Lost particles, stopping.\n",
      "\n",
      "\n"
     ]
    }
   ],
   "source": [
    "samples = 50000\n",
    "steps = 1\n",
    "iters = 150\n",
    "\n",
    "I_list = engine.I[300:-100:8]\n",
    "\n",
    "averages = []\n",
    "stds = []\n",
    "\n",
    "for q, I0 in tqdm(list(enumerate(I_list))):\n",
    "    start = np.sqrt(I0 * 2)\n",
    "\n",
    "    angles = np.random.rand(samples) * np.pi * 2\n",
    "    x0 = start * np.cos(angles)\n",
    "    p0 = start * np.sin(angles)\n",
    "\n",
    "    diff_test = sm.symplectic_map.generate_instance(omega_0, omega_1, omega_2, epsilon, x_star, delta, exponent, 0.0, barrier_radius, x0.copy(), p0.copy())\n",
    "    \n",
    "    time_list = []\n",
    "    el_list = []\n",
    "    \n",
    "    j = 0\n",
    "    for i in tqdm(range(iters)):\n",
    "        diff_test.compute_personal_noise(steps, gamma=0.0)\n",
    "        j += steps\n",
    "        if (\n",
    "            np.count_nonzero(diff_test.get_action()) < samples\n",
    "           ):\n",
    "            print(\"Lost particles, stopping.\")\n",
    "            break\n",
    "        time_list.append(j)\n",
    "        el_list.append(np.var(diff_test.get_action())/j)\n",
    "        \n",
    "    el_list = np.asarray(el_list)\n",
    "    stds.append(np.std(el_list))\n",
    "    averages.append(np.average(el_list)) \n"
   ]
  },
  {
   "cell_type": "code",
   "execution_count": 19,
   "metadata": {},
   "outputs": [
    {
     "data": {
      "application/vnd.jupyter.widget-view+json": {
       "model_id": "df3bebaf19424ad69e774d119dd62415",
       "version_major": 2,
       "version_minor": 0
      },
      "text/plain": [
       "Canvas(toolbar=Toolbar(toolitems=[('Home', 'Reset original view', 'home', 'home'), ('Back', 'Back to previous …"
      ]
     },
     "metadata": {},
     "output_type": "display_data"
    },
    {
     "data": {
      "text/plain": [
       "Text(0.5, 1.0, 'Comparison between theoretical $D(I)$ value\\nand discrete reconstruction')"
      ]
     },
     "execution_count": 19,
     "metadata": {},
     "output_type": "execute_result"
    }
   ],
   "source": [
    "t3fig, t3ax = plt.subplots()\n",
    "\n",
    "t3ax.plot(I_list, engine.diffusion[300:-100:8], c=\"C1\", label=\"$D$ theoretical value\", linewidth=0.8)\n",
    "t3ax.scatter(I_list, averages, s = 2, marker=\"x\", color=\"C0\", label=\"$D$ estimated\")\n",
    "t3ax.fill_between(I_list, np.asarray(averages) - np.asarray(stds), np.asarray(averages) + np.asarray(stds), color=\"C0\", alpha=0.5, label=\"$D$ uncertainty\")\n",
    "\n",
    "t3ax.legend()\n",
    "t3ax.set_xlabel(\"$I$\")\n",
    "t3ax.set_ylabel(\"$D(I)$\")\n",
    "\n",
    "t3ax.set_title(\"Comparison between theoretical $D(I)$ value\\nand discrete reconstruction\")"
   ]
  },
  {
   "cell_type": "markdown",
   "metadata": {},
   "source": [
    "From what we can see... we have a pretty good reconstruction! (Excepct for a few critical values that probably generates some resonances with the chosen $\\omega$ values...)"
   ]
  },
  {
   "cell_type": "markdown",
   "metadata": {},
   "source": [
    "### Can this measure be used for visualizing the \"performance\" of the CN reconstruction?"
   ]
  },
  {
   "cell_type": "code",
   "execution_count": 45,
   "metadata": {
    "scrolled": true
   },
   "outputs": [
    {
     "data": {
      "application/vnd.jupyter.widget-view+json": {
       "model_id": "",
       "version_major": 2,
       "version_minor": 0
      },
      "text/plain": [
       "HBox(children=(FloatProgress(value=0.0, max=10.0), HTML(value='')))"
      ]
     },
     "metadata": {},
     "output_type": "display_data"
    },
    {
     "data": {
      "application/vnd.jupyter.widget-view+json": {
       "model_id": "",
       "version_major": 2,
       "version_minor": 0
      },
      "text/plain": [
       "HBox(children=(FloatProgress(value=0.0, max=500.0), HTML(value='')))"
      ]
     },
     "metadata": {},
     "output_type": "display_data"
    },
    {
     "name": "stdout",
     "output_type": "stream",
     "text": [
      "\n"
     ]
    },
    {
     "data": {
      "application/vnd.jupyter.widget-view+json": {
       "model_id": "",
       "version_major": 2,
       "version_minor": 0
      },
      "text/plain": [
       "HBox(children=(FloatProgress(value=0.0, max=500.0), HTML(value='')))"
      ]
     },
     "metadata": {},
     "output_type": "display_data"
    },
    {
     "name": "stdout",
     "output_type": "stream",
     "text": [
      "\n"
     ]
    },
    {
     "data": {
      "application/vnd.jupyter.widget-view+json": {
       "model_id": "",
       "version_major": 2,
       "version_minor": 0
      },
      "text/plain": [
       "HBox(children=(FloatProgress(value=0.0, max=500.0), HTML(value='')))"
      ]
     },
     "metadata": {},
     "output_type": "display_data"
    },
    {
     "name": "stdout",
     "output_type": "stream",
     "text": [
      "\n"
     ]
    },
    {
     "data": {
      "application/vnd.jupyter.widget-view+json": {
       "model_id": "",
       "version_major": 2,
       "version_minor": 0
      },
      "text/plain": [
       "HBox(children=(FloatProgress(value=0.0, max=500.0), HTML(value='')))"
      ]
     },
     "metadata": {},
     "output_type": "display_data"
    },
    {
     "name": "stdout",
     "output_type": "stream",
     "text": [
      "\n"
     ]
    },
    {
     "data": {
      "application/vnd.jupyter.widget-view+json": {
       "model_id": "",
       "version_major": 2,
       "version_minor": 0
      },
      "text/plain": [
       "HBox(children=(FloatProgress(value=0.0, max=500.0), HTML(value='')))"
      ]
     },
     "metadata": {},
     "output_type": "display_data"
    },
    {
     "name": "stdout",
     "output_type": "stream",
     "text": [
      "\n"
     ]
    },
    {
     "data": {
      "application/vnd.jupyter.widget-view+json": {
       "model_id": "",
       "version_major": 2,
       "version_minor": 0
      },
      "text/plain": [
       "HBox(children=(FloatProgress(value=0.0, max=500.0), HTML(value='')))"
      ]
     },
     "metadata": {},
     "output_type": "display_data"
    },
    {
     "name": "stdout",
     "output_type": "stream",
     "text": [
      "\n"
     ]
    },
    {
     "data": {
      "application/vnd.jupyter.widget-view+json": {
       "model_id": "",
       "version_major": 2,
       "version_minor": 0
      },
      "text/plain": [
       "HBox(children=(FloatProgress(value=0.0, max=500.0), HTML(value='')))"
      ]
     },
     "metadata": {},
     "output_type": "display_data"
    },
    {
     "name": "stdout",
     "output_type": "stream",
     "text": [
      "Lost particles, stopping.\n",
      "\n"
     ]
    },
    {
     "data": {
      "application/vnd.jupyter.widget-view+json": {
       "model_id": "",
       "version_major": 2,
       "version_minor": 0
      },
      "text/plain": [
       "HBox(children=(FloatProgress(value=0.0, max=500.0), HTML(value='')))"
      ]
     },
     "metadata": {},
     "output_type": "display_data"
    },
    {
     "name": "stdout",
     "output_type": "stream",
     "text": [
      "Lost particles, stopping.\n",
      "\n"
     ]
    },
    {
     "data": {
      "application/vnd.jupyter.widget-view+json": {
       "model_id": "",
       "version_major": 2,
       "version_minor": 0
      },
      "text/plain": [
       "HBox(children=(FloatProgress(value=0.0, max=500.0), HTML(value='')))"
      ]
     },
     "metadata": {},
     "output_type": "display_data"
    },
    {
     "name": "stdout",
     "output_type": "stream",
     "text": [
      "Lost particles, stopping.\n",
      "\n"
     ]
    },
    {
     "data": {
      "application/vnd.jupyter.widget-view+json": {
       "model_id": "",
       "version_major": 2,
       "version_minor": 0
      },
      "text/plain": [
       "HBox(children=(FloatProgress(value=0.0, max=500.0), HTML(value='')))"
      ]
     },
     "metadata": {},
     "output_type": "display_data"
    },
    {
     "name": "stdout",
     "output_type": "stream",
     "text": [
      "Lost particles, stopping.\n",
      "\n",
      "\n"
     ]
    }
   ],
   "source": [
    "samples = 10000\n",
    "steps = 1\n",
    "iters = 500\n",
    "\n",
    "noise_common_0 = standard_map_noise(steps * iters, 1.5)[1]\n",
    "noise_common_1 = standard_map_noise(steps * iters, 10.0)[1]\n",
    "noise_common_2 = standard_map_noise(steps * iters, 100.0)[1]\n",
    "noise_common_3 = make_correlated_noise(steps * iters, 0.0)\n",
    "\n",
    "minimums = []\n",
    "maximums = []\n",
    "averages = []\n",
    "stds = []\n",
    "\n",
    "averages1 = []\n",
    "stds1 = []\n",
    "averages2 = []\n",
    "stds2 = []\n",
    "averages3 = []\n",
    "stds3 = []\n",
    "averages4 = []\n",
    "stds4 = []\n",
    "\n",
    "averages5 = []\n",
    "stds5 = []\n",
    "averages6 = []\n",
    "stds6 = []\n",
    "averages7 = []\n",
    "stds7 = []\n",
    "averages8 = []\n",
    "stds8 = []\n",
    "\n",
    "I_list = engine.I[-200:-100:10]\n",
    "\n",
    "for q, I0 in tqdm(list(enumerate(I_list))):\n",
    "    start = np.sqrt(I0 * 2)\n",
    "\n",
    "    angles = np.random.rand(samples) * np.pi * 2\n",
    "    x0 = start * np.cos(angles)\n",
    "    p0 = start * np.sin(angles)\n",
    "\n",
    "    diff_test = sm.symplectic_map.generate_instance(omega_0, omega_1, omega_2, epsilon, x_star, delta, exponent, 0.0, barrier_radius, x0.copy(), p0.copy())\n",
    "    \n",
    "    diff_test1 = sm.symplectic_map.generate_instance(omega_0, omega_1, omega_2, epsilon, x_star, delta, exponent, 0.0, barrier_radius, x0.copy(), p0.copy())\n",
    "    diff_test2 = sm.symplectic_map.generate_instance(omega_0, omega_1, omega_2, epsilon, x_star, delta, exponent, 0.0, barrier_radius, x0.copy(), p0.copy())\n",
    "    diff_test3 = sm.symplectic_map.generate_instance(omega_0, omega_1, omega_2, epsilon, x_star, delta, exponent, 0.0, barrier_radius, x0.copy(), p0.copy())\n",
    "    diff_test4 = sm.symplectic_map.generate_instance(omega_0, omega_1, omega_2, epsilon, x_star, delta, exponent, 0.0, barrier_radius, x0.copy(), p0.copy())\n",
    "    diff_test5 = sm.symplectic_map.generate_instance(omega_0, omega_1, omega_2, epsilon, x_star, delta, exponent, 0.0, barrier_radius, x0.copy(), p0.copy())\n",
    "    diff_test6 = sm.symplectic_map.generate_instance(omega_0, omega_1, omega_2, epsilon, x_star, delta, exponent, 0.0, barrier_radius, x0.copy(), p0.copy())\n",
    "    diff_test7 = sm.symplectic_map.generate_instance(omega_0, omega_1, omega_2, epsilon, x_star, delta, exponent, 0.0, barrier_radius, x0.copy(), p0.copy())\n",
    "    diff_test8 = sm.symplectic_map.generate_instance(omega_0, omega_1, omega_2, epsilon, x_star, delta, exponent, 0.0, barrier_radius, x0.copy(), p0.copy())\n",
    "\n",
    "    time_list = []\n",
    "    el_list = []\n",
    "    \n",
    "    el_list1 = []\n",
    "    el_list2 = []\n",
    "    el_list3 = []\n",
    "    el_list4 = []\n",
    "    el_list5 = []\n",
    "    el_list6 = []\n",
    "    el_list7 = []\n",
    "    el_list8 = []\n",
    "\n",
    "    j = 0\n",
    "    for i in tqdm(range(iters)):\n",
    "        diff_test.compute_personal_noise(steps, gamma=0.0)\n",
    "        diff_test1.compute_personal_noise(steps, gamma=0.1)\n",
    "        diff_test2.compute_personal_noise(steps, gamma=0.2)\n",
    "        diff_test3.compute_personal_noise(steps, gamma=0.3)\n",
    "        diff_test4.compute_personal_noise(steps, gamma=0.5)\n",
    "        diff_test5.compute_common_noise(noise_common_0[i * steps : (i+1) * steps])\n",
    "        diff_test6.compute_common_noise(noise_common_1[i * steps : (i+1) * steps])\n",
    "        diff_test7.compute_common_noise(noise_common_2[i * steps : (i+1) * steps])\n",
    "        diff_test8.compute_common_noise(noise_common_3[i * steps : (i+1) * steps])\n",
    "        j += steps\n",
    "        if (\n",
    "            np.count_nonzero(diff_test.get_action()) < samples or\n",
    "            np.count_nonzero(diff_test1.get_action()) < samples or\n",
    "            np.count_nonzero(diff_test2.get_action()) < samples or\n",
    "            np.count_nonzero(diff_test3.get_action()) < samples or\n",
    "            np.count_nonzero(diff_test4.get_action()) < samples or\n",
    "            np.count_nonzero(diff_test5.get_action()) < samples or\n",
    "            np.count_nonzero(diff_test6.get_action()) < samples or\n",
    "            np.count_nonzero(diff_test7.get_action()) < samples or\n",
    "            np.count_nonzero(diff_test8.get_action()) < samples\n",
    "           ):\n",
    "            print(\"Lost particles, stopping.\")\n",
    "            break\n",
    "        time_list.append(j)\n",
    "        el_list.append(np.var(diff_test.get_action())/j)\n",
    "        el_list1.append(np.var(diff_test1.get_action())/j)\n",
    "        el_list2.append(np.var(diff_test2.get_action())/j)\n",
    "        el_list3.append(np.var(diff_test3.get_action())/j)\n",
    "        el_list4.append(np.var(diff_test4.get_action())/j)\n",
    "        el_list5.append(np.var(diff_test5.get_action())/j)\n",
    "        el_list6.append(np.var(diff_test6.get_action())/j)\n",
    "        el_list7.append(np.var(diff_test7.get_action())/j)\n",
    "        el_list8.append(np.var(diff_test8.get_action())/j)\n",
    "        \n",
    "        \n",
    "    el_list = np.asarray(el_list)\n",
    "    minimums.append(np.min(el_list))\n",
    "    maximums.append(np.max(el_list))    \n",
    "    stds.append(np.std(el_list))\n",
    "    averages.append(np.average(el_list)) \n",
    "    stds1.append(np.std(el_list1))\n",
    "    averages1.append(np.average(el_list1)) \n",
    "    stds2.append(np.std(el_list2))\n",
    "    averages2.append(np.average(el_list2)) \n",
    "    stds3.append(np.std(el_list3))\n",
    "    averages3.append(np.average(el_list3)) \n",
    "    stds4.append(np.std(el_list4))\n",
    "    averages4.append(np.average(el_list4)) \n",
    "    stds5.append(np.std(el_list5))\n",
    "    averages5.append(np.average(el_list5)) \n",
    "    stds6.append(np.std(el_list6))\n",
    "    averages6.append(np.average(el_list6))   \n",
    "    stds7.append(np.std(el_list7))\n",
    "    averages7.append(np.average(el_list7))   \n",
    "    stds8.append(np.std(el_list8))\n",
    "    averages8.append(np.average(el_list8))    "
   ]
  },
  {
   "cell_type": "code",
   "execution_count": 46,
   "metadata": {},
   "outputs": [
    {
     "data": {
      "application/vnd.jupyter.widget-view+json": {
       "model_id": "",
       "version_major": 2,
       "version_minor": 0
      },
      "text/plain": [
       "Canvas(toolbar=Toolbar(toolitems=[('Home', 'Reset original view', 'home', 'home'), ('Back', 'Back to previous …"
      ]
     },
     "metadata": {},
     "output_type": "display_data"
    },
    {
     "data": {
      "text/plain": [
       "Text(0.5, 1.0, 'Various $D(I)$ discrete measurements')"
      ]
     },
     "execution_count": 46,
     "metadata": {},
     "output_type": "execute_result"
    }
   ],
   "source": [
    "t4fig, t4ax = plt.subplots()\n",
    "\n",
    "t4ax.plot(I_list, engine.diffusion[-200:-100:10], label=\"Theoretical $D$\")\n",
    "\n",
    "t4ax.errorbar(I_list, averages, yerr=stds, linewidth=0, elinewidth=1, capsize=1, label=\"Different realizations, $\\\\gamma = 0.0$\")\n",
    "t4ax.errorbar(I_list, averages1, yerr=stds1, linewidth=0, elinewidth=1, capsize=1, label=\"Different realizations, $\\\\gamma = 0.1$\")\n",
    "t4ax.errorbar(I_list, averages2, yerr=stds2, linewidth=0, elinewidth=1, capsize=1, label=\"Different realizations, $\\\\gamma = 0.2$\")\n",
    "t4ax.errorbar(I_list, averages3, yerr=stds3, linewidth=0, elinewidth=1, capsize=1, label=\"Different realizations, $\\\\gamma = 0.3$\")\n",
    "t4ax.errorbar(I_list, averages4, yerr=stds4, linewidth=0, elinewidth=1, capsize=1, label=\"Different realizations, $\\\\gamma = 0.5$\")\n",
    "t4ax.errorbar(I_list, averages5, yerr=stds5, linewidth=0, elinewidth=1, capsize=1, label=\"Standard map, low chaos $(\\\\kappa=1.5)$\")\n",
    "t4ax.errorbar(I_list, averages6, yerr=stds6, linewidth=0, elinewidth=1, capsize=1, label=\"Standard map, regular chaos $(\\\\kappa=10.0)$\")\n",
    "t4ax.errorbar(I_list, averages7, yerr=stds7, linewidth=0, elinewidth=1, capsize=1, label=\"Standard map, very high chaos $(\\\\kappa=100.0)$\")\n",
    "t4ax.errorbar(I_list, averages8, yerr=stds8, linewidth=0, elinewidth=1, capsize=1, label=\"Common realization, $\\\\gamma=0.0$\")\n",
    "\n",
    "t4ax.legend(fontsize=\"x-small\")\n",
    "t4ax.set_xlabel(\"$I$\")\n",
    "t4ax.set_ylabel(\"$D(I)$\")\n",
    "t4ax.set_title(\"Various $D(I)$ discrete measurements\")"
   ]
  },
  {
   "cell_type": "markdown",
   "metadata": {},
   "source": [
    "# What about Hénon?\n",
    "We want to probe our discrete diffusion measurement in a modulated Hénon map and see what we can obtain as diffusion values.\n",
    "\n",
    "Can the resulting $D(I)$ values be used for a 1D FP process reconstruction?"
   ]
  },
  {
   "cell_type": "code",
   "execution_count": 20,
   "metadata": {},
   "outputs": [],
   "source": [
    "import henon_map as hm\n",
    "from scipy.stats import linregress"
   ]
  },
  {
   "cell_type": "code",
   "execution_count": 21,
   "metadata": {},
   "outputs": [],
   "source": [
    "def moving_average(a, n=3) :\n",
    "    ret = np.cumsum(a, dtype=float)\n",
    "    ret[n:] = ret[n:] - ret[:-n]\n",
    "    return ret[n - 1:] / n"
   ]
  },
  {
   "cell_type": "code",
   "execution_count": 10,
   "metadata": {},
   "outputs": [
    {
     "data": {
      "application/vnd.jupyter.widget-view+json": {
       "model_id": "bba2542f82504a519ccce936ee6e1e1d",
       "version_major": 2,
       "version_minor": 0
      },
      "text/plain": [
       "Canvas(toolbar=Toolbar(toolitems=[('Home', 'Reset original view', 'home', 'home'), ('Back', 'Back to previous …"
      ]
     },
     "metadata": {},
     "output_type": "display_data"
    },
    {
     "name": "stdout",
     "output_type": "stream",
     "text": [
      "Computing...\n"
     ]
    },
    {
     "ename": "CudaAPIError",
     "evalue": "[700] Call to cuMemAlloc results in UNKNOWN_CUDA_ERROR",
     "output_type": "error",
     "traceback": [
      "\u001b[0;31m---------------------------------------------------------------------------\u001b[0m",
      "\u001b[0;31mCudaAPIError\u001b[0m                              Traceback (most recent call last)",
      "\u001b[0;32m<ipython-input-10-90fbd98c8c4e>\u001b[0m in \u001b[0;36m<module>\u001b[0;34m\u001b[0m\n\u001b[1;32m     21\u001b[0m     \u001b[0mr\u001b[0m\u001b[0;34m,\u001b[0m \u001b[0ma\u001b[0m\u001b[0;34m,\u001b[0m \u001b[0mth1\u001b[0m\u001b[0;34m,\u001b[0m \u001b[0mth2\u001b[0m\u001b[0;34m,\u001b[0m\u001b[0;34m\u001b[0m\u001b[0;34m\u001b[0m\u001b[0m\n\u001b[1;32m     22\u001b[0m     \u001b[0mnp\u001b[0m\u001b[0;34m.\u001b[0m\u001b[0mones\u001b[0m\u001b[0;34m(\u001b[0m\u001b[0msamples\u001b[0m\u001b[0;34m,\u001b[0m \u001b[0mdtype\u001b[0m\u001b[0;34m=\u001b[0m\u001b[0mnp\u001b[0m\u001b[0;34m.\u001b[0m\u001b[0mint\u001b[0m\u001b[0;34m)\u001b[0m \u001b[0;34m*\u001b[0m \u001b[0msteps\u001b[0m\u001b[0;34m,\u001b[0m\u001b[0;34m\u001b[0m\u001b[0;34m\u001b[0m\u001b[0m\n\u001b[0;32m---> 23\u001b[0;31m     \u001b[0mepsilon\u001b[0m\u001b[0;34m\u001b[0m\u001b[0;34m\u001b[0m\u001b[0m\n\u001b[0m\u001b[1;32m     24\u001b[0m )\n\u001b[1;32m     25\u001b[0m \u001b[0mx\u001b[0m\u001b[0;34m,\u001b[0m \u001b[0mpx\u001b[0m\u001b[0;34m,\u001b[0m \u001b[0my\u001b[0m\u001b[0;34m,\u001b[0m \u001b[0mpy\u001b[0m \u001b[0;34m=\u001b[0m \u001b[0mhenon_engine\u001b[0m\u001b[0;34m.\u001b[0m\u001b[0mcompute\u001b[0m\u001b[0;34m(\u001b[0m\u001b[0;34m)\u001b[0m\u001b[0;34m\u001b[0m\u001b[0;34m\u001b[0m\u001b[0m\n",
      "\u001b[0;32m~/Insync/carlo.montanari3@studio.unibo.it/OneDrive Biz/optimized_code/henon_map/henon_map/__init__.py\u001b[0m in \u001b[0;36mgenerate_instance\u001b[0;34m(radius, alpha, theta1, theta2, iters, epsilon, cuda_device)\u001b[0m\n\u001b[1;32m    892\u001b[0m             \u001b[0mcuda_device\u001b[0m \u001b[0;34m=\u001b[0m \u001b[0mcuda\u001b[0m\u001b[0;34m.\u001b[0m\u001b[0mis_available\u001b[0m\u001b[0;34m(\u001b[0m\u001b[0;34m)\u001b[0m\u001b[0;34m\u001b[0m\u001b[0;34m\u001b[0m\u001b[0m\n\u001b[1;32m    893\u001b[0m         \u001b[0;32mif\u001b[0m \u001b[0mcuda_device\u001b[0m\u001b[0;34m:\u001b[0m\u001b[0;34m\u001b[0m\u001b[0;34m\u001b[0m\u001b[0m\n\u001b[0;32m--> 894\u001b[0;31m             \u001b[0;32mreturn\u001b[0m \u001b[0mgpu_full_track\u001b[0m\u001b[0;34m(\u001b[0m\u001b[0mradius\u001b[0m\u001b[0;34m,\u001b[0m \u001b[0malpha\u001b[0m\u001b[0;34m,\u001b[0m \u001b[0mtheta1\u001b[0m\u001b[0;34m,\u001b[0m \u001b[0mtheta2\u001b[0m\u001b[0;34m,\u001b[0m \u001b[0miters\u001b[0m\u001b[0;34m,\u001b[0m \u001b[0mepsilon\u001b[0m\u001b[0;34m)\u001b[0m\u001b[0;34m\u001b[0m\u001b[0;34m\u001b[0m\u001b[0m\n\u001b[0m\u001b[1;32m    895\u001b[0m         \u001b[0;32melse\u001b[0m\u001b[0;34m:\u001b[0m\u001b[0;34m\u001b[0m\u001b[0;34m\u001b[0m\u001b[0m\n\u001b[1;32m    896\u001b[0m             \u001b[0;32mreturn\u001b[0m \u001b[0mcpu_full_track\u001b[0m\u001b[0;34m(\u001b[0m\u001b[0mradius\u001b[0m\u001b[0;34m,\u001b[0m \u001b[0malpha\u001b[0m\u001b[0;34m,\u001b[0m \u001b[0mtheta1\u001b[0m\u001b[0;34m,\u001b[0m \u001b[0mtheta2\u001b[0m\u001b[0;34m,\u001b[0m \u001b[0miters\u001b[0m\u001b[0;34m,\u001b[0m \u001b[0mepsilon\u001b[0m\u001b[0;34m)\u001b[0m\u001b[0;34m\u001b[0m\u001b[0;34m\u001b[0m\u001b[0m\n",
      "\u001b[0;32m~/Insync/carlo.montanari3@studio.unibo.it/OneDrive Biz/optimized_code/henon_map/henon_map/__init__.py\u001b[0m in \u001b[0;36m__init__\u001b[0;34m(self, radius, alpha, theta1, theta2, iters, epsilon)\u001b[0m\n\u001b[1;32m    919\u001b[0m         \u001b[0mself\u001b[0m\u001b[0;34m.\u001b[0m\u001b[0mpy\u001b[0m \u001b[0;34m=\u001b[0m \u001b[0mnp\u001b[0m\u001b[0;34m.\u001b[0m\u001b[0mempty\u001b[0m\u001b[0;34m(\u001b[0m\u001b[0;34m(\u001b[0m\u001b[0mself\u001b[0m\u001b[0;34m.\u001b[0m\u001b[0mmax_iters\u001b[0m\u001b[0;34m,\u001b[0m \u001b[0malpha\u001b[0m\u001b[0;34m.\u001b[0m\u001b[0msize\u001b[0m\u001b[0;34m)\u001b[0m\u001b[0;34m)\u001b[0m \u001b[0;34m*\u001b[0m \u001b[0mnp\u001b[0m\u001b[0;34m.\u001b[0m\u001b[0mnan\u001b[0m\u001b[0;34m\u001b[0m\u001b[0;34m\u001b[0m\u001b[0m\n\u001b[1;32m    920\u001b[0m \u001b[0;34m\u001b[0m\u001b[0m\n\u001b[0;32m--> 921\u001b[0;31m         \u001b[0mself\u001b[0m\u001b[0;34m.\u001b[0m\u001b[0mx\u001b[0m\u001b[0;34m[\u001b[0m\u001b[0;36m0\u001b[0m\u001b[0;34m,\u001b[0m \u001b[0;34m:\u001b[0m\u001b[0;34m]\u001b[0m\u001b[0;34m,\u001b[0m \u001b[0mself\u001b[0m\u001b[0;34m.\u001b[0m\u001b[0mpx\u001b[0m\u001b[0;34m[\u001b[0m\u001b[0;36m0\u001b[0m\u001b[0;34m,\u001b[0m \u001b[0;34m:\u001b[0m\u001b[0;34m]\u001b[0m\u001b[0;34m,\u001b[0m \u001b[0mself\u001b[0m\u001b[0;34m.\u001b[0m\u001b[0my\u001b[0m\u001b[0;34m[\u001b[0m\u001b[0;36m0\u001b[0m\u001b[0;34m,\u001b[0m \u001b[0;34m:\u001b[0m\u001b[0;34m]\u001b[0m\u001b[0;34m,\u001b[0m \u001b[0mself\u001b[0m\u001b[0;34m.\u001b[0m\u001b[0mpy\u001b[0m\u001b[0;34m[\u001b[0m\u001b[0;36m0\u001b[0m\u001b[0;34m,\u001b[0m \u001b[0;34m:\u001b[0m\u001b[0;34m]\u001b[0m \u001b[0;34m=\u001b[0m \u001b[0mgpu\u001b[0m\u001b[0;34m.\u001b[0m\u001b[0mactual_polar_to_cartesian\u001b[0m\u001b[0;34m(\u001b[0m\u001b[0mradius\u001b[0m\u001b[0;34m,\u001b[0m \u001b[0malpha\u001b[0m\u001b[0;34m,\u001b[0m \u001b[0mtheta1\u001b[0m\u001b[0;34m,\u001b[0m \u001b[0mtheta2\u001b[0m\u001b[0;34m)\u001b[0m\u001b[0;34m\u001b[0m\u001b[0;34m\u001b[0m\u001b[0m\n\u001b[0m\u001b[1;32m    922\u001b[0m \u001b[0;34m\u001b[0m\u001b[0m\n\u001b[1;32m    923\u001b[0m     \u001b[0;32mdef\u001b[0m \u001b[0mcompute\u001b[0m\u001b[0;34m(\u001b[0m\u001b[0mself\u001b[0m\u001b[0;34m)\u001b[0m\u001b[0;34m:\u001b[0m\u001b[0;34m\u001b[0m\u001b[0;34m\u001b[0m\u001b[0m\n",
      "\u001b[0;32m~/Insync/carlo.montanari3@studio.unibo.it/OneDrive Biz/optimized_code/henon_map/henon_map/gpu_henon_core.py\u001b[0m in \u001b[0;36mactual_polar_to_cartesian\u001b[0;34m(radius, alpha, theta1, theta2)\u001b[0m\n\u001b[1;32m     41\u001b[0m     \u001b[0my\u001b[0m \u001b[0;34m=\u001b[0m \u001b[0mnp\u001b[0m\u001b[0;34m.\u001b[0m\u001b[0mzeros\u001b[0m\u001b[0;34m(\u001b[0m\u001b[0mradius\u001b[0m\u001b[0;34m.\u001b[0m\u001b[0mshape\u001b[0m\u001b[0;34m)\u001b[0m\u001b[0;34m\u001b[0m\u001b[0;34m\u001b[0m\u001b[0m\n\u001b[1;32m     42\u001b[0m     \u001b[0mpy\u001b[0m \u001b[0;34m=\u001b[0m \u001b[0mnp\u001b[0m\u001b[0;34m.\u001b[0m\u001b[0mzeros\u001b[0m\u001b[0;34m(\u001b[0m\u001b[0mradius\u001b[0m\u001b[0;34m.\u001b[0m\u001b[0mshape\u001b[0m\u001b[0;34m)\u001b[0m\u001b[0;34m\u001b[0m\u001b[0;34m\u001b[0m\u001b[0m\n\u001b[0;32m---> 43\u001b[0;31m     \u001b[0md_x\u001b[0m \u001b[0;34m=\u001b[0m \u001b[0mcuda\u001b[0m\u001b[0;34m.\u001b[0m\u001b[0mto_device\u001b[0m\u001b[0;34m(\u001b[0m\u001b[0mnp\u001b[0m\u001b[0;34m.\u001b[0m\u001b[0mzeros\u001b[0m\u001b[0;34m(\u001b[0m\u001b[0mradius\u001b[0m\u001b[0;34m.\u001b[0m\u001b[0mshape\u001b[0m\u001b[0;34m)\u001b[0m\u001b[0;34m)\u001b[0m\u001b[0;34m\u001b[0m\u001b[0;34m\u001b[0m\u001b[0m\n\u001b[0m\u001b[1;32m     44\u001b[0m     \u001b[0md_y\u001b[0m \u001b[0;34m=\u001b[0m \u001b[0mcuda\u001b[0m\u001b[0;34m.\u001b[0m\u001b[0mto_device\u001b[0m\u001b[0;34m(\u001b[0m\u001b[0mnp\u001b[0m\u001b[0;34m.\u001b[0m\u001b[0mzeros\u001b[0m\u001b[0;34m(\u001b[0m\u001b[0mradius\u001b[0m\u001b[0;34m.\u001b[0m\u001b[0mshape\u001b[0m\u001b[0;34m)\u001b[0m\u001b[0;34m)\u001b[0m\u001b[0;34m\u001b[0m\u001b[0;34m\u001b[0m\u001b[0m\n\u001b[1;32m     45\u001b[0m     \u001b[0md_px\u001b[0m \u001b[0;34m=\u001b[0m \u001b[0mcuda\u001b[0m\u001b[0;34m.\u001b[0m\u001b[0mto_device\u001b[0m\u001b[0;34m(\u001b[0m\u001b[0mnp\u001b[0m\u001b[0;34m.\u001b[0m\u001b[0mzeros\u001b[0m\u001b[0;34m(\u001b[0m\u001b[0mradius\u001b[0m\u001b[0;34m.\u001b[0m\u001b[0mshape\u001b[0m\u001b[0;34m)\u001b[0m\u001b[0;34m)\u001b[0m\u001b[0;34m\u001b[0m\u001b[0;34m\u001b[0m\u001b[0m\n",
      "\u001b[0;32m~/anaconda3/lib/python3.7/site-packages/numba/cuda/cudadrv/devices.py\u001b[0m in \u001b[0;36m_require_cuda_context\u001b[0;34m(*args, **kws)\u001b[0m\n\u001b[1;32m    222\u001b[0m     \u001b[0;32mdef\u001b[0m \u001b[0m_require_cuda_context\u001b[0m\u001b[0;34m(\u001b[0m\u001b[0;34m*\u001b[0m\u001b[0margs\u001b[0m\u001b[0;34m,\u001b[0m \u001b[0;34m**\u001b[0m\u001b[0mkws\u001b[0m\u001b[0;34m)\u001b[0m\u001b[0;34m:\u001b[0m\u001b[0;34m\u001b[0m\u001b[0;34m\u001b[0m\u001b[0m\n\u001b[1;32m    223\u001b[0m         \u001b[0;32mwith\u001b[0m \u001b[0m_runtime\u001b[0m\u001b[0;34m.\u001b[0m\u001b[0mensure_context\u001b[0m\u001b[0;34m(\u001b[0m\u001b[0;34m)\u001b[0m\u001b[0;34m:\u001b[0m\u001b[0;34m\u001b[0m\u001b[0;34m\u001b[0m\u001b[0m\n\u001b[0;32m--> 224\u001b[0;31m             \u001b[0;32mreturn\u001b[0m \u001b[0mfn\u001b[0m\u001b[0;34m(\u001b[0m\u001b[0;34m*\u001b[0m\u001b[0margs\u001b[0m\u001b[0;34m,\u001b[0m \u001b[0;34m**\u001b[0m\u001b[0mkws\u001b[0m\u001b[0;34m)\u001b[0m\u001b[0;34m\u001b[0m\u001b[0;34m\u001b[0m\u001b[0m\n\u001b[0m\u001b[1;32m    225\u001b[0m \u001b[0;34m\u001b[0m\u001b[0m\n\u001b[1;32m    226\u001b[0m     \u001b[0;32mreturn\u001b[0m \u001b[0m_require_cuda_context\u001b[0m\u001b[0;34m\u001b[0m\u001b[0;34m\u001b[0m\u001b[0m\n",
      "\u001b[0;32m~/anaconda3/lib/python3.7/site-packages/numba/cuda/api.py\u001b[0m in \u001b[0;36mto_device\u001b[0;34m(obj, stream, copy, to)\u001b[0m\n\u001b[1;32m    108\u001b[0m     \"\"\"\n\u001b[1;32m    109\u001b[0m     \u001b[0;32mif\u001b[0m \u001b[0mto\u001b[0m \u001b[0;32mis\u001b[0m \u001b[0;32mNone\u001b[0m\u001b[0;34m:\u001b[0m\u001b[0;34m\u001b[0m\u001b[0;34m\u001b[0m\u001b[0m\n\u001b[0;32m--> 110\u001b[0;31m         \u001b[0mto\u001b[0m\u001b[0;34m,\u001b[0m \u001b[0mnew\u001b[0m \u001b[0;34m=\u001b[0m \u001b[0mdevicearray\u001b[0m\u001b[0;34m.\u001b[0m\u001b[0mauto_device\u001b[0m\u001b[0;34m(\u001b[0m\u001b[0mobj\u001b[0m\u001b[0;34m,\u001b[0m \u001b[0mstream\u001b[0m\u001b[0;34m=\u001b[0m\u001b[0mstream\u001b[0m\u001b[0;34m,\u001b[0m \u001b[0mcopy\u001b[0m\u001b[0;34m=\u001b[0m\u001b[0mcopy\u001b[0m\u001b[0;34m)\u001b[0m\u001b[0;34m\u001b[0m\u001b[0;34m\u001b[0m\u001b[0m\n\u001b[0m\u001b[1;32m    111\u001b[0m         \u001b[0;32mreturn\u001b[0m \u001b[0mto\u001b[0m\u001b[0;34m\u001b[0m\u001b[0;34m\u001b[0m\u001b[0m\n\u001b[1;32m    112\u001b[0m     \u001b[0;32mif\u001b[0m \u001b[0mcopy\u001b[0m\u001b[0;34m:\u001b[0m\u001b[0;34m\u001b[0m\u001b[0;34m\u001b[0m\u001b[0m\n",
      "\u001b[0;32m~/anaconda3/lib/python3.7/site-packages/numba/cuda/cudadrv/devicearray.py\u001b[0m in \u001b[0;36mauto_device\u001b[0;34m(obj, stream, copy)\u001b[0m\n\u001b[1;32m    758\u001b[0m                 subok=True)\n\u001b[1;32m    759\u001b[0m             \u001b[0msentry_contiguous\u001b[0m\u001b[0;34m(\u001b[0m\u001b[0mobj\u001b[0m\u001b[0;34m)\u001b[0m\u001b[0;34m\u001b[0m\u001b[0;34m\u001b[0m\u001b[0m\n\u001b[0;32m--> 760\u001b[0;31m             \u001b[0mdevobj\u001b[0m \u001b[0;34m=\u001b[0m \u001b[0mfrom_array_like\u001b[0m\u001b[0;34m(\u001b[0m\u001b[0mobj\u001b[0m\u001b[0;34m,\u001b[0m \u001b[0mstream\u001b[0m\u001b[0;34m=\u001b[0m\u001b[0mstream\u001b[0m\u001b[0;34m)\u001b[0m\u001b[0;34m\u001b[0m\u001b[0;34m\u001b[0m\u001b[0m\n\u001b[0m\u001b[1;32m    761\u001b[0m         \u001b[0;32mif\u001b[0m \u001b[0mcopy\u001b[0m\u001b[0;34m:\u001b[0m\u001b[0;34m\u001b[0m\u001b[0;34m\u001b[0m\u001b[0m\n\u001b[1;32m    762\u001b[0m             \u001b[0mdevobj\u001b[0m\u001b[0;34m.\u001b[0m\u001b[0mcopy_to_device\u001b[0m\u001b[0;34m(\u001b[0m\u001b[0mobj\u001b[0m\u001b[0;34m,\u001b[0m \u001b[0mstream\u001b[0m\u001b[0;34m=\u001b[0m\u001b[0mstream\u001b[0m\u001b[0;34m)\u001b[0m\u001b[0;34m\u001b[0m\u001b[0;34m\u001b[0m\u001b[0m\n",
      "\u001b[0;32m~/anaconda3/lib/python3.7/site-packages/numba/cuda/cudadrv/devicearray.py\u001b[0m in \u001b[0;36mfrom_array_like\u001b[0;34m(ary, stream, gpu_data)\u001b[0m\n\u001b[1;32m    680\u001b[0m         \u001b[0mary\u001b[0m \u001b[0;34m=\u001b[0m \u001b[0mary\u001b[0m\u001b[0;34m.\u001b[0m\u001b[0mreshape\u001b[0m\u001b[0;34m(\u001b[0m\u001b[0;36m1\u001b[0m\u001b[0;34m)\u001b[0m\u001b[0;34m\u001b[0m\u001b[0;34m\u001b[0m\u001b[0m\n\u001b[1;32m    681\u001b[0m     return DeviceNDArray(ary.shape, ary.strides, ary.dtype,\n\u001b[0;32m--> 682\u001b[0;31m                          writeback=ary, stream=stream, gpu_data=gpu_data)\n\u001b[0m\u001b[1;32m    683\u001b[0m \u001b[0;34m\u001b[0m\u001b[0m\n\u001b[1;32m    684\u001b[0m \u001b[0;34m\u001b[0m\u001b[0m\n",
      "\u001b[0;32m~/anaconda3/lib/python3.7/site-packages/numba/cuda/cudadrv/devicearray.py\u001b[0m in \u001b[0;36m__init__\u001b[0;34m(self, shape, strides, dtype, stream, writeback, gpu_data)\u001b[0m\n\u001b[1;32m    102\u001b[0m                                                                 \u001b[0mself\u001b[0m\u001b[0;34m.\u001b[0m\u001b[0mstrides\u001b[0m\u001b[0;34m,\u001b[0m\u001b[0;34m\u001b[0m\u001b[0;34m\u001b[0m\u001b[0m\n\u001b[1;32m    103\u001b[0m                                                                 self.dtype.itemsize)\n\u001b[0;32m--> 104\u001b[0;31m                 \u001b[0mgpu_data\u001b[0m \u001b[0;34m=\u001b[0m \u001b[0mdevices\u001b[0m\u001b[0;34m.\u001b[0m\u001b[0mget_context\u001b[0m\u001b[0;34m(\u001b[0m\u001b[0;34m)\u001b[0m\u001b[0;34m.\u001b[0m\u001b[0mmemalloc\u001b[0m\u001b[0;34m(\u001b[0m\u001b[0mself\u001b[0m\u001b[0;34m.\u001b[0m\u001b[0malloc_size\u001b[0m\u001b[0;34m)\u001b[0m\u001b[0;34m\u001b[0m\u001b[0;34m\u001b[0m\u001b[0m\n\u001b[0m\u001b[1;32m    105\u001b[0m             \u001b[0;32melse\u001b[0m\u001b[0;34m:\u001b[0m\u001b[0;34m\u001b[0m\u001b[0;34m\u001b[0m\u001b[0m\n\u001b[1;32m    106\u001b[0m                 \u001b[0mself\u001b[0m\u001b[0;34m.\u001b[0m\u001b[0malloc_size\u001b[0m \u001b[0;34m=\u001b[0m \u001b[0m_driver\u001b[0m\u001b[0;34m.\u001b[0m\u001b[0mdevice_memory_size\u001b[0m\u001b[0;34m(\u001b[0m\u001b[0mgpu_data\u001b[0m\u001b[0;34m)\u001b[0m\u001b[0;34m\u001b[0m\u001b[0;34m\u001b[0m\u001b[0m\n",
      "\u001b[0;32m~/anaconda3/lib/python3.7/site-packages/numba/cuda/cudadrv/driver.py\u001b[0m in \u001b[0;36mmemalloc\u001b[0;34m(self, bytesize)\u001b[0m\n\u001b[1;32m   1081\u001b[0m \u001b[0;34m\u001b[0m\u001b[0m\n\u001b[1;32m   1082\u001b[0m     \u001b[0;32mdef\u001b[0m \u001b[0mmemalloc\u001b[0m\u001b[0;34m(\u001b[0m\u001b[0mself\u001b[0m\u001b[0;34m,\u001b[0m \u001b[0mbytesize\u001b[0m\u001b[0;34m)\u001b[0m\u001b[0;34m:\u001b[0m\u001b[0;34m\u001b[0m\u001b[0;34m\u001b[0m\u001b[0m\n\u001b[0;32m-> 1083\u001b[0;31m         \u001b[0;32mreturn\u001b[0m \u001b[0mself\u001b[0m\u001b[0;34m.\u001b[0m\u001b[0mmemory_manager\u001b[0m\u001b[0;34m.\u001b[0m\u001b[0mmemalloc\u001b[0m\u001b[0;34m(\u001b[0m\u001b[0mbytesize\u001b[0m\u001b[0;34m)\u001b[0m\u001b[0;34m\u001b[0m\u001b[0;34m\u001b[0m\u001b[0m\n\u001b[0m\u001b[1;32m   1084\u001b[0m \u001b[0;34m\u001b[0m\u001b[0m\n\u001b[1;32m   1085\u001b[0m     \u001b[0;32mdef\u001b[0m \u001b[0mmemhostalloc\u001b[0m\u001b[0;34m(\u001b[0m\u001b[0mself\u001b[0m\u001b[0;34m,\u001b[0m \u001b[0mbytesize\u001b[0m\u001b[0;34m,\u001b[0m \u001b[0mmapped\u001b[0m\u001b[0;34m=\u001b[0m\u001b[0;32mFalse\u001b[0m\u001b[0;34m,\u001b[0m \u001b[0mportable\u001b[0m\u001b[0;34m=\u001b[0m\u001b[0;32mFalse\u001b[0m\u001b[0;34m,\u001b[0m \u001b[0mwc\u001b[0m\u001b[0;34m=\u001b[0m\u001b[0;32mFalse\u001b[0m\u001b[0;34m)\u001b[0m\u001b[0;34m:\u001b[0m\u001b[0;34m\u001b[0m\u001b[0;34m\u001b[0m\u001b[0m\n",
      "\u001b[0;32m~/anaconda3/lib/python3.7/site-packages/numba/cuda/cudadrv/driver.py\u001b[0m in \u001b[0;36mmemalloc\u001b[0;34m(self, size)\u001b[0m\n\u001b[1;32m    821\u001b[0m             \u001b[0mdriver\u001b[0m\u001b[0;34m.\u001b[0m\u001b[0mcuMemAlloc\u001b[0m\u001b[0;34m(\u001b[0m\u001b[0mbyref\u001b[0m\u001b[0;34m(\u001b[0m\u001b[0mptr\u001b[0m\u001b[0;34m)\u001b[0m\u001b[0;34m,\u001b[0m \u001b[0msize\u001b[0m\u001b[0;34m)\u001b[0m\u001b[0;34m\u001b[0m\u001b[0;34m\u001b[0m\u001b[0m\n\u001b[1;32m    822\u001b[0m \u001b[0;34m\u001b[0m\u001b[0m\n\u001b[0;32m--> 823\u001b[0;31m         \u001b[0mself\u001b[0m\u001b[0;34m.\u001b[0m\u001b[0m_attempt_allocation\u001b[0m\u001b[0;34m(\u001b[0m\u001b[0mallocator\u001b[0m\u001b[0;34m)\u001b[0m\u001b[0;34m\u001b[0m\u001b[0;34m\u001b[0m\u001b[0m\n\u001b[0m\u001b[1;32m    824\u001b[0m \u001b[0;34m\u001b[0m\u001b[0m\n\u001b[1;32m    825\u001b[0m         \u001b[0mfinalizer\u001b[0m \u001b[0;34m=\u001b[0m \u001b[0m_alloc_finalizer\u001b[0m\u001b[0;34m(\u001b[0m\u001b[0mself\u001b[0m\u001b[0;34m,\u001b[0m \u001b[0mptr\u001b[0m\u001b[0;34m,\u001b[0m \u001b[0msize\u001b[0m\u001b[0;34m)\u001b[0m\u001b[0;34m\u001b[0m\u001b[0;34m\u001b[0m\u001b[0m\n",
      "\u001b[0;32m~/anaconda3/lib/python3.7/site-packages/numba/cuda/cudadrv/driver.py\u001b[0m in \u001b[0;36m_attempt_allocation\u001b[0;34m(self, allocator)\u001b[0m\n\u001b[1;32m    702\u001b[0m         \"\"\"\n\u001b[1;32m    703\u001b[0m         \u001b[0;32mtry\u001b[0m\u001b[0;34m:\u001b[0m\u001b[0;34m\u001b[0m\u001b[0;34m\u001b[0m\u001b[0m\n\u001b[0;32m--> 704\u001b[0;31m             \u001b[0mallocator\u001b[0m\u001b[0;34m(\u001b[0m\u001b[0;34m)\u001b[0m\u001b[0;34m\u001b[0m\u001b[0;34m\u001b[0m\u001b[0m\n\u001b[0m\u001b[1;32m    705\u001b[0m         \u001b[0;32mexcept\u001b[0m \u001b[0mCudaAPIError\u001b[0m \u001b[0;32mas\u001b[0m \u001b[0me\u001b[0m\u001b[0;34m:\u001b[0m\u001b[0;34m\u001b[0m\u001b[0;34m\u001b[0m\u001b[0m\n\u001b[1;32m    706\u001b[0m             \u001b[0;31m# is out-of-memory?\u001b[0m\u001b[0;34m\u001b[0m\u001b[0;34m\u001b[0m\u001b[0;34m\u001b[0m\u001b[0m\n",
      "\u001b[0;32m~/anaconda3/lib/python3.7/site-packages/numba/cuda/cudadrv/driver.py\u001b[0m in \u001b[0;36mallocator\u001b[0;34m()\u001b[0m\n\u001b[1;32m    819\u001b[0m \u001b[0;34m\u001b[0m\u001b[0m\n\u001b[1;32m    820\u001b[0m         \u001b[0;32mdef\u001b[0m \u001b[0mallocator\u001b[0m\u001b[0;34m(\u001b[0m\u001b[0;34m)\u001b[0m\u001b[0;34m:\u001b[0m\u001b[0;34m\u001b[0m\u001b[0;34m\u001b[0m\u001b[0m\n\u001b[0;32m--> 821\u001b[0;31m             \u001b[0mdriver\u001b[0m\u001b[0;34m.\u001b[0m\u001b[0mcuMemAlloc\u001b[0m\u001b[0;34m(\u001b[0m\u001b[0mbyref\u001b[0m\u001b[0;34m(\u001b[0m\u001b[0mptr\u001b[0m\u001b[0;34m)\u001b[0m\u001b[0;34m,\u001b[0m \u001b[0msize\u001b[0m\u001b[0;34m)\u001b[0m\u001b[0;34m\u001b[0m\u001b[0;34m\u001b[0m\u001b[0m\n\u001b[0m\u001b[1;32m    822\u001b[0m \u001b[0;34m\u001b[0m\u001b[0m\n\u001b[1;32m    823\u001b[0m         \u001b[0mself\u001b[0m\u001b[0;34m.\u001b[0m\u001b[0m_attempt_allocation\u001b[0m\u001b[0;34m(\u001b[0m\u001b[0mallocator\u001b[0m\u001b[0;34m)\u001b[0m\u001b[0;34m\u001b[0m\u001b[0;34m\u001b[0m\u001b[0m\n",
      "\u001b[0;32m~/anaconda3/lib/python3.7/site-packages/numba/cuda/cudadrv/driver.py\u001b[0m in \u001b[0;36msafe_cuda_api_call\u001b[0;34m(*args)\u001b[0m\n\u001b[1;32m    293\u001b[0m             \u001b[0m_logger\u001b[0m\u001b[0;34m.\u001b[0m\u001b[0mdebug\u001b[0m\u001b[0;34m(\u001b[0m\u001b[0;34m'call driver api: %s'\u001b[0m\u001b[0;34m,\u001b[0m \u001b[0mlibfn\u001b[0m\u001b[0;34m.\u001b[0m\u001b[0m__name__\u001b[0m\u001b[0;34m)\u001b[0m\u001b[0;34m\u001b[0m\u001b[0;34m\u001b[0m\u001b[0m\n\u001b[1;32m    294\u001b[0m             \u001b[0mretcode\u001b[0m \u001b[0;34m=\u001b[0m \u001b[0mlibfn\u001b[0m\u001b[0;34m(\u001b[0m\u001b[0;34m*\u001b[0m\u001b[0margs\u001b[0m\u001b[0;34m)\u001b[0m\u001b[0;34m\u001b[0m\u001b[0;34m\u001b[0m\u001b[0m\n\u001b[0;32m--> 295\u001b[0;31m             \u001b[0mself\u001b[0m\u001b[0;34m.\u001b[0m\u001b[0m_check_error\u001b[0m\u001b[0;34m(\u001b[0m\u001b[0mfname\u001b[0m\u001b[0;34m,\u001b[0m \u001b[0mretcode\u001b[0m\u001b[0;34m)\u001b[0m\u001b[0;34m\u001b[0m\u001b[0;34m\u001b[0m\u001b[0m\n\u001b[0m\u001b[1;32m    296\u001b[0m         \u001b[0;32mreturn\u001b[0m \u001b[0msafe_cuda_api_call\u001b[0m\u001b[0;34m\u001b[0m\u001b[0;34m\u001b[0m\u001b[0m\n\u001b[1;32m    297\u001b[0m \u001b[0;34m\u001b[0m\u001b[0m\n",
      "\u001b[0;32m~/anaconda3/lib/python3.7/site-packages/numba/cuda/cudadrv/driver.py\u001b[0m in \u001b[0;36m_check_error\u001b[0;34m(self, fname, retcode)\u001b[0m\n\u001b[1;32m    328\u001b[0m                     \u001b[0m_logger\u001b[0m\u001b[0;34m.\u001b[0m\u001b[0mcritical\u001b[0m\u001b[0;34m(\u001b[0m\u001b[0mmsg\u001b[0m\u001b[0;34m,\u001b[0m \u001b[0m_getpid\u001b[0m\u001b[0;34m(\u001b[0m\u001b[0;34m)\u001b[0m\u001b[0;34m,\u001b[0m \u001b[0mself\u001b[0m\u001b[0;34m.\u001b[0m\u001b[0mpid\u001b[0m\u001b[0;34m)\u001b[0m\u001b[0;34m\u001b[0m\u001b[0;34m\u001b[0m\u001b[0m\n\u001b[1;32m    329\u001b[0m                     \u001b[0;32mraise\u001b[0m \u001b[0mCudaDriverError\u001b[0m\u001b[0;34m(\u001b[0m\u001b[0;34m\"CUDA initialized before forking\"\u001b[0m\u001b[0;34m)\u001b[0m\u001b[0;34m\u001b[0m\u001b[0;34m\u001b[0m\u001b[0m\n\u001b[0;32m--> 330\u001b[0;31m             \u001b[0;32mraise\u001b[0m \u001b[0mCudaAPIError\u001b[0m\u001b[0;34m(\u001b[0m\u001b[0mretcode\u001b[0m\u001b[0;34m,\u001b[0m \u001b[0mmsg\u001b[0m\u001b[0;34m)\u001b[0m\u001b[0;34m\u001b[0m\u001b[0;34m\u001b[0m\u001b[0m\n\u001b[0m\u001b[1;32m    331\u001b[0m \u001b[0;34m\u001b[0m\u001b[0m\n\u001b[1;32m    332\u001b[0m     \u001b[0;32mdef\u001b[0m \u001b[0mget_device\u001b[0m\u001b[0;34m(\u001b[0m\u001b[0mself\u001b[0m\u001b[0;34m,\u001b[0m \u001b[0mdevnum\u001b[0m\u001b[0;34m=\u001b[0m\u001b[0;36m0\u001b[0m\u001b[0;34m)\u001b[0m\u001b[0;34m:\u001b[0m\u001b[0;34m\u001b[0m\u001b[0;34m\u001b[0m\u001b[0m\n",
      "\u001b[0;31mCudaAPIError\u001b[0m: [700] Call to cuMemAlloc results in UNKNOWN_CUDA_ERROR"
     ]
    }
   ],
   "source": [
    "henon_fig, henon_ax = plt.subplots()\n",
    "epsilon = 16.0\n",
    "samples = 4000\n",
    "steps = 5000\n",
    "bins = 200\n",
    "r_0 = 0.45\n",
    "I_0 = r_0 ** 2 / 2\n",
    "r_sigma = 0.0001\n",
    "r0 = np.random.normal(r_0, r_sigma, size=samples)\n",
    "print(\"Computing...\")\n",
    "alpha = np.random.rand(samples) * np.pi / 2\n",
    "theta1 = np.random.rand(samples) * np.pi * 2\n",
    "theta2 = np.random.rand(samples) * np.pi * 2\n",
    "x = r0 * np.sin(alpha) * np.cos(theta1)\n",
    "px = r0 * np.sin(alpha) * np.sin(theta1)\n",
    "y = r0 * np.cos(alpha) * np.cos(theta2)\n",
    "py = r0 * np.cos(alpha) * np.sin(theta2)\n",
    "\n",
    "r, a, th1, th2 = hm.cartesian_to_polar(x, px, y, py)\n",
    "henon_engine = hm.full_track.generate_instance(\n",
    "    r, a, th1, th2,\n",
    "    np.ones(samples, dtype=np.int) * steps,\n",
    "    epsilon\n",
    ")\n",
    "x, px, y, py = henon_engine.compute()\n",
    "\n",
    "actions = (np.power(x, 2) + np.power(px, 2) + np.power(y, 2) + np.power(py, 2)) / 2\n",
    "\n",
    "print(\"Done computing.\")\n",
    "\n",
    "def histo_test(index):\n",
    "    henon_ax.clear()\n",
    "    \n",
    "    filtered_data = actions[index][np.logical_not(np.isnan(actions[index]))]\n",
    "    weights = np.empty_like(filtered_data)\n",
    "    ### USEFUL! ###\n",
    "    weights.fill((filtered_data.size/actions[index].size) * bins / (filtered_data.max()-filtered_data.min()) / filtered_data.size)\n",
    "    ###############\n",
    "    n, _, _ = henon_ax.hist(filtered_data, weights=weights, bins=bins, range=(0, np.nanmax(actions)))\n",
    "    \n",
    "    #henon_ax.hist(actions[index, :], bins=bins, range=(0, np.max(actions)))\n",
    "    henon_ax.set_xlim(0, np.nanmax(actions))\n",
    "    henon_ax.set_ylim(0, 50)\n",
    "    henon_ax.set_xlabel(\"$I$\")\n",
    "    henon_ax.set_ylabel(\"$\\\\rho(I)$\")\n",
    "    henon_ax.set_title(\"Iterations $= {}$, $I_0={:.2}$, valid beam $={}$\".format(index, I_0, 1 - np.count_nonzero(np.isnan(actions[index])) / samples))\n",
    "    \n",
    "widj_idx_I = widgets.IntSlider(value=0, min=0, max=steps-1, step=1, continuous_update=True)\n",
    "\n",
    "ui = widgets.VBox([\n",
    "    widgets.Label(\"t sample\"), widj_idx_I,\n",
    "])\n",
    "out = widgets.interactive_output(\n",
    "    histo_test,\n",
    "    {\"index\":widj_idx_I}\n",
    ")\n",
    "\n",
    "display(ui, out)"
   ]
  },
  {
   "cell_type": "code",
   "execution_count": null,
   "metadata": {
    "scrolled": true
   },
   "outputs": [],
   "source": [
    "samples = 100\n",
    "steps = 1000\n",
    "\n",
    "epsilon = 16.0\n",
    "\n",
    "I_max = 0.6\n",
    "I_steps = 50\n",
    "I_list = np.linspace(0, I_max, I_steps)\n",
    "\n",
    "data_x = np.zeros((I_steps, I_steps))\n",
    "data_y = np.zeros((I_steps, I_steps))\n",
    "data_tot = np.zeros((I_steps, I_steps))\n",
    "\n",
    "avg_data_x = np.zeros((I_steps, I_steps))\n",
    "avg_data_y = np.zeros((I_steps, I_steps))\n",
    "avg_data_tot = np.zeros((I_steps, I_steps))\n",
    "\n",
    "for i, I_0x in tqdm(enumerate(I_list), total=I_steps):\n",
    "    for j, I_0y in tqdm(enumerate(I_list), total=I_steps):\n",
    "        theta1 = np.random.rand(samples) * np.pi * 2\n",
    "        theta2 = np.random.rand(samples) * np.pi * 2\n",
    "        x = I_0x * np.cos(theta1)\n",
    "        px = I_0x * np.sin(theta1)\n",
    "        y = I_0y * np.cos(theta2)\n",
    "        py = I_0y * np.sin(theta2)\n",
    "\n",
    "        r, a, th1, th2 = hm.cartesian_to_polar(x, px, y, py)\n",
    "        henon_engine = hm.full_track.generate_instance(\n",
    "            r, a, th1, th2,\n",
    "            np.ones(samples, dtype=np.int) * steps,\n",
    "            epsilon\n",
    "        )\n",
    "\n",
    "        x, px, y, py = henon_engine.compute()\n",
    "\n",
    "        if np.count_nonzero(np.isnan(x)) != 0 or np.count_nonzero(x > 2) != 0:\n",
    "            data_x[i, j] = np.nan\n",
    "            data_y[i, j] = np.nan\n",
    "            data_tot[i, j] = np.nan\n",
    "            avg_data_x[i, j] = np.nan\n",
    "            avg_data_y[i, j] = np.nan\n",
    "            avg_data_tot[i, j] = np.nan\n",
    "        else:\n",
    "            var_x = np.var((x ** 2 + px ** 2)/2, axis=1)\n",
    "            var_y = np.var((y ** 2 + py ** 2)/2, axis=1)\n",
    "            tot = np.var((x ** 2 + px ** 2 + y ** 2 + py ** 2)/2, axis=1)\n",
    "            \n",
    "            avg_data_x[i, j] = np.average((x ** 2 + px ** 2)/2)\n",
    "            avg_data_y[i, j] = np.average((y ** 2 + py ** 2)/2)\n",
    "            avg_data_tot[i, j] = np.average((x ** 2 + px ** 2 + y ** 2 + py ** 2)/2)\n",
    "            \n",
    "            data_x[i, j] = linregress(range(steps), var_x)[0]\n",
    "            data_y[i, j] = linregress(range(steps), var_y)[0]\n",
    "            data_tot[i, j] = linregress(range(steps), tot)[0]"
   ]
  },
  {
   "cell_type": "code",
   "execution_count": null,
   "metadata": {},
   "outputs": [],
   "source": [
    "henon2_fig, henon2_ax = plt.subplots(2,3)\n",
    "\n",
    "coso1 = henon2_ax[0][0].imshow(data_x, aspect=\"auto\", origin=\"lower\", extent=(0, I_max, 0, I_max), vmin=0)\n",
    "henon2_fig.colorbar(coso1, ax=henon2_ax[0][0])\n",
    "coso2 = henon2_ax[0][1].imshow(data_y, aspect=\"auto\", origin=\"lower\", extent=(0, I_max, 0, I_max), vmin=0)\n",
    "henon2_fig.colorbar(coso2, ax=henon2_ax[0][1])\n",
    "coso3 = henon2_ax[0][2].imshow(data_tot, aspect=\"auto\", origin=\"lower\", extent=(0, I_max, 0, I_max), vmin=0)\n",
    "henon2_fig.colorbar(coso3, ax=henon2_ax[0][2])\n",
    "\n",
    "\n",
    "coso1 = henon2_ax[1][0].imshow(np.log(avg_data_x), aspect=\"auto\", origin=\"lower\", extent=(0, I_max, 0, I_max))\n",
    "henon2_fig.colorbar(coso1, ax=henon2_ax[1][0])\n",
    "coso2 = henon2_ax[1][1].imshow(np.log(avg_data_y), aspect=\"auto\", origin=\"lower\", extent=(0, I_max, 0, I_max))\n",
    "henon2_fig.colorbar(coso2, ax=henon2_ax[1][1])\n",
    "coso3 = henon2_ax[1][2].imshow(np.log(avg_data_tot), aspect=\"auto\", origin=\"lower\", extent=(0, I_max, 0, I_max))\n",
    "henon2_fig.colorbar(coso3, ax=henon2_ax[1][2])\n",
    "\n",
    "plt.tight_layout()"
   ]
  },
  {
   "cell_type": "code",
   "execution_count": null,
   "metadata": {},
   "outputs": [],
   "source": [
    "samples = 1000\n",
    "steps = 10000\n",
    "\n",
    "I = 0.06\n",
    "radius = np.sqrt(I * 2)\n",
    "print(radius)\n",
    "radiuses = np.ones(samples) * radius\n",
    "henon_engine = hm.full_track.generate_instance(\n",
    "    radiuses,\n",
    "    np.random.rand(samples) * np.pi / 2,\n",
    "    np.random.rand(samples) * np.pi * 2,\n",
    "    np.random.rand(samples) * np.pi * 2,\n",
    "    np.ones(samples, dtype=np.int) * steps,\n",
    "    32.0\n",
    ")\n",
    "\n",
    "x, px, y, py = henon_engine.compute() # niters, nsamples\n",
    "r, _, _, _ = hm.cartesian_to_polar(x, px, y, py)\n",
    "\n",
    "final_I = (r ** 2 / 2)[:]\n",
    "discrete_d = np.var(final_I, axis=1) #/ np.arange(1, final_I.shape[0] + 1)"
   ]
  },
  {
   "cell_type": "code",
   "execution_count": null,
   "metadata": {},
   "outputs": [],
   "source": [
    "plt.figure()\n",
    "plt.plot(moving_average( np.var((x ** 2 + px ** 2)/2, axis=1), 100))\n",
    "plt.plot(moving_average( np.var((y ** 2 + py ** 2)/2, axis=1), 100))\n",
    "#plt.plot(moving_average(np.var((x ** 2 + px ** 2 + y ** 2 + py ** 2)/2, axis=1), 200))\n",
    "#plt.plot(discrete_d)\n",
    "plt.xlabel(\"N iterations\")\n",
    "plt.ylabel(\"Variance of I\")\n",
    "plt.title(\"Initial condition $I_0={}$\".format(I))"
   ]
  },
  {
   "cell_type": "code",
   "execution_count": null,
   "metadata": {},
   "outputs": [],
   "source": [
    "plt.figure()\n",
    "plt.plot(moving_average(discrete_d, 200))\n",
    "#plt.plot(discrete_d)\n",
    "plt.xlabel(\"N iterations\")\n",
    "plt.ylabel(\"Variance of I\")\n",
    "plt.title(\"Initial condition $I_0={}$\".format(I))"
   ]
  },
  {
   "cell_type": "code",
   "execution_count": 50,
   "metadata": {},
   "outputs": [
    {
     "data": {
      "application/vnd.jupyter.widget-view+json": {
       "model_id": "",
       "version_major": 2,
       "version_minor": 0
      },
      "text/plain": [
       "Canvas(toolbar=Toolbar(toolitems=[('Home', 'Reset original view', 'home', 'home'), ('Back', 'Back to previous …"
      ]
     },
     "metadata": {},
     "output_type": "display_data"
    },
    {
     "data": {
      "text/plain": [
       "(array([0., 0., 0., 0., 0., 0., 0., 0., 0., 0., 0., 0., 0., 0., 0., 0., 0.,\n",
       "        0., 0., 0., 0., 0., 0., 0., 0., 0., 0., 0., 0., 0.]),\n",
       " array([0.   , 0.002, 0.004, 0.006, 0.008, 0.01 , 0.012, 0.014, 0.016,\n",
       "        0.018, 0.02 , 0.022, 0.024, 0.026, 0.028, 0.03 , 0.032, 0.034,\n",
       "        0.036, 0.038, 0.04 , 0.042, 0.044, 0.046, 0.048, 0.05 , 0.052,\n",
       "        0.054, 0.056, 0.058, 0.06 ]),\n",
       " <a list of 30 Patch objects>)"
      ]
     },
     "execution_count": 50,
     "metadata": {},
     "output_type": "execute_result"
    }
   ],
   "source": [
    "plt.figure()\n",
    "plt.hist(final_I[340],alpha=0.2, range=(0,0.06), bins=30)\n",
    "plt.hist(final_I[341],alpha=0.2, range=(0,0.06), bins=30)\n",
    "plt.hist(final_I[342],alpha=0.2, range=(0,0.06), bins=30)\n",
    "plt.hist(final_I[-1],alpha=0.2, range=(0,0.06), bins=30)"
   ]
  },
  {
   "cell_type": "code",
   "execution_count": null,
   "metadata": {},
   "outputs": [],
   "source": []
  },
  {
   "cell_type": "code",
   "execution_count": 51,
   "metadata": {},
   "outputs": [
    {
     "data": {
      "application/vnd.jupyter.widget-view+json": {
       "model_id": "",
       "version_major": 2,
       "version_minor": 0
      },
      "text/plain": [
       "HBox(children=(FloatProgress(value=0.0), HTML(value='')))"
      ]
     },
     "metadata": {},
     "output_type": "display_data"
    },
    {
     "name": "stdout",
     "output_type": "stream",
     "text": [
      "\n"
     ]
    }
   ],
   "source": [
    "I_max = 0.07\n",
    "I_min = 0.01\n",
    "I_steps = 100\n",
    "\n",
    "I_list = np.linspace(I_min, I_max, I_steps)\n",
    "\n",
    "samples = 5000\n",
    "steps = 500\n",
    "\n",
    "d_data = []\n",
    "avg = []\n",
    "std = []\n",
    "\n",
    "for I in tqdm(I_list):\n",
    "    radiuses = np.ones(samples) * (np.sqrt(I * 2))\n",
    "    henon_engine = hm.full_track.generate_instance(\n",
    "        radiuses,\n",
    "        np.random.rand(samples) * np.pi / 2,\n",
    "        np.random.rand(samples) * np.pi * 2,\n",
    "        np.random.rand(samples) * np.pi * 2,\n",
    "        np.ones(samples, dtype=np.int) * steps,\n",
    "        16.0\n",
    "    )\n",
    "    \n",
    "    x, px, y, py = henon_engine.compute() # niters, nsamples\n",
    "    r, _, _, _ = hm.cartesian_to_polar(x, px, y, py)\n",
    "\n",
    "    final_I = (r ** 2 / 2)[1:]\n",
    "    discrete_d = np.var(final_I, axis=1) #/ np.arange(1, final_I.shape[0] + 1)\n",
    "    d_data.append(discrete_d)\n",
    "    avg.append(np.average(discrete_d))\n",
    "    std.append(np.std(discrete_d))\n",
    "    "
   ]
  },
  {
   "cell_type": "code",
   "execution_count": 52,
   "metadata": {},
   "outputs": [
    {
     "data": {
      "application/vnd.jupyter.widget-view+json": {
       "model_id": "",
       "version_major": 2,
       "version_minor": 0
      },
      "text/plain": [
       "Canvas(toolbar=Toolbar(toolitems=[('Home', 'Reset original view', 'home', 'home'), ('Back', 'Back to previous …"
      ]
     },
     "metadata": {},
     "output_type": "display_data"
    },
    {
     "data": {
      "text/plain": [
       "<matplotlib.collections.PolyCollection at 0x7f62df52ac90>"
      ]
     },
     "execution_count": 52,
     "metadata": {},
     "output_type": "execute_result"
    }
   ],
   "source": [
    "plt.figure()\n",
    "plt.plot(I_list, avg)\n",
    "plt.fill_between(I_list, np.asarray(avg) - np.asarray(std), np.asarray(avg) + np.asarray(std), alpha=0.2)"
   ]
  },
  {
   "cell_type": "code",
   "execution_count": 53,
   "metadata": {},
   "outputs": [
    {
     "name": "stderr",
     "output_type": "stream",
     "text": [
      "/home/carlidel/anaconda3/lib/python3.7/site-packages/ipykernel_launcher.py:1: RuntimeWarning: More than 20 figures have been opened. Figures created through the pyplot interface (`matplotlib.pyplot.figure`) are retained until explicitly closed and may consume too much memory. (To control this warning, see the rcParam `figure.max_open_warning`).\n",
      "  \"\"\"Entry point for launching an IPython kernel.\n"
     ]
    },
    {
     "data": {
      "application/vnd.jupyter.widget-view+json": {
       "model_id": "",
       "version_major": 2,
       "version_minor": 0
      },
      "text/plain": [
       "Canvas(toolbar=Toolbar(toolitems=[('Home', 'Reset original view', 'home', 'home'), ('Back', 'Back to previous …"
      ]
     },
     "metadata": {},
     "output_type": "display_data"
    },
    {
     "data": {
      "text/plain": [
       "[<matplotlib.lines.Line2D at 0x7f62df3c5150>]"
      ]
     },
     "execution_count": 53,
     "metadata": {},
     "output_type": "execute_result"
    }
   ],
   "source": [
    "plt.figure()\n",
    "plt.plot(discrete_d[:])"
   ]
  },
  {
   "cell_type": "code",
   "execution_count": null,
   "metadata": {},
   "outputs": [],
   "source": []
  }
 ],
 "metadata": {
  "kernelspec": {
   "display_name": "Python 3",
   "language": "python",
   "name": "python3"
  },
  "language_info": {
   "codemirror_mode": {
    "name": "ipython",
    "version": 3
   },
   "file_extension": ".py",
   "mimetype": "text/x-python",
   "name": "python",
   "nbconvert_exporter": "python",
   "pygments_lexer": "ipython3",
   "version": "3.7.7"
  }
 },
 "nbformat": 4,
 "nbformat_minor": 4
}
