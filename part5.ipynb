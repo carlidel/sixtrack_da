{
 "cells": [
  {
   "cell_type": "markdown",
   "metadata": {},
   "source": [
    "# 2D Scanning\n",
    "## Import libraries"
   ]
  },
  {
   "cell_type": "code",
   "execution_count": 1,
   "metadata": {},
   "outputs": [],
   "source": [
    "# Base libraries\n",
    "import math\n",
    "import numpy as np\n",
    "import scipy.integrate as integrate\n",
    "from tqdm import tqdm\n",
    "from scipy.special import erf\n",
    "import pickle\n",
    "import itertools\n",
    "\n",
    "from SALib.sample import saltelli\n",
    "from SALib.analyze import sobol\n",
    "\n",
    "# Personal libraries\n",
    "import sixtrackwrap as sx\n",
    "\n",
    "from parameters import *"
   ]
  },
  {
   "cell_type": "markdown",
   "metadata": {},
   "source": [
    "## Computing"
   ]
  },
  {
   "cell_type": "code",
   "execution_count": 2,
   "metadata": {},
   "outputs": [
    {
     "name": "stdout",
     "output_type": "stream",
     "text": [
      "Active radiuses: 513 / 513\n",
      "Sample size per active radius: 4\n",
      "Expected execution time for step: nan\n",
      "Time per single iteration: 2.2412616490852994e-05\n",
      "r: 13.0 . Turns to do: 1000 . Min found: 1000\n",
      "Active radiuses: 513 / 513\n",
      "Sample size per active radius: 4\n",
      "Expected execution time for step: 45.99\n",
      "Time per single iteration: 2.23776291453118e-05\n",
      "r: 17.0 . Turns to do: 1000 . Min found: 143\n",
      "Active radiuses: 513 / 513\n",
      "Sample size per active radius: 4\n",
      "Expected execution time for step: 45.92\n",
      "Time per single iteration: 2.1957401876096373e-05\n",
      "r: 21.0 . Turns to do: 1000 . Min found: 50\n",
      "Active radiuses: 336 / 513\n",
      "Sample size per active radius: 7\n",
      "Expected execution time for step: 51.64\n",
      "Time per single iteration: 1.918377225496331e-05\n",
      "r: 28.0 . Turns to do: 449 . Min found: 3\n",
      "Active radiuses: 26 / 513\n",
      "Sample size per active radius: 79\n",
      "Expected execution time for step: 17.69\n",
      "Time per single iteration: 1.7668903842794765e-05\n",
      "r: 107.0 . Turns to do: 0 . Min found: 0\n",
      "TOTAL ELAPSED TIME IN SECONDS: 198.38\n"
     ]
    }
   ],
   "source": [
    "data_5 = {}\n",
    "DA_5 = {}\n",
    "error_5 = {}\n",
    "\n",
    "alpha_values = np.linspace(0, np.pi * 0.5, alpha_max_samples)\n",
    "\n",
    "engine = sx.radial_scanner(alpha_values, np.zeros(alpha_values.shape), np.zeros(alpha_values.shape), d_r, starting_step=starting_step)\n",
    "engine.scan(turn_sampling[0], turn_sampling[-1])\n",
    "radiuses = engine.extract_DA(turn_sampling)\n",
    "data_5 = radiuses\n",
    "\n",
    "skips = [1]\n",
    "while True:\n",
    "    if (alpha_max_samples - 1) // skips[-1] > 4:\n",
    "        skips.append(skips[-1] * 2)\n",
    "    else:\n",
    "        break\n",
    "\n",
    "for i in skips:\n",
    "    alpha = alpha_values[::i]\n",
    "    d_alpha = alpha[1] - alpha[0]\n",
    "    cutted_radiuses = radiuses[::i]\n",
    "    value = integrate.simps(cutted_radiuses ** 2, alpha, axis=0)\n",
    "    less_value = integrate.simps(cutted_radiuses[::2] ** 2, alpha[::2], axis=0)\n",
    "    uncertainty = np.abs((value - less_value))\n",
    "\n",
    "    DA = np.sqrt(value * 2 / np.pi)\n",
    "    uncertainty = 0.5 * np.power(value * 2 / np.pi, -0.5) * uncertainty\n",
    "    DA_5[cutted_radiuses.shape] = np.asarray(DA)\n",
    "    error_5[cutted_radiuses.shape] = uncertainty "
   ]
  },
  {
   "cell_type": "markdown",
   "metadata": {},
   "source": [
    "### Saving Data"
   ]
  },
  {
   "cell_type": "code",
   "execution_count": 3,
   "metadata": {},
   "outputs": [],
   "source": [
    "with open(\"data/DA_5.pkl\", 'wb') as f:\n",
    "    pickle.dump(DA_5, f, protocol=4)\n",
    "    \n",
    "with open(\"data/error_5.pkl\", 'wb') as f:\n",
    "    pickle.dump(error_5, f, protocol=4)"
   ]
  },
  {
   "cell_type": "code",
   "execution_count": null,
   "metadata": {},
   "outputs": [],
   "source": []
  }
 ],
 "metadata": {
  "kernelspec": {
   "display_name": "Python 3",
   "language": "python",
   "name": "python3"
  },
  "language_info": {
   "codemirror_mode": {
    "name": "ipython",
    "version": 3
   },
   "file_extension": ".py",
   "mimetype": "text/x-python",
   "name": "python",
   "nbconvert_exporter": "python",
   "pygments_lexer": "ipython3",
   "version": "3.8.1"
  }
 },
 "nbformat": 4,
 "nbformat_minor": 4
}
