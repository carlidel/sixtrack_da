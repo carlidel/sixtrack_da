{
 "cells": [
  {
   "cell_type": "markdown",
   "metadata": {},
   "source": [
    "# General DA fittings and Fokker-Planck comparisons\n"
   ]
  },
  {
   "cell_type": "markdown",
   "metadata": {},
   "source": [
    "## Setup scripts if we are under SWAN"
   ]
  },
  {
   "cell_type": "code",
   "execution_count": null,
   "metadata": {},
   "outputs": [],
   "source": [
    "# Working in the right path\n",
    "%cd /eos/project/d/da-and-diffusion-studies/DA_Studies/Simulations/Models/da_sixtrack"
   ]
  },
  {
   "cell_type": "code",
   "execution_count": null,
   "metadata": {},
   "outputs": [],
   "source": [
    "# Install the libraries\n",
    "import sys\n",
    "!{sys.executable} -m pip install --user tqdm pynverse\n",
    "!export PYTHONPATH=$CERNBOX_HOME/.local/lib/python3.7/site-packages:$PYTHONPATH"
   ]
  },
  {
   "cell_type": "code",
   "execution_count": null,
   "metadata": {},
   "outputs": [],
   "source": [
    "# For this \"presentation\" only!\n",
    "import warnings\n",
    "warnings.filterwarnings('ignore')"
   ]
  },
  {
   "cell_type": "markdown",
   "metadata": {},
   "source": [
    "## Imports"
   ]
  },
  {
   "cell_type": "code",
   "execution_count": 1,
   "metadata": {},
   "outputs": [],
   "source": [
    "%matplotlib widget"
   ]
  },
  {
   "cell_type": "code",
   "execution_count": 2,
   "metadata": {},
   "outputs": [],
   "source": [
    "# Base libraries\n",
    "import math\n",
    "import numpy as np\n",
    "import scipy.integrate as integrate\n",
    "from scipy.special import erf\n",
    "import pickle\n",
    "import itertools\n",
    "from scipy.optimize import curve_fit\n",
    "\n",
    "from numba import njit, prange\n",
    "\n",
    "# Personal libraries\n",
    "#import sixtrackwrap_light as sx\n",
    "import sixtrackwrap_light as sx\n",
    "\n",
    "from tqdm.notebook import tqdm\n",
    "import time\n",
    "import matplotlib.pyplot as plt\n",
    "import ipywidgets as widgets\n",
    "import matplotlib.pyplot as plt\n",
    "import matplotlib\n",
    "import matplotlib.ticker as ticker\n",
    "from math import gcd\n",
    "\n",
    "import pandas as pd\n",
    "\n",
    "from scipy.special import lambertw\n",
    "\n",
    "import warnings"
   ]
  },
  {
   "cell_type": "markdown",
   "metadata": {},
   "source": [
    "## Load data and setup original DA"
   ]
  },
  {
   "cell_type": "code",
   "execution_count": 3,
   "metadata": {},
   "outputs": [],
   "source": [
    "savepath = \"data/\"\n",
    "engine = sx.radial_scanner.load_values(savepath + \"big_scan.pkl\")\n",
    "\n",
    "min_turns = engine.min_time\n",
    "max_turns = engine.max_time\n",
    "n_turn_samples = 500\n",
    "\n",
    "turn_sampling = np.linspace(min_turns, max_turns, n_turn_samples, dtype=np.int_)[::-1]\n",
    "\n",
    "d_r = engine.dr\n",
    "starting_step = engine.starting_step\n",
    "\n",
    "# BASELINE COMPUTING\n",
    "baseline_samples = 33\n",
    "baseline_total_samples = baseline_samples ** 3"
   ]
  },
  {
   "cell_type": "code",
   "execution_count": 4,
   "metadata": {},
   "outputs": [],
   "source": [
    "alpha_preliminary_values = np.linspace(-1.0, 1.0, baseline_samples)\n",
    "alpha_values = np.arccos(alpha_preliminary_values) / 2\n",
    "theta1_values = np.linspace(0.0, np.pi * 2.0, baseline_samples, endpoint=False)\n",
    "theta2_values = np.linspace(0.0, np.pi * 2.0, baseline_samples, endpoint=False)\n",
    "\n",
    "d_preliminar_alpha = alpha_preliminary_values[1] - alpha_preliminary_values[0]\n",
    "d_theta1 = theta1_values[1] - theta1_values[0]\n",
    "d_theta2 = theta2_values[1] - theta2_values[0]\n",
    "\n",
    "alpha_mesh, theta1_mesh, theta2_mesh = np.meshgrid(alpha_values, theta1_values, theta2_values, indexing='ij')\n",
    "\n",
    "alpha_flat = alpha_mesh.flatten()\n",
    "theta1_flat = theta1_mesh.flatten()\n",
    "theta2_flat = theta2_mesh.flatten()"
   ]
  },
  {
   "cell_type": "code",
   "execution_count": 5,
   "metadata": {},
   "outputs": [],
   "source": [
    "radiuses = engine.extract_DA(turn_sampling)\n",
    "radiuses = radiuses.reshape((baseline_samples, baseline_samples, baseline_samples, len(turn_sampling)))"
   ]
  },
  {
   "cell_type": "code",
   "execution_count": 6,
   "metadata": {},
   "outputs": [],
   "source": [
    "DA = []\n",
    "\n",
    "mod_radiuses = radiuses.copy()\n",
    "mod_radiuses = np.power(radiuses, 4)\n",
    "mod_radiuses1 = integrate.simps(mod_radiuses, x=theta1_values, axis=1)\n",
    "mod_radiuses2 = integrate.simps(mod_radiuses1, x=theta2_values, axis=1)\n",
    "mod_radiuses3 = integrate.simps(mod_radiuses2, x=alpha_preliminary_values, axis=0)\n",
    "\n",
    "for i in range(len(turn_sampling)):\n",
    "    DA.append(\n",
    "        np.power(\n",
    "            mod_radiuses3[i] / (2 * theta1_values[-1] * theta2_values[-1]),\n",
    "            1/4\n",
    "        )\n",
    "    )\n",
    "\n",
    "DA = np.asarray(DA)"
   ]
  },
  {
   "cell_type": "code",
   "execution_count": 7,
   "metadata": {},
   "outputs": [],
   "source": [
    "axis_sampling = np.concatenate((turn_sampling,[0.0]))"
   ]
  },
  {
   "cell_type": "markdown",
   "metadata": {},
   "source": [
    "## Prepare inverse functions for obtaining DA from loss values"
   ]
  },
  {
   "cell_type": "code",
   "execution_count": 8,
   "metadata": {},
   "outputs": [],
   "source": [
    "from pynverse import inversefunc\n",
    "\n",
    "# Uniform 4D distribution\n",
    "\n",
    "@njit\n",
    "def uniform_loss(DA, DA0):\n",
    "    return (DA ** 4 / DA0 ** 4)\n",
    "\n",
    "@njit\n",
    "def DA_from_unifom_loss(loss, DA0):\n",
    "    return np.power((loss * DA0 ** 4), 1/4)\n",
    "\n",
    "# Symmetric 4D gaussian\n",
    "\n",
    "@njit\n",
    "def symmetric_gaussian_loss(DA, sigma, DA0):\n",
    "    baseline = - np.exp(- 0.5 * (DA0 / sigma) ** 2) * (DA0 ** 2 + 2 * sigma ** 2) + 2 * sigma ** 2\n",
    "    return (- np.exp(- 0.5 * (DA / sigma) ** 2) * (DA ** 2 + 2 * sigma ** 2) + 2 * sigma ** 2) / baseline\n",
    "\n",
    "\n",
    "def DA_from_symmetric_gaussian_loss(loss, sigma, DA0):\n",
    "    func = inversefunc(\n",
    "        lambda x: symmetric_gaussian_loss(x, sigma, DA0),\n",
    "        domain=0.0,\n",
    "        open_domain=[False, True]\n",
    "    )\n",
    "    return func(loss)\n",
    "    "
   ]
  },
  {
   "cell_type": "markdown",
   "metadata": {},
   "source": [
    "## Define Fitting Models!"
   ]
  },
  {
   "cell_type": "markdown",
   "metadata": {},
   "source": [
    "### Model 2\n",
    "\n",
    "$$D(N) = \\rho_\\ast \\left(\\frac{\\kappa}{2e}\\right)^\\kappa \\frac{1}{\\ln^\\kappa\\frac{N}{N_0}}$$\n"
   ]
  },
  {
   "cell_type": "code",
   "execution_count": 9,
   "metadata": {},
   "outputs": [],
   "source": [
    "@njit\n",
    "def model_2(x, rho, n0, k):\n",
    "    return rho * np.power(k / (2 * np.exp(1)), k) / (np.power(np.log(x / n0), k))\n",
    "\n",
    "\n",
    "def explore_k_model_2(turns, da, k_min, k_max, n_samples):\n",
    "    ks = np.linspace(k_min, k_max, n_samples)\n",
    "    pars = []\n",
    "    errs = []\n",
    "    co_pars = []\n",
    "    for k in tqdm(ks):\n",
    "        par, co_par = curve_fit(\n",
    "            lambda x, a, b : model_2(x, a, b, k),\n",
    "            turns,\n",
    "            da,\n",
    "            bounds=([0, 0.00001],[np.inf, turns[-1]-0.0001])\n",
    "        )\n",
    "        pars.append(par)\n",
    "        co_pars.append(co_par)\n",
    "        errs.append(np.sum(np.power(DA - model_2(turn_sampling, par[0], par[1], k), 2)[:]))\n",
    "    return np.asarray(pars), np.asarray(errs), np.asarray(co_pars)"
   ]
  },
  {
   "cell_type": "markdown",
   "metadata": {},
   "source": [
    "### Model 4\n",
    "\n",
    "$$D(N)=\\rho_{*} \\times \\frac{1}{\\left[-2 \\mathrm{e} \\lambda \\mathcal{W}_{-1}\\left(-\\frac{1}{2 \\mathrm{e} \\lambda}\\left(\\frac{\\rho_{\\ast}}{6}\\right)^{1 / \\kappa}\\left(\\frac{8}{7} N\\right)^{-1 /(\\lambda \\kappa)}\\right)\\right]^{\\kappa}}\n",
    "$$\n",
    "\n",
    "(with $\\lambda=0.5$)"
   ]
  },
  {
   "cell_type": "code",
   "execution_count": 10,
   "metadata": {},
   "outputs": [],
   "source": [
    "def model_4(x, rho, k):\n",
    "    lamb = 0.5\n",
    "    return np.real(\n",
    "        rho\n",
    "        / np.power(-2 * np.exp(1) * lamb * lambertw(- (1 / (2 * np.exp(1) * lamb)) * np.power(rho / 6, 1 / k) * np.power((8/7) * x, -1 / (lamb * k)), -1), k)\n",
    "    )\n",
    "\n",
    "def explore_k_model_4(turns, da, k_min, k_max, n_samples):\n",
    "    ks = np.linspace(k_min, k_max, n_samples)\n",
    "    pars = []\n",
    "    errs = []\n",
    "    co_pars = []\n",
    "    for k in tqdm(ks):\n",
    "        par, co_par = curve_fit(\n",
    "            lambda x, a : model_4(x, a, k),\n",
    "            turns,\n",
    "            da,\n",
    "            bounds=([0.1],[np.inf])\n",
    "        )\n",
    "        pars.append(par)\n",
    "        co_pars.append(co_par)\n",
    "        errs.append(np.sum(np.power(DA - model_4(turn_sampling, par[0], k), 2)[:]))\n",
    "    return np.asarray(pars), np.asarray(errs), np.asarray(co_pars)"
   ]
  },
  {
   "cell_type": "markdown",
   "metadata": {},
   "source": [
    "### A more free Model 4\n",
    "\n",
    "$$D(N)=\\rho_{*} \\times \\frac{1}{\\left[-2 \\mathrm{e} \\lambda \\mathcal{W}_{-1}\\left(-\\frac{1}{\\lambda\\kappa}\\left(\\frac{N}{N_0}\\right)^{-\\frac{1}{\\lambda\\kappa}}\\right)\\right]^{\\kappa}}\n",
    "$$\n",
    "\n",
    "(with $\\lambda=0.5$)"
   ]
  },
  {
   "cell_type": "code",
   "execution_count": 11,
   "metadata": {},
   "outputs": [],
   "source": [
    "def model_4_free(x, rho, n0, k):\n",
    "    lamb = 0.5\n",
    "    temp = (\n",
    "        rho / (np.power(- 2 * lamb * np.exp(1) * lambertw(- (1 / (lamb * k)) * np.power(x / n0, - 1 / (lamb * k)), -1), k))\n",
    "    )\n",
    "    \n",
    "    return np.real(temp) # TODO: FIX IT WITH PROPER MATH!!!\n",
    "\n",
    "\n",
    "def explore_model_4_free(turns, da, k_min, k_max, k_samples):\n",
    "    ks = np.linspace(k_min, k_max, k_samples)\n",
    "    pars = []\n",
    "    errs = []\n",
    "    co_pars = []\n",
    "    for k in tqdm(ks):\n",
    "        par, co_par = curve_fit(\n",
    "            lambda x, a, b : model_4_free(x, a, b, k),\n",
    "            turns,\n",
    "            da,\n",
    "            bounds=([0.01, 0.01], [np.inf, turns[-1] - 0.1])\n",
    "        )\n",
    "        pars.append(par)\n",
    "        co_pars.append(co_par)\n",
    "        errs.append(np.sum(np.power(DA - model_4_free(turn_sampling, par[0], par[1], k), 2)[:]))\n",
    "    return np.asarray(pars), np.asarray(errs), np.asarray(co_pars)"
   ]
  },
  {
   "cell_type": "markdown",
   "metadata": {},
   "source": [
    "## Visualize original DA value from data"
   ]
  },
  {
   "cell_type": "code",
   "execution_count": 12,
   "metadata": {},
   "outputs": [
    {
     "data": {
      "application/vnd.jupyter.widget-view+json": {
       "model_id": "45cd697f8ef54a3090fd9dcbf1e104bb",
       "version_major": 2,
       "version_minor": 0
      },
      "text/plain": [
       "Canvas(toolbar=Toolbar(toolitems=[('Home', 'Reset original view', 'home', 'home'), ('Back', 'Back to previous …"
      ]
     },
     "metadata": {},
     "output_type": "display_data"
    },
    {
     "data": {
      "text/plain": [
       "Text(0, 0.5, '$DA(N)$')"
      ]
     },
     "execution_count": 12,
     "metadata": {},
     "output_type": "execute_result"
    }
   ],
   "source": [
    "fig1, ax1 = plt.subplots()\n",
    "ax1.plot(turn_sampling, DA)\n",
    "ax1.set_title(\"Original $DA$ values (LHC on SixTrack)\")\n",
    "ax1.set_xlabel(\"$N$ turns\")\n",
    "ax1.set_ylabel(\"$DA(N)$\")"
   ]
  },
  {
   "cell_type": "markdown",
   "metadata": {},
   "source": [
    "## Setup Dataframe for storing the fitting data properly!"
   ]
  },
  {
   "cell_type": "code",
   "execution_count": 13,
   "metadata": {},
   "outputs": [],
   "source": [
    "labels = (\n",
    "    (\"type\", \"\"),\n",
    "    (\"sigma\", \"\"),\n",
    "    (\"Model 2\", \"k\"),\n",
    "    (\"Model 2\", \"k err\"),\n",
    "    (\"Model 2\", \"rho\"),\n",
    "    (\"Model 2\", \"rho err\"),\n",
    "    (\"Model 2\", \"N0\"),\n",
    "    (\"Model 2\", \"N0 err\"),\n",
    "    (\"Model 4 (2 free pars)\", \"k\"),\n",
    "    (\"Model 4 (2 free pars)\", \"k err\"),\n",
    "    (\"Model 4 (2 free pars)\", \"rho\"),\n",
    "    (\"Model 4 (2 free pars)\", \"rho err\"),\n",
    "    (\"Model 4 (2 free pars)\", \"lambda\"),\n",
    "    (\"Model 4 (3 free pars)\", \"k\"),\n",
    "    (\"Model 4 (3 free pars)\", \"k err\"),\n",
    "    (\"Model 4 (3 free pars)\", \"rho\"),\n",
    "    (\"Model 4 (3 free pars)\", \"rho err\"),\n",
    "    (\"Model 4 (3 free pars)\", \"N0\"),\n",
    "    (\"Model 4 (3 free pars)\", \"N0 err\"),\n",
    "    (\"Model 4 (3 free pars)\", \"lambda\"),\n",
    ")\n",
    "\n",
    "fitting_data = pd.DataFrame(columns=pd.MultiIndex.from_tuples(labels))"
   ]
  },
  {
   "cell_type": "markdown",
   "metadata": {},
   "source": [
    "## How is the error on the DA loss computed right now?\n",
    "\n",
    "1. Consider all the radiuses sampled.\n",
    "2. Compute the DA value.\n",
    "3. For every radius sampled, compute the difference from the DA value.\n",
    "4. The absolute value of the average of all these differences is considered as error.\n",
    "\n",
    "(I tried using the Standard Deviation of the radiuses distribution, but it ended up being 10% of the DA itself, so we \"need\" somehow a smaller error estimation)\n",
    "## Loss and Fits -- Uniform Beam Distribution\n",
    "### Loss comparison"
   ]
  },
  {
   "cell_type": "code",
   "execution_count": 14,
   "metadata": {},
   "outputs": [],
   "source": [
    "# Set DA0 cutting point\n",
    "DA0 = 26.0\n",
    "\n",
    "# Assign uniform weights to engine and compute loss\n",
    "engine.assign_weights(\n",
    "    sx.assign_uniform_distribution()\n",
    ")\n",
    "real_values = engine.compute_loss(turn_sampling, DA0)\n",
    "\n",
    "# Compute DA-based loss\n",
    "values = uniform_loss(DA, DA0)\n",
    "values = np.concatenate((values, [1.0]))\n",
    "\n",
    "# Error computing\n",
    "values1 = uniform_loss(DA - np.absolute(np.mean(radiuses - DA, axis=(0,1,2))), DA0)\n",
    "values1 = np.concatenate((values1, [1.0]))\n",
    "\n",
    "values2 = uniform_loss(DA + np.absolute(np.mean(radiuses - DA, axis=(0,1,2))), DA0)\n",
    "values2 = np.concatenate((values2, [1.0]))"
   ]
  },
  {
   "cell_type": "markdown",
   "metadata": {},
   "source": [
    "#### Visualize Loss comparison"
   ]
  },
  {
   "cell_type": "code",
   "execution_count": 15,
   "metadata": {},
   "outputs": [
    {
     "data": {
      "application/vnd.jupyter.widget-view+json": {
       "model_id": "f4776634ad354a76a4258a65d12e0914",
       "version_major": 2,
       "version_minor": 0
      },
      "text/plain": [
       "Canvas(toolbar=Toolbar(toolitems=[('Home', 'Reset original view', 'home', 'home'), ('Back', 'Back to previous …"
      ]
     },
     "metadata": {},
     "output_type": "display_data"
    },
    {
     "data": {
      "text/plain": [
       "Text(0.5, 1.0, 'Uniform beam (Cutting Point at $DA=26.0$)')"
      ]
     },
     "execution_count": 15,
     "metadata": {},
     "output_type": "execute_result"
    }
   ],
   "source": [
    "fig2, ax2 = plt.subplots()\n",
    "ax2.plot(axis_sampling, values, label=\"Values from DA\")\n",
    "ax2.fill_between(axis_sampling, values1, values2, label=\"Values from DA - error\", color=\"C0\", alpha=0.4)\n",
    "ax2.plot(axis_sampling, real_values, label=\"Values from weights\")\n",
    "ax2.legend()\n",
    "ax2.set_xlabel(\"$N$ turns\")\n",
    "ax2.set_ylabel(\"Active beam\")\n",
    "ax2.set_title(\"Uniform beam (Cutting Point at $DA=26.0$)\")"
   ]
  },
  {
   "cell_type": "markdown",
   "metadata": {},
   "source": [
    "### Get DA from loss"
   ]
  },
  {
   "cell_type": "code",
   "execution_count": 16,
   "metadata": {},
   "outputs": [],
   "source": [
    "DA_from_loss = DA_from_unifom_loss(real_values, DA0)"
   ]
  },
  {
   "cell_type": "markdown",
   "metadata": {},
   "source": [
    "#### Visualize difference"
   ]
  },
  {
   "cell_type": "code",
   "execution_count": 17,
   "metadata": {},
   "outputs": [
    {
     "data": {
      "application/vnd.jupyter.widget-view+json": {
       "model_id": "6028162851844fc698bcb441e5dfbf5b",
       "version_major": 2,
       "version_minor": 0
      },
      "text/plain": [
       "Canvas(toolbar=Toolbar(toolitems=[('Home', 'Reset original view', 'home', 'home'), ('Back', 'Back to previous …"
      ]
     },
     "metadata": {},
     "output_type": "display_data"
    },
    {
     "data": {
      "text/plain": [
       "Text(0.5, 1.0, 'Comparison between original DA and DA obtained from real Loss')"
      ]
     },
     "execution_count": 17,
     "metadata": {},
     "output_type": "execute_result"
    }
   ],
   "source": [
    "fig3, ax3 = plt.subplots()\n",
    "ax3.plot(turn_sampling, DA, label=\"Original DA\")\n",
    "ax3.plot(axis_sampling[:-1], DA_from_loss[:-1], label=\"DA extracted from real loss values\")\n",
    "ax3.legend()\n",
    "ax3.set_xlabel(\"$N$ turns\")\n",
    "ax3.set_ylabel(\"$DA(N)$\")\n",
    "ax3.set_title(\"Comparison between original DA and DA obtained from real Loss\")"
   ]
  },
  {
   "cell_type": "markdown",
   "metadata": {},
   "source": [
    "### Compare fitting values with Model 2"
   ]
  },
  {
   "cell_type": "code",
   "execution_count": 18,
   "metadata": {},
   "outputs": [
    {
     "data": {
      "application/vnd.jupyter.widget-view+json": {
       "model_id": "62cb7c97b3ef4d749b667508eb087d3c",
       "version_major": 2,
       "version_minor": 0
      },
      "text/plain": [
       "HBox(children=(FloatProgress(value=0.0, max=200.0), HTML(value='')))"
      ]
     },
     "metadata": {},
     "output_type": "display_data"
    },
    {
     "name": "stdout",
     "output_type": "stream",
     "text": [
      "\n"
     ]
    },
    {
     "data": {
      "application/vnd.jupyter.widget-view+json": {
       "model_id": "e1b9dc40286645baa43427b60164e90e",
       "version_major": 2,
       "version_minor": 0
      },
      "text/plain": [
       "HBox(children=(FloatProgress(value=0.0, max=200.0), HTML(value='')))"
      ]
     },
     "metadata": {},
     "output_type": "display_data"
    },
    {
     "name": "stdout",
     "output_type": "stream",
     "text": [
      "\n"
     ]
    }
   ],
   "source": [
    "k_min = 0.05\n",
    "k_max = 0.20\n",
    "samples = 200\n",
    "\n",
    "ks = np.linspace(k_min, k_max, samples)\n",
    "\n",
    "real_pars, real_errs, real_co_pars = explore_k_model_2(turn_sampling, DA, k_min, k_max, samples)\n",
    "loss_pars, loss_errs, loss_co_pars = explore_k_model_2(axis_sampling[:-1], DA_from_loss[:-1], k_min, k_max, samples)\n",
    "\n",
    "real_selected_k_2 = ks[np.argmin(real_errs)]\n",
    "real_selected_pars_2 = real_pars[np.argmin(real_errs)]\n",
    "real_selected_co_pars_2 = real_co_pars[np.argmin(real_errs)]\n",
    "\n",
    "loss_selected_k_2 = ks[np.argmin(loss_errs)]\n",
    "loss_selected_pars_2 = loss_pars[np.argmin(loss_errs)]\n",
    "loss_selected_co_pars_2 = loss_co_pars[np.argmin(loss_errs)]"
   ]
  },
  {
   "cell_type": "code",
   "execution_count": 19,
   "metadata": {},
   "outputs": [
    {
     "name": "stdout",
     "output_type": "stream",
     "text": [
      "REAL: $\\kappa:$ 0.12085427135678393 , $\\rho_\\ast$ and $N_0$ [36.32401476 45.83474375]\n",
      "FROM LOSS: $\\kappa:$ 0.1155778894472362 , $\\rho_\\ast$ and $N_0$ [36.08883681 63.49903134]\n"
     ]
    }
   ],
   "source": [
    "print(\"REAL:\", \"$\\\\kappa:$\", real_selected_k_2, \", $\\\\rho_\\\\ast$ and $N_0$\", real_selected_pars_2)\n",
    "print(\"FROM LOSS:\", \"$\\\\kappa:$\", loss_selected_k_2, \", $\\\\rho_\\\\ast$ and $N_0$\", loss_selected_pars_2)"
   ]
  },
  {
   "cell_type": "code",
   "execution_count": 20,
   "metadata": {},
   "outputs": [
    {
     "data": {
      "application/vnd.jupyter.widget-view+json": {
       "model_id": "26e0002882dc4e51af9a9d57346a932c",
       "version_major": 2,
       "version_minor": 0
      },
      "text/plain": [
       "Canvas(toolbar=Toolbar(toolitems=[('Home', 'Reset original view', 'home', 'home'), ('Back', 'Back to previous …"
      ]
     },
     "metadata": {},
     "output_type": "display_data"
    },
    {
     "data": {
      "text/plain": [
       "Text(0.5, 1.0, 'Comparison between original DA and DA obtained from real Loss, with Model 2 Fits')"
      ]
     },
     "execution_count": 20,
     "metadata": {},
     "output_type": "execute_result"
    }
   ],
   "source": [
    "fig3, ax3 = plt.subplots()\n",
    "\n",
    "ax3.plot(turn_sampling, DA, label=\"Original DA\")\n",
    "ax3.plot(turn_sampling, model_2(turn_sampling, real_selected_pars_2[0], real_selected_pars_2[1], real_selected_k_2), label=\"Fitting on original DA\\n$\\\\kappa = {:.4f},\\\\rho_\\\\ast = {:.4f}, N_0={:.4f}$\".format(real_selected_k_2, real_selected_pars_2[0], real_selected_pars_2[1] ))\n",
    "\n",
    "ax3.plot(axis_sampling[:-1], DA_from_loss[:-1], label=\"DA extracted from real loss values\")\n",
    "ax3.plot(turn_sampling, model_2(turn_sampling, loss_selected_pars_2[0], loss_selected_pars_2[1], loss_selected_k_2), label=\"Fitting on original DA\\n$\\\\kappa = {:.4f},\\\\rho_\\\\ast = {:.4f}, N_0={:.4f}$\".format(loss_selected_k_2, loss_selected_pars_2[0], loss_selected_pars_2[1] ))\n",
    "\n",
    "ax3.legend()\n",
    "ax3.set_xlabel(\"$N$ turns\")\n",
    "ax3.set_ylabel(\"$DA(N)$\")\n",
    "ax3.set_title(\"Comparison between original DA and DA obtained from real Loss, with Model 2 Fits\")"
   ]
  },
  {
   "cell_type": "markdown",
   "metadata": {},
   "source": [
    "### Compare fitting values with Model 4"
   ]
  },
  {
   "cell_type": "code",
   "execution_count": 21,
   "metadata": {},
   "outputs": [
    {
     "data": {
      "application/vnd.jupyter.widget-view+json": {
       "model_id": "d91b18fc96434497bba5e13d9d8961eb",
       "version_major": 2,
       "version_minor": 0
      },
      "text/plain": [
       "HBox(children=(FloatProgress(value=0.0, max=200.0), HTML(value='')))"
      ]
     },
     "metadata": {},
     "output_type": "display_data"
    },
    {
     "name": "stdout",
     "output_type": "stream",
     "text": [
      "\n"
     ]
    },
    {
     "data": {
      "application/vnd.jupyter.widget-view+json": {
       "model_id": "f2138bd385a04b0c8d6093cdbdc4bb9d",
       "version_major": 2,
       "version_minor": 0
      },
      "text/plain": [
       "HBox(children=(FloatProgress(value=0.0, max=200.0), HTML(value='')))"
      ]
     },
     "metadata": {},
     "output_type": "display_data"
    },
    {
     "name": "stdout",
     "output_type": "stream",
     "text": [
      "\n"
     ]
    }
   ],
   "source": [
    "k_min = 0.15\n",
    "k_max = 0.30\n",
    "samples = 200\n",
    "\n",
    "ks = np.linspace(k_min, k_max, samples)\n",
    "\n",
    "real_pars, real_errs, real_co_pars = explore_k_model_4(turn_sampling, DA, k_min, k_max, samples)\n",
    "loss_pars, loss_errs, loss_co_pars = explore_k_model_4(axis_sampling[:-1], DA_from_loss[:-1], k_min, k_max, samples)\n",
    "\n",
    "real_selected_k_4 = ks[np.argmin(real_errs)]\n",
    "real_selected_pars_4 = real_pars[np.argmin(real_errs)]\n",
    "real_selected_co_pars_4 = real_co_pars[np.argmin(real_errs)]\n",
    "\n",
    "loss_selected_k_4 = ks[np.argmin(loss_errs)]\n",
    "loss_selected_pars_4 = loss_pars[np.argmin(loss_errs)]\n",
    "loss_selected_co_pars_4 = loss_co_pars[np.argmin(loss_errs)]"
   ]
  },
  {
   "cell_type": "code",
   "execution_count": 22,
   "metadata": {},
   "outputs": [
    {
     "name": "stdout",
     "output_type": "stream",
     "text": [
      "REAL: $\\kappa:$ 0.2193467336683417 , $\\rho_\\ast$ and $N_0$ [61.08667624]\n",
      "FROM LOSS: $\\kappa:$ 0.2185929648241206 , $\\rho_\\ast$ and $N_0$ [62.38837072]\n"
     ]
    }
   ],
   "source": [
    "print(\"REAL:\", \"$\\\\kappa:$\", real_selected_k_4, \", $\\\\rho_\\\\ast$ and $N_0$\", real_selected_pars_4)\n",
    "print(\"FROM LOSS:\", \"$\\\\kappa:$\", loss_selected_k_4, \", $\\\\rho_\\\\ast$ and $N_0$\", loss_selected_pars_4)"
   ]
  },
  {
   "cell_type": "code",
   "execution_count": 23,
   "metadata": {},
   "outputs": [
    {
     "data": {
      "application/vnd.jupyter.widget-view+json": {
       "model_id": "0b7e990765014621802da627390a5b10",
       "version_major": 2,
       "version_minor": 0
      },
      "text/plain": [
       "Canvas(toolbar=Toolbar(toolitems=[('Home', 'Reset original view', 'home', 'home'), ('Back', 'Back to previous …"
      ]
     },
     "metadata": {},
     "output_type": "display_data"
    },
    {
     "data": {
      "text/plain": [
       "Text(0.5, 1.0, 'Comparison between original DA and DA obtained from real Loss,\\n with Model 4 Fits $(\\\\lambda=0.5)$, 2 free parameters')"
      ]
     },
     "execution_count": 23,
     "metadata": {},
     "output_type": "execute_result"
    }
   ],
   "source": [
    "fig3, ax3 = plt.subplots()\n",
    "\n",
    "ax3.plot(turn_sampling, DA, label=\"Original DA\")\n",
    "ax3.plot(turn_sampling, model_4(turn_sampling, real_selected_pars_4[0], real_selected_k_4), label=\"Fitting on original DA\\n$\\\\kappa = {:.4f},\\\\rho_\\\\ast = {:.4f}$\".format(real_selected_k_4, real_selected_pars_4[0]))\n",
    "\n",
    "ax3.plot(axis_sampling[:-1], DA_from_loss[:-1], label=\"DA extracted from real loss values\")\n",
    "ax3.plot(turn_sampling, model_4(turn_sampling, loss_selected_pars_4[0], loss_selected_k_4), label=\"Fitting on original DA\\n$\\\\kappa = {:.4f},\\\\rho_\\\\ast = {:.4f}$\".format(loss_selected_k_4, loss_selected_pars_4[0]))\n",
    "\n",
    "ax3.legend()\n",
    "ax3.set_xlabel(\"$N$ turns\")\n",
    "ax3.set_ylabel(\"$DA(N)$\")\n",
    "ax3.set_title(\"Comparison between original DA and DA obtained from real Loss,\\n with Model 4 Fits $(\\\\lambda=0.5)$, 2 free parameters\")"
   ]
  },
  {
   "cell_type": "markdown",
   "metadata": {},
   "source": [
    "### Compare fitting values with Model 4 (But more free)"
   ]
  },
  {
   "cell_type": "code",
   "execution_count": 24,
   "metadata": {},
   "outputs": [
    {
     "data": {
      "application/vnd.jupyter.widget-view+json": {
       "model_id": "42b9893dedee46f7a2b665818b671dce",
       "version_major": 2,
       "version_minor": 0
      },
      "text/plain": [
       "HBox(children=(FloatProgress(value=0.0, max=200.0), HTML(value='')))"
      ]
     },
     "metadata": {},
     "output_type": "display_data"
    },
    {
     "name": "stdout",
     "output_type": "stream",
     "text": [
      "\n"
     ]
    },
    {
     "data": {
      "application/vnd.jupyter.widget-view+json": {
       "model_id": "18515668ddd14f1882a90bdf5bbbcce4",
       "version_major": 2,
       "version_minor": 0
      },
      "text/plain": [
       "HBox(children=(FloatProgress(value=0.0, max=200.0), HTML(value='')))"
      ]
     },
     "metadata": {},
     "output_type": "display_data"
    },
    {
     "name": "stdout",
     "output_type": "stream",
     "text": [
      "\n"
     ]
    }
   ],
   "source": [
    "k_min = 0.05\n",
    "k_max = 0.20\n",
    "samples = 200\n",
    "\n",
    "ks = np.linspace(k_min, k_max, samples)\n",
    "\n",
    "real_pars, real_errs, real_co_pars = explore_model_4_free(turn_sampling[:], DA[:], k_min, k_max, samples)\n",
    "loss_pars, loss_errs, loss_co_pars = explore_model_4_free(axis_sampling[:-1], DA_from_loss[:-1], k_min, k_max, samples)\n",
    "\n",
    "real_selected_k_4_free = ks[np.argmin(real_errs)]\n",
    "real_selected_pars_4_free = real_pars[np.argmin(real_errs)]\n",
    "real_selected_co_pars_4_free = real_co_pars[np.argmin(real_errs)]\n",
    "\n",
    "loss_selected_k_4_free = ks[np.argmin(loss_errs)]\n",
    "loss_selected_pars_4_free = loss_pars[np.argmin(loss_errs)]\n",
    "loss_selected_co_pars_4_free = loss_co_pars[np.argmin(loss_errs)]"
   ]
  },
  {
   "cell_type": "code",
   "execution_count": 25,
   "metadata": {},
   "outputs": [
    {
     "name": "stdout",
     "output_type": "stream",
     "text": [
      "REAL: $\\kappa:$ 0.12311557788944724 , $\\rho_\\ast$ and $N_0$ [36.83247721 43.10890574]\n",
      "FROM LOSS: $\\kappa:$ 0.1178391959798995 , $\\rho_\\ast$ and $N_0$ [36.60325906 58.62191371]\n"
     ]
    }
   ],
   "source": [
    "print(\"REAL:\", \"$\\\\kappa:$\", real_selected_k_4_free, \", $\\\\rho_\\\\ast$ and $N_0$\", real_selected_pars_4_free)\n",
    "print(\"FROM LOSS:\", \"$\\\\kappa:$\", loss_selected_k_4_free, \", $\\\\rho_\\\\ast$ and $N_0$\", loss_selected_pars_4_free)"
   ]
  },
  {
   "cell_type": "code",
   "execution_count": 26,
   "metadata": {},
   "outputs": [
    {
     "data": {
      "application/vnd.jupyter.widget-view+json": {
       "model_id": "89c2aa1efa984e17a20f999b74f21b97",
       "version_major": 2,
       "version_minor": 0
      },
      "text/plain": [
       "Canvas(toolbar=Toolbar(toolitems=[('Home', 'Reset original view', 'home', 'home'), ('Back', 'Back to previous …"
      ]
     },
     "metadata": {},
     "output_type": "display_data"
    },
    {
     "data": {
      "text/plain": [
       "Text(0.5, 1.0, 'Comparison between original DA and DA obtained from real Loss,\\n with Model 4 Fits $(\\\\lambda=0.5)$, 3 free parameters')"
      ]
     },
     "execution_count": 26,
     "metadata": {},
     "output_type": "execute_result"
    }
   ],
   "source": [
    "fig3, ax3 = plt.subplots()\n",
    "\n",
    "ax3.plot(turn_sampling, DA, label=\"Original DA\")\n",
    "ax3.plot(turn_sampling, model_4_free(turn_sampling, real_selected_pars_4_free[0], real_selected_pars_4_free[1], real_selected_k_4_free), label=\"Fitting on original DA\\n$\\\\kappa = {:.4f},\\\\rho_\\\\ast = {:.4f}, N_0 = {:.4f}$\".format(real_selected_k_4_free, real_selected_pars_4_free[0], real_selected_pars_4_free[1]))\n",
    "\n",
    "ax3.plot(axis_sampling[:-1], DA_from_loss[:-1], label=\"DA extracted from real loss values\")\n",
    "ax3.plot(turn_sampling, model_4_free(turn_sampling, loss_selected_pars_4_free[0], loss_selected_pars_4_free[1], loss_selected_k_4_free), label=\"Fitting on original DA\\n$\\\\kappa = {:.4f},\\\\rho_\\\\ast = {:.4f}, N_0 = {:.4f}$\".format(loss_selected_k_4_free, loss_selected_pars_4_free[0], loss_selected_pars_4_free[1]))\n",
    "\n",
    "ax3.legend()\n",
    "ax3.set_xlabel(\"$N$ turns\")\n",
    "ax3.set_ylabel(\"$DA(N)$\")\n",
    "ax3.set_title(\"Comparison between original DA and DA obtained from real Loss,\\n with Model 4 Fits $(\\\\lambda=0.5)$, 3 free parameters\")"
   ]
  },
  {
   "cell_type": "markdown",
   "metadata": {},
   "source": [
    "### Save data in the dataframe"
   ]
  },
  {
   "cell_type": "code",
   "execution_count": 27,
   "metadata": {},
   "outputs": [],
   "source": [
    "fitting_data.loc[len(fitting_data)] = [\n",
    "     \"real\",\n",
    "     np.nan,\n",
    "     real_selected_k_2,\n",
    "     ks[1] - ks[0],\n",
    "     real_selected_pars_2[0],\n",
    "     np.sqrt(real_selected_co_pars_2[0, 0]), \n",
    "     real_selected_pars_2[1], \n",
    "     np.sqrt(real_selected_co_pars_2[1, 1]), \n",
    "     real_selected_k_4, \n",
    "     ks[1] - ks[0], \n",
    "     real_selected_pars_4[0], \n",
    "     np.sqrt(real_selected_co_pars_4[0, 0]),\n",
    "     1/2,\n",
    "     real_selected_k_4_free, \n",
    "     ks[1] - ks[0], \n",
    "     real_selected_pars_4_free[0], \n",
    "     np.sqrt(real_selected_co_pars_4_free[0, 0]),\n",
    "     real_selected_pars_4_free[1], \n",
    "     np.sqrt(real_selected_co_pars_4_free[1, 1]),\n",
    "     1/2\n",
    "]\n",
    "\n",
    "\n",
    "fitting_data.loc[len(fitting_data)] = [\n",
    "    \"uniform\",\n",
    "     np.nan,\n",
    "     loss_selected_k_2,\n",
    "     ks[1] - ks[0],\n",
    "     loss_selected_pars_2[0],\n",
    "     np.sqrt(loss_selected_co_pars_2[0, 0]),\n",
    "     loss_selected_pars_2[1],\n",
    "     np.sqrt(loss_selected_co_pars_2[1, 1]),\n",
    "     loss_selected_k_4,\n",
    "     ks[1] - ks[0],\n",
    "     loss_selected_pars_4[0],\n",
    "     np.sqrt(loss_selected_co_pars_4[0, 0]),\n",
    "     1/2,\n",
    "     loss_selected_k_4_free,\n",
    "     ks[1] - ks[0],\n",
    "     loss_selected_pars_4_free[0],\n",
    "     np.sqrt(loss_selected_co_pars_4_free[0, 0]),\n",
    "     loss_selected_pars_4_free[1],\n",
    "     np.sqrt(loss_selected_co_pars_4_free[1, 1]),\n",
    "     1/2,\n",
    "]"
   ]
  },
  {
   "cell_type": "markdown",
   "metadata": {},
   "source": [
    "## Loss and Fits -- Symmetric Gaussian Beam Distribution\n",
    "### Choose your Sigma!"
   ]
  },
  {
   "cell_type": "code",
   "execution_count": 28,
   "metadata": {},
   "outputs": [],
   "source": [
    "sigma = 15.0"
   ]
  },
  {
   "cell_type": "markdown",
   "metadata": {},
   "source": [
    "### Loss comparison"
   ]
  },
  {
   "cell_type": "code",
   "execution_count": 29,
   "metadata": {},
   "outputs": [],
   "source": [
    "# Set DA0 cutting point\n",
    "DA0 = 26.0\n",
    "\n",
    "# Assign uniform weights to engine and compute loss\n",
    "engine.assign_weights(\n",
    "    sx.assign_symmetric_gaussian(sigma)\n",
    ")\n",
    "real_values = engine.compute_loss(turn_sampling, DA0)\n",
    "\n",
    "# Compute DA-based loss\n",
    "values = symmetric_gaussian_loss(DA, sigma, DA0)\n",
    "values = np.concatenate((values, [1.0]))\n",
    "\n",
    "# Error computing\n",
    "values1 = symmetric_gaussian_loss(DA - np.absolute(np.mean(radiuses - DA, axis=(0,1,2))), sigma, DA0)\n",
    "values1 = np.concatenate((values1, [1.0]))\n",
    "\n",
    "values2 = symmetric_gaussian_loss(DA + np.absolute(np.mean(radiuses - DA, axis=(0,1,2))), sigma, DA0)\n",
    "values2 = np.concatenate((values2, [1.0]))"
   ]
  },
  {
   "cell_type": "markdown",
   "metadata": {},
   "source": [
    "#### Visualize Loss comparison"
   ]
  },
  {
   "cell_type": "code",
   "execution_count": 30,
   "metadata": {},
   "outputs": [
    {
     "data": {
      "application/vnd.jupyter.widget-view+json": {
       "model_id": "7e6601edbb4d425ea6afe386f72c19db",
       "version_major": 2,
       "version_minor": 0
      },
      "text/plain": [
       "Canvas(toolbar=Toolbar(toolitems=[('Home', 'Reset original view', 'home', 'home'), ('Back', 'Back to previous …"
      ]
     },
     "metadata": {},
     "output_type": "display_data"
    },
    {
     "data": {
      "text/plain": [
       "Text(0.5, 1.0, 'Symmetric Gaussian beam ($\\\\sigma=15.0$, Cutting Point at $DA=26.0$)')"
      ]
     },
     "execution_count": 30,
     "metadata": {},
     "output_type": "execute_result"
    }
   ],
   "source": [
    "fig2, ax2 = plt.subplots()\n",
    "ax2.plot(axis_sampling, values, label=\"Values from DA\")\n",
    "ax2.fill_between(axis_sampling, values1, values2, label=\"Values from DA - error\", color=\"C0\", alpha=0.4)\n",
    "ax2.plot(axis_sampling, real_values, label=\"Values from weights\")\n",
    "ax2.legend()\n",
    "ax2.set_xlabel(\"$N$ turns\")\n",
    "ax2.set_ylabel(\"Active beam\")\n",
    "ax2.set_title(\"Symmetric Gaussian beam ($\\\\sigma={}$, Cutting Point at $DA=26.0$)\".format(sigma))"
   ]
  },
  {
   "cell_type": "markdown",
   "metadata": {},
   "source": [
    "### Get DA from loss"
   ]
  },
  {
   "cell_type": "code",
   "execution_count": 31,
   "metadata": {},
   "outputs": [],
   "source": [
    "DA_from_loss = DA_from_symmetric_gaussian_loss(real_values, sigma, DA0)"
   ]
  },
  {
   "cell_type": "markdown",
   "metadata": {},
   "source": [
    "#### Visualize difference"
   ]
  },
  {
   "cell_type": "code",
   "execution_count": 32,
   "metadata": {},
   "outputs": [
    {
     "data": {
      "application/vnd.jupyter.widget-view+json": {
       "model_id": "1157e07f96144e1cb216f27a7b40bf14",
       "version_major": 2,
       "version_minor": 0
      },
      "text/plain": [
       "Canvas(toolbar=Toolbar(toolitems=[('Home', 'Reset original view', 'home', 'home'), ('Back', 'Back to previous …"
      ]
     },
     "metadata": {},
     "output_type": "display_data"
    },
    {
     "data": {
      "text/plain": [
       "Text(0.5, 1.0, 'Comparison between original DA and DA obtained from real Loss')"
      ]
     },
     "execution_count": 32,
     "metadata": {},
     "output_type": "execute_result"
    }
   ],
   "source": [
    "fig3, ax3 = plt.subplots()\n",
    "ax3.plot(turn_sampling, DA, label=\"Original DA\")\n",
    "ax3.plot(axis_sampling[:-1], DA_from_loss[:-1], label=\"DA extracted from real loss values\")\n",
    "ax3.legend()\n",
    "ax3.set_xlabel(\"$N$ turns\")\n",
    "ax3.set_ylabel(\"$DA(N)$\")\n",
    "ax3.set_title(\"Comparison between original DA and DA obtained from real Loss\")"
   ]
  },
  {
   "cell_type": "markdown",
   "metadata": {},
   "source": [
    "### Compare fitting values with Model 2"
   ]
  },
  {
   "cell_type": "code",
   "execution_count": 33,
   "metadata": {},
   "outputs": [
    {
     "data": {
      "application/vnd.jupyter.widget-view+json": {
       "model_id": "cde5d7c5a6ce41c1ace28a20d9fe81b0",
       "version_major": 2,
       "version_minor": 0
      },
      "text/plain": [
       "HBox(children=(FloatProgress(value=0.0, max=200.0), HTML(value='')))"
      ]
     },
     "metadata": {},
     "output_type": "display_data"
    },
    {
     "name": "stdout",
     "output_type": "stream",
     "text": [
      "\n"
     ]
    },
    {
     "data": {
      "application/vnd.jupyter.widget-view+json": {
       "model_id": "0a8f13e02e5c4618a5cf02530f0cc433",
       "version_major": 2,
       "version_minor": 0
      },
      "text/plain": [
       "HBox(children=(FloatProgress(value=0.0, max=200.0), HTML(value='')))"
      ]
     },
     "metadata": {},
     "output_type": "display_data"
    },
    {
     "name": "stdout",
     "output_type": "stream",
     "text": [
      "\n"
     ]
    }
   ],
   "source": [
    "k_min = 0.05\n",
    "k_max = 0.20\n",
    "samples = 200\n",
    "\n",
    "ks = np.linspace(k_min, k_max, samples)\n",
    "\n",
    "real_pars, real_errs, real_co_pars = explore_k_model_2(turn_sampling, DA, k_min, k_max, samples)\n",
    "loss_pars, loss_errs, loss_co_pars = explore_k_model_2(axis_sampling[:-1], DA_from_loss[:-1], k_min, k_max, samples)\n",
    "\n",
    "real_selected_k_2 = ks[np.argmin(real_errs)]\n",
    "real_selected_pars_2 = real_pars[np.argmin(real_errs)]\n",
    "real_selected_co_pars_2 = real_co_pars[np.argmin(real_errs)]\n",
    "\n",
    "loss_selected_k_2 = ks[np.argmin(loss_errs)]\n",
    "loss_selected_pars_2 = loss_pars[np.argmin(loss_errs)]\n",
    "loss_selected_co_pars_2 = loss_co_pars[np.argmin(loss_errs)]"
   ]
  },
  {
   "cell_type": "code",
   "execution_count": 34,
   "metadata": {},
   "outputs": [
    {
     "name": "stdout",
     "output_type": "stream",
     "text": [
      "REAL: $\\kappa:$ 0.12085427135678393 , $\\rho_\\ast$ and $N_0$ [36.32401476 45.83474375]\n",
      "FROM LOSS: $\\kappa:$ 0.12010050251256282 , $\\rho_\\ast$ and $N_0$ [36.42546039 52.98927994]\n"
     ]
    }
   ],
   "source": [
    "print(\"REAL:\", \"$\\\\kappa:$\", real_selected_k_2, \", $\\\\rho_\\\\ast$ and $N_0$\", real_selected_pars_2)\n",
    "print(\"FROM LOSS:\", \"$\\\\kappa:$\", loss_selected_k_2, \", $\\\\rho_\\\\ast$ and $N_0$\", loss_selected_pars_2)"
   ]
  },
  {
   "cell_type": "code",
   "execution_count": 35,
   "metadata": {},
   "outputs": [
    {
     "data": {
      "application/vnd.jupyter.widget-view+json": {
       "model_id": "a58e37e4d16443668f8b31c0d6b89e82",
       "version_major": 2,
       "version_minor": 0
      },
      "text/plain": [
       "Canvas(toolbar=Toolbar(toolitems=[('Home', 'Reset original view', 'home', 'home'), ('Back', 'Back to previous …"
      ]
     },
     "metadata": {},
     "output_type": "display_data"
    },
    {
     "data": {
      "text/plain": [
       "Text(0.5, 1.0, 'Comparison between original DA and DA obtained from real Loss, with Model 2 Fits')"
      ]
     },
     "execution_count": 35,
     "metadata": {},
     "output_type": "execute_result"
    }
   ],
   "source": [
    "fig3, ax3 = plt.subplots()\n",
    "\n",
    "ax3.plot(turn_sampling, DA, label=\"Original DA\")\n",
    "ax3.plot(turn_sampling, model_2(turn_sampling, real_selected_pars_2[0], real_selected_pars_2[1], real_selected_k_2), label=\"Fitting on original DA\\n$\\\\kappa = {:.4f},\\\\rho_\\\\ast = {:.4f}, N_0={:.4f}$\".format(real_selected_k_2, real_selected_pars_2[0], real_selected_pars_2[1] ))\n",
    "\n",
    "ax3.plot(axis_sampling[:-1], DA_from_loss[:-1], label=\"DA extracted from real loss values\")\n",
    "ax3.plot(turn_sampling, model_2(turn_sampling, loss_selected_pars_2[0], loss_selected_pars_2[1], loss_selected_k_2), label=\"Fitting on original DA\\n$\\\\kappa = {:.4f},\\\\rho_\\\\ast = {:.4f}, N_0={:.4f}$\".format(loss_selected_k_2, loss_selected_pars_2[0], loss_selected_pars_2[1] ))\n",
    "\n",
    "ax3.legend()\n",
    "ax3.set_xlabel(\"$N$ turns\")\n",
    "ax3.set_ylabel(\"$DA(N)$\")\n",
    "ax3.set_title(\"Comparison between original DA and DA obtained from real Loss, with Model 2 Fits\")"
   ]
  },
  {
   "cell_type": "markdown",
   "metadata": {},
   "source": [
    "### Compare fitting values with Model 4"
   ]
  },
  {
   "cell_type": "code",
   "execution_count": 36,
   "metadata": {},
   "outputs": [
    {
     "data": {
      "application/vnd.jupyter.widget-view+json": {
       "model_id": "64668787bd1b425399b80c721ed79ff3",
       "version_major": 2,
       "version_minor": 0
      },
      "text/plain": [
       "HBox(children=(FloatProgress(value=0.0, max=200.0), HTML(value='')))"
      ]
     },
     "metadata": {},
     "output_type": "display_data"
    },
    {
     "name": "stdout",
     "output_type": "stream",
     "text": [
      "\n"
     ]
    },
    {
     "data": {
      "application/vnd.jupyter.widget-view+json": {
       "model_id": "f31bd09e33144864885cf08550aa24ef",
       "version_major": 2,
       "version_minor": 0
      },
      "text/plain": [
       "HBox(children=(FloatProgress(value=0.0, max=200.0), HTML(value='')))"
      ]
     },
     "metadata": {},
     "output_type": "display_data"
    },
    {
     "name": "stdout",
     "output_type": "stream",
     "text": [
      "\n"
     ]
    }
   ],
   "source": [
    "k_min = 0.15\n",
    "k_max = 0.30\n",
    "samples = 200\n",
    "\n",
    "ks = np.linspace(k_min, k_max, samples)\n",
    "\n",
    "real_pars, real_errs, real_co_pars = explore_k_model_4(turn_sampling, DA, k_min, k_max, samples)\n",
    "loss_pars, loss_errs, loss_co_pars = explore_k_model_4(axis_sampling[:-1], DA_from_loss[:-1], k_min, k_max, samples)\n",
    "\n",
    "real_selected_k_4 = ks[np.argmin(real_errs)]\n",
    "real_selected_pars_4 = real_pars[np.argmin(real_errs)]\n",
    "real_selected_co_pars_4 = real_co_pars[np.argmin(real_errs)]\n",
    "\n",
    "loss_selected_k_4 = ks[np.argmin(loss_errs)]\n",
    "loss_selected_pars_4 = loss_pars[np.argmin(loss_errs)]\n",
    "loss_selected_co_pars_4 = loss_co_pars[np.argmin(loss_errs)]"
   ]
  },
  {
   "cell_type": "code",
   "execution_count": 37,
   "metadata": {},
   "outputs": [
    {
     "name": "stdout",
     "output_type": "stream",
     "text": [
      "REAL: $\\kappa:$ 0.2193467336683417 , $\\rho_\\ast$ and $N_0$ [61.08667624]\n",
      "FROM LOSS: $\\kappa:$ 0.2185929648241206 , $\\rho_\\ast$ and $N_0$ [61.45065875]\n"
     ]
    }
   ],
   "source": [
    "print(\"REAL:\", \"$\\\\kappa:$\", real_selected_k_4, \", $\\\\rho_\\\\ast$ and $N_0$\", real_selected_pars_4)\n",
    "print(\"FROM LOSS:\", \"$\\\\kappa:$\", loss_selected_k_4, \", $\\\\rho_\\\\ast$ and $N_0$\", loss_selected_pars_4)"
   ]
  },
  {
   "cell_type": "code",
   "execution_count": 38,
   "metadata": {},
   "outputs": [
    {
     "data": {
      "application/vnd.jupyter.widget-view+json": {
       "model_id": "6b39ded212ad40578197fe6168c3f40e",
       "version_major": 2,
       "version_minor": 0
      },
      "text/plain": [
       "Canvas(toolbar=Toolbar(toolitems=[('Home', 'Reset original view', 'home', 'home'), ('Back', 'Back to previous …"
      ]
     },
     "metadata": {},
     "output_type": "display_data"
    },
    {
     "data": {
      "text/plain": [
       "Text(0.5, 1.0, 'Comparison between original DA and DA obtained from real Loss, with Model 4 Fits $(\\\\lambda=0.5)$')"
      ]
     },
     "execution_count": 38,
     "metadata": {},
     "output_type": "execute_result"
    }
   ],
   "source": [
    "fig3, ax3 = plt.subplots()\n",
    "\n",
    "ax3.plot(turn_sampling, DA, label=\"Original DA\")\n",
    "ax3.plot(turn_sampling, model_4(turn_sampling, real_selected_pars_4[0], real_selected_k_4), label=\"Fitting on original DA\\n$\\\\kappa = {:.4f},\\\\rho_\\\\ast = {:.4f}$\".format(real_selected_k_4, real_selected_pars_4[0]))\n",
    "\n",
    "ax3.plot(axis_sampling[:-1], DA_from_loss[:-1], label=\"DA extracted from real loss values\")\n",
    "ax3.plot(turn_sampling, model_4(turn_sampling, loss_selected_pars_4[0], loss_selected_k_4), label=\"Fitting on original DA\\n$\\\\kappa = {:.4f},\\\\rho_\\\\ast = {:.4f}$\".format(loss_selected_k_4, loss_selected_pars_4[0]))\n",
    "\n",
    "ax3.legend()\n",
    "ax3.set_xlabel(\"$N$ turns\")\n",
    "ax3.set_ylabel(\"$DA(N)$\")\n",
    "ax3.set_title(\"Comparison between original DA and DA obtained from real Loss, with Model 4 Fits $(\\\\lambda=0.5)$\")"
   ]
  },
  {
   "cell_type": "markdown",
   "metadata": {},
   "source": [
    "### Compare fitting values with Model 4 (But more free)"
   ]
  },
  {
   "cell_type": "code",
   "execution_count": 39,
   "metadata": {},
   "outputs": [
    {
     "data": {
      "application/vnd.jupyter.widget-view+json": {
       "model_id": "ece2127d47ec45c48265341812e35d58",
       "version_major": 2,
       "version_minor": 0
      },
      "text/plain": [
       "HBox(children=(FloatProgress(value=0.0, max=200.0), HTML(value='')))"
      ]
     },
     "metadata": {},
     "output_type": "display_data"
    },
    {
     "name": "stdout",
     "output_type": "stream",
     "text": [
      "\n"
     ]
    },
    {
     "data": {
      "application/vnd.jupyter.widget-view+json": {
       "model_id": "19f83f390c2c4628ac287c7b25ecf1a9",
       "version_major": 2,
       "version_minor": 0
      },
      "text/plain": [
       "HBox(children=(FloatProgress(value=0.0, max=200.0), HTML(value='')))"
      ]
     },
     "metadata": {},
     "output_type": "display_data"
    },
    {
     "name": "stdout",
     "output_type": "stream",
     "text": [
      "\n"
     ]
    }
   ],
   "source": [
    "k_min = 0.05\n",
    "k_max = 0.20\n",
    "samples = 200\n",
    "\n",
    "ks = np.linspace(k_min, k_max, samples)\n",
    "\n",
    "real_pars, real_errs, real_co_pars = explore_model_4_free(turn_sampling, DA, k_min, k_max, samples)\n",
    "loss_pars, loss_errs, loss_co_pars = explore_model_4_free(axis_sampling[:-1], DA_from_loss[:-1], k_min, k_max, samples)\n",
    "\n",
    "real_selected_k_4_free = ks[np.argmin(real_errs)]\n",
    "real_selected_pars_4_free = real_pars[np.argmin(real_errs)]\n",
    "real_selected_co_pars_4_free = real_co_pars[np.argmin(real_errs)]\n",
    "\n",
    "loss_selected_k_4_free = ks[np.argmin(loss_errs)]\n",
    "loss_selected_pars_4_free = loss_pars[np.argmin(loss_errs)]\n",
    "loss_selected_co_pars_4_free = loss_co_pars[np.argmin(loss_errs)]"
   ]
  },
  {
   "cell_type": "code",
   "execution_count": 40,
   "metadata": {},
   "outputs": [
    {
     "name": "stdout",
     "output_type": "stream",
     "text": [
      "REAL: $\\kappa:$ 0.12311557788944724 , $\\rho_\\ast$ and $N_0$ [36.83247721 43.10890574]\n",
      "FROM LOSS: $\\kappa:$ 0.12236180904522614 , $\\rho_\\ast$ and $N_0$ [36.93917847 49.55077006]\n"
     ]
    }
   ],
   "source": [
    "print(\"REAL:\", \"$\\\\kappa:$\", real_selected_k_4_free, \", $\\\\rho_\\\\ast$ and $N_0$\", real_selected_pars_4_free)\n",
    "print(\"FROM LOSS:\", \"$\\\\kappa:$\", loss_selected_k_4_free, \", $\\\\rho_\\\\ast$ and $N_0$\", loss_selected_pars_4_free)"
   ]
  },
  {
   "cell_type": "code",
   "execution_count": 41,
   "metadata": {},
   "outputs": [
    {
     "data": {
      "application/vnd.jupyter.widget-view+json": {
       "model_id": "73c48da8287247f39c09cd2b010f27ed",
       "version_major": 2,
       "version_minor": 0
      },
      "text/plain": [
       "Canvas(toolbar=Toolbar(toolitems=[('Home', 'Reset original view', 'home', 'home'), ('Back', 'Back to previous …"
      ]
     },
     "metadata": {},
     "output_type": "display_data"
    },
    {
     "data": {
      "text/plain": [
       "Text(0.5, 1.0, 'Comparison between original DA and DA obtained from real Loss,\\n with Model 4 Fits $(\\\\lambda=0.5)$, 3 free parameters')"
      ]
     },
     "execution_count": 41,
     "metadata": {},
     "output_type": "execute_result"
    }
   ],
   "source": [
    "fig3, ax3 = plt.subplots()\n",
    "\n",
    "ax3.plot(turn_sampling, DA, label=\"Original DA\")\n",
    "ax3.plot(turn_sampling, model_4_free(turn_sampling, real_selected_pars_4_free[0], real_selected_pars_4_free[1], real_selected_k_4_free), label=\"Fitting on original DA\\n$\\\\kappa = {:.4f},\\\\rho_\\\\ast = {:.4f}, N_0 = {:.4f}$\".format(real_selected_k_4_free, real_selected_pars_4_free[0], real_selected_pars_4_free[1]))\n",
    "\n",
    "ax3.plot(axis_sampling[:-1], DA_from_loss[:-1], label=\"DA extracted from real loss values\")\n",
    "ax3.plot(turn_sampling, model_4_free(turn_sampling, loss_selected_pars_4_free[0], loss_selected_pars_4_free[1], loss_selected_k_4_free), label=\"Fitting on original DA\\n$\\\\kappa = {:.4f},\\\\rho_\\\\ast = {:.4f}, N_0 = {:.4f}$\".format(loss_selected_k_4_free, loss_selected_pars_4_free[0], loss_selected_pars_4_free[1]))\n",
    "\n",
    "ax3.legend()\n",
    "ax3.set_xlabel(\"$N$ turns\")\n",
    "ax3.set_ylabel(\"$DA(N)$\")\n",
    "ax3.set_title(\"Comparison between original DA and DA obtained from real Loss,\\n with Model 4 Fits $(\\\\lambda=0.5)$, 3 free parameters\")"
   ]
  },
  {
   "cell_type": "markdown",
   "metadata": {},
   "source": [
    "### Save data in the dataframe"
   ]
  },
  {
   "cell_type": "code",
   "execution_count": 42,
   "metadata": {},
   "outputs": [],
   "source": [
    "fitting_data.loc[len(fitting_data)] = [\n",
    "    \"gaussian\",\n",
    "     sigma,\n",
    "     loss_selected_k_2,\n",
    "     ks[1] - ks[0],\n",
    "     loss_selected_pars_2[0],\n",
    "     np.sqrt(loss_selected_co_pars_2[0, 0]),\n",
    "     loss_selected_pars_2[1],\n",
    "     np.sqrt(loss_selected_co_pars_2[1, 1]),\n",
    "     loss_selected_k_4,\n",
    "     ks[1] - ks[0],\n",
    "     loss_selected_pars_4[0],\n",
    "     np.sqrt(loss_selected_co_pars_4[0, 0]),\n",
    "     1/2,\n",
    "     loss_selected_k_4_free,\n",
    "     ks[1] - ks[0],\n",
    "     loss_selected_pars_4_free[1],\n",
    "     np.sqrt(loss_selected_co_pars_4_free[1, 1]),\n",
    "     loss_selected_pars_4_free[0],\n",
    "     np.sqrt(loss_selected_co_pars_4_free[0, 0]),\n",
    "     1/2\n",
    "]\n"
   ]
  },
  {
   "cell_type": "markdown",
   "metadata": {},
   "source": [
    "## Display general dataframe with fitting data"
   ]
  },
  {
   "cell_type": "code",
   "execution_count": 43,
   "metadata": {},
   "outputs": [
    {
     "data": {
      "text/html": [
       "<div>\n",
       "<style scoped>\n",
       "    .dataframe tbody tr th:only-of-type {\n",
       "        vertical-align: middle;\n",
       "    }\n",
       "\n",
       "    .dataframe tbody tr th {\n",
       "        vertical-align: top;\n",
       "    }\n",
       "\n",
       "    .dataframe thead tr th {\n",
       "        text-align: left;\n",
       "    }\n",
       "</style>\n",
       "<table border=\"1\" class=\"dataframe\">\n",
       "  <thead>\n",
       "    <tr>\n",
       "      <th></th>\n",
       "      <th>type</th>\n",
       "      <th>sigma</th>\n",
       "      <th colspan=\"6\" halign=\"left\">Model 2</th>\n",
       "    </tr>\n",
       "    <tr>\n",
       "      <th></th>\n",
       "      <th></th>\n",
       "      <th></th>\n",
       "      <th>k</th>\n",
       "      <th>k err</th>\n",
       "      <th>rho</th>\n",
       "      <th>rho err</th>\n",
       "      <th>N0</th>\n",
       "      <th>N0 err</th>\n",
       "    </tr>\n",
       "  </thead>\n",
       "  <tbody>\n",
       "    <tr>\n",
       "      <th>0</th>\n",
       "      <td>real</td>\n",
       "      <td>NaN</td>\n",
       "      <td>0.120854</td>\n",
       "      <td>0.000754</td>\n",
       "      <td>36.324015</td>\n",
       "      <td>0.003806</td>\n",
       "      <td>45.834744</td>\n",
       "      <td>0.201973</td>\n",
       "    </tr>\n",
       "    <tr>\n",
       "      <th>1</th>\n",
       "      <td>uniform</td>\n",
       "      <td>NaN</td>\n",
       "      <td>0.115578</td>\n",
       "      <td>0.000754</td>\n",
       "      <td>36.088837</td>\n",
       "      <td>0.008876</td>\n",
       "      <td>63.499031</td>\n",
       "      <td>0.568610</td>\n",
       "    </tr>\n",
       "    <tr>\n",
       "      <th>2</th>\n",
       "      <td>gaussian</td>\n",
       "      <td>15.0</td>\n",
       "      <td>0.120101</td>\n",
       "      <td>0.000754</td>\n",
       "      <td>36.425460</td>\n",
       "      <td>0.009102</td>\n",
       "      <td>52.989280</td>\n",
       "      <td>0.524697</td>\n",
       "    </tr>\n",
       "  </tbody>\n",
       "</table>\n",
       "</div>"
      ],
      "text/plain": [
       "       type sigma   Model 2                                            \\\n",
       "                          k     k err        rho   rho err         N0   \n",
       "0      real   NaN  0.120854  0.000754  36.324015  0.003806  45.834744   \n",
       "1   uniform   NaN  0.115578  0.000754  36.088837  0.008876  63.499031   \n",
       "2  gaussian  15.0  0.120101  0.000754  36.425460  0.009102  52.989280   \n",
       "\n",
       "             \n",
       "     N0 err  \n",
       "0  0.201973  \n",
       "1  0.568610  \n",
       "2  0.524697  "
      ]
     },
     "execution_count": 43,
     "metadata": {},
     "output_type": "execute_result"
    }
   ],
   "source": [
    "fitting_data[[\"type\", \"sigma\", \"Model 2\"]]"
   ]
  },
  {
   "cell_type": "code",
   "execution_count": 44,
   "metadata": {},
   "outputs": [
    {
     "data": {
      "text/html": [
       "<div>\n",
       "<style scoped>\n",
       "    .dataframe tbody tr th:only-of-type {\n",
       "        vertical-align: middle;\n",
       "    }\n",
       "\n",
       "    .dataframe tbody tr th {\n",
       "        vertical-align: top;\n",
       "    }\n",
       "\n",
       "    .dataframe thead tr th {\n",
       "        text-align: left;\n",
       "    }\n",
       "</style>\n",
       "<table border=\"1\" class=\"dataframe\">\n",
       "  <thead>\n",
       "    <tr>\n",
       "      <th></th>\n",
       "      <th>type</th>\n",
       "      <th>sigma</th>\n",
       "      <th colspan=\"5\" halign=\"left\">Model 4 (2 free pars)</th>\n",
       "    </tr>\n",
       "    <tr>\n",
       "      <th></th>\n",
       "      <th></th>\n",
       "      <th></th>\n",
       "      <th>k</th>\n",
       "      <th>k err</th>\n",
       "      <th>rho</th>\n",
       "      <th>rho err</th>\n",
       "      <th>lambda</th>\n",
       "    </tr>\n",
       "  </thead>\n",
       "  <tbody>\n",
       "    <tr>\n",
       "      <th>0</th>\n",
       "      <td>real</td>\n",
       "      <td>NaN</td>\n",
       "      <td>0.219347</td>\n",
       "      <td>0.000754</td>\n",
       "      <td>61.086676</td>\n",
       "      <td>0.012789</td>\n",
       "      <td>0.5</td>\n",
       "    </tr>\n",
       "    <tr>\n",
       "      <th>1</th>\n",
       "      <td>uniform</td>\n",
       "      <td>NaN</td>\n",
       "      <td>0.218593</td>\n",
       "      <td>0.000754</td>\n",
       "      <td>62.388371</td>\n",
       "      <td>0.021590</td>\n",
       "      <td>0.5</td>\n",
       "    </tr>\n",
       "    <tr>\n",
       "      <th>2</th>\n",
       "      <td>gaussian</td>\n",
       "      <td>15.0</td>\n",
       "      <td>0.218593</td>\n",
       "      <td>0.000754</td>\n",
       "      <td>61.450659</td>\n",
       "      <td>0.018347</td>\n",
       "      <td>0.5</td>\n",
       "    </tr>\n",
       "  </tbody>\n",
       "</table>\n",
       "</div>"
      ],
      "text/plain": [
       "       type sigma Model 4 (2 free pars)                                      \n",
       "                                      k     k err        rho   rho err lambda\n",
       "0      real   NaN              0.219347  0.000754  61.086676  0.012789    0.5\n",
       "1   uniform   NaN              0.218593  0.000754  62.388371  0.021590    0.5\n",
       "2  gaussian  15.0              0.218593  0.000754  61.450659  0.018347    0.5"
      ]
     },
     "execution_count": 44,
     "metadata": {},
     "output_type": "execute_result"
    }
   ],
   "source": [
    "fitting_data[[\"type\", \"sigma\", \"Model 4 (2 free pars)\"]]"
   ]
  },
  {
   "cell_type": "code",
   "execution_count": 45,
   "metadata": {},
   "outputs": [
    {
     "data": {
      "text/html": [
       "<div>\n",
       "<style scoped>\n",
       "    .dataframe tbody tr th:only-of-type {\n",
       "        vertical-align: middle;\n",
       "    }\n",
       "\n",
       "    .dataframe tbody tr th {\n",
       "        vertical-align: top;\n",
       "    }\n",
       "\n",
       "    .dataframe thead tr th {\n",
       "        text-align: left;\n",
       "    }\n",
       "</style>\n",
       "<table border=\"1\" class=\"dataframe\">\n",
       "  <thead>\n",
       "    <tr>\n",
       "      <th></th>\n",
       "      <th>type</th>\n",
       "      <th>sigma</th>\n",
       "      <th colspan=\"7\" halign=\"left\">Model 4 (3 free pars)</th>\n",
       "    </tr>\n",
       "    <tr>\n",
       "      <th></th>\n",
       "      <th></th>\n",
       "      <th></th>\n",
       "      <th>k</th>\n",
       "      <th>k err</th>\n",
       "      <th>rho</th>\n",
       "      <th>rho err</th>\n",
       "      <th>N0</th>\n",
       "      <th>N0 err</th>\n",
       "      <th>lambda</th>\n",
       "    </tr>\n",
       "  </thead>\n",
       "  <tbody>\n",
       "    <tr>\n",
       "      <th>0</th>\n",
       "      <td>real</td>\n",
       "      <td>NaN</td>\n",
       "      <td>0.123116</td>\n",
       "      <td>0.000754</td>\n",
       "      <td>36.832477</td>\n",
       "      <td>0.003964</td>\n",
       "      <td>43.108906</td>\n",
       "      <td>0.194280</td>\n",
       "      <td>0.5</td>\n",
       "    </tr>\n",
       "    <tr>\n",
       "      <th>1</th>\n",
       "      <td>uniform</td>\n",
       "      <td>NaN</td>\n",
       "      <td>0.117839</td>\n",
       "      <td>0.000754</td>\n",
       "      <td>36.603259</td>\n",
       "      <td>0.009012</td>\n",
       "      <td>58.621914</td>\n",
       "      <td>0.516140</td>\n",
       "      <td>0.5</td>\n",
       "    </tr>\n",
       "    <tr>\n",
       "      <th>2</th>\n",
       "      <td>gaussian</td>\n",
       "      <td>15.0</td>\n",
       "      <td>0.122362</td>\n",
       "      <td>0.000754</td>\n",
       "      <td>49.550770</td>\n",
       "      <td>0.482546</td>\n",
       "      <td>36.939178</td>\n",
       "      <td>0.009148</td>\n",
       "      <td>0.5</td>\n",
       "    </tr>\n",
       "  </tbody>\n",
       "</table>\n",
       "</div>"
      ],
      "text/plain": [
       "       type sigma Model 4 (3 free pars)                                 \\\n",
       "                                      k     k err        rho   rho err   \n",
       "0      real   NaN              0.123116  0.000754  36.832477  0.003964   \n",
       "1   uniform   NaN              0.117839  0.000754  36.603259  0.009012   \n",
       "2  gaussian  15.0              0.122362  0.000754  49.550770  0.482546   \n",
       "\n",
       "                               \n",
       "          N0    N0 err lambda  \n",
       "0  43.108906  0.194280    0.5  \n",
       "1  58.621914  0.516140    0.5  \n",
       "2  36.939178  0.009148    0.5  "
      ]
     },
     "execution_count": 45,
     "metadata": {},
     "output_type": "execute_result"
    }
   ],
   "source": [
    "fitting_data[[\"type\", \"sigma\", \"Model 4 (3 free pars)\"]]"
   ]
  },
  {
   "cell_type": "markdown",
   "metadata": {},
   "source": [
    "# Games with Fokker-Planck\n",
    "\n",
    "## Some working definitions\n",
    "\n",
    "* Action variable $I$ \n",
    "$$I = \\frac{x^2 + p_x^2 + y^2 + p_y^2}{2}$$\n",
    "\n",
    "* The 1D action distribution if the beam is a symmetric gaussian in the phase space\n",
    "$$f(I) = $$"
   ]
  },
  {
   "cell_type": "code",
   "execution_count": null,
   "metadata": {},
   "outputs": [],
   "source": []
  }
 ],
 "metadata": {
  "kernelspec": {
   "display_name": "Python 3",
   "language": "python",
   "name": "python3"
  },
  "language_info": {
   "codemirror_mode": {
    "name": "ipython",
    "version": 3
   },
   "file_extension": ".py",
   "mimetype": "text/x-python",
   "name": "python",
   "nbconvert_exporter": "python",
   "pygments_lexer": "ipython3",
   "version": "3.7.6"
  }
 },
 "nbformat": 4,
 "nbformat_minor": 4
}
