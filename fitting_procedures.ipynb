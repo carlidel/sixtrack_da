{
 "cells": [
  {
   "cell_type": "markdown",
   "metadata": {},
   "source": [
    "# General DA fittings and Fokker-Planck comparisons\n"
   ]
  },
  {
   "cell_type": "markdown",
   "metadata": {},
   "source": [
    "## Setup scripts if we are under SWAN"
   ]
  },
  {
   "cell_type": "code",
   "execution_count": null,
   "metadata": {},
   "outputs": [],
   "source": [
    "# Working in the right path\n",
    "%cd /eos/project/d/da-and-diffusion-studies/DA_Studies/Simulations/Models/da_sixtrack"
   ]
  },
  {
   "cell_type": "code",
   "execution_count": null,
   "metadata": {},
   "outputs": [],
   "source": [
    "# Install the libraries\n",
    "import sys\n",
    "!{sys.executable} -m pip install --user tqdm pynverse sixtrackwrap crank_nicolson_numba\n",
    "!export PYTHONPATH=$CERNBOX_HOME/.local/lib/python3.7/site-packages:$PYTHONPATH"
   ]
  },
  {
   "cell_type": "code",
   "execution_count": null,
   "metadata": {},
   "outputs": [],
   "source": [
    "# For this \"presentation\" only!\n",
    "import warnings\n",
    "warnings.filterwarnings('ignore')"
   ]
  },
  {
   "cell_type": "markdown",
   "metadata": {},
   "source": [
    "## Imports"
   ]
  },
  {
   "cell_type": "code",
   "execution_count": 1,
   "metadata": {},
   "outputs": [],
   "source": [
    "%matplotlib widget"
   ]
  },
  {
   "cell_type": "code",
   "execution_count": 1,
   "metadata": {},
   "outputs": [],
   "source": [
    "# Base libraries\n",
    "import math\n",
    "import numpy as np\n",
    "import scipy.integrate as integrate\n",
    "from scipy.special import erf\n",
    "import pickle\n",
    "import itertools\n",
    "from scipy.optimize import curve_fit\n",
    "\n",
    "from numba import njit, prange\n",
    "\n",
    "# Personal libraries\n",
    "#import sixtrackwrap_light as sx\n",
    "import sixtrackwrap as sx\n",
    "\n",
    "from tqdm.notebook import tqdm\n",
    "import time\n",
    "import matplotlib.pyplot as plt\n",
    "import ipywidgets as widgets\n",
    "import matplotlib.pyplot as plt\n",
    "import matplotlib\n",
    "import matplotlib.ticker as ticker\n",
    "from math import gcd\n",
    "\n",
    "import pandas as pd\n",
    "\n",
    "from scipy.special import lambertw\n",
    "from scipy.interpolate import interp1d\n",
    "\n",
    "import warnings"
   ]
  },
  {
   "cell_type": "markdown",
   "metadata": {},
   "source": [
    "## Load data and setup original DA"
   ]
  },
  {
   "cell_type": "code",
   "execution_count": 2,
   "metadata": {},
   "outputs": [],
   "source": [
    "savepath = \"data/\"\n",
    "raw_engine = sx.radial_scanner.load_values(savepath + \"big_scan.pkl\")\n",
    "engine = sx.uniform_radial_scanner.load_values(savepath + \"big_scan.pkl\")\n",
    "\n",
    "min_turns = engine.min_time\n",
    "max_turns = engine.max_time\n",
    "n_turn_samples = 500\n",
    "\n",
    "turn_sampling = np.linspace(min_turns, max_turns, n_turn_samples, dtype=np.int_)[::-1]\n",
    "\n",
    "d_r = engine.dr\n",
    "starting_step = engine.starting_step\n",
    "\n",
    "# BASELINE COMPUTING\n",
    "baseline_samples = 33\n",
    "baseline_total_samples = baseline_samples ** 3"
   ]
  },
  {
   "cell_type": "code",
   "execution_count": 3,
   "metadata": {},
   "outputs": [],
   "source": [
    "alpha_preliminary_values = np.linspace(-1.0, 1.0, baseline_samples)\n",
    "alpha_values = np.arccos(alpha_preliminary_values) / 2\n",
    "theta1_values = np.linspace(0.0, np.pi * 2.0, baseline_samples, endpoint=False)\n",
    "theta2_values = np.linspace(0.0, np.pi * 2.0, baseline_samples, endpoint=False)\n",
    "\n",
    "d_preliminar_alpha = alpha_preliminary_values[1] - alpha_preliminary_values[0]\n",
    "d_theta1 = theta1_values[1] - theta1_values[0]\n",
    "d_theta2 = theta2_values[1] - theta2_values[0]\n",
    "\n",
    "alpha_mesh, theta1_mesh, theta2_mesh = np.meshgrid(alpha_values, theta1_values, theta2_values, indexing='ij')\n",
    "\n",
    "alpha_flat = alpha_mesh.flatten()\n",
    "theta1_flat = theta1_mesh.flatten()\n",
    "theta2_flat = theta2_mesh.flatten()"
   ]
  },
  {
   "cell_type": "code",
   "execution_count": 4,
   "metadata": {},
   "outputs": [],
   "source": [
    "radiuses = raw_engine.extract_DA(turn_sampling)\n",
    "radiuses = radiuses.reshape((baseline_samples, baseline_samples, baseline_samples, len(turn_sampling)))"
   ]
  },
  {
   "cell_type": "code",
   "execution_count": 5,
   "metadata": {},
   "outputs": [],
   "source": [
    "DA = []\n",
    "\n",
    "mod_radiuses = radiuses.copy()\n",
    "mod_radiuses = np.power(radiuses, 4)\n",
    "mod_radiuses1 = integrate.simps(mod_radiuses, x=theta1_values, axis=1)\n",
    "mod_radiuses2 = integrate.simps(mod_radiuses1, x=theta2_values, axis=1)\n",
    "mod_radiuses3 = integrate.simps(mod_radiuses2, x=alpha_preliminary_values, axis=0)\n",
    "\n",
    "for i in range(len(turn_sampling)):\n",
    "    DA.append(\n",
    "        np.power(\n",
    "            mod_radiuses3[i] / (2 * theta1_values[-1] * theta2_values[-1]),\n",
    "            1/4\n",
    "        )\n",
    "    )\n",
    "\n",
    "DA = np.asarray(DA)"
   ]
  },
  {
   "cell_type": "code",
   "execution_count": 6,
   "metadata": {},
   "outputs": [],
   "source": [
    "axis_sampling = np.concatenate((turn_sampling,[0.0]))"
   ]
  },
  {
   "cell_type": "markdown",
   "metadata": {},
   "source": [
    "## Prepare inverse functions for obtaining DA from loss values"
   ]
  },
  {
   "cell_type": "code",
   "execution_count": 7,
   "metadata": {},
   "outputs": [],
   "source": [
    "from pynverse import inversefunc\n",
    "\n",
    "# Uniform 4D distribution\n",
    "\n",
    "@njit\n",
    "def uniform_loss(DA, DA0):\n",
    "    return (DA ** 4 / DA0 ** 4)\n",
    "\n",
    "@njit\n",
    "def DA_from_unifom_loss(loss, DA0):\n",
    "    return np.power((loss * DA0 ** 4), 1/4)\n",
    "\n",
    "# Symmetric 4D gaussian\n",
    "\n",
    "@njit\n",
    "def symmetric_gaussian_loss(DA, sigma, DA0):\n",
    "    baseline = - np.exp(- 0.5 * (DA0 / sigma) ** 2) * (DA0 ** 2 + 2 * sigma ** 2) + 2 * sigma ** 2\n",
    "    return (- np.exp(- 0.5 * (DA / sigma) ** 2) * (DA ** 2 + 2 * sigma ** 2) + 2 * sigma ** 2) / baseline\n",
    "\n",
    "\n",
    "def DA_from_symmetric_gaussian_loss(loss, sigma, DA0):\n",
    "    func = inversefunc(\n",
    "        lambda x: symmetric_gaussian_loss(x, sigma, DA0),\n",
    "        domain=[0.0, DA0]\n",
    "    )\n",
    "    return func(loss)\n",
    "    "
   ]
  },
  {
   "cell_type": "markdown",
   "metadata": {},
   "source": [
    "## Define Fitting Models!"
   ]
  },
  {
   "cell_type": "markdown",
   "metadata": {},
   "source": [
    "### $\\chi^2$ function"
   ]
  },
  {
   "cell_type": "code",
   "execution_count": 8,
   "metadata": {},
   "outputs": [],
   "source": [
    "def chi_2(original, estimate):\n",
    "    return np.sum(np.power(estimate - original, 2) / original)"
   ]
  },
  {
   "cell_type": "markdown",
   "metadata": {},
   "source": [
    "### Model 2\n",
    "\n",
    "$$D(N) = \\rho_\\ast \\left(\\frac{\\kappa}{2e}\\right)^\\kappa \\frac{1}{\\ln^\\kappa\\frac{N}{N_0}}$$\n"
   ]
  },
  {
   "cell_type": "code",
   "execution_count": 9,
   "metadata": {},
   "outputs": [],
   "source": [
    "@njit\n",
    "def model_2(x, rho, n0, k):\n",
    "    return rho * np.power(k / (2 * np.exp(1)), k) / (np.power(np.log(x / n0), k))\n",
    "\n",
    "\n",
    "def explore_k_model_2(turns, da, k_min, k_max, n_samples):\n",
    "    ks = np.linspace(k_min, k_max, n_samples)\n",
    "    pars = []\n",
    "    errs = []\n",
    "    co_pars = []\n",
    "    for k in tqdm(ks):\n",
    "        par, co_par = curve_fit(\n",
    "            lambda x, a, b : model_2(x, a, b, k),\n",
    "            turns,\n",
    "            da,\n",
    "            bounds=([0, 0.00001],[np.inf, turns[-1]-0.0001])\n",
    "        )\n",
    "        pars.append(par)\n",
    "        co_pars.append(co_par)\n",
    "        errs.append(chi_2(DA, model_2(turn_sampling, par[0], par[1], k)))\n",
    "    return np.asarray(pars), np.asarray(errs), np.asarray(co_pars)"
   ]
  },
  {
   "cell_type": "markdown",
   "metadata": {},
   "source": [
    "### Model 4\n",
    "\n",
    "$$D(N)=\\rho_{*} \\times \\frac{1}{\\left[-2 \\mathrm{e} \\lambda \\mathcal{W}_{-1}\\left(-\\frac{1}{2 \\mathrm{e} \\lambda}\\left(\\frac{\\rho_{\\ast}}{6}\\right)^{1 / \\kappa}\\left(\\frac{8}{7} N\\right)^{-1 /(\\lambda \\kappa)}\\right)\\right]^{\\kappa}}\n",
    "$$\n",
    "\n",
    "(with $\\lambda=0.5$)"
   ]
  },
  {
   "cell_type": "code",
   "execution_count": 10,
   "metadata": {},
   "outputs": [],
   "source": [
    "def model_4(x, rho, k):\n",
    "    lamb = 0.5\n",
    "    return np.real(\n",
    "        rho\n",
    "        / np.power(-2 * np.exp(1) * lamb * lambertw(- (1 / (2 * np.exp(1) * lamb)) * np.power(rho / 6, 1 / k) * np.power((8/7) * x, -1 / (lamb * k)), -1), k)\n",
    "    )\n",
    "\n",
    "def explore_k_model_4(turns, da, k_min, k_max, n_samples):\n",
    "    ks = np.linspace(k_min, k_max, n_samples)\n",
    "    pars = []\n",
    "    errs = []\n",
    "    co_pars = []\n",
    "    for k in tqdm(ks):\n",
    "        par, co_par = curve_fit(\n",
    "            lambda x, a : model_4(x, a, k),\n",
    "            turns,\n",
    "            da,\n",
    "            bounds=([0.1],[np.inf])\n",
    "        )\n",
    "        pars.append(par)\n",
    "        co_pars.append(co_par)\n",
    "        errs.append(chi_2(DA, model_4(turn_sampling, par[0], k)))\n",
    "    return np.asarray(pars), np.asarray(errs), np.asarray(co_pars)"
   ]
  },
  {
   "cell_type": "markdown",
   "metadata": {},
   "source": [
    "### A more free Model 4\n",
    "\n",
    "$$D(N)=\\rho_{*} \\times \\frac{1}{\\left[-2 \\mathrm{e} \\lambda \\mathcal{W}_{-1}\\left(-\\frac{1}{\\lambda\\kappa}\\left(\\frac{N}{N_0}\\right)^{-\\frac{1}{\\lambda\\kappa}}\\right)\\right]^{\\kappa}}\n",
    "$$\n",
    "\n",
    "(with $\\lambda=0.5$)"
   ]
  },
  {
   "cell_type": "code",
   "execution_count": 11,
   "metadata": {},
   "outputs": [],
   "source": [
    "def model_4_free(x, rho, n0, k):\n",
    "    lamb = 0.5\n",
    "    temp = (\n",
    "        rho / (np.power(- 2 * lamb * np.exp(1) * lambertw(- (1 / (lamb * k)) * np.power(x / n0, - 1 / (lamb * k)), -1), k))\n",
    "    )\n",
    "    \n",
    "    return np.real(temp) # TODO: FIX IT WITH PROPER MATH!!!\n",
    "\n",
    "\n",
    "def explore_model_4_free(turns, da, k_min, k_max, k_samples):\n",
    "    ks = np.linspace(k_min, k_max, k_samples)\n",
    "    pars = []\n",
    "    errs = []\n",
    "    co_pars = []\n",
    "    for k in tqdm(ks):\n",
    "        par, co_par = curve_fit(\n",
    "            lambda x, a, b : model_4_free(x, a, b, k),\n",
    "            turns,\n",
    "            da,\n",
    "            bounds=([0.01, 0.01], [np.inf, turns[-1] - 0.1])\n",
    "        )\n",
    "        pars.append(par)\n",
    "        co_pars.append(co_par)\n",
    "        errs.append(chi_2(DA, model_4_free(turn_sampling, par[0], par[1], k)))\n",
    "    return np.asarray(pars), np.asarray(errs), np.asarray(co_pars)"
   ]
  },
  {
   "cell_type": "markdown",
   "metadata": {},
   "source": [
    "## Visualize original DA value from data"
   ]
  },
  {
   "cell_type": "code",
   "execution_count": 12,
   "metadata": {},
   "outputs": [
    {
     "data": {
      "text/plain": [
       "Text(0, 0.5, '$DA(N)$')"
      ]
     },
     "execution_count": 12,
     "metadata": {},
     "output_type": "execute_result"
    },
    {
     "data": {
      "image/png": "[encoded data removed]",
      "text/plain": [
       "<Figure size 432x288 with 1 Axes>"
      ]
     },
     "metadata": {
      "needs_background": "light"
     },
     "output_type": "display_data"
    }
   ],
   "source": [
    "fig1, ax1 = plt.subplots()\n",
    "ax1.plot(turn_sampling, DA)\n",
    "ax1.set_title(\"Original $DA$ values (LHC on SixTrack)\")\n",
    "ax1.set_xlabel(\"$N$ turns\")\n",
    "ax1.set_ylabel(\"$DA(N)$\")"
   ]
  },
  {
   "cell_type": "markdown",
   "metadata": {},
   "source": [
    "## Setup Dataframe for storing the fitting data properly!"
   ]
  },
  {
   "cell_type": "code",
   "execution_count": 13,
   "metadata": {},
   "outputs": [],
   "source": [
    "labels = (\n",
    "    (\"type\", \"\"),\n",
    "    (\"sigma\", \"\"),\n",
    "    (\"Model 2\", \"k\"),\n",
    "    (\"Model 2\", \"k err\"),\n",
    "    (\"Model 2\", \"rho\"),\n",
    "    (\"Model 2\", \"rho err\"),\n",
    "    (\"Model 2\", \"N0\"),\n",
    "    (\"Model 2\", \"N0 err\"),\n",
    "    (\"Model 2\", \"Chi2\"),\n",
    "    (\"Model 4 (2 free pars)\", \"k\"),\n",
    "    (\"Model 4 (2 free pars)\", \"k err\"),\n",
    "    (\"Model 4 (2 free pars)\", \"rho\"),\n",
    "    (\"Model 4 (2 free pars)\", \"rho err\"),\n",
    "    (\"Model 4 (2 free pars)\", \"lambda\"),\n",
    "    (\"Model 4 (2 free pars)\", \"Chi2\"),\n",
    "    (\"Model 4 (3 free pars)\", \"k\"),\n",
    "    (\"Model 4 (3 free pars)\", \"k err\"),\n",
    "    (\"Model 4 (3 free pars)\", \"rho\"),\n",
    "    (\"Model 4 (3 free pars)\", \"rho err\"),\n",
    "    (\"Model 4 (3 free pars)\", \"N0\"),\n",
    "    (\"Model 4 (3 free pars)\", \"N0 err\"),\n",
    "    (\"Model 4 (3 free pars)\", \"lambda\"),\n",
    "    (\"Model 4 (3 free pars)\", \"Chi2\"),\n",
    ")\n",
    "\n",
    "fitting_data = pd.DataFrame(columns=pd.MultiIndex.from_tuples(labels))"
   ]
  },
  {
   "cell_type": "markdown",
   "metadata": {},
   "source": [
    "## How is the error on the DA loss computed right now?\n",
    "\n",
    "1. Consider all the radiuses sampled.\n",
    "2. Compute the DA value.\n",
    "3. For every radius sampled, compute the difference from the DA value.\n",
    "4. The absolute value of the average of all these differences is considered as error.\n",
    "\n",
    "(I tried using the Standard Deviation of the radiuses distribution, but it ended up being 10% of the DA itself, so we \"need\" somehow a smaller error estimation)\n",
    "## Loss and Fits -- Uniform Beam Distribution\n",
    "### Loss comparison"
   ]
  },
  {
   "cell_type": "code",
   "execution_count": 14,
   "metadata": {},
   "outputs": [],
   "source": [
    "# Set DA0 cutting point\n",
    "DA0 = 26.0\n",
    "\n",
    "# Assign uniform weights to engine and compute loss\n",
    "engine.assign_weights(\n",
    "    sx.assign_uniform_distribution()\n",
    ")\n",
    "real_values = engine.compute_loss(turn_sampling, DA0)\n",
    "real_values = np.concatenate((real_values, [1.0]))\n",
    "\n",
    "# Compute DA-based loss\n",
    "values = uniform_loss(DA, DA0)\n",
    "values = np.concatenate((values, [1.0]))\n",
    "\n",
    "# Error computing\n",
    "values1 = uniform_loss(DA - np.absolute(np.mean(radiuses - DA, axis=(0,1,2))), DA0)\n",
    "values1 = np.concatenate((values1, [1.0]))\n",
    "\n",
    "values2 = uniform_loss(DA + np.absolute(np.mean(radiuses - DA, axis=(0,1,2))), DA0)\n",
    "values2 = np.concatenate((values2, [1.0]))"
   ]
  },
  {
   "cell_type": "markdown",
   "metadata": {},
   "source": [
    "#### Visualize Loss comparison"
   ]
  },
  {
   "cell_type": "code",
   "execution_count": 15,
   "metadata": {},
   "outputs": [
    {
     "data": {
      "text/plain": [
       "Text(0.5, 1.0, 'Uniform beam (Cutting Point at $DA=26.0$)')"
      ]
     },
     "execution_count": 15,
     "metadata": {},
     "output_type": "execute_result"
    },
    {
     "data": {
      "image/png": "[encoded data removed]",
      "text/plain": [
       "<Figure size 432x288 with 1 Axes>"
      ]
     },
     "metadata": {
      "needs_background": "light"
     },
     "output_type": "display_data"
    }
   ],
   "source": [
    "fig2, ax2 = plt.subplots()\n",
    "ax2.plot(axis_sampling, values, label=\"Values from DA\")\n",
    "ax2.fill_between(axis_sampling, values1, values2, label=\"Values from DA - error\", color=\"C0\", alpha=0.4)\n",
    "ax2.plot(axis_sampling, real_values, label=\"Values from weights\")\n",
    "ax2.legend()\n",
    "ax2.set_xlabel(\"$N$ turns\")\n",
    "ax2.set_ylabel(\"Active beam\")\n",
    "ax2.set_title(\"Uniform beam (Cutting Point at $DA=26.0$)\")"
   ]
  },
  {
   "cell_type": "markdown",
   "metadata": {},
   "source": [
    "### Get DA from loss"
   ]
  },
  {
   "cell_type": "code",
   "execution_count": 16,
   "metadata": {},
   "outputs": [],
   "source": [
    "DA_from_loss = DA_from_unifom_loss(real_values, DA0)"
   ]
  },
  {
   "cell_type": "markdown",
   "metadata": {},
   "source": [
    "#### Visualize difference"
   ]
  },
  {
   "cell_type": "code",
   "execution_count": 17,
   "metadata": {},
   "outputs": [
    {
     "data": {
      "text/plain": [
       "Text(0.5, 1.0, 'Comparison between original DA and DA obtained from real Loss')"
      ]
     },
     "execution_count": 17,
     "metadata": {},
     "output_type": "execute_result"
    },
    {
     "data": {
      "image/png": "[encoded data removed]",
      "text/plain": [
       "<Figure size 432x288 with 1 Axes>"
      ]
     },
     "metadata": {
      "needs_background": "light"
     },
     "output_type": "display_data"
    }
   ],
   "source": [
    "fig3, ax3 = plt.subplots()\n",
    "ax3.plot(turn_sampling, DA, label=\"Original DA\")\n",
    "ax3.plot(axis_sampling[:-1], DA_from_loss[:-1], label=\"DA extracted from real loss values\")\n",
    "ax3.legend()\n",
    "ax3.set_xlabel(\"$N$ turns\")\n",
    "ax3.set_ylabel(\"$DA(N)$\")\n",
    "ax3.set_title(\"Comparison between original DA and DA obtained from real Loss\")"
   ]
  },
  {
   "cell_type": "markdown",
   "metadata": {},
   "source": [
    "### Compare fitting values with Model 2"
   ]
  },
  {
   "cell_type": "code",
   "execution_count": 18,
   "metadata": {},
   "outputs": [
    {
     "data": {
      "application/vnd.jupyter.widget-view+json": {
       "model_id": "964178ed0f9546159c031138cfd1c589",
       "version_major": 2,
       "version_minor": 0
      },
      "text/plain": [
       "HBox(children=(FloatProgress(value=0.0, max=200.0), HTML(value='')))"
      ]
     },
     "metadata": {},
     "output_type": "display_data"
    },
    {
     "name": "stdout",
     "output_type": "stream",
     "text": [
      "\n"
     ]
    },
    {
     "data": {
      "application/vnd.jupyter.widget-view+json": {
       "model_id": "a154a6270c834a2aa15f974ffdb17f3f",
       "version_major": 2,
       "version_minor": 0
      },
      "text/plain": [
       "HBox(children=(FloatProgress(value=0.0, max=200.0), HTML(value='')))"
      ]
     },
     "metadata": {},
     "output_type": "display_data"
    },
    {
     "name": "stdout",
     "output_type": "stream",
     "text": [
      "\n"
     ]
    }
   ],
   "source": [
    "k_min = 0.05\n",
    "k_max = 0.20\n",
    "samples = 200\n",
    "\n",
    "ks = np.linspace(k_min, k_max, samples)\n",
    "\n",
    "real_pars, real_errs, real_co_pars = explore_k_model_2(turn_sampling, DA, k_min, k_max, samples)\n",
    "loss_pars, loss_errs, loss_co_pars = explore_k_model_2(axis_sampling[:-1], DA_from_loss[:-1], k_min, k_max, samples)\n",
    "\n",
    "real_selected_err_2 = np.min(real_errs)\n",
    "real_selected_k_2 = ks[np.argmin(real_errs)]\n",
    "real_selected_pars_2 = real_pars[np.argmin(real_errs)]\n",
    "real_selected_co_pars_2 = real_co_pars[np.argmin(real_errs)]\n",
    "\n",
    "loss_selected_err_2 = np.min(loss_errs)\n",
    "loss_selected_k_2 = ks[np.argmin(loss_errs)]\n",
    "loss_selected_pars_2 = loss_pars[np.argmin(loss_errs)]\n",
    "loss_selected_co_pars_2 = loss_co_pars[np.argmin(loss_errs)]"
   ]
  },
  {
   "cell_type": "code",
   "execution_count": 19,
   "metadata": {},
   "outputs": [
    {
     "name": "stdout",
     "output_type": "stream",
     "text": [
      "REAL: $\\kappa:$ 0.12010050251256282 , $\\rho_\\ast$ and $N_0$ [36.18640445 46.58671577]\n",
      "FROM LOSS: $\\kappa:$ 0.12386934673366835 , $\\rho_\\ast$ and $N_0$ [37.82745462 43.22660891]\n"
     ]
    }
   ],
   "source": [
    "print(\"REAL:\", \"$\\\\kappa:$\", real_selected_k_2, \", $\\\\rho_\\\\ast$ and $N_0$\", real_selected_pars_2)\n",
    "print(\"FROM LOSS:\", \"$\\\\kappa:$\", loss_selected_k_2, \", $\\\\rho_\\\\ast$ and $N_0$\", loss_selected_pars_2)"
   ]
  },
  {
   "cell_type": "code",
   "execution_count": 20,
   "metadata": {},
   "outputs": [
    {
     "data": {
      "text/plain": [
       "Text(0.5, 1.0, 'Comparison between original DA and DA obtained from real Loss, with Model 2 Fits')"
      ]
     },
     "execution_count": 20,
     "metadata": {},
     "output_type": "execute_result"
    },
    {
     "data": {
      "image/png": "[encoded data removed]",
      "text/plain": [
       "<Figure size 432x288 with 1 Axes>"
      ]
     },
     "metadata": {
      "needs_background": "light"
     },
     "output_type": "display_data"
    }
   ],
   "source": [
    "fig3, ax3 = plt.subplots()\n",
    "\n",
    "ax3.plot(turn_sampling, DA, label=\"Original DA\")\n",
    "ax3.plot(turn_sampling, model_2(turn_sampling, real_selected_pars_2[0], real_selected_pars_2[1], real_selected_k_2), label=\"Fitting on original DA\\n$\\\\kappa = {:.4f},\\\\rho_\\\\ast = {:.4f}, N_0={:.4f}$\".format(real_selected_k_2, real_selected_pars_2[0], real_selected_pars_2[1] ))\n",
    "\n",
    "ax3.plot(axis_sampling[:-1], DA_from_loss[:-1], label=\"DA extracted from real loss values\")\n",
    "ax3.plot(turn_sampling, model_2(turn_sampling, loss_selected_pars_2[0], loss_selected_pars_2[1], loss_selected_k_2), label=\"Fitting on original DA\\n$\\\\kappa = {:.4f},\\\\rho_\\\\ast = {:.4f}, N_0={:.4f}$\".format(loss_selected_k_2, loss_selected_pars_2[0], loss_selected_pars_2[1] ))\n",
    "\n",
    "ax3.legend()\n",
    "ax3.set_xlabel(\"$N$ turns\")\n",
    "ax3.set_ylabel(\"$DA(N)$\")\n",
    "ax3.set_title(\"Comparison between original DA and DA obtained from real Loss, with Model 2 Fits\")"
   ]
  },
  {
   "cell_type": "markdown",
   "metadata": {},
   "source": [
    "### Compare fitting values with Model 4"
   ]
  },
  {
   "cell_type": "code",
   "execution_count": 21,
   "metadata": {},
   "outputs": [
    {
     "data": {
      "application/vnd.jupyter.widget-view+json": {
       "model_id": "742e043e4000419795e61ca1e29be232",
       "version_major": 2,
       "version_minor": 0
      },
      "text/plain": [
       "HBox(children=(FloatProgress(value=0.0, max=200.0), HTML(value='')))"
      ]
     },
     "metadata": {},
     "output_type": "display_data"
    },
    {
     "name": "stdout",
     "output_type": "stream",
     "text": [
      "\n"
     ]
    },
    {
     "data": {
      "application/vnd.jupyter.widget-view+json": {
       "model_id": "4ad349d904804e8c9d96bd35b1ef869b",
       "version_major": 2,
       "version_minor": 0
      },
      "text/plain": [
       "HBox(children=(FloatProgress(value=0.0, max=200.0), HTML(value='')))"
      ]
     },
     "metadata": {},
     "output_type": "display_data"
    },
    {
     "name": "stdout",
     "output_type": "stream",
     "text": [
      "\n"
     ]
    }
   ],
   "source": [
    "k_min = 0.15\n",
    "k_max = 0.30\n",
    "samples = 200\n",
    "\n",
    "ks = np.linspace(k_min, k_max, samples)\n",
    "\n",
    "real_pars, real_errs, real_co_pars = explore_k_model_4(turn_sampling, DA, k_min, k_max, samples)\n",
    "loss_pars, loss_errs, loss_co_pars = explore_k_model_4(axis_sampling[:-1], DA_from_loss[:-1], k_min, k_max, samples)\n",
    "\n",
    "real_selected_err_4 = np.min(real_errs)\n",
    "real_selected_k_4 = ks[np.argmin(real_errs)]\n",
    "real_selected_pars_4 = real_pars[np.argmin(real_errs)]\n",
    "real_selected_co_pars_4 = real_co_pars[np.argmin(real_errs)]\n",
    "\n",
    "loss_selected_err_4 = np.min(loss_errs)\n",
    "loss_selected_k_4 = ks[np.argmin(loss_errs)]\n",
    "loss_selected_pars_4 = loss_pars[np.argmin(loss_errs)]\n",
    "loss_selected_co_pars_4 = loss_co_pars[np.argmin(loss_errs)]"
   ]
  },
  {
   "cell_type": "code",
   "execution_count": 22,
   "metadata": {},
   "outputs": [
    {
     "name": "stdout",
     "output_type": "stream",
     "text": [
      "REAL: $\\kappa:$ 0.21633165829145728 , $\\rho_\\ast$ and $N_0$ [60.2736379]\n",
      "FROM LOSS: $\\kappa:$ 0.22236180904522612 , $\\rho_\\ast$ and $N_0$ [63.48946443]\n"
     ]
    }
   ],
   "source": [
    "print(\"REAL:\", \"$\\\\kappa:$\", real_selected_k_4, \", $\\\\rho_\\\\ast$ and $N_0$\", real_selected_pars_4)\n",
    "print(\"FROM LOSS:\", \"$\\\\kappa:$\", loss_selected_k_4, \", $\\\\rho_\\\\ast$ and $N_0$\", loss_selected_pars_4)"
   ]
  },
  {
   "cell_type": "code",
   "execution_count": 23,
   "metadata": {},
   "outputs": [
    {
     "data": {
      "text/plain": [
       "Text(0.5, 1.0, 'Comparison between original DA and DA obtained from real Loss,\\n with Model 4 Fits $(\\\\lambda=0.5)$, 2 free parameters')"
      ]
     },
     "execution_count": 23,
     "metadata": {},
     "output_type": "execute_result"
    },
    {
     "data": {
      "image/png": "[encoded data removed]",
      "text/plain": [
       "<Figure size 432x288 with 1 Axes>"
      ]
     },
     "metadata": {
      "needs_background": "light"
     },
     "output_type": "display_data"
    }
   ],
   "source": [
    "fig3, ax3 = plt.subplots()\n",
    "\n",
    "ax3.plot(turn_sampling, DA, label=\"Original DA\")\n",
    "ax3.plot(turn_sampling, model_4(turn_sampling, real_selected_pars_4[0], real_selected_k_4), label=\"Fitting on original DA\\n$\\\\kappa = {:.4f},\\\\rho_\\\\ast = {:.4f}$\".format(real_selected_k_4, real_selected_pars_4[0]))\n",
    "\n",
    "ax3.plot(axis_sampling[:-1], DA_from_loss[:-1], label=\"DA extracted from real loss values\")\n",
    "ax3.plot(turn_sampling, model_4(turn_sampling, loss_selected_pars_4[0], loss_selected_k_4), label=\"Fitting on original DA\\n$\\\\kappa = {:.4f},\\\\rho_\\\\ast = {:.4f}$\".format(loss_selected_k_4, loss_selected_pars_4[0]))\n",
    "\n",
    "ax3.legend()\n",
    "ax3.set_xlabel(\"$N$ turns\")\n",
    "ax3.set_ylabel(\"$DA(N)$\")\n",
    "ax3.set_title(\"Comparison between original DA and DA obtained from real Loss,\\n with Model 4 Fits $(\\\\lambda=0.5)$, 2 free parameters\")"
   ]
  },
  {
   "cell_type": "markdown",
   "metadata": {},
   "source": [
    "### Compare fitting values with Model 4 (But more free)"
   ]
  },
  {
   "cell_type": "code",
   "execution_count": 24,
   "metadata": {},
   "outputs": [
    {
     "data": {
      "application/vnd.jupyter.widget-view+json": {
       "model_id": "da9b2d3fc4c8483f8f8dee45559e36b1",
       "version_major": 2,
       "version_minor": 0
      },
      "text/plain": [
       "HBox(children=(FloatProgress(value=0.0, max=200.0), HTML(value='')))"
      ]
     },
     "metadata": {},
     "output_type": "display_data"
    },
    {
     "name": "stdout",
     "output_type": "stream",
     "text": [
      "\n"
     ]
    },
    {
     "data": {
      "application/vnd.jupyter.widget-view+json": {
       "model_id": "b3313a6b61204150a99aa45035865ca6",
       "version_major": 2,
       "version_minor": 0
      },
      "text/plain": [
       "HBox(children=(FloatProgress(value=0.0, max=200.0), HTML(value='')))"
      ]
     },
     "metadata": {},
     "output_type": "display_data"
    },
    {
     "name": "stdout",
     "output_type": "stream",
     "text": [
      "\n"
     ]
    }
   ],
   "source": [
    "k_min = 0.05\n",
    "k_max = 0.20\n",
    "samples = 200\n",
    "\n",
    "ks = np.linspace(k_min, k_max, samples)\n",
    "\n",
    "real_pars, real_errs, real_co_pars = explore_model_4_free(turn_sampling[:], DA[:], k_min, k_max, samples)\n",
    "loss_pars, loss_errs, loss_co_pars = explore_model_4_free(axis_sampling[:-1], DA_from_loss[:-1], k_min, k_max, samples)\n",
    "\n",
    "real_selected_err_4_free = np.min(real_errs)\n",
    "real_selected_k_4_free = ks[np.argmin(real_errs)]\n",
    "real_selected_pars_4_free = real_pars[np.argmin(real_errs)]\n",
    "real_selected_co_pars_4_free = real_co_pars[np.argmin(real_errs)]\n",
    "\n",
    "loss_selected_err_4_free = np.min(loss_errs)\n",
    "loss_selected_k_4_free = ks[np.argmin(loss_errs)]\n",
    "loss_selected_pars_4_free = loss_pars[np.argmin(loss_errs)]\n",
    "loss_selected_co_pars_4_free = loss_co_pars[np.argmin(loss_errs)]"
   ]
  },
  {
   "cell_type": "code",
   "execution_count": 25,
   "metadata": {},
   "outputs": [
    {
     "name": "stdout",
     "output_type": "stream",
     "text": [
      "REAL: $\\kappa:$ 0.12311557788944724 , $\\rho_\\ast$ and $N_0$ [36.83247721 43.10890574]\n",
      "FROM LOSS: $\\kappa:$ 0.12688442211055279 , $\\rho_\\ast$ and $N_0$ [38.50590842 40.04295254]\n"
     ]
    }
   ],
   "source": [
    "print(\"REAL:\", \"$\\\\kappa:$\", real_selected_k_4_free, \", $\\\\rho_\\\\ast$ and $N_0$\", real_selected_pars_4_free)\n",
    "print(\"FROM LOSS:\", \"$\\\\kappa:$\", loss_selected_k_4_free, \", $\\\\rho_\\\\ast$ and $N_0$\", loss_selected_pars_4_free)"
   ]
  },
  {
   "cell_type": "code",
   "execution_count": 26,
   "metadata": {},
   "outputs": [
    {
     "data": {
      "text/plain": [
       "Text(0.5, 1.0, 'Comparison between original DA and DA obtained from real Loss,\\n with Model 4 Fits $(\\\\lambda=0.5)$, 3 free parameters')"
      ]
     },
     "execution_count": 26,
     "metadata": {},
     "output_type": "execute_result"
    },
    {
     "data": {
      "image/png": "[encoded data removed]",
      "text/plain": [
       "<Figure size 432x288 with 1 Axes>"
      ]
     },
     "metadata": {
      "needs_background": "light"
     },
     "output_type": "display_data"
    }
   ],
   "source": [
    "fig3, ax3 = plt.subplots()\n",
    "\n",
    "ax3.plot(turn_sampling, DA, label=\"Original DA\")\n",
    "ax3.plot(turn_sampling, model_4_free(turn_sampling, real_selected_pars_4_free[0], real_selected_pars_4_free[1], real_selected_k_4_free), label=\"Fitting on original DA\\n$\\\\kappa = {:.4f},\\\\rho_\\\\ast = {:.4f}, N_0 = {:.4f}$\".format(real_selected_k_4_free, real_selected_pars_4_free[0], real_selected_pars_4_free[1]))\n",
    "\n",
    "ax3.plot(axis_sampling[:-1], DA_from_loss[:-1], label=\"DA extracted from real loss values\")\n",
    "ax3.plot(turn_sampling, model_4_free(turn_sampling, loss_selected_pars_4_free[0], loss_selected_pars_4_free[1], loss_selected_k_4_free), label=\"Fitting on original DA\\n$\\\\kappa = {:.4f},\\\\rho_\\\\ast = {:.4f}, N_0 = {:.4f}$\".format(loss_selected_k_4_free, loss_selected_pars_4_free[0], loss_selected_pars_4_free[1]))\n",
    "\n",
    "ax3.legend()\n",
    "ax3.set_xlabel(\"$N$ turns\")\n",
    "ax3.set_ylabel(\"$DA(N)$\")\n",
    "ax3.set_title(\"Comparison between original DA and DA obtained from real Loss,\\n with Model 4 Fits $(\\\\lambda=0.5)$, 3 free parameters\")"
   ]
  },
  {
   "cell_type": "markdown",
   "metadata": {},
   "source": [
    "### Save data in the dataframe"
   ]
  },
  {
   "cell_type": "code",
   "execution_count": 27,
   "metadata": {},
   "outputs": [],
   "source": [
    "fitting_data.loc[len(fitting_data)] = [\n",
    "     \"real\",\n",
    "     np.nan,\n",
    "     real_selected_k_2,\n",
    "     ks[1] - ks[0],\n",
    "     real_selected_pars_2[0],\n",
    "     np.sqrt(real_selected_co_pars_2[0, 0]), \n",
    "     real_selected_pars_2[1], \n",
    "     np.sqrt(real_selected_co_pars_2[1, 1]), \n",
    "     real_selected_err_2,\n",
    "     real_selected_k_4, \n",
    "     ks[1] - ks[0], \n",
    "     real_selected_pars_4[0], \n",
    "     np.sqrt(real_selected_co_pars_4[0, 0]),\n",
    "     1/2,\n",
    "     real_selected_err_4,\n",
    "     real_selected_k_4_free, \n",
    "     ks[1] - ks[0], \n",
    "     real_selected_pars_4_free[0], \n",
    "     np.sqrt(real_selected_co_pars_4_free[0, 0]),\n",
    "     real_selected_pars_4_free[1], \n",
    "     np.sqrt(real_selected_co_pars_4_free[1, 1]),\n",
    "     1/2,\n",
    "     real_selected_err_4_free\n",
    "]\n",
    "\n",
    "\n",
    "fitting_data.loc[len(fitting_data)] = [\n",
    "    \"uniform\",\n",
    "     np.nan,\n",
    "     loss_selected_k_2,\n",
    "     ks[1] - ks[0],\n",
    "     loss_selected_pars_2[0],\n",
    "     np.sqrt(loss_selected_co_pars_2[0, 0]),\n",
    "     loss_selected_pars_2[1],\n",
    "     np.sqrt(loss_selected_co_pars_2[1, 1]),\n",
    "     loss_selected_err_2,\n",
    "     loss_selected_k_4,\n",
    "     ks[1] - ks[0],\n",
    "     loss_selected_pars_4[0],\n",
    "     np.sqrt(loss_selected_co_pars_4[0, 0]),\n",
    "     1/2,\n",
    "     loss_selected_err_4,\n",
    "     loss_selected_k_4_free,\n",
    "     ks[1] - ks[0],\n",
    "     loss_selected_pars_4_free[0],\n",
    "     np.sqrt(loss_selected_co_pars_4_free[0, 0]),\n",
    "     loss_selected_pars_4_free[1],\n",
    "     np.sqrt(loss_selected_co_pars_4_free[1, 1]),\n",
    "     1/2,\n",
    "     loss_selected_err_4_free\n",
    "]"
   ]
  },
  {
   "cell_type": "markdown",
   "metadata": {},
   "source": [
    "## Loss and Fits -- Symmetric Gaussian Beam Distribution\n",
    "### Choose your Sigma!"
   ]
  },
  {
   "cell_type": "code",
   "execution_count": 28,
   "metadata": {},
   "outputs": [],
   "source": [
    "sigma = 8.0"
   ]
  },
  {
   "cell_type": "markdown",
   "metadata": {},
   "source": [
    "### Loss comparison"
   ]
  },
  {
   "cell_type": "code",
   "execution_count": 29,
   "metadata": {},
   "outputs": [],
   "source": [
    "# Assign uniform weights to engine and compute loss\n",
    "engine.assign_weights(\n",
    "    sx.assign_symmetric_gaussian(sigma)\n",
    ")\n",
    "real_values = engine.compute_loss(turn_sampling, DA0)\n",
    "real_values = np.concatenate((real_values, [1.0]))\n",
    "\n",
    "# Compute DA-based loss\n",
    "values = symmetric_gaussian_loss(DA, sigma, DA0)\n",
    "values = np.concatenate((values, [1.0]))\n",
    "\n",
    "# Error computing\n",
    "values1 = symmetric_gaussian_loss(DA - np.absolute(np.mean(radiuses - DA, axis=(0,1,2))), sigma, DA0)\n",
    "values1 = np.concatenate((values1, [1.0]))\n",
    "\n",
    "values2 = symmetric_gaussian_loss(DA + np.absolute(np.mean(radiuses - DA, axis=(0,1,2))), sigma, DA0)\n",
    "values2 = np.concatenate((values2, [1.0]))"
   ]
  },
  {
   "cell_type": "markdown",
   "metadata": {},
   "source": [
    "#### Visualize Loss comparison"
   ]
  },
  {
   "cell_type": "code",
   "execution_count": 30,
   "metadata": {},
   "outputs": [
    {
     "data": {
      "text/plain": [
       "Text(0.5, 1.0, 'Symmetric Gaussian beam ($\\\\sigma=8.0$, Cutting Point at $DA=26.0$)')"
      ]
     },
     "execution_count": 30,
     "metadata": {},
     "output_type": "execute_result"
    },
    {
     "data": {
      "image/png": "[encoded data removed]",
      "text/plain": [
       "<Figure size 432x288 with 1 Axes>"
      ]
     },
     "metadata": {
      "needs_background": "light"
     },
     "output_type": "display_data"
    }
   ],
   "source": [
    "fig2, ax2 = plt.subplots()\n",
    "ax2.plot(axis_sampling, values, label=\"Values from DA\")\n",
    "ax2.fill_between(axis_sampling, values1, values2, label=\"Values from DA - error\", color=\"C0\", alpha=0.4)\n",
    "ax2.plot(axis_sampling, real_values, label=\"Values from weights\")\n",
    "ax2.legend()\n",
    "ax2.set_xlabel(\"$N$ turns\")\n",
    "ax2.set_ylabel(\"Active beam\")\n",
    "ax2.set_title(\"Symmetric Gaussian beam ($\\\\sigma={}$, Cutting Point at $DA=26.0$)\".format(sigma))"
   ]
  },
  {
   "cell_type": "markdown",
   "metadata": {},
   "source": [
    "### Get DA from loss"
   ]
  },
  {
   "cell_type": "code",
   "execution_count": 31,
   "metadata": {},
   "outputs": [],
   "source": [
    "DA_from_loss = DA_from_symmetric_gaussian_loss(real_values, sigma, DA0)"
   ]
  },
  {
   "cell_type": "markdown",
   "metadata": {},
   "source": [
    "#### Visualize difference"
   ]
  },
  {
   "cell_type": "code",
   "execution_count": 32,
   "metadata": {},
   "outputs": [
    {
     "data": {
      "text/plain": [
       "Text(0.5, 1.0, 'Comparison between original DA and DA obtained from real Loss')"
      ]
     },
     "execution_count": 32,
     "metadata": {},
     "output_type": "execute_result"
    },
    {
     "data": {
      "image/png": "[encoded data removed]",
      "text/plain": [
       "<Figure size 432x288 with 1 Axes>"
      ]
     },
     "metadata": {
      "needs_background": "light"
     },
     "output_type": "display_data"
    }
   ],
   "source": [
    "fig3, ax3 = plt.subplots()\n",
    "ax3.plot(turn_sampling, DA, label=\"Original DA\")\n",
    "ax3.plot(axis_sampling[:-1], DA_from_loss[:-1], label=\"DA extracted from real loss values\")\n",
    "ax3.legend()\n",
    "ax3.set_xlabel(\"$N$ turns\")\n",
    "ax3.set_ylabel(\"$DA(N)$\")\n",
    "ax3.set_title(\"Comparison between original DA and DA obtained from real Loss\")"
   ]
  },
  {
   "cell_type": "markdown",
   "metadata": {},
   "source": [
    "### Compare fitting values with Model 2"
   ]
  },
  {
   "cell_type": "code",
   "execution_count": 33,
   "metadata": {},
   "outputs": [
    {
     "data": {
      "application/vnd.jupyter.widget-view+json": {
       "model_id": "4ef7c165bc9a4aa69e26d395e6562e61",
       "version_major": 2,
       "version_minor": 0
      },
      "text/plain": [
       "HBox(children=(FloatProgress(value=0.0, max=200.0), HTML(value='')))"
      ]
     },
     "metadata": {},
     "output_type": "display_data"
    },
    {
     "name": "stdout",
     "output_type": "stream",
     "text": [
      "\n"
     ]
    },
    {
     "data": {
      "application/vnd.jupyter.widget-view+json": {
       "model_id": "26e161cc80e141d9b8085b897396b2dd",
       "version_major": 2,
       "version_minor": 0
      },
      "text/plain": [
       "HBox(children=(FloatProgress(value=0.0, max=200.0), HTML(value='')))"
      ]
     },
     "metadata": {},
     "output_type": "display_data"
    },
    {
     "name": "stdout",
     "output_type": "stream",
     "text": [
      "\n"
     ]
    }
   ],
   "source": [
    "k_min = 0.05\n",
    "k_max = 0.20\n",
    "samples = 200\n",
    "\n",
    "ks = np.linspace(k_min, k_max, samples)\n",
    "\n",
    "real_pars, real_errs, real_co_pars = explore_k_model_2(turn_sampling, DA, k_min, k_max, samples)\n",
    "loss_pars, loss_errs, loss_co_pars = explore_k_model_2(axis_sampling[:-1], DA_from_loss[:-1], k_min, k_max, samples)\n",
    "\n",
    "real_selected_err_2 = np.min(real_errs)\n",
    "real_selected_k_2 = ks[np.argmin(real_errs)]\n",
    "real_selected_pars_2 = real_pars[np.argmin(real_errs)]\n",
    "real_selected_co_pars_2 = real_co_pars[np.argmin(real_errs)]\n",
    "\n",
    "loss_selected_err_2 = np.min(loss_errs)\n",
    "loss_selected_k_2 = ks[np.argmin(loss_errs)]\n",
    "loss_selected_pars_2 = loss_pars[np.argmin(loss_errs)]\n",
    "loss_selected_co_pars_2 = loss_co_pars[np.argmin(loss_errs)]"
   ]
  },
  {
   "cell_type": "code",
   "execution_count": 34,
   "metadata": {},
   "outputs": [
    {
     "name": "stdout",
     "output_type": "stream",
     "text": [
      "REAL: $\\kappa:$ 0.12010050251256282 , $\\rho_\\ast$ and $N_0$ [36.18640445 46.58671577]\n",
      "FROM LOSS: $\\kappa:$ 0.1163316582914573 , $\\rho_\\ast$ and $N_0$ [35.76944672 34.64271846]\n"
     ]
    }
   ],
   "source": [
    "print(\"REAL:\", \"$\\\\kappa:$\", real_selected_k_2, \", $\\\\rho_\\\\ast$ and $N_0$\", real_selected_pars_2)\n",
    "print(\"FROM LOSS:\", \"$\\\\kappa:$\", loss_selected_k_2, \", $\\\\rho_\\\\ast$ and $N_0$\", loss_selected_pars_2)"
   ]
  },
  {
   "cell_type": "code",
   "execution_count": 35,
   "metadata": {},
   "outputs": [
    {
     "data": {
      "text/plain": [
       "Text(0.5, 1.0, 'Comparison between original DA and DA obtained from real Loss, with Model 2 Fits')"
      ]
     },
     "execution_count": 35,
     "metadata": {},
     "output_type": "execute_result"
    },
    {
     "data": {
      "image/png": "[encoded data removed]",
      "text/plain": [
       "<Figure size 432x288 with 1 Axes>"
      ]
     },
     "metadata": {
      "needs_background": "light"
     },
     "output_type": "display_data"
    }
   ],
   "source": [
    "fig3, ax3 = plt.subplots()\n",
    "\n",
    "ax3.plot(turn_sampling, DA, label=\"Original DA\")\n",
    "ax3.plot(turn_sampling, model_2(turn_sampling, real_selected_pars_2[0], real_selected_pars_2[1], real_selected_k_2), label=\"Fitting on original DA\\n$\\\\kappa = {:.4f},\\\\rho_\\\\ast = {:.4f}, N_0={:.4f}$\".format(real_selected_k_2, real_selected_pars_2[0], real_selected_pars_2[1] ))\n",
    "\n",
    "ax3.plot(axis_sampling[:-1], DA_from_loss[:-1], label=\"DA extracted from real loss values\")\n",
    "ax3.plot(turn_sampling, model_2(turn_sampling, loss_selected_pars_2[0], loss_selected_pars_2[1], loss_selected_k_2), label=\"Fitting on original DA\\n$\\\\kappa = {:.4f},\\\\rho_\\\\ast = {:.4f}, N_0={:.4f}$\".format(loss_selected_k_2, loss_selected_pars_2[0], loss_selected_pars_2[1] ))\n",
    "\n",
    "ax3.legend()\n",
    "ax3.set_xlabel(\"$N$ turns\")\n",
    "ax3.set_ylabel(\"$DA(N)$\")\n",
    "ax3.set_title(\"Comparison between original DA and DA obtained from real Loss, with Model 2 Fits\")"
   ]
  },
  {
   "cell_type": "markdown",
   "metadata": {},
   "source": [
    "### Compare fitting values with Model 4"
   ]
  },
  {
   "cell_type": "code",
   "execution_count": 36,
   "metadata": {},
   "outputs": [
    {
     "data": {
      "application/vnd.jupyter.widget-view+json": {
       "model_id": "6e444161c5534dfe8f6ce878a4acfd61",
       "version_major": 2,
       "version_minor": 0
      },
      "text/plain": [
       "HBox(children=(FloatProgress(value=0.0, max=200.0), HTML(value='')))"
      ]
     },
     "metadata": {},
     "output_type": "display_data"
    },
    {
     "name": "stdout",
     "output_type": "stream",
     "text": [
      "\n"
     ]
    },
    {
     "data": {
      "application/vnd.jupyter.widget-view+json": {
       "model_id": "b921c589473744c6b5785c23b0152b09",
       "version_major": 2,
       "version_minor": 0
      },
      "text/plain": [
       "HBox(children=(FloatProgress(value=0.0, max=200.0), HTML(value='')))"
      ]
     },
     "metadata": {},
     "output_type": "display_data"
    },
    {
     "name": "stdout",
     "output_type": "stream",
     "text": [
      "\n"
     ]
    }
   ],
   "source": [
    "k_min = 0.15\n",
    "k_max = 0.30\n",
    "samples = 200\n",
    "\n",
    "ks = np.linspace(k_min, k_max, samples)\n",
    "\n",
    "real_pars, real_errs, real_co_pars = explore_k_model_4(turn_sampling, DA, k_min, k_max, samples)\n",
    "loss_pars, loss_errs, loss_co_pars = explore_k_model_4(axis_sampling[:-1], DA_from_loss[:-1], k_min, k_max, samples)\n",
    "\n",
    "real_selected_err_4 = np.min(real_errs)\n",
    "real_selected_k_4 = ks[np.argmin(real_errs)]\n",
    "real_selected_pars_4 = real_pars[np.argmin(real_errs)]\n",
    "real_selected_co_pars_4 = real_co_pars[np.argmin(real_errs)]\n",
    "\n",
    "loss_selected_err_4 = np.min(loss_errs)\n",
    "loss_selected_k_4 = ks[np.argmin(loss_errs)]\n",
    "loss_selected_pars_4 = loss_pars[np.argmin(loss_errs)]\n",
    "loss_selected_co_pars_4 = loss_co_pars[np.argmin(loss_errs)]"
   ]
  },
  {
   "cell_type": "code",
   "execution_count": 37,
   "metadata": {},
   "outputs": [
    {
     "name": "stdout",
     "output_type": "stream",
     "text": [
      "REAL: $\\kappa:$ 0.21633165829145728 , $\\rho_\\ast$ and $N_0$ [60.2736379]\n",
      "FROM LOSS: $\\kappa:$ 0.21633165829145728 , $\\rho_\\ast$ and $N_0$ [60.25543722]\n"
     ]
    }
   ],
   "source": [
    "print(\"REAL:\", \"$\\\\kappa:$\", real_selected_k_4, \", $\\\\rho_\\\\ast$ and $N_0$\", real_selected_pars_4)\n",
    "print(\"FROM LOSS:\", \"$\\\\kappa:$\", loss_selected_k_4, \", $\\\\rho_\\\\ast$ and $N_0$\", loss_selected_pars_4)"
   ]
  },
  {
   "cell_type": "code",
   "execution_count": 38,
   "metadata": {},
   "outputs": [
    {
     "data": {
      "text/plain": [
       "Text(0.5, 1.0, 'Comparison between original DA and DA obtained from real Loss, with Model 4 Fits $(\\\\lambda=0.5)$')"
      ]
     },
     "execution_count": 38,
     "metadata": {},
     "output_type": "execute_result"
    },
    {
     "data": {
      "image/png": "[encoded data removed]",
      "text/plain": [
       "<Figure size 432x288 with 1 Axes>"
      ]
     },
     "metadata": {
      "needs_background": "light"
     },
     "output_type": "display_data"
    }
   ],
   "source": [
    "fig3, ax3 = plt.subplots()\n",
    "\n",
    "ax3.plot(turn_sampling, DA, label=\"Original DA\")\n",
    "ax3.plot(turn_sampling, model_4(turn_sampling, real_selected_pars_4[0], real_selected_k_4), label=\"Fitting on original DA\\n$\\\\kappa = {:.4f},\\\\rho_\\\\ast = {:.4f}$\".format(real_selected_k_4, real_selected_pars_4[0]))\n",
    "\n",
    "ax3.plot(axis_sampling[:-1], DA_from_loss[:-1], label=\"DA extracted from real loss values\")\n",
    "ax3.plot(turn_sampling, model_4(turn_sampling, loss_selected_pars_4[0], loss_selected_k_4), label=\"Fitting on original DA\\n$\\\\kappa = {:.4f},\\\\rho_\\\\ast = {:.4f}$\".format(loss_selected_k_4, loss_selected_pars_4[0]))\n",
    "\n",
    "ax3.legend()\n",
    "ax3.set_xlabel(\"$N$ turns\")\n",
    "ax3.set_ylabel(\"$DA(N)$\")\n",
    "ax3.set_title(\"Comparison between original DA and DA obtained from real Loss, with Model 4 Fits $(\\\\lambda=0.5)$\")"
   ]
  },
  {
   "cell_type": "markdown",
   "metadata": {},
   "source": [
    "### Compare fitting values with Model 4 (But more free)"
   ]
  },
  {
   "cell_type": "code",
   "execution_count": 39,
   "metadata": {},
   "outputs": [
    {
     "data": {
      "application/vnd.jupyter.widget-view+json": {
       "model_id": "3672a9e591a0414c8294473dbee88cd6",
       "version_major": 2,
       "version_minor": 0
      },
      "text/plain": [
       "HBox(children=(FloatProgress(value=0.0, max=200.0), HTML(value='')))"
      ]
     },
     "metadata": {},
     "output_type": "display_data"
    },
    {
     "name": "stdout",
     "output_type": "stream",
     "text": [
      "\n"
     ]
    },
    {
     "data": {
      "application/vnd.jupyter.widget-view+json": {
       "model_id": "1a9ef378729d4602b84d7c95e6e07f44",
       "version_major": 2,
       "version_minor": 0
      },
      "text/plain": [
       "HBox(children=(FloatProgress(value=0.0, max=200.0), HTML(value='')))"
      ]
     },
     "metadata": {},
     "output_type": "display_data"
    },
    {
     "name": "stdout",
     "output_type": "stream",
     "text": [
      "\n"
     ]
    }
   ],
   "source": [
    "k_min = 0.05\n",
    "k_max = 0.20\n",
    "samples = 200\n",
    "\n",
    "ks = np.linspace(k_min, k_max, samples)\n",
    "\n",
    "real_pars, real_errs, real_co_pars = explore_model_4_free(turn_sampling, DA, k_min, k_max, samples)\n",
    "loss_pars, loss_errs, loss_co_pars = explore_model_4_free(axis_sampling[:-1], DA_from_loss[:-1], k_min, k_max, samples)\n",
    "\n",
    "real_selected_err_4_free = np.min(real_errs)\n",
    "real_selected_k_4_free = ks[np.argmin(real_errs)]\n",
    "real_selected_pars_4_free = real_pars[np.argmin(real_errs)]\n",
    "real_selected_co_pars_4_free = real_co_pars[np.argmin(real_errs)]\n",
    "\n",
    "loss_selected_err_4_free = np.min(loss_errs)\n",
    "loss_selected_k_4_free = ks[np.argmin(loss_errs)]\n",
    "loss_selected_pars_4_free = loss_pars[np.argmin(loss_errs)]\n",
    "loss_selected_co_pars_4_free = loss_co_pars[np.argmin(loss_errs)]"
   ]
  },
  {
   "cell_type": "code",
   "execution_count": 40,
   "metadata": {},
   "outputs": [
    {
     "name": "stdout",
     "output_type": "stream",
     "text": [
      "REAL: $\\kappa:$ 0.12311557788944724 , $\\rho_\\ast$ and $N_0$ [36.83247721 43.10890574]\n",
      "FROM LOSS: $\\kappa:$ 0.11859296482412061 , $\\rho_\\ast$ and $N_0$ [36.2635254  32.68722542]\n"
     ]
    }
   ],
   "source": [
    "print(\"REAL:\", \"$\\\\kappa:$\", real_selected_k_4_free, \", $\\\\rho_\\\\ast$ and $N_0$\", real_selected_pars_4_free)\n",
    "print(\"FROM LOSS:\", \"$\\\\kappa:$\", loss_selected_k_4_free, \", $\\\\rho_\\\\ast$ and $N_0$\", loss_selected_pars_4_free)"
   ]
  },
  {
   "cell_type": "code",
   "execution_count": 41,
   "metadata": {},
   "outputs": [
    {
     "data": {
      "text/plain": [
       "Text(0.5, 1.0, 'Comparison between original DA and DA obtained from real Loss,\\n with Model 4 Fits $(\\\\lambda=0.5)$, 3 free parameters')"
      ]
     },
     "execution_count": 41,
     "metadata": {},
     "output_type": "execute_result"
    },
    {
     "data": {
      "image/png": "[encoded data removed]",
      "text/plain": [
       "<Figure size 432x288 with 1 Axes>"
      ]
     },
     "metadata": {
      "needs_background": "light"
     },
     "output_type": "display_data"
    }
   ],
   "source": [
    "fig3, ax3 = plt.subplots()\n",
    "\n",
    "ax3.plot(turn_sampling, DA, label=\"Original DA\")\n",
    "ax3.plot(turn_sampling, model_4_free(turn_sampling, real_selected_pars_4_free[0], real_selected_pars_4_free[1], real_selected_k_4_free), label=\"Fitting on original DA\\n$\\\\kappa = {:.4f},\\\\rho_\\\\ast = {:.4f}, N_0 = {:.4f}$\".format(real_selected_k_4_free, real_selected_pars_4_free[0], real_selected_pars_4_free[1]))\n",
    "\n",
    "ax3.plot(axis_sampling[:-1], DA_from_loss[:-1], label=\"DA extracted from real loss values\")\n",
    "ax3.plot(turn_sampling, model_4_free(turn_sampling, loss_selected_pars_4_free[0], loss_selected_pars_4_free[1], loss_selected_k_4_free), label=\"Fitting on original DA\\n$\\\\kappa = {:.4f},\\\\rho_\\\\ast = {:.4f}, N_0 = {:.4f}$\".format(loss_selected_k_4_free, loss_selected_pars_4_free[0], loss_selected_pars_4_free[1]))\n",
    "\n",
    "ax3.legend()\n",
    "ax3.set_xlabel(\"$N$ turns\")\n",
    "ax3.set_ylabel(\"$DA(N)$\")\n",
    "ax3.set_title(\"Comparison between original DA and DA obtained from real Loss,\\n with Model 4 Fits $(\\\\lambda=0.5)$, 3 free parameters\")"
   ]
  },
  {
   "cell_type": "markdown",
   "metadata": {},
   "source": [
    "### Save data in the dataframe"
   ]
  },
  {
   "cell_type": "code",
   "execution_count": 42,
   "metadata": {},
   "outputs": [],
   "source": [
    "fitting_data.loc[len(fitting_data)] = [\n",
    "    \"gaussian\",\n",
    "     sigma,\n",
    "     loss_selected_k_2,\n",
    "     ks[1] - ks[0],\n",
    "     loss_selected_pars_2[0],\n",
    "     np.sqrt(loss_selected_co_pars_2[0, 0]),\n",
    "     loss_selected_pars_2[1],\n",
    "     np.sqrt(loss_selected_co_pars_2[1, 1]),\n",
    "     loss_selected_err_2,\n",
    "     loss_selected_k_4,\n",
    "     ks[1] - ks[0],\n",
    "     loss_selected_pars_4[0],\n",
    "     np.sqrt(loss_selected_co_pars_4[0, 0]),\n",
    "     1/2,\n",
    "     loss_selected_err_4,\n",
    "     loss_selected_k_4_free,\n",
    "     ks[1] - ks[0],\n",
    "     loss_selected_pars_4_free[1],\n",
    "     np.sqrt(loss_selected_co_pars_4_free[1, 1]),\n",
    "     loss_selected_pars_4_free[0],\n",
    "     np.sqrt(loss_selected_co_pars_4_free[0, 0]),\n",
    "     1/2,\n",
    "     loss_selected_err_4_free\n",
    "]\n"
   ]
  },
  {
   "cell_type": "markdown",
   "metadata": {},
   "source": [
    "## Display general dataframe with fitting data"
   ]
  },
  {
   "cell_type": "code",
   "execution_count": 43,
   "metadata": {},
   "outputs": [
    {
     "data": {
      "text/html": [
       "<div>\n",
       "<style scoped>\n",
       "    .dataframe tbody tr th:only-of-type {\n",
       "        vertical-align: middle;\n",
       "    }\n",
       "\n",
       "    .dataframe tbody tr th {\n",
       "        vertical-align: top;\n",
       "    }\n",
       "\n",
       "    .dataframe thead tr th {\n",
       "        text-align: left;\n",
       "    }\n",
       "</style>\n",
       "<table border=\"1\" class=\"dataframe\">\n",
       "  <thead>\n",
       "    <tr>\n",
       "      <th></th>\n",
       "      <th>type</th>\n",
       "      <th>sigma</th>\n",
       "      <th colspan=\"7\" halign=\"left\">Model 2</th>\n",
       "    </tr>\n",
       "    <tr>\n",
       "      <th></th>\n",
       "      <th></th>\n",
       "      <th></th>\n",
       "      <th>k</th>\n",
       "      <th>k err</th>\n",
       "      <th>rho</th>\n",
       "      <th>rho err</th>\n",
       "      <th>N0</th>\n",
       "      <th>N0 err</th>\n",
       "      <th>Chi2</th>\n",
       "    </tr>\n",
       "  </thead>\n",
       "  <tbody>\n",
       "    <tr>\n",
       "      <th>0</th>\n",
       "      <td>real</td>\n",
       "      <td>NaN</td>\n",
       "      <td>0.120101</td>\n",
       "      <td>0.000754</td>\n",
       "      <td>36.186404</td>\n",
       "      <td>0.003748</td>\n",
       "      <td>46.586716</td>\n",
       "      <td>0.202931</td>\n",
       "      <td>0.008032</td>\n",
       "    </tr>\n",
       "    <tr>\n",
       "      <th>1</th>\n",
       "      <td>uniform</td>\n",
       "      <td>NaN</td>\n",
       "      <td>0.123869</td>\n",
       "      <td>0.000754</td>\n",
       "      <td>37.827455</td>\n",
       "      <td>0.011225</td>\n",
       "      <td>43.226609</td>\n",
       "      <td>0.537353</td>\n",
       "      <td>6.197089</td>\n",
       "    </tr>\n",
       "    <tr>\n",
       "      <th>2</th>\n",
       "      <td>gaussian</td>\n",
       "      <td>8.0</td>\n",
       "      <td>0.116332</td>\n",
       "      <td>0.000754</td>\n",
       "      <td>35.769447</td>\n",
       "      <td>0.009985</td>\n",
       "      <td>34.642718</td>\n",
       "      <td>0.463256</td>\n",
       "      <td>0.095802</td>\n",
       "    </tr>\n",
       "  </tbody>\n",
       "</table>\n",
       "</div>"
      ],
      "text/plain": [
       "       type sigma   Model 2                                            \\\n",
       "                          k     k err        rho   rho err         N0   \n",
       "0      real   NaN  0.120101  0.000754  36.186404  0.003748  46.586716   \n",
       "1   uniform   NaN  0.123869  0.000754  37.827455  0.011225  43.226609   \n",
       "2  gaussian   8.0  0.116332  0.000754  35.769447  0.009985  34.642718   \n",
       "\n",
       "                       \n",
       "     N0 err      Chi2  \n",
       "0  0.202931  0.008032  \n",
       "1  0.537353  6.197089  \n",
       "2  0.463256  0.095802  "
      ]
     },
     "execution_count": 43,
     "metadata": {},
     "output_type": "execute_result"
    }
   ],
   "source": [
    "fitting_data[[\"type\", \"sigma\", \"Model 2\"]]"
   ]
  },
  {
   "cell_type": "code",
   "execution_count": 44,
   "metadata": {},
   "outputs": [
    {
     "data": {
      "text/html": [
       "<div>\n",
       "<style scoped>\n",
       "    .dataframe tbody tr th:only-of-type {\n",
       "        vertical-align: middle;\n",
       "    }\n",
       "\n",
       "    .dataframe tbody tr th {\n",
       "        vertical-align: top;\n",
       "    }\n",
       "\n",
       "    .dataframe thead tr th {\n",
       "        text-align: left;\n",
       "    }\n",
       "</style>\n",
       "<table border=\"1\" class=\"dataframe\">\n",
       "  <thead>\n",
       "    <tr>\n",
       "      <th></th>\n",
       "      <th>type</th>\n",
       "      <th>sigma</th>\n",
       "      <th colspan=\"6\" halign=\"left\">Model 4 (2 free pars)</th>\n",
       "    </tr>\n",
       "    <tr>\n",
       "      <th></th>\n",
       "      <th></th>\n",
       "      <th></th>\n",
       "      <th>k</th>\n",
       "      <th>k err</th>\n",
       "      <th>rho</th>\n",
       "      <th>rho err</th>\n",
       "      <th>lambda</th>\n",
       "      <th>Chi2</th>\n",
       "    </tr>\n",
       "  </thead>\n",
       "  <tbody>\n",
       "    <tr>\n",
       "      <th>0</th>\n",
       "      <td>real</td>\n",
       "      <td>NaN</td>\n",
       "      <td>0.216332</td>\n",
       "      <td>0.000754</td>\n",
       "      <td>60.273638</td>\n",
       "      <td>0.012653</td>\n",
       "      <td>0.5</td>\n",
       "      <td>0.180549</td>\n",
       "    </tr>\n",
       "    <tr>\n",
       "      <th>1</th>\n",
       "      <td>uniform</td>\n",
       "      <td>NaN</td>\n",
       "      <td>0.222362</td>\n",
       "      <td>0.000754</td>\n",
       "      <td>63.489464</td>\n",
       "      <td>0.014782</td>\n",
       "      <td>0.5</td>\n",
       "      <td>6.378108</td>\n",
       "    </tr>\n",
       "    <tr>\n",
       "      <th>2</th>\n",
       "      <td>gaussian</td>\n",
       "      <td>8.0</td>\n",
       "      <td>0.216332</td>\n",
       "      <td>0.000754</td>\n",
       "      <td>60.255437</td>\n",
       "      <td>0.015353</td>\n",
       "      <td>0.5</td>\n",
       "      <td>0.181271</td>\n",
       "    </tr>\n",
       "  </tbody>\n",
       "</table>\n",
       "</div>"
      ],
      "text/plain": [
       "       type sigma Model 4 (2 free pars)                                        \\\n",
       "                                      k     k err        rho   rho err lambda   \n",
       "0      real   NaN              0.216332  0.000754  60.273638  0.012653    0.5   \n",
       "1   uniform   NaN              0.222362  0.000754  63.489464  0.014782    0.5   \n",
       "2  gaussian   8.0              0.216332  0.000754  60.255437  0.015353    0.5   \n",
       "\n",
       "             \n",
       "       Chi2  \n",
       "0  0.180549  \n",
       "1  6.378108  \n",
       "2  0.181271  "
      ]
     },
     "execution_count": 44,
     "metadata": {},
     "output_type": "execute_result"
    }
   ],
   "source": [
    "fitting_data[[\"type\", \"sigma\", \"Model 4 (2 free pars)\"]]"
   ]
  },
  {
   "cell_type": "code",
   "execution_count": 45,
   "metadata": {},
   "outputs": [
    {
     "data": {
      "text/html": [
       "<div>\n",
       "<style scoped>\n",
       "    .dataframe tbody tr th:only-of-type {\n",
       "        vertical-align: middle;\n",
       "    }\n",
       "\n",
       "    .dataframe tbody tr th {\n",
       "        vertical-align: top;\n",
       "    }\n",
       "\n",
       "    .dataframe thead tr th {\n",
       "        text-align: left;\n",
       "    }\n",
       "</style>\n",
       "<table border=\"1\" class=\"dataframe\">\n",
       "  <thead>\n",
       "    <tr>\n",
       "      <th></th>\n",
       "      <th>type</th>\n",
       "      <th>sigma</th>\n",
       "      <th colspan=\"8\" halign=\"left\">Model 4 (3 free pars)</th>\n",
       "    </tr>\n",
       "    <tr>\n",
       "      <th></th>\n",
       "      <th></th>\n",
       "      <th></th>\n",
       "      <th>k</th>\n",
       "      <th>k err</th>\n",
       "      <th>rho</th>\n",
       "      <th>rho err</th>\n",
       "      <th>N0</th>\n",
       "      <th>N0 err</th>\n",
       "      <th>lambda</th>\n",
       "      <th>Chi2</th>\n",
       "    </tr>\n",
       "  </thead>\n",
       "  <tbody>\n",
       "    <tr>\n",
       "      <th>0</th>\n",
       "      <td>real</td>\n",
       "      <td>NaN</td>\n",
       "      <td>0.123116</td>\n",
       "      <td>0.000754</td>\n",
       "      <td>36.832477</td>\n",
       "      <td>0.003964</td>\n",
       "      <td>43.108906</td>\n",
       "      <td>0.194280</td>\n",
       "      <td>0.5</td>\n",
       "      <td>0.008783</td>\n",
       "    </tr>\n",
       "    <tr>\n",
       "      <th>1</th>\n",
       "      <td>uniform</td>\n",
       "      <td>NaN</td>\n",
       "      <td>0.126884</td>\n",
       "      <td>0.000754</td>\n",
       "      <td>38.505908</td>\n",
       "      <td>0.011560</td>\n",
       "      <td>40.042953</td>\n",
       "      <td>0.502028</td>\n",
       "      <td>0.5</td>\n",
       "      <td>6.198017</td>\n",
       "    </tr>\n",
       "    <tr>\n",
       "      <th>2</th>\n",
       "      <td>gaussian</td>\n",
       "      <td>8.0</td>\n",
       "      <td>0.118593</td>\n",
       "      <td>0.000754</td>\n",
       "      <td>32.687225</td>\n",
       "      <td>0.440157</td>\n",
       "      <td>36.263525</td>\n",
       "      <td>0.010217</td>\n",
       "      <td>0.5</td>\n",
       "      <td>0.095951</td>\n",
       "    </tr>\n",
       "  </tbody>\n",
       "</table>\n",
       "</div>"
      ],
      "text/plain": [
       "       type sigma Model 4 (3 free pars)                                 \\\n",
       "                                      k     k err        rho   rho err   \n",
       "0      real   NaN              0.123116  0.000754  36.832477  0.003964   \n",
       "1   uniform   NaN              0.126884  0.000754  38.505908  0.011560   \n",
       "2  gaussian   8.0              0.118593  0.000754  32.687225  0.440157   \n",
       "\n",
       "                                         \n",
       "          N0    N0 err lambda      Chi2  \n",
       "0  43.108906  0.194280    0.5  0.008783  \n",
       "1  40.042953  0.502028    0.5  6.198017  \n",
       "2  36.263525  0.010217    0.5  0.095951  "
      ]
     },
     "execution_count": 45,
     "metadata": {},
     "output_type": "execute_result"
    }
   ],
   "source": [
    "fitting_data[[\"type\", \"sigma\", \"Model 4 (3 free pars)\"]]"
   ]
  },
  {
   "cell_type": "markdown",
   "metadata": {},
   "source": [
    "# Fokker-Planck and Nekhoroshev"
   ]
  },
  {
   "cell_type": "code",
   "execution_count": 46,
   "metadata": {},
   "outputs": [],
   "source": [
    "import crank_nicolson_numba.nekhoroshev as nk"
   ]
  },
  {
   "cell_type": "code",
   "execution_count": 47,
   "metadata": {},
   "outputs": [],
   "source": [
    "k = fitting_data[(\"Model 4 (3 free pars)\", \"k\")][0]\n",
    "rho = fitting_data[(\"Model 4 (3 free pars)\", \"rho\")][0]\n",
    "N0 = fitting_data[(\"Model 4 (3 free pars)\", \"N0\")][0]"
   ]
  },
  {
   "cell_type": "markdown",
   "metadata": {},
   "source": [
    "## 4D normal distribution in 1D Action variable\n",
    "If we consider the following distribution:\n",
    "\n",
    "$$ f(x,p_x,y,p_y) = \\frac{1}{4\\pi^2\\sigma^4}\\exp\\left[-\\frac{1}{2}\\left(\\frac{x^2}{\\sigma^2}+\\frac{p_x^2}{\\sigma^2}+\\frac{y^2}{\\sigma^2}+\\frac{p_y^2}{\\sigma^2}\\right)\\right]$$"
   ]
  },
  {
   "cell_type": "markdown",
   "metadata": {},
   "source": [
    "we convert the distribution to polar variables:\n",
    "\n",
    "$$f(r, \\alpha, \\theta_1, \\theta_2) = \\frac{r^3 \\sin(\\alpha)\\cos(\\alpha)}{4\\pi^2\\sigma^4} \\exp\\left[-\\frac{1}{2}\\left(\\frac{r^2}{\\sigma^2}\\right)\\right]$$\n",
    "\n",
    "we then consider distribution integrated over $\\alpha, \\theta_1, \\theta_2$:\n",
    "\n",
    "$$f(r) = \\int_0^{2\\pi}\\int_0^{2\\pi}\\int_0^{\\pi/2} f(r,\\alpha,\\theta_1,\\theta_2)\\,d\\alpha\\,d\\theta_1\\,d\\theta_2 = \\frac{r^3}{2\\sigma^4}\\exp\\left[-\\frac{1}{2}\\left(\\frac{r^2}{\\sigma^2}\\right)\\right]$$\n"
   ]
  },
  {
   "cell_type": "markdown",
   "metadata": {},
   "source": [
    "and then we consider $I = r^2/2$ which implies also $dr = dI/I^{1/2}$, and end up with:\n",
    "\n",
    "$$f(I) = \\frac{I}{\\sigma^4}\\exp\\left[-\\frac{I}{\\sigma^2}\\right] = c I \\exp\\left[-\\frac{I}{\\sigma^2}\\right]$$\n",
    "\n",
    "where $c$ will be normalized in order to have a unitary starting value for the distributions considered."
   ]
  },
  {
   "cell_type": "markdown",
   "metadata": {},
   "source": [
    "## Nekhoroshev-like Diffusion equation\n",
    "\n",
    "$$D(I) = c \\exp\\left[-\\left(\\frac{I_\\ast}{I}\\right)^{1/2\\kappa}\\right]$$\n",
    "\n",
    "* Try to use free $\\kappa$\n",
    "* (done) Fix $\\kappa$ "
   ]
  },
  {
   "cell_type": "markdown",
   "metadata": {},
   "source": [
    "### Parameters setup"
   ]
  },
  {
   "cell_type": "code",
   "execution_count": 48,
   "metadata": {},
   "outputs": [],
   "source": [
    "I_max = DA0**2 / 2\n",
    "I = np.linspace(0, I_max, 3000)\n",
    "I0 = I * np.exp(-(I/sigma**2))\n",
    "I0 /= integrate.trapz(I0, I)\n",
    "\n",
    "c = 1.0\n",
    "\n",
    "I_star_min = 150.0\n",
    "I_star_max = 350.0\n",
    "I_star_steps = 201\n",
    "I_star_list = np.linspace(I_star_min, I_star_max, I_star_steps)\n",
    "\n",
    "iter_step = 100"
   ]
  },
  {
   "cell_type": "code",
   "execution_count": 49,
   "metadata": {},
   "outputs": [
    {
     "data": {
      "text/plain": [
       "[<matplotlib.lines.Line2D at 0x7f2d6f5f1c10>]"
      ]
     },
     "execution_count": 49,
     "metadata": {},
     "output_type": "execute_result"
    },
    {
     "data": {
      "image/png": "[encoded data removed]",
      "text/plain": [
       "<Figure size 432x288 with 1 Axes>"
      ]
     },
     "metadata": {
      "needs_background": "light"
     },
     "output_type": "display_data"
    }
   ],
   "source": [
    "tfig, tax = plt.subplots()\n",
    "tax.plot(I, I0)"
   ]
  },
  {
   "cell_type": "code",
   "execution_count": 50,
   "metadata": {
    "scrolled": true
   },
   "outputs": [
    {
     "data": {
      "application/vnd.jupyter.widget-view+json": {
       "model_id": "c76ec5db4bc1447f9dab38d52d0f28cc",
       "version_major": 2,
       "version_minor": 0
      },
      "text/plain": [
       "HBox(children=(FloatProgress(value=0.0, max=201.0), HTML(value='')))"
      ]
     },
     "metadata": {},
     "output_type": "display_data"
    },
    {
     "name": "stdout",
     "output_type": "stream",
     "text": [
      "Step: 0 / 201 , Number of steps executed 487 , dt: 1.0\n",
      "Increasing dt!\n",
      "Step: 1 / 201 , Number of steps executed 50 , dt: 10.0\n",
      "Step: 2 / 201 , Number of steps executed 51 , dt: 10.0\n",
      "Step: 3 / 201 , Number of steps executed 51 , dt: 10.0\n",
      "Step: 4 / 201 , Number of steps executed 52 , dt: 10.0\n",
      "Step: 5 / 201 , Number of steps executed 53 , dt: 10.0\n",
      "Step: 6 / 201 , Number of steps executed 53 , dt: 10.0\n",
      "Step: 7 / 201 , Number of steps executed 54 , dt: 10.0\n",
      "Step: 8 / 201 , Number of steps executed 55 , dt: 10.0\n",
      "Step: 9 / 201 , Number of steps executed 56 , dt: 10.0\n",
      "Step: 10 / 201 , Number of steps executed 57 , dt: 10.0\n",
      "Step: 11 / 201 , Number of steps executed 58 , dt: 10.0\n",
      "Step: 12 / 201 , Number of steps executed 58 , dt: 10.0\n",
      "Step: 13 / 201 , Number of steps executed 59 , dt: 10.0\n",
      "Step: 14 / 201 , Number of steps executed 60 , dt: 10.0\n",
      "Step: 15 / 201 , Number of steps executed 61 , dt: 10.0\n",
      "Step: 16 / 201 , Number of steps executed 62 , dt: 10.0\n",
      "Step: 17 / 201 , Number of steps executed 63 , dt: 10.0\n",
      "Step: 18 / 201 , Number of steps executed 64 , dt: 10.0\n",
      "Step: 19 / 201 , Number of steps executed 65 , dt: 10.0\n",
      "Step: 20 / 201 , Number of steps executed 67 , dt: 10.0\n",
      "Step: 21 / 201 , Number of steps executed 68 , dt: 10.0\n",
      "Step: 22 / 201 , Number of steps executed 69 , dt: 10.0\n",
      "Step: 23 / 201 , Number of steps executed 70 , dt: 10.0\n",
      "Step: 24 / 201 , Number of steps executed 72 , dt: 10.0\n",
      "Step: 25 / 201 , Number of steps executed 73 , dt: 10.0\n",
      "Step: 26 / 201 , Number of steps executed 75 , dt: 10.0\n",
      "Step: 27 / 201 , Number of steps executed 76 , dt: 10.0\n",
      "Step: 28 / 201 , Number of steps executed 78 , dt: 10.0\n",
      "Step: 29 / 201 , Number of steps executed 79 , dt: 10.0\n",
      "Step: 30 / 201 , Number of steps executed 81 , dt: 10.0\n",
      "Step: 31 / 201 , Number of steps executed 83 , dt: 10.0\n",
      "Step: 32 / 201 , Number of steps executed 84 , dt: 10.0\n",
      "Step: 33 / 201 , Number of steps executed 86 , dt: 10.0\n",
      "Step: 34 / 201 , Number of steps executed 88 , dt: 10.0\n",
      "Step: 35 / 201 , Number of steps executed 90 , dt: 10.0\n",
      "Step: 36 / 201 , Number of steps executed 93 , dt: 10.0\n",
      "Step: 37 / 201 , Number of steps executed 95 , dt: 10.0\n",
      "Step: 38 / 201 , Number of steps executed 97 , dt: 10.0\n",
      "Step: 39 / 201 , Number of steps executed 100 , dt: 10.0\n",
      "Step: 40 / 201 , Number of steps executed 102 , dt: 10.0\n",
      "Increasing dt!\n",
      "Step: 41 / 201 , Number of steps executed 11 , dt: 100.0\n",
      "Step: 42 / 201 , Number of steps executed 11 , dt: 100.0\n",
      "Step: 43 / 201 , Number of steps executed 12 , dt: 100.0\n",
      "Step: 44 / 201 , Number of steps executed 12 , dt: 100.0\n",
      "Step: 45 / 201 , Number of steps executed 13 , dt: 100.0\n",
      "Step: 46 / 201 , Number of steps executed 13 , dt: 100.0\n",
      "Step: 47 / 201 , Number of steps executed 13 , dt: 100.0\n",
      "Step: 48 / 201 , Number of steps executed 14 , dt: 100.0\n",
      "Step: 49 / 201 , Number of steps executed 15 , dt: 100.0\n",
      "Step: 50 / 201 , Number of steps executed 15 , dt: 100.0\n",
      "Step: 51 / 201 , Number of steps executed 16 , dt: 100.0\n",
      "Step: 52 / 201 , Number of steps executed 16 , dt: 100.0\n",
      "Step: 53 / 201 , Number of steps executed 17 , dt: 100.0\n",
      "Step: 54 / 201 , Number of steps executed 18 , dt: 100.0\n",
      "Step: 55 / 201 , Number of steps executed 19 , dt: 100.0\n",
      "Step: 56 / 201 , Number of steps executed 19 , dt: 100.0\n",
      "Step: 57 / 201 , Number of steps executed 20 , dt: 100.0\n",
      "Step: 58 / 201 , Number of steps executed 21 , dt: 100.0\n",
      "Step: 59 / 201 , Number of steps executed 23 , dt: 100.0\n",
      "Step: 60 / 201 , Number of steps executed 24 , dt: 100.0\n",
      "Step: 61 / 201 , Number of steps executed 25 , dt: 100.0\n",
      "Step: 62 / 201 , Number of steps executed 27 , dt: 100.0\n",
      "Step: 63 / 201 , Number of steps executed 28 , dt: 100.0\n",
      "Step: 64 / 201 , Number of steps executed 30 , dt: 100.0\n",
      "Step: 65 / 201 , Number of steps executed 32 , dt: 100.0\n",
      "Step: 66 / 201 , Number of steps executed 34 , dt: 100.0\n",
      "Step: 67 / 201 , Number of steps executed 37 , dt: 100.0\n",
      "Step: 68 / 201 , Number of steps executed 40 , dt: 100.0\n",
      "Step: 69 / 201 , Number of steps executed 43 , dt: 100.0\n",
      "Step: 70 / 201 , Number of steps executed 47 , dt: 100.0\n",
      "Step: 71 / 201 , Number of steps executed 51 , dt: 100.0\n",
      "Step: 72 / 201 , Number of steps executed 55 , dt: 100.0\n",
      "Step: 73 / 201 , Number of steps executed 60 , dt: 100.0\n",
      "Step: 74 / 201 , Number of steps executed 66 , dt: 100.0\n",
      "Step: 75 / 201 , Number of steps executed 73 , dt: 100.0\n",
      "Step: 76 / 201 , Number of steps executed 81 , dt: 100.0\n",
      "Step: 77 / 201 , Number of steps executed 90 , dt: 100.0\n",
      "Step: 78 / 201 , Number of steps executed 100 , dt: 100.0\n",
      "Step: 79 / 201 , Number of steps executed 112 , dt: 100.0\n",
      "Increasing dt!\n",
      "Step: 80 / 201 , Number of steps executed 15 , dt: 1000.0\n",
      "Step: 81 / 201 , Number of steps executed 19 , dt: 1000.0\n",
      "Step: 82 / 201 , Number of steps executed 24 , dt: 1000.0\n",
      "Step: 83 / 201 , Number of steps executed 31 , dt: 1000.0\n",
      "Step: 84 / 201 , Number of steps executed 41 , dt: 1000.0\n",
      "Step: 85 / 201 , Number of steps executed 53 , dt: 1000.0\n",
      "Step: 86 / 201 , Number of steps executed 71 , dt: 1000.0\n",
      "Step: 87 / 201 , Number of steps executed 94 , dt: 1000.0\n",
      "Step: 88 / 201 , Number of steps executed 126 , dt: 1000.0\n",
      "Increasing dt!\n",
      "Found minimum! Breaking!\n",
      "\n"
     ]
    }
   ],
   "source": [
    "data = []\n",
    "errors = []\n",
    "original_times = []\n",
    "\n",
    "dt = 1.0\n",
    "for j, I_star in tqdm(enumerate(I_star_list), total=I_star_steps):\n",
    "    engine_nk = nk.cn_nekhoroshev(I_max, c, I_star, 1 / (k * 2), 0, I0, dt)\n",
    "    i = 0\n",
    "    \n",
    "    t = []\n",
    "    survival = []\n",
    "\n",
    "    while(1.0 - engine_nk.get_particle_loss() >= values[0]):\n",
    "        t.append(i * dt)\n",
    "        survival.append(1.0 - engine_nk.get_particle_loss())\n",
    "        engine_nk.iterate(iter_step)\n",
    "        i += 1\n",
    "    t.append(i * dt)\n",
    "    survival.append(1.0 - engine_nk.get_particle_loss())\n",
    "\n",
    "    print(\"Step:\", j, \"/\", I_star_steps, \",\", \"Number of steps executed\", i, \", dt:\", dt)\n",
    "    if i > 100:\n",
    "        print(\"Increasing dt!\")\n",
    "        dt *= 10\n",
    "        \n",
    "    \n",
    "    f = interp1d(t, survival, kind=\"cubic\")\n",
    "    inv_f = inversefunc(f, domain=(t[0], t[-1]))\n",
    "    point_t = inv_f(values[0])\n",
    "    points_t = np.linspace(0, point_t, len(axis_sampling))\n",
    "    values_f = f(points_t)\n",
    "    values_f = values_f[::-1]\n",
    "    \n",
    "    data.append(values_f)\n",
    "    errors.append(chi_2(values, values_f))\n",
    "    original_times.append(np.asarray(t)[::-1])\n",
    "    if j > I_star_steps * 0.1:\n",
    "        if(errors[-2] - errors[-1] < 0):\n",
    "            print(\"Found minimum! Breaking!\")\n",
    "            break"
   ]
  },
  {
   "cell_type": "code",
   "execution_count": 51,
   "metadata": {},
   "outputs": [],
   "source": [
    "best_idx = np.argmin(errors)\n",
    "best_data = data[best_idx]\n",
    "best_time = original_times[best_idx]\n",
    "best_I_star = I_star_list[best_idx]"
   ]
  },
  {
   "cell_type": "code",
   "execution_count": 52,
   "metadata": {},
   "outputs": [
    {
     "name": "stdout",
     "output_type": "stream",
     "text": [
      "Displaying the best FP values obtained:\n",
      "I_star = 237.0\n",
      "Time scale = 1.88\n"
     ]
    }
   ],
   "source": [
    "print(\"Displaying the best FP values obtained:\")\n",
    "print(\"I_star = {}\".format(best_I_star))\n",
    "print(\"Time scale = {}\".format(best_time[0]/axis_sampling[0]))"
   ]
  },
  {
   "cell_type": "code",
   "execution_count": 53,
   "metadata": {},
   "outputs": [
    {
     "data": {
      "text/plain": [
       "Text(0.5, 1.0, 'Comparison between loss curve from DA\\nand best equivalent Fokker-Planck process')"
      ]
     },
     "execution_count": 53,
     "metadata": {},
     "output_type": "execute_result"
    },
    {
     "data": {
      "image/png": "[encoded data removed]",
      "text/plain": [
       "<Figure size 432x288 with 1 Axes>"
      ]
     },
     "metadata": {
      "needs_background": "light"
     },
     "output_type": "display_data"
    }
   ],
   "source": [
    "fp2_fig, fp2_ax = plt.subplots()\n",
    "fp2_ax.plot(axis_sampling, values, label=\"Loss from original DA\")\n",
    "fp2_ax.plot(axis_sampling, best_data, label=\"FP process $(I_\\\\ast={})$\".format(best_I_star))\n",
    "fp2_ax.legend()\n",
    "fp2_ax.set_xlabel(\"$N$ turns\")\n",
    "fp2_ax.set_ylabel(\"Active beam\")\n",
    "fp2_ax.set_title(\"Comparison between loss curve from DA\\nand best equivalent Fokker-Planck process\")"
   ]
  },
  {
   "cell_type": "code",
   "execution_count": 54,
   "metadata": {},
   "outputs": [
    {
     "data": {
      "text/plain": [
       "Text(0.5, 1.0, 'Error measured from the various FP loss comparisons performed')"
      ]
     },
     "execution_count": 54,
     "metadata": {},
     "output_type": "execute_result"
    },
    {
     "data": {
      "image/png": "[encoded data removed]",
      "text/plain": [
       "<Figure size 432x288 with 1 Axes>"
      ]
     },
     "metadata": {
      "needs_background": "light"
     },
     "output_type": "display_data"
    }
   ],
   "source": [
    "fp3_fig, fp3_ax = plt.subplots()\n",
    "fp3_ax.plot(I_star_list[:len(errors)], errors)\n",
    "fp3_ax.set_xlabel(\"$I_\\\\ast$ value\")\n",
    "fp3_ax.set_ylabel(\"Error value [A.U.]\")\n",
    "fp3_ax.set_title(\"Error measured from the various FP loss comparisons performed\")"
   ]
  },
  {
   "cell_type": "code",
   "execution_count": 55,
   "metadata": {},
   "outputs": [
    {
     "data": {
      "text/plain": [
       "Text(0.5, 1.0, 'Explored $I_\\\\ast$ values')"
      ]
     },
     "execution_count": 55,
     "metadata": {},
     "output_type": "execute_result"
    },
    {
     "data": {
      "image/png": "[encoded data removed]",
      "text/plain": [
       "<Figure size 432x288 with 1 Axes>"
      ]
     },
     "metadata": {
      "needs_background": "light"
     },
     "output_type": "display_data"
    }
   ],
   "source": [
    "fp1_fig, fp1_ax = plt.subplots()\n",
    "cmap = matplotlib.cm.get_cmap('viridis')\n",
    "for i, d in enumerate(data):\n",
    "    fp1_ax.plot(axis_sampling, d, c=cmap(i/(len(data)-1)))\n",
    "fp1_ax.plot(axis_sampling, values, c=\"red\", label=\"Loss from original DA\")\n",
    "fp1_ax.legend()\n",
    "fp1_ax.set_xlabel(\"$N$ turns\")\n",
    "fp1_ax.set_ylabel(\"Active Beam\")\n",
    "fp1_ax.set_title(\"Explored $I_\\\\ast$ values\")"
   ]
  },
  {
   "cell_type": "code",
   "execution_count": null,
   "metadata": {},
   "outputs": [],
   "source": []
  },
  {
   "cell_type": "markdown",
   "metadata": {},
   "source": [
    "# Testing distributions (now it's useless but I will keep it around for a bit)"
   ]
  },
  {
   "cell_type": "code",
   "execution_count": 46,
   "metadata": {
    "collapsed": true,
    "jupyter": {
     "outputs_hidden": true
    }
   },
   "outputs": [
    {
     "data": {
      "text/plain": [
       "array([6.18415428e-06, 6.13602880e-06, 5.99388785e-06, 5.76426561e-06,\n",
       "       5.45749699e-06, 5.08694655e-06, 4.66804455e-06, 4.21722681e-06,\n",
       "       3.75087917e-06, 3.28437954e-06, 2.83131214e-06, 2.40290341e-06,\n",
       "       2.00770094e-06, 1.65148975e-06, 1.33741716e-06, 1.06628192e-06,\n",
       "       8.36934270e-07, 6.46732678e-07, 4.92008276e-07, 3.68497172e-07,\n",
       "       2.71712776e-07, 1.97242323e-07, 1.40962731e-07, 9.91796684e-08,\n",
       "       6.86997484e-08, 4.68491581e-08, 3.14530368e-08, 2.07891879e-08,\n",
       "       1.35277826e-08, 8.66622284e-09, 5.46571823e-09, 3.39374163e-09,\n",
       "       2.07455264e-09, 1.24848777e-09, 7.39704525e-10, 4.31465829e-10,\n",
       "       2.47769980e-10, 1.40076446e-10])"
      ]
     },
     "execution_count": 46,
     "metadata": {},
     "output_type": "execute_result"
    }
   ],
   "source": [
    "engine.weights[0,0,0,:]"
   ]
  },
  {
   "cell_type": "code",
   "execution_count": 48,
   "metadata": {
    "collapsed": true,
    "jupyter": {
     "outputs_hidden": true
    }
   },
   "outputs": [
    {
     "data": {
      "text/plain": [
       "[<matplotlib.lines.Line2D at 0x7fe34f8f0ad0>]"
      ]
     },
     "execution_count": 48,
     "metadata": {},
     "output_type": "execute_result"
    }
   ],
   "source": [
    "temp_data = -integrate.trapz(\n",
    "    integrate.trapz(\n",
    "        integrate.trapz(\n",
    "            engine.weights,\n",
    "            x=engine.theta1_values,\n",
    "            axis=2\n",
    "        ),\n",
    "        x=engine.theta2_values,\n",
    "        axis=1\n",
    "    ) * (np.sin(engine.alpha_values) * np.cos(engine.alpha_values))[:,None],\n",
    "    x=engine.alpha_values,\n",
    "    axis=0\n",
    ")\n",
    "\n",
    "temp_data /= integrate.trapz(temp_data, x=engine.r_values)\n",
    "x = engine.r_values\n",
    "\n",
    "plt.plot(\n",
    "    x,\n",
    "    temp_data\n",
    ")\n",
    "y = (1/(2 * sigma**4)) * np.exp(-0.5*(x**2 / sigma**2))\n",
    "y /= np.trapz(y, x=x)\n",
    "plt.plot(\n",
    "    x,\n",
    "    y\n",
    ")\n",
    "\n",
    "y2 = y * x ** 3\n",
    "\n",
    "plt.plot(\n",
    "    x,\n",
    "    y2\n",
    ")"
   ]
  },
  {
   "cell_type": "code",
   "execution_count": 49,
   "metadata": {
    "collapsed": true,
    "jupyter": {
     "outputs_hidden": true
    }
   },
   "outputs": [
    {
     "data": {
      "text/plain": [
       "0.7014032844745755"
      ]
     },
     "execution_count": 49,
     "metadata": {},
     "output_type": "execute_result"
    }
   ],
   "source": [
    "-integrate.trapz(integrate.trapz(\n",
    "    integrate.trapz(\n",
    "        integrate.trapz(\n",
    "            engine.weights,\n",
    "            x=engine.theta1_values,\n",
    "            axis=2\n",
    "        ),\n",
    "        x=engine.theta2_values,\n",
    "        axis=1\n",
    "    ) * (np.sin(engine.alpha_values) * np.cos(engine.alpha_values))[:,None],\n",
    "    x=engine.alpha_values,\n",
    "    axis=0\n",
    ") * engine.r_values ** 3 * (engine.r_values < DA[0]), x=engine.r_values)"
   ]
  },
  {
   "cell_type": "code",
   "execution_count": 50,
   "metadata": {
    "collapsed": true,
    "jupyter": {
     "outputs_hidden": true
    }
   },
   "outputs": [
    {
     "data": {
      "application/vnd.jupyter.widget-view+json": {
       "model_id": "75443d010c534a98a6874707e0536129",
       "version_major": 2,
       "version_minor": 0
      },
      "text/plain": [
       "Canvas(toolbar=Toolbar(toolitems=[('Home', 'Reset original view', 'home', 'home'), ('Back', 'Back to previous …"
      ]
     },
     "metadata": {},
     "output_type": "display_data"
    },
    {
     "data": {
      "text/plain": [
       "[<matplotlib.lines.Line2D at 0x7fe35d2365d0>]"
      ]
     },
     "execution_count": 50,
     "metadata": {},
     "output_type": "execute_result"
    }
   ],
   "source": [
    "tfig, taxs = plt.subplots()\n",
    "new_r = np.power(engine.r_values, 2) / 2\n",
    "\n",
    "-integrate.trapz(integrate.trapz(\n",
    "    integrate.trapz(\n",
    "        integrate.trapz(\n",
    "            engine.weights,\n",
    "            x=engine.theta1_values,\n",
    "            axis=2\n",
    "        ),\n",
    "        x=engine.theta2_values,\n",
    "        axis=1\n",
    "    ) * (np.sin(engine.alpha_values) * np.cos(engine.alpha_values))[:,None],\n",
    "    x=engine.alpha_values,\n",
    "    axis=0\n",
    ") * new_r * 2 * (engine.r_values < DA[0]), x=new_r)\n",
    "\n",
    "plt.plot(new_r, -integrate.trapz(\n",
    "    integrate.trapz(\n",
    "        integrate.trapz(\n",
    "            engine.weights,\n",
    "            x=engine.theta1_values,\n",
    "            axis=2\n",
    "        ),\n",
    "        x=engine.theta2_values,\n",
    "        axis=1\n",
    "    ) * (np.sin(engine.alpha_values) * np.cos(engine.alpha_values))[:,None],\n",
    "    x=engine.alpha_values,\n",
    "    axis=0\n",
    ") * new_r * 2)\n",
    "\n",
    "plt.plot(\n",
    "    new_r,\n",
    "    (new_r / sigma**4) * np.exp(-new_r / sigma**2)\n",
    ")"
   ]
  }
 ],
 "metadata": {
  "kernelspec": {
   "display_name": "Python 3",
   "language": "python",
   "name": "python3"
  },
  "language_info": {
   "codemirror_mode": {
    "name": "ipython",
    "version": 3
   },
   "file_extension": ".py",
   "mimetype": "text/x-python",
   "name": "python",
   "nbconvert_exporter": "python",
   "pygments_lexer": "ipython3",
   "version": "3.7.7"
  }
 },
 "nbformat": 4,
 "nbformat_minor": 4
}
