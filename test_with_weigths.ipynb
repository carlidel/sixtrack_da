{
 "cells": [
  {
   "cell_type": "markdown",
   "metadata": {},
   "source": [
    "# Loss comparison (DA vs. weighted particles)\n",
    "Given a regular radial scan performed with Sixtrack, we try different distributions and compare the lost amount of beam.\n",
    "\n",
    "## Import"
   ]
  },
  {
   "cell_type": "code",
   "execution_count": 1,
   "metadata": {},
   "outputs": [],
   "source": [
    "# Base libraries\n",
    "import math\n",
    "import numpy as np\n",
    "import scipy.integrate as integrate\n",
    "from tqdm import tqdm\n",
    "from scipy.special import erf\n",
    "import pickle\n",
    "import itertools\n",
    "\n",
    "from numba import njit, prange\n",
    "\n",
    "# Personal libraries\n",
    "import sixtrackwrap as sx\n",
    "\n",
    "import time\n",
    "import matplotlib.pyplot as plt\n",
    "import ipywidgets as widgets\n",
    "import matplotlib.pyplot as plt\n",
    "import matplotlib\n",
    "import matplotlib.ticker as ticker\n",
    "from math import gcd"
   ]
  },
  {
   "cell_type": "markdown",
   "metadata": {},
   "source": [
    "## Load data and setup"
   ]
  },
  {
   "cell_type": "code",
   "execution_count": 2,
   "metadata": {},
   "outputs": [],
   "source": [
    "savepath = \"data/\"\n",
    "engine = sx.radial_scanner.load_values(savepath + \"big_scan.pkl\")\n",
    "\n",
    "min_turns = engine.min_time\n",
    "max_turns = engine.max_time\n",
    "n_turn_samples = 500\n",
    "\n",
    "turn_sampling = np.linspace(min_turns, max_turns, n_turn_samples, dtype=np.int_)[::-1]\n",
    "\n",
    "d_r = engine.dr\n",
    "starting_step = engine.starting_step\n",
    "\n",
    "# BASELINE COMPUTING\n",
    "baseline_samples = 33\n",
    "baseline_total_samples = baseline_samples ** 3"
   ]
  },
  {
   "cell_type": "code",
   "execution_count": 3,
   "metadata": {},
   "outputs": [],
   "source": [
    "alpha_preliminary_values = np.linspace(-1.0, 1.0, baseline_samples)\n",
    "alpha_values = np.arccos(alpha_preliminary_values) / 2\n",
    "theta1_values = np.linspace(0.0, np.pi * 2.0, baseline_samples, endpoint=False)\n",
    "theta2_values = np.linspace(0.0, np.pi * 2.0, baseline_samples, endpoint=False)\n",
    "\n",
    "d_preliminar_alpha = alpha_preliminary_values[1] - alpha_preliminary_values[0]\n",
    "d_theta1 = theta1_values[1] - theta1_values[0]\n",
    "d_theta2 = theta2_values[1] - theta2_values[0]\n",
    "\n",
    "alpha_mesh, theta1_mesh, theta2_mesh = np.meshgrid(alpha_values, theta1_values, theta2_values, indexing='ij')\n",
    "\n",
    "alpha_flat = alpha_mesh.flatten()\n",
    "theta1_flat = theta1_mesh.flatten()\n",
    "theta2_flat = theta2_mesh.flatten()"
   ]
  },
  {
   "cell_type": "markdown",
   "metadata": {},
   "source": [
    "## Exploring and visualizing 3D samples of DA!\n",
    "\n",
    "With this tool, you can (somewhat) visualize the angular dependencies of DA by moving the $\\theta_1$ and $\\theta_2$ sliders and setting up 3D samples of different dimension (the resulting sample is sample_size ** 3 big).\n",
    "\n",
    "What you will then visualize is the evolution of DA with the number of turns, considering different $\\alpha$ angles ($\\alpha$ indicates the central angle of the considered sample).\n",
    "\n",
    "**N.B.: the plotting process requires time, so after moving the sliders you will need to wait a little!**"
   ]
  },
  {
   "cell_type": "code",
   "execution_count": 13,
   "metadata": {},
   "outputs": [
    {
     "data": {
      "application/vnd.jupyter.widget-view+json": {
       "model_id": "",
       "version_major": 2,
       "version_minor": 0
      },
      "text/plain": [
       "Canvas(toolbar=Toolbar(toolitems=[('Home', 'Reset original view', 'home', 'home'), ('Back', 'Back to previous …"
      ]
     },
     "metadata": {},
     "output_type": "display_data"
    },
    {
     "data": {
      "application/vnd.jupyter.widget-view+json": {
       "model_id": "932c9acff7544888b9d896e1e5e04fbd",
       "version_major": 2,
       "version_minor": 0
      },
      "text/plain": [
       "interactive(children=(IntSlider(value=14, description='sample_size', max=29, min=2, step=2), FloatSlider(value…"
      ]
     },
     "metadata": {},
     "output_type": "display_data"
    }
   ],
   "source": [
    "%matplotlib widget\n",
    "\n",
    "fig, ax = plt.subplots()\n",
    "cmap = matplotlib.cm.get_cmap('viridis')\n",
    "norm = matplotlib.colors.Normalize(vmin=np.log10(turn_sampling[-1]), vmax=np.log10(turn_sampling[0]))\n",
    "fig.colorbar(matplotlib.cm.ScalarMappable(norm=norm, cmap=cmap), label='$\\\\log_{10}(N_{turns})$')\n",
    "\n",
    "radiuses = engine.extract_DA(turn_sampling)\n",
    "radiuses = radiuses.reshape((baseline_samples, baseline_samples, baseline_samples, len(turn_sampling)))\n",
    "\n",
    "@njit\n",
    "def find_nearest(array, value):\n",
    "    array = np.asarray(array)\n",
    "    idx = (np.abs(array - value)).argmin()\n",
    "    return idx\n",
    "\n",
    "@njit\n",
    "def take_sample(array, value, size):\n",
    "    assert size % 2 == 0\n",
    "    array = np.asarray(array)\n",
    "    idx = find_nearest(array, value)\n",
    "    if idx < size:\n",
    "        return 0, size\n",
    "    elif idx >= len(array) - size:\n",
    "        return len(array) - size, len(array)\n",
    "    else:\n",
    "        return idx - size // 2, idx + size // 2\n",
    "\n",
    "@widgets.interact(sample_size=(2, baseline_samples - 4, 2), th1=(0, 2*np.pi+0.01, 0.01), th2=(0, 2*np.pi+0.01, 0.01))\n",
    "def update(sample_size, th1, th2):\n",
    "    y_values = np.empty((len(range(sample_size, len(alpha_preliminary_values))), len(turn_sampling)))\n",
    "    x_values = np.empty((len(range(sample_size, len(alpha_preliminary_values)))))\n",
    "    for i, a_max in enumerate(range(sample_size, len(alpha_preliminary_values))):\n",
    "        a_min = a_max - sample_size\n",
    "        \n",
    "        th1_min, th1_max = take_sample(theta1_values, th1, sample_size)\n",
    "        th2_min, th2_max = take_sample(theta2_values, th2, sample_size)\n",
    "        alpha_sample = alpha_preliminary_values[a_min : a_max]\n",
    "        theta1_sample = theta1_values[th1_min : th1_max]\n",
    "        theta2_sample = theta1_values[th2_min : th2_max]\n",
    "\n",
    "        a_mid = (alpha_values[a_min] + alpha_values[a_max]) / 2\n",
    "        \n",
    "        mod_radiuses = np.power(radiuses, 4)[a_min : a_max, th1_min : th1_max, th2_min : th2_max]\n",
    "        \n",
    "        mod_radiuses = integrate.simps(mod_radiuses, x=theta1_sample, axis=1)\n",
    "        mod_radiuses = integrate.simps(mod_radiuses, x=theta2_sample, axis=1)\n",
    "        mod_radiuses = integrate.simps(mod_radiuses, x=alpha_sample, axis=0)\n",
    "\n",
    "        DA = (\n",
    "            np.power(\n",
    "                mod_radiuses / (\n",
    "                    (alpha_sample[-1] - alpha_sample[0]) \n",
    "                    * (theta1_sample[-1] - theta1_sample[0]) \n",
    "                    * (theta2_sample[-1] - theta2_sample[0])),\n",
    "                1/4\n",
    "            )\n",
    "        )\n",
    "        y_values[i] = DA\n",
    "        x_values[i] = a_mid\n",
    "    y_values = np.asarray(y_values)\n",
    "    y_values = y_values.transpose()\n",
    "    x_values = np.asarray(x_values)\n",
    "    plt.cla()\n",
    "    for i in range(y_values.shape[0]):\n",
    "        value = np.log10(turn_sampling[i] - turn_sampling[-1]) / np.log10(turn_sampling[0] - turn_sampling[-1])\n",
    "        ax.plot(x_values, y_values[i], c=cmap(value))\n",
    "    ax.set_xlabel(\"Central $\\\\alpha$ angle\")\n",
    "    ax.set_ylabel(\"Measured $DA$ in sample\")\n",
    "    ax.set_title(\"DA evolution over $\\\\alpha$ for a sample of ${}^3$ elements (total is ${}^3$)\\nCentral $\\\\theta$ angles: $(\\\\theta_1 = {:.2f}, \\\\theta_2 = {:.2f})$\".format(sample_size, baseline_samples, th1, th2, baseline_samples))\n",
    "    ax.set_ylim(np.min(radiuses), np.max(radiuses))\n",
    "    ax.set_xlim(0.0, np.pi / 2.0)\n",
    "    ax.xaxis.set_major_formatter(\n",
    "        ticker.FuncFormatter(\n",
    "            lambda x, pos: (\"$\\\\frac{{{}}}{{{}}}$\".format(int(x/(np.pi/8)) // gcd(8, int(x/(np.pi/8))), 8 // gcd(8, int(x/(np.pi/8)))) if x != 0 else \"0\") + \"$\\\\pi$\"\n",
    "        )\n",
    "    )\n",
    "    ax.xaxis.set_major_locator(ticker.MultipleLocator(base=np.pi/8))\n",
    "    plt.tight_layout()\n"
   ]
  },
  {
   "cell_type": "markdown",
   "metadata": {},
   "source": [
    "## A Colormap for roughly visualize all the samples"
   ]
  },
  {
   "cell_type": "code",
   "execution_count": 14,
   "metadata": {},
   "outputs": [
    {
     "data": {
      "application/vnd.jupyter.widget-view+json": {
       "model_id": "",
       "version_major": 2,
       "version_minor": 0
      },
      "text/plain": [
       "Canvas(toolbar=Toolbar(toolitems=[('Home', 'Reset original view', 'home', 'home'), ('Back', 'Back to previous …"
      ]
     },
     "metadata": {},
     "output_type": "display_data"
    },
    {
     "name": "stderr",
     "output_type": "stream",
     "text": [
      "<ipython-input-14-aeabd00fc036>:3: RuntimeWarning: divide by zero encountered in log10\n",
      "  cmap = ax.imshow(np.log10(engine.steps), aspect=\"auto\")\n"
     ]
    }
   ],
   "source": [
    "%matplotlib widget\n",
    "fig, ax = plt.subplots()\n",
    "cmap = ax.imshow(np.log10(engine.steps), aspect=\"auto\")\n",
    "ax.set_ylabel(\"# sample\")\n",
    "ax.set_xlabel(\"Scanning Step\")\n",
    "cbar = plt.colorbar(cmap)\n",
    "cbar.ax.set_ylabel(\"$\\\\log_{10}(N_{turns})$\")\n",
    "ax.set_title(\"Heatmap view of the radial scans\")\n",
    "plt.tight_layout()"
   ]
  },
  {
   "cell_type": "markdown",
   "metadata": {},
   "source": [
    "# Setup for loss comparison analysis"
   ]
  },
  {
   "cell_type": "code",
   "execution_count": 6,
   "metadata": {},
   "outputs": [],
   "source": [
    "radiuses = engine.extract_DA(turn_sampling)\n",
    "radiuses = radiuses.reshape((baseline_samples, baseline_samples, baseline_samples, len(turn_sampling)))"
   ]
  },
  {
   "cell_type": "code",
   "execution_count": 7,
   "metadata": {},
   "outputs": [],
   "source": [
    "DA = []\n",
    "\n",
    "mod_radiuses = radiuses.copy()\n",
    "mod_radiuses = np.power(radiuses, 4)\n",
    "mod_radiuses1 = integrate.simps(mod_radiuses, x=theta1_values, axis=1)\n",
    "mod_radiuses2 = integrate.simps(mod_radiuses1, x=theta2_values, axis=1)\n",
    "mod_radiuses3 = integrate.simps(mod_radiuses2, x=alpha_preliminary_values, axis=0)\n",
    "\n",
    "for i in range(len(turn_sampling)):\n",
    "    DA.append(\n",
    "        np.power(\n",
    "            mod_radiuses3[i] / (2 * theta1_values[-1] * theta2_values[-1]),\n",
    "            1/4\n",
    "        )\n",
    "    )\n",
    "\n",
    "DA = np.asarray(DA)"
   ]
  },
  {
   "cell_type": "code",
   "execution_count": 8,
   "metadata": {},
   "outputs": [],
   "source": [
    "axis_sampling = np.concatenate((turn_sampling,[0.0]))"
   ]
  },
  {
   "cell_type": "markdown",
   "metadata": {},
   "source": [
    "# How is the error on the DA loss computed right now?\n",
    "\n",
    "1. Consider all the radiuses sampled.\n",
    "2. Compute the DA value.\n",
    "3. For every radius sampled, compute the difference from the DA value.\n",
    "4. The absolute value of the average of all these differences is considered as error.\n",
    "\n",
    "(I tried using the Standard Deviation of the radiuses distribution, but it ended up being 10% of the DA itself, so we \"need\" somehow a smaller error estimation)"
   ]
  },
  {
   "cell_type": "markdown",
   "metadata": {},
   "source": [
    "## Uniform distribution case\n",
    "Just as a test... nothing extreme to see here.\n",
    "\n",
    "Maybe this can be a testbench for the error measure?"
   ]
  },
  {
   "cell_type": "code",
   "execution_count": 16,
   "metadata": {},
   "outputs": [],
   "source": [
    "def loss_from_DA(da_list, da_cut):\n",
    "    temp = np.pi ** 2 / 2 * np.power(da_list, 4)\n",
    "    return np.concatenate((temp, [np.pi ** 2 / 2 * np.power(da_cut, 4)]))\n",
    "\n",
    "values = loss_from_DA(DA, 26.0)\n",
    "values /= values[-1]\n",
    "values[-20:]\n",
    "\n",
    "# Error computing\n",
    "\n",
    "values1 = loss_from_DA(DA - np.absolute(np.mean(radiuses - DA, axis=(0,1,2))), 26)\n",
    "values1 /= values1[-1]\n",
    "\n",
    "values2 = loss_from_DA(DA + np.absolute(np.mean(radiuses - DA, axis=(0,1,2))), 26)\n",
    "values2 /= values2[-1]"
   ]
  },
  {
   "cell_type": "code",
   "execution_count": 17,
   "metadata": {},
   "outputs": [],
   "source": [
    "engine.assign_weights(\n",
    "    sx.assign_uniform_distribution()\n",
    ")"
   ]
  },
  {
   "cell_type": "code",
   "execution_count": 18,
   "metadata": {},
   "outputs": [
    {
     "data": {
      "application/vnd.jupyter.widget-view+json": {
       "model_id": "",
       "version_major": 2,
       "version_minor": 0
      },
      "text/plain": [
       "Canvas(toolbar=Toolbar(toolitems=[('Home', 'Reset original view', 'home', 'home'), ('Back', 'Back to previous …"
      ]
     },
     "metadata": {},
     "output_type": "display_data"
    },
    {
     "data": {
      "text/plain": [
       "Text(0.5, 1.0, 'Uniform beam (Cutting Point at $DA=26.0$)')"
      ]
     },
     "execution_count": 18,
     "metadata": {},
     "output_type": "execute_result"
    }
   ],
   "source": [
    "%matplotlib widget\n",
    "real_values = engine.compute_loss(turn_sampling, 26)\n",
    "real_values\n",
    "fig, ax = plt.subplots()\n",
    "ax.plot(axis_sampling, values, label=\"Values from DA\")\n",
    "ax.fill_between(axis_sampling, values1, values2, label=\"Values from DA - error\", color=\"C0\", alpha=0.4)\n",
    "ax.plot(axis_sampling, real_values, label=\"Values from weights\")\n",
    "ax.legend()\n",
    "ax.set_xlabel(\"$N$ turns\")\n",
    "ax.set_ylabel(\"Active beam\")\n",
    "ax.set_title(\"Uniform beam (Cutting Point at $DA=26.0$)\")"
   ]
  },
  {
   "cell_type": "markdown",
   "metadata": {},
   "source": [
    "# Gaussian with slider available for $\\sigma$\n",
    "\n",
    "With the slider it is possible to regulate the $\\sigma$ value of the 4D gaussian beam distribution.\n",
    "\n",
    "It is possible to observe how extreme values for $\\sigma$ strongly changes the two loss behaviours.\n",
    "\n",
    "**N.B.: Place the slider at the desired position and then wait for the automatic refresh!**"
   ]
  },
  {
   "cell_type": "code",
   "execution_count": 19,
   "metadata": {},
   "outputs": [
    {
     "data": {
      "application/vnd.jupyter.widget-view+json": {
       "model_id": "5a24c2cb79784b7f9a35b664f4e55b90",
       "version_major": 2,
       "version_minor": 0
      },
      "text/plain": [
       "Canvas(toolbar=Toolbar(toolitems=[('Home', 'Reset original view', 'home', 'home'), ('Back', 'Back to previous …"
      ]
     },
     "metadata": {},
     "output_type": "display_data"
    },
    {
     "data": {
      "application/vnd.jupyter.widget-view+json": {
       "model_id": "24874510853c4bbfb9d9caf666241f93",
       "version_major": 2,
       "version_minor": 0
      },
      "text/plain": [
       "interactive(children=(FloatSlider(value=15.0, description='sigma', max=30.0, min=1.0, step=0.5), Output()), _d…"
      ]
     },
     "metadata": {},
     "output_type": "display_data"
    }
   ],
   "source": [
    "%matplotlib widget\n",
    "\n",
    "fig, ax = plt.subplots()\n",
    "\n",
    "@widgets.interact(sigma=(1,30,0.5))\n",
    "def update(sigma):\n",
    "    plt.cla()\n",
    "    # Cursed Sanity Check\n",
    "    def loss_from_DA(DA_list, DA_max):\n",
    "        temp = - np.exp(- ((DA_list / sigma) ** 2) / 2) * (DA_list ** 2 + 2 * sigma ** 2) + 2 * sigma ** 2\n",
    "        return np.concatenate((temp, [- np.exp(- ((DA_max / sigma) ** 2) / 2) * (DA_max ** 2 + 2 * sigma ** 2) + 2 * sigma ** 2]))\n",
    "\n",
    "    values = loss_from_DA(DA, 26.0)\n",
    "    values /= values[-1]\n",
    "    values[-20:]\n",
    "\n",
    "    # Error computing\n",
    "    \n",
    "    values1 = loss_from_DA(DA - np.absolute(np.mean(radiuses - DA, axis=(0,1,2))), 26)\n",
    "    values1 /= values1[-1]\n",
    "\n",
    "    values2 = loss_from_DA(DA + np.absolute(np.mean(radiuses - DA, axis=(0,1,2))), 26)\n",
    "    values2 /= values2[-1]\n",
    "\n",
    "    engine.assign_weights(\n",
    "        sx.assign_symmetric_gaussian(sigma)\n",
    "    )\n",
    "\n",
    "    real_values = engine.compute_loss(turn_sampling, 26)\n",
    "    real_values\n",
    "    ax.plot(axis_sampling, values, label=\"Values from DA\")\n",
    "    ax.fill_between(axis_sampling, values1, values2, color=\"C0\", alpha=0.4)\n",
    "    ax.plot(axis_sampling, real_values, label=\"Values from weights\")\n",
    "    ax.legend()\n",
    "    ax.set_xlabel(\"$N$ turns\")\n",
    "    ax.set_ylabel(\"Active beam\")\n",
    "    ax.set_title(\"Symmetric gaussian beam\\n($\\\\sigma = {}$, cutting Point at $DA=26.0$)\".format(sigma))\n",
    "    plt.tight_layout()\n"
   ]
  },
  {
   "cell_type": "markdown",
   "metadata": {},
   "source": [
    "# From this point... there is legacy stuff and work in progress"
   ]
  },
  {
   "cell_type": "markdown",
   "metadata": {},
   "source": [
    "# Gaussian distribution --- Legacy stuff\n",
    "## Simple Gaussian -- high sigma"
   ]
  },
  {
   "cell_type": "code",
   "execution_count": 39,
   "metadata": {},
   "outputs": [],
   "source": [
    "sigma = 17.5\n",
    "\n",
    "# Cursed Sanity Check\n",
    "def loss_from_DA(DA_list, DA_max):\n",
    "    temp = - np.exp(- ((DA_list / sigma) ** 2) / 2) * (DA_list ** 2 + 2 * sigma ** 2) + 2 * sigma ** 2\n",
    "    return np.concatenate((temp, [- np.exp(- ((DA_max / sigma) ** 2) / 2) * (DA_max ** 2 + 2 * sigma ** 2) + 2 * sigma ** 2]))\n",
    "\n",
    "values = loss_from_DA(DA, 26.0)\n",
    "values /= values[-1]\n",
    "values[-20:]\n",
    "\n",
    "values1 = loss_from_DA(DA - np.absolute(np.mean(radiuses - DA, axis=(0,1,2))), 26)\n",
    "values1 /= values1[-1]\n",
    "\n",
    "values2 = loss_from_DA(DA + np.absolute(np.mean(radiuses - DA, axis=(0,1,2))), 26)\n",
    "values2 /= values2[-1]"
   ]
  },
  {
   "cell_type": "code",
   "execution_count": 40,
   "metadata": {},
   "outputs": [],
   "source": [
    "engine.assign_weights(\n",
    "    sx.assign_symmetric_gaussian(sigma)\n",
    ")"
   ]
  },
  {
   "cell_type": "code",
   "execution_count": 41,
   "metadata": {},
   "outputs": [
    {
     "data": {
      "image/png": "[encoded data removed]",
      "text/plain": [
       "<Figure size 864x504 with 1 Axes>"
      ]
     },
     "metadata": {
      "needs_background": "light"
     },
     "output_type": "display_data"
    }
   ],
   "source": [
    "real_values = engine.compute_loss(turn_sampling, 26)\n",
    "real_values\n",
    "plt.plot(axis_sampling, real_values, label=\"Values from weights\")\n",
    "plt.plot(axis_sampling, values, label=\"Values from DA\")\n",
    "plt.plot(axis_sampling, values1, label=\"Values from DA - error\")\n",
    "plt.plot(axis_sampling, values2, label=\"Values from DA + error\")\n",
    "plt.legend()\n",
    "plt.xlabel(\"$N$ turns\")\n",
    "plt.ylabel(\"Active beam\")\n",
    "plt.title(\"Symmetric gaussian beam\\n($\\\\sigma = {}$, cutting Point at $DA=26.0$)\".format(sigma))\n",
    "plt.savefig(\"high_sigma_loss.jpg\", dpi=600)"
   ]
  },
  {
   "cell_type": "markdown",
   "metadata": {},
   "source": [
    "## Simple Gaussian -- low sigma"
   ]
  },
  {
   "cell_type": "code",
   "execution_count": 60,
   "metadata": {},
   "outputs": [],
   "source": [
    "sigma = 11.0\n",
    "\n",
    "# Sanity Check\n",
    "def loss_from_DA(DA_list, DA_max):\n",
    "    temp = - np.exp(- ((DA_list / sigma) ** 2) / 2) * (DA_list ** 2 + 2 * sigma ** 2) + 2 * sigma ** 2\n",
    "    return np.concatenate((temp, [- np.exp(- ((DA_max / sigma) ** 2) / 2) * (DA_max ** 2 + 2 * sigma ** 2) + 2 * sigma ** 2]))\n",
    "\n",
    "values = loss_from_DA(DA, 26.0)\n",
    "values /= values[-1]\n",
    "values[-20:]\n",
    "\n",
    "values1 = loss_from_DA(DA - np.absolute(np.mean(radiuses - DA, axis=(0,1,2))), 26)\n",
    "values1 /= values1[-1]\n",
    "\n",
    "values2 = loss_from_DA(DA + np.absolute(np.mean(radiuses - DA, axis=(0,1,2))), 26)\n",
    "values2 /= values2[-1]"
   ]
  },
  {
   "cell_type": "code",
   "execution_count": 61,
   "metadata": {},
   "outputs": [],
   "source": [
    "engine.assign_weights(\n",
    "    sx.assign_symmetric_gaussian(sigma)\n",
    ")"
   ]
  },
  {
   "cell_type": "code",
   "execution_count": 62,
   "metadata": {},
   "outputs": [
    {
     "data": {
      "image/png": "[encoded data removed]",
      "text/plain": [
       "<Figure size 864x504 with 1 Axes>"
      ]
     },
     "metadata": {
      "needs_background": "light"
     },
     "output_type": "display_data"
    }
   ],
   "source": [
    "real_values = engine.compute_loss(turn_sampling, 26)\n",
    "real_values\n",
    "plt.plot(axis_sampling, real_values, label=\"Values from weights\")\n",
    "plt.plot(axis_sampling, values, label=\"Values from DA\")\n",
    "plt.plot(axis_sampling, values1, label=\"Values from DA - error\")\n",
    "plt.plot(axis_sampling, values2, label=\"Values from DA + error\")\n",
    "plt.legend()\n",
    "plt.xlabel(\"$N$ turns\")\n",
    "plt.ylabel(\"Active beam\")\n",
    "plt.title(\"Symmetric gaussian beam\\n($\\\\sigma = {}$, cutting Point at $DA=26.0$)\".format(sigma))\n",
    "plt.savefig(\"low_sigma_loss.jpg\", dpi=600)"
   ]
  },
  {
   "cell_type": "markdown",
   "metadata": {},
   "source": [
    "# Not-so-simple Gaussian (WORK IN PROGRESS!)"
   ]
  },
  {
   "cell_type": "code",
   "execution_count": null,
   "metadata": {},
   "outputs": [],
   "source": [
    "from numba import njit\n",
    "from scipy.stats import multivariate_normal\n",
    "import scipy.integrate as integrate\n",
    "from scipy.special import erf\n",
    "\n",
    "sigma_x = 10.0\n",
    "sigma_px = 20.0\n",
    "sigma_y = 10.0\n",
    "sigma_py = 20.0\n",
    "\n",
    "func = multivariate_normal(\n",
    "    [0.0, 0.0, 0.0, 0.0],\n",
    "    [[sigma_x, 0.0, 0.0, 0.0],\n",
    "     [0.0, sigma_px, 0.0, 0.0],\n",
    "     [0.0, 0.0, sigma_y, 0.0],\n",
    "     [0.0, 0.0, 0.0, sigma_py]])\n",
    "\n",
    "def func_all(x, px, y, py, DA):\n",
    "    return func.pdf([x, px, y, py]) #/ (r ** 3 * np.sin(a) * np.cos(a))\n",
    "\n",
    "func_np = np.vectorize(func_all)\n",
    "\n",
    "@njit\n",
    "def lim_py(DA):\n",
    "    return [0.0, DA]\n",
    "\n",
    "@njit\n",
    "def lim_y(py, DA):\n",
    "    return [0.0, np.sqrt(DA ** 2 - py ** 2)]\n",
    "\n",
    "@njit\n",
    "def lim_px(y, py, DA):\n",
    "    return [0.0, np.sqrt(DA ** 2 - y ** 2 - py ** 2)]\n",
    "\n",
    "@njit\n",
    "def lim_x(px, y, py, DA):\n",
    "    return [0.0, np.sqrt(DA ** 2 - px ** 2 - y ** 2 - py ** 2)]\n",
    "\n",
    "# Sanity Check\n",
    "def loss_from_DA(DA_list, DA_max):\n",
    "    temp = np.array([integrate.nquad(\n",
    "        func_np,\n",
    "        [lim_x, lim_px, lim_y, lim_py],\n",
    "        args=(DA, ),\n",
    "        opts={\"epsabs\":1, \"epsrel\":1}\n",
    "        ) for DA in tqdm(DA_list)])\n",
    "    return np.concatenate(\n",
    "        (temp, \n",
    "         [integrate.nquad(\n",
    "            func_np,\n",
    "            [lim_x, lim_px, lim_y, lim_py],\n",
    "            args=(DA_max, )\n",
    "        )]))\n",
    "\n",
    "values = loss_from_DA(DA, 26.0)\n",
    "values /= values[-1]\n",
    "values[-20:]"
   ]
  },
  {
   "cell_type": "code",
   "execution_count": null,
   "metadata": {},
   "outputs": [],
   "source": [
    "from numba import njit\n",
    "from scipy.stats import multivariate_normal\n",
    "import scipy.integrate as integrate\n",
    "from scipy.special import erf\n",
    "\n",
    "sigma_x = 10.0\n",
    "sigma_px = 10.0\n",
    "sigma_y = 10.0\n",
    "sigma_py = 10.0\n",
    "\n",
    "func = multivariate_normal(\n",
    "    [0.0, 0.0, 0.0, 0.0],\n",
    "    [[sigma_x, 0.0, 0.0, 0.0],\n",
    "     [0.0, sigma_px, 0.0, 0.0],\n",
    "     [0.0, 0.0, sigma_y, 0.0],\n",
    "     [0.0, 0.0, 0.0, sigma_py]])\n",
    "\n",
    "def func_all(x, px, y, py, DA):\n",
    "    return func.pdf([x, px, y, py]) #/ (r ** 3 * np.sin(a) * np.cos(a))\n",
    "\n",
    "func_np = np.vectorize(func_all)\n",
    "\n",
    "# Sanity Check\n",
    "def loss_from_DA(DA_list, DA_max):\n",
    "    temp = np.array([\n",
    "        erf(DA / sigma_x) * erf(DA / sigma_px)  * erf(DA / sigma_y) * erf(DA / sigma_py)\n",
    "        for DA in DA_list])\n",
    "    return np.concatenate(\n",
    "        (temp, \n",
    "         [erf(DA_max / sigma_x) * erf(DA_max / sigma_px)  * erf(DA_max / sigma_y) * erf(DA_max / sigma_py)]\n",
    "        ))\n",
    "\n",
    "values = loss_from_DA(DA, 26.0)\n",
    "values /= values[-1]\n",
    "values[-20:]"
   ]
  },
  {
   "cell_type": "code",
   "execution_count": null,
   "metadata": {},
   "outputs": [],
   "source": [
    "@njit\n",
    "def my_gaussian(x, px, y, py):\n",
    "    sigma_x = 10.0\n",
    "    sigma_px = 10.0\n",
    "    sigma_y = 10.0\n",
    "    sigma_py = 10.0\n",
    "    return (\n",
    "        (1.0 / (np.power(2 * np.pi, 2) * sigma_x * sigma_px * sigma_y * sigma_py))\n",
    "        * np.exp(- 0.5 * (np.power(x / sigma_x, 2) + np.power(px / sigma_px, 2) + np.power(y / sigma_y, 2) + np.power(py / sigma_py, 2)))\n",
    "    )\n",
    "\n",
    "@njit(parallel=True)\n",
    "def mc_extraction(n_samples, radius):\n",
    "    samples = np.empty(n_samples)\n",
    "    coords = np.empty((4, n_samples))\n",
    "    for i in prange(n_samples):\n",
    "        coord = np.random.rand(4) * radius\n",
    "        while np.sum(np.power(coord, 2)) >= radius ** 2:\n",
    "            coord = np.random.rand(4) * radius\n",
    "        coords[:, i] = coord\n",
    "    samples = my_gaussian(coords[0, :], coords[1, :], coords[2, :], coords[3, :])\n",
    "    return np.mean(samples), np.mean(samples) * np.pi * np.pi * (radius ** 4) / 2, np.std(samples) * np.pi * np.pi * (radius ** 4) / 2 / np.sqrt(n_samples)\n",
    "\n",
    "mc_extraction(500000000, 10)"
   ]
  },
  {
   "cell_type": "code",
   "execution_count": null,
   "metadata": {},
   "outputs": [],
   "source": [
    "engine.assign_weights(\n",
    "    sx.assign_generic_gaussian(sigma_x, sigma_px, sigma_y, sigma_py)\n",
    ")"
   ]
  },
  {
   "cell_type": "code",
   "execution_count": null,
   "metadata": {},
   "outputs": [],
   "source": [
    "real_values = engine.compute_loss(turn_sampling, 26)\n",
    "real_values\n",
    "\n",
    "plt.plot(axis_sampling, real_values, label=\"Values from weights\")\n",
    "plt.plot(axis_sampling, values, label=\"Values from DA\")\n",
    "plt.legend()\n",
    "plt.xlabel(\"$N$ turns\")\n",
    "plt.ylabel(\"Active beam\")\n",
    "plt.title(\"Symmetric gaussian beam\\n($\\\\sigma = {}$, cutting Point at $DA=26.0$)\".format(sigma))"
   ]
  },
  {
   "cell_type": "code",
   "execution_count": 98,
   "metadata": {},
   "outputs": [
    {
     "data": {
      "text/plain": [
       "Text(0.5, 1.0, 'Symmetric gaussian beam\\n($\\\\sigma = 10.0$, cutting Point at $DA=26.0$)')"
      ]
     },
     "execution_count": 98,
     "metadata": {},
     "output_type": "execute_result"
    },
    {
     "data": {
      "image/png": "[encoded data removed]",
      "text/plain": [
       "<Figure size 432x288 with 1 Axes>"
      ]
     },
     "metadata": {
      "needs_background": "light"
     },
     "output_type": "display_data"
    }
   ],
   "source": [
    "cut_values = np.array([engine.compute_loss_cut(cut) for cut in tqdm(np.concatenate((DA,[26.0])))])\n",
    "\n",
    "plt.plot(axis_sampling, real_values, label=\"Values from weights\")\n",
    "plt.plot(axis_sampling, cut_values / cut_values[-1], label=\"Values from DA\")\n",
    "plt.legend()\n",
    "plt.xlabel(\"$N$ turns\")\n",
    "plt.ylabel(\"Active beam\")\n",
    "plt.title(\"Symmetric gaussian beam\\n($\\\\sigma = {}$, cutting Point at $DA=26.0$)\".format(sigma))"
   ]
  },
  {
   "cell_type": "code",
   "execution_count": null,
   "metadata": {},
   "outputs": [],
   "source": []
  }
 ],
 "metadata": {
  "kernelspec": {
   "display_name": "Python 3",
   "language": "python",
   "name": "python3"
  },
  "language_info": {
   "codemirror_mode": {
    "name": "ipython",
    "version": 3
   },
   "file_extension": ".py",
   "mimetype": "text/x-python",
   "name": "python",
   "nbconvert_exporter": "python",
   "pygments_lexer": "ipython3",
   "version": "3.8.2"
  }
 },
 "nbformat": 4,
 "nbformat_minor": 4
}
