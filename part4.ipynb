{
 "cells": [
  {
   "cell_type": "markdown",
   "metadata": {},
   "source": [
    "# Stratified Monte Carlo\n",
    "## Import Libraries"
   ]
  },
  {
   "cell_type": "code",
   "execution_count": 1,
   "metadata": {},
   "outputs": [],
   "source": [
    "# Base libraries\n",
    "import math\n",
    "import numpy as np\n",
    "import scipy.integrate as integrate\n",
    "from tqdm import tqdm\n",
    "from scipy.special import erf\n",
    "import pickle\n",
    "import itertools\n",
    "\n",
    "from SALib.sample import saltelli\n",
    "from SALib.analyze import sobol\n",
    "\n",
    "# Personal libraries\n",
    "import sixtrackwrap as sr\n",
    "\n",
    "from parameters import *"
   ]
  },
  {
   "cell_type": "markdown",
   "metadata": {},
   "source": [
    "## Computation"
   ]
  },
  {
   "cell_type": "code",
   "execution_count": 2,
   "metadata": {
    "scrolled": true
   },
   "outputs": [
    {
     "name": "stdout",
     "output_type": "stream",
     "text": [
      "Initialization...\n"
     ]
    },
    {
     "name": "stderr",
     "output_type": "stream",
     "text": [
      "100%|██████████| 2/2 [00:00<00:00, 5702.66it/s]"
     ]
    },
    {
     "name": "stdout",
     "output_type": "stream",
     "text": [
      "...first computation...\n",
      "...setup...\n",
      "...baking...\n",
      "Active radiuses: 80 / 80\n",
      "Sample size per active radius: 25\n",
      "Expected execution time for step: nan\n"
     ]
    },
    {
     "name": "stderr",
     "output_type": "stream",
     "text": [
      "\n",
      "100%|██████████| 2/2 [00:00<00:00, 3934.62it/s]\n",
      "Iterations:   0%|          | 0/100 [00:00<?, ?it/s]"
     ]
    },
    {
     "name": "stdout",
     "output_type": "stream",
     "text": [
      "Elapsed time for whole iteration: 2.51\n",
      "Time per single iteration: 2.514113664627075e-05\n",
      "r: 135.0 . Turns to do: 0 . Min found: 0\n",
      "TOTAL ELAPSED TIME IN SECONDS: 2.51\n",
      "...gathering...\n",
      "...done initializing.\n",
      "setup...\n",
      "...baking...\n",
      "Active radiuses: 100 / 100\n",
      "Sample size per active radius: 20\n",
      "Expected execution time for step: nan\n"
     ]
    },
    {
     "name": "stderr",
     "output_type": "stream",
     "text": [
      "Iterations:   1%|          | 1/100 [00:02<04:02,  2.45s/it]"
     ]
    },
    {
     "name": "stdout",
     "output_type": "stream",
     "text": [
      "Elapsed time for whole iteration: 2.44\n",
      "Time per single iteration: 2.441094160079956e-05\n",
      "r: 110.0 . Turns to do: 0 . Min found: 0\n",
      "TOTAL ELAPSED TIME IN SECONDS: 2.44\n",
      "...gathering\n",
      "setup...\n",
      "...baking...\n",
      "Active radiuses: 101 / 101\n",
      "Sample size per active radius: 20\n",
      "Expected execution time for step: nan\n"
     ]
    },
    {
     "name": "stderr",
     "output_type": "stream",
     "text": [
      "Iterations:   2%|▏         | 2/100 [00:04<04:00,  2.45s/it]"
     ]
    },
    {
     "name": "stdout",
     "output_type": "stream",
     "text": [
      "Elapsed time for whole iteration: 2.44\n",
      "Time per single iteration: 2.4116589291260975e-05\n",
      "r: 110.0 . Turns to do: 0 . Min found: 0\n",
      "TOTAL ELAPSED TIME IN SECONDS: 2.44\n",
      "...gathering\n",
      "setup...\n",
      "...baking...\n",
      "Active radiuses: 100 / 100\n",
      "Sample size per active radius: 20\n",
      "Expected execution time for step: nan\n"
     ]
    },
    {
     "name": "stderr",
     "output_type": "stream",
     "text": [
      "Iterations:   3%|▎         | 3/100 [00:07<03:57,  2.45s/it]"
     ]
    },
    {
     "name": "stdout",
     "output_type": "stream",
     "text": [
      "Elapsed time for whole iteration: 2.44\n",
      "Time per single iteration: 2.440460681915283e-05\n",
      "r: 110.0 . Turns to do: 0 . Min found: 0\n",
      "TOTAL ELAPSED TIME IN SECONDS: 2.44\n",
      "...gathering\n",
      "setup...\n",
      "...baking...\n",
      "Active radiuses: 100 / 100\n",
      "Sample size per active radius: 20\n",
      "Expected execution time for step: nan\n"
     ]
    },
    {
     "name": "stderr",
     "output_type": "stream",
     "text": [
      "Iterations:   4%|▍         | 4/100 [00:09<03:55,  2.45s/it]"
     ]
    },
    {
     "name": "stdout",
     "output_type": "stream",
     "text": [
      "Elapsed time for whole iteration: 2.45\n",
      "Time per single iteration: 2.447223424911499e-05\n",
      "r: 110.0 . Turns to do: 0 . Min found: 0\n",
      "TOTAL ELAPSED TIME IN SECONDS: 2.45\n",
      "...gathering\n",
      "setup...\n",
      "...baking...\n",
      "Active radiuses: 100 / 100\n",
      "Sample size per active radius: 20\n",
      "Expected execution time for step: nan\n"
     ]
    },
    {
     "name": "stderr",
     "output_type": "stream",
     "text": [
      "Iterations:   5%|▌         | 5/100 [00:12<03:53,  2.45s/it]"
     ]
    },
    {
     "name": "stdout",
     "output_type": "stream",
     "text": [
      "Elapsed time for whole iteration: 2.44\n",
      "Time per single iteration: 2.441883087158203e-05\n",
      "r: 110.0 . Turns to do: 0 . Min found: 0\n",
      "TOTAL ELAPSED TIME IN SECONDS: 2.44\n",
      "...gathering\n",
      "setup...\n",
      "...baking...\n",
      "Active radiuses: 100 / 100\n",
      "Sample size per active radius: 20\n",
      "Expected execution time for step: nan\n"
     ]
    },
    {
     "name": "stderr",
     "output_type": "stream",
     "text": [
      "Iterations:   6%|▌         | 6/100 [00:14<03:50,  2.45s/it]"
     ]
    },
    {
     "name": "stdout",
     "output_type": "stream",
     "text": [
      "Elapsed time for whole iteration: 2.44\n",
      "Time per single iteration: 2.438483953475952e-05\n",
      "r: 110.0 . Turns to do: 0 . Min found: 0\n",
      "TOTAL ELAPSED TIME IN SECONDS: 2.44\n",
      "...gathering\n",
      "setup...\n",
      "...baking...\n",
      "Active radiuses: 100 / 100\n",
      "Sample size per active radius: 20\n",
      "Expected execution time for step: nan\n"
     ]
    },
    {
     "name": "stderr",
     "output_type": "stream",
     "text": [
      "Iterations:   7%|▋         | 7/100 [00:17<03:48,  2.45s/it]"
     ]
    },
    {
     "name": "stdout",
     "output_type": "stream",
     "text": [
      "Elapsed time for whole iteration: 2.44\n",
      "Time per single iteration: 2.4396610260009767e-05\n",
      "r: 110.0 . Turns to do: 0 . Min found: 0\n",
      "TOTAL ELAPSED TIME IN SECONDS: 2.44\n",
      "...gathering\n",
      "setup...\n",
      "...baking...\n",
      "Active radiuses: 101 / 101\n",
      "Sample size per active radius: 20\n",
      "Expected execution time for step: nan\n"
     ]
    },
    {
     "name": "stderr",
     "output_type": "stream",
     "text": [
      "Iterations:   8%|▊         | 8/100 [00:19<03:45,  2.45s/it]"
     ]
    },
    {
     "name": "stdout",
     "output_type": "stream",
     "text": [
      "Elapsed time for whole iteration: 2.43\n",
      "Time per single iteration: 2.4063528174220926e-05\n",
      "r: 110.0 . Turns to do: 0 . Min found: 0\n",
      "TOTAL ELAPSED TIME IN SECONDS: 2.43\n",
      "...gathering\n",
      "setup...\n",
      "...baking...\n",
      "Active radiuses: 101 / 101\n",
      "Sample size per active radius: 20\n",
      "Expected execution time for step: nan\n"
     ]
    },
    {
     "name": "stderr",
     "output_type": "stream",
     "text": [
      "Iterations:   9%|▉         | 9/100 [00:22<03:42,  2.45s/it]"
     ]
    },
    {
     "name": "stdout",
     "output_type": "stream",
     "text": [
      "Elapsed time for whole iteration: 2.43\n",
      "Time per single iteration: 2.4064748594076327e-05\n",
      "r: 110.0 . Turns to do: 0 . Min found: 0\n",
      "TOTAL ELAPSED TIME IN SECONDS: 2.43\n",
      "...gathering\n",
      "setup...\n",
      "...baking...\n",
      "Active radiuses: 100 / 100\n",
      "Sample size per active radius: 20\n",
      "Expected execution time for step: nan\n"
     ]
    },
    {
     "name": "stderr",
     "output_type": "stream",
     "text": [
      "Iterations:  10%|█         | 10/100 [00:24<03:40,  2.45s/it]"
     ]
    },
    {
     "name": "stdout",
     "output_type": "stream",
     "text": [
      "Elapsed time for whole iteration: 2.44\n",
      "Time per single iteration: 2.4396510124206543e-05\n",
      "r: 110.0 . Turns to do: 0 . Min found: 0\n",
      "TOTAL ELAPSED TIME IN SECONDS: 2.44\n",
      "...gathering\n",
      "setup...\n",
      "...baking...\n",
      "Active radiuses: 100 / 100\n",
      "Sample size per active radius: 20\n",
      "Expected execution time for step: nan\n"
     ]
    },
    {
     "name": "stderr",
     "output_type": "stream",
     "text": [
      "Iterations:  11%|█         | 11/100 [00:26<03:37,  2.45s/it]"
     ]
    },
    {
     "name": "stdout",
     "output_type": "stream",
     "text": [
      "Elapsed time for whole iteration: 2.44\n",
      "Time per single iteration: 2.438014268875122e-05\n",
      "r: 110.0 . Turns to do: 0 . Min found: 0\n",
      "TOTAL ELAPSED TIME IN SECONDS: 2.44\n",
      "...gathering\n",
      "setup...\n",
      "...baking...\n",
      "Active radiuses: 100 / 100\n",
      "Sample size per active radius: 20\n",
      "Expected execution time for step: nan\n"
     ]
    },
    {
     "name": "stderr",
     "output_type": "stream",
     "text": [
      "Iterations:  12%|█▏        | 12/100 [00:29<03:35,  2.45s/it]"
     ]
    },
    {
     "name": "stdout",
     "output_type": "stream",
     "text": [
      "Elapsed time for whole iteration: 2.44\n",
      "Time per single iteration: 2.4390861988067627e-05\n",
      "r: 110.0 . Turns to do: 0 . Min found: 0\n",
      "TOTAL ELAPSED TIME IN SECONDS: 2.44\n",
      "...gathering\n",
      "setup...\n",
      "...baking...\n",
      "Active radiuses: 100 / 100\n",
      "Sample size per active radius: 20\n",
      "Expected execution time for step: nan\n"
     ]
    },
    {
     "name": "stderr",
     "output_type": "stream",
     "text": [
      "Iterations:  13%|█▎        | 13/100 [00:31<03:33,  2.45s/it]"
     ]
    },
    {
     "name": "stdout",
     "output_type": "stream",
     "text": [
      "Elapsed time for whole iteration: 2.44\n",
      "Time per single iteration: 2.4395716190338134e-05\n",
      "r: 110.0 . Turns to do: 0 . Min found: 0\n",
      "TOTAL ELAPSED TIME IN SECONDS: 2.44\n",
      "...gathering\n",
      "setup...\n",
      "...baking...\n",
      "Active radiuses: 100 / 100\n",
      "Sample size per active radius: 20\n",
      "Expected execution time for step: nan\n"
     ]
    },
    {
     "name": "stderr",
     "output_type": "stream",
     "text": [
      "Iterations:  14%|█▍        | 14/100 [00:34<03:30,  2.45s/it]"
     ]
    },
    {
     "name": "stdout",
     "output_type": "stream",
     "text": [
      "Elapsed time for whole iteration: 2.44\n",
      "Time per single iteration: 2.4424726963043215e-05\n",
      "r: 110.0 . Turns to do: 0 . Min found: 0\n",
      "TOTAL ELAPSED TIME IN SECONDS: 2.44\n",
      "...gathering\n",
      "setup...\n",
      "...baking...\n",
      "Active radiuses: 100 / 100\n",
      "Sample size per active radius: 20\n",
      "Expected execution time for step: nan\n"
     ]
    },
    {
     "name": "stderr",
     "output_type": "stream",
     "text": [
      "Iterations:  15%|█▌        | 15/100 [00:36<03:28,  2.45s/it]"
     ]
    },
    {
     "name": "stdout",
     "output_type": "stream",
     "text": [
      "Elapsed time for whole iteration: 2.44\n",
      "Time per single iteration: 2.4394915103912352e-05\n",
      "r: 110.0 . Turns to do: 0 . Min found: 0\n",
      "TOTAL ELAPSED TIME IN SECONDS: 2.44\n",
      "...gathering\n",
      "setup...\n",
      "...baking...\n",
      "Active radiuses: 100 / 100\n",
      "Sample size per active radius: 20\n",
      "Expected execution time for step: nan\n"
     ]
    },
    {
     "name": "stderr",
     "output_type": "stream",
     "text": [
      "Iterations:  16%|█▌        | 16/100 [00:39<03:25,  2.45s/it]"
     ]
    },
    {
     "name": "stdout",
     "output_type": "stream",
     "text": [
      "Elapsed time for whole iteration: 2.44\n",
      "Time per single iteration: 2.4401154518127442e-05\n",
      "r: 110.0 . Turns to do: 0 . Min found: 0\n",
      "TOTAL ELAPSED TIME IN SECONDS: 2.44\n",
      "...gathering\n",
      "setup...\n",
      "...baking...\n",
      "Active radiuses: 101 / 101\n",
      "Sample size per active radius: 20\n",
      "Expected execution time for step: nan\n"
     ]
    },
    {
     "name": "stderr",
     "output_type": "stream",
     "text": [
      "Iterations:  17%|█▋        | 17/100 [00:41<03:23,  2.45s/it]"
     ]
    },
    {
     "name": "stdout",
     "output_type": "stream",
     "text": [
      "Elapsed time for whole iteration: 2.45\n",
      "Time per single iteration: 2.421110455352481e-05\n",
      "r: 110.0 . Turns to do: 0 . Min found: 0\n",
      "TOTAL ELAPSED TIME IN SECONDS: 2.45\n",
      "...gathering\n",
      "setup...\n",
      "...baking...\n",
      "Active radiuses: 101 / 101\n",
      "Sample size per active radius: 20\n",
      "Expected execution time for step: nan\n"
     ]
    },
    {
     "name": "stderr",
     "output_type": "stream",
     "text": [
      "Iterations:  18%|█▊        | 18/100 [00:44<03:20,  2.45s/it]"
     ]
    },
    {
     "name": "stdout",
     "output_type": "stream",
     "text": [
      "Elapsed time for whole iteration: 2.43\n",
      "Time per single iteration: 2.4102140181135424e-05\n",
      "r: 110.0 . Turns to do: 0 . Min found: 0\n",
      "TOTAL ELAPSED TIME IN SECONDS: 2.43\n",
      "...gathering\n",
      "setup...\n",
      "...baking...\n",
      "Active radiuses: 101 / 101\n",
      "Sample size per active radius: 20\n",
      "Expected execution time for step: nan\n"
     ]
    },
    {
     "name": "stderr",
     "output_type": "stream",
     "text": [
      "Iterations:  19%|█▉        | 19/100 [00:46<03:18,  2.45s/it]"
     ]
    },
    {
     "name": "stdout",
     "output_type": "stream",
     "text": [
      "Elapsed time for whole iteration: 2.44\n",
      "Time per single iteration: 2.4156726232849726e-05\n",
      "r: 110.0 . Turns to do: 0 . Min found: 0\n",
      "TOTAL ELAPSED TIME IN SECONDS: 2.44\n",
      "...gathering\n",
      "setup...\n",
      "...baking...\n",
      "Active radiuses: 101 / 101\n",
      "Sample size per active radius: 20\n",
      "Expected execution time for step: nan\n"
     ]
    },
    {
     "name": "stderr",
     "output_type": "stream",
     "text": [
      "Iterations:  20%|██        | 20/100 [00:48<03:15,  2.45s/it]"
     ]
    },
    {
     "name": "stdout",
     "output_type": "stream",
     "text": [
      "Elapsed time for whole iteration: 2.43\n",
      "Time per single iteration: 2.4023105602453252e-05\n",
      "r: 110.0 . Turns to do: 0 . Min found: 0\n",
      "TOTAL ELAPSED TIME IN SECONDS: 2.43\n",
      "...gathering\n",
      "setup...\n",
      "...baking...\n",
      "Active radiuses: 100 / 100\n",
      "Sample size per active radius: 20\n",
      "Expected execution time for step: nan\n"
     ]
    },
    {
     "name": "stderr",
     "output_type": "stream",
     "text": [
      "Iterations:  21%|██        | 21/100 [00:51<03:13,  2.45s/it]"
     ]
    },
    {
     "name": "stdout",
     "output_type": "stream",
     "text": [
      "Elapsed time for whole iteration: 2.44\n",
      "Time per single iteration: 2.437922477722168e-05\n",
      "r: 110.0 . Turns to do: 0 . Min found: 0\n",
      "TOTAL ELAPSED TIME IN SECONDS: 2.44\n",
      "...gathering\n",
      "setup...\n",
      "...baking...\n",
      "Active radiuses: 100 / 100\n",
      "Sample size per active radius: 20\n",
      "Expected execution time for step: nan\n"
     ]
    },
    {
     "name": "stderr",
     "output_type": "stream",
     "text": [
      "Iterations:  22%|██▏       | 22/100 [00:53<03:11,  2.45s/it]"
     ]
    },
    {
     "name": "stdout",
     "output_type": "stream",
     "text": [
      "Elapsed time for whole iteration: 2.44\n",
      "Time per single iteration: 2.4421589374542235e-05\n",
      "r: 110.0 . Turns to do: 0 . Min found: 0\n",
      "TOTAL ELAPSED TIME IN SECONDS: 2.44\n",
      "...gathering\n",
      "setup...\n",
      "...baking...\n",
      "Active radiuses: 100 / 100\n",
      "Sample size per active radius: 20\n",
      "Expected execution time for step: nan\n"
     ]
    },
    {
     "name": "stderr",
     "output_type": "stream",
     "text": [
      "Iterations:  23%|██▎       | 23/100 [00:56<03:08,  2.45s/it]"
     ]
    },
    {
     "name": "stdout",
     "output_type": "stream",
     "text": [
      "Elapsed time for whole iteration: 2.44\n",
      "Time per single iteration: 2.4413464069366456e-05\n",
      "r: 110.0 . Turns to do: 0 . Min found: 0\n",
      "TOTAL ELAPSED TIME IN SECONDS: 2.44\n",
      "...gathering\n",
      "setup...\n",
      "...baking...\n",
      "Active radiuses: 100 / 100\n",
      "Sample size per active radius: 20\n",
      "Expected execution time for step: nan\n"
     ]
    },
    {
     "name": "stderr",
     "output_type": "stream",
     "text": [
      "Iterations:  24%|██▍       | 24/100 [00:58<03:06,  2.45s/it]"
     ]
    },
    {
     "name": "stdout",
     "output_type": "stream",
     "text": [
      "Elapsed time for whole iteration: 2.44\n",
      "Time per single iteration: 2.4393928050994873e-05\n",
      "r: 110.0 . Turns to do: 0 . Min found: 0\n",
      "TOTAL ELAPSED TIME IN SECONDS: 2.44\n",
      "...gathering\n",
      "setup...\n",
      "...baking...\n",
      "Active radiuses: 100 / 100\n",
      "Sample size per active radius: 20\n",
      "Expected execution time for step: nan\n"
     ]
    },
    {
     "name": "stderr",
     "output_type": "stream",
     "text": [
      "Iterations:  25%|██▌       | 25/100 [01:01<03:03,  2.45s/it]"
     ]
    },
    {
     "name": "stdout",
     "output_type": "stream",
     "text": [
      "Elapsed time for whole iteration: 2.44\n",
      "Time per single iteration: 2.440481185913086e-05\n",
      "r: 110.0 . Turns to do: 0 . Min found: 0\n",
      "TOTAL ELAPSED TIME IN SECONDS: 2.44\n",
      "...gathering\n",
      "setup...\n",
      "...baking...\n",
      "Active radiuses: 100 / 100\n",
      "Sample size per active radius: 20\n",
      "Expected execution time for step: nan\n"
     ]
    },
    {
     "name": "stderr",
     "output_type": "stream",
     "text": [
      "Iterations:  26%|██▌       | 26/100 [01:03<03:01,  2.45s/it]"
     ]
    },
    {
     "name": "stdout",
     "output_type": "stream",
     "text": [
      "Elapsed time for whole iteration: 2.44\n",
      "Time per single iteration: 2.4443767070770264e-05\n",
      "r: 110.0 . Turns to do: 0 . Min found: 0\n",
      "TOTAL ELAPSED TIME IN SECONDS: 2.44\n",
      "...gathering\n",
      "setup...\n",
      "...baking...\n",
      "Active radiuses: 101 / 101\n",
      "Sample size per active radius: 20\n",
      "Expected execution time for step: nan\n"
     ]
    },
    {
     "name": "stderr",
     "output_type": "stream",
     "text": [
      "Iterations:  27%|██▋       | 27/100 [01:06<02:58,  2.45s/it]"
     ]
    },
    {
     "name": "stdout",
     "output_type": "stream",
     "text": [
      "Elapsed time for whole iteration: 2.43\n",
      "Time per single iteration: 2.4077951317966575e-05\n",
      "r: 110.0 . Turns to do: 0 . Min found: 0\n",
      "TOTAL ELAPSED TIME IN SECONDS: 2.43\n",
      "...gathering\n",
      "setup...\n",
      "...baking...\n",
      "Active radiuses: 101 / 101\n",
      "Sample size per active radius: 20\n",
      "Expected execution time for step: nan\n"
     ]
    },
    {
     "name": "stderr",
     "output_type": "stream",
     "text": [
      "Iterations:  28%|██▊       | 28/100 [01:08<02:56,  2.45s/it]"
     ]
    },
    {
     "name": "stdout",
     "output_type": "stream",
     "text": [
      "Elapsed time for whole iteration: 2.43\n",
      "Time per single iteration: 2.4078956925042785e-05\n",
      "r: 110.0 . Turns to do: 0 . Min found: 0\n",
      "TOTAL ELAPSED TIME IN SECONDS: 2.43\n",
      "...gathering\n",
      "setup...\n",
      "...baking...\n",
      "Active radiuses: 100 / 100\n",
      "Sample size per active radius: 20\n",
      "Expected execution time for step: nan\n"
     ]
    },
    {
     "name": "stderr",
     "output_type": "stream",
     "text": [
      "Iterations:  29%|██▉       | 29/100 [01:11<02:53,  2.45s/it]"
     ]
    },
    {
     "name": "stdout",
     "output_type": "stream",
     "text": [
      "Elapsed time for whole iteration: 2.44\n",
      "Time per single iteration: 2.442255735397339e-05\n",
      "r: 110.0 . Turns to do: 0 . Min found: 0\n",
      "TOTAL ELAPSED TIME IN SECONDS: 2.44\n",
      "...gathering\n",
      "setup...\n",
      "...baking...\n",
      "Active radiuses: 101 / 101\n",
      "Sample size per active radius: 20\n",
      "Expected execution time for step: nan\n"
     ]
    },
    {
     "name": "stderr",
     "output_type": "stream",
     "text": [
      "Iterations:  30%|███       | 30/100 [01:13<02:51,  2.45s/it]"
     ]
    },
    {
     "name": "stdout",
     "output_type": "stream",
     "text": [
      "Elapsed time for whole iteration: 2.43\n",
      "Time per single iteration: 2.4103943664248627e-05\n",
      "r: 110.0 . Turns to do: 0 . Min found: 0\n",
      "TOTAL ELAPSED TIME IN SECONDS: 2.43\n",
      "...gathering\n",
      "setup...\n",
      "...baking...\n",
      "Active radiuses: 101 / 101\n",
      "Sample size per active radius: 20\n",
      "Expected execution time for step: nan\n"
     ]
    },
    {
     "name": "stderr",
     "output_type": "stream",
     "text": [
      "Iterations:  31%|███       | 31/100 [01:15<02:48,  2.45s/it]"
     ]
    },
    {
     "name": "stdout",
     "output_type": "stream",
     "text": [
      "Elapsed time for whole iteration: 2.44\n",
      "Time per single iteration: 2.411852732743367e-05\n",
      "r: 110.0 . Turns to do: 0 . Min found: 0\n",
      "TOTAL ELAPSED TIME IN SECONDS: 2.44\n",
      "...gathering\n",
      "setup...\n",
      "...baking...\n",
      "Active radiuses: 101 / 101\n",
      "Sample size per active radius: 20\n",
      "Expected execution time for step: nan\n"
     ]
    },
    {
     "name": "stderr",
     "output_type": "stream",
     "text": [
      "Iterations:  32%|███▏      | 32/100 [01:18<02:46,  2.45s/it]"
     ]
    },
    {
     "name": "stdout",
     "output_type": "stream",
     "text": [
      "Elapsed time for whole iteration: 2.44\n",
      "Time per single iteration: 2.41618817395503e-05\n",
      "r: 110.0 . Turns to do: 0 . Min found: 0\n",
      "TOTAL ELAPSED TIME IN SECONDS: 2.44\n",
      "...gathering\n",
      "setup...\n",
      "...baking...\n",
      "Active radiuses: 101 / 101\n",
      "Sample size per active radius: 20\n",
      "Expected execution time for step: nan\n"
     ]
    },
    {
     "name": "stderr",
     "output_type": "stream",
     "text": [
      "Iterations:  33%|███▎      | 33/100 [01:20<02:43,  2.45s/it]"
     ]
    },
    {
     "name": "stdout",
     "output_type": "stream",
     "text": [
      "Elapsed time for whole iteration: 2.43\n",
      "Time per single iteration: 2.4060494828932356e-05\n",
      "r: 110.0 . Turns to do: 0 . Min found: 0\n",
      "TOTAL ELAPSED TIME IN SECONDS: 2.43\n",
      "...gathering\n",
      "setup...\n",
      "...baking...\n",
      "Active radiuses: 101 / 101\n",
      "Sample size per active radius: 20\n",
      "Expected execution time for step: nan\n"
     ]
    },
    {
     "name": "stderr",
     "output_type": "stream",
     "text": [
      "Iterations:  34%|███▍      | 34/100 [01:23<02:41,  2.44s/it]"
     ]
    },
    {
     "name": "stdout",
     "output_type": "stream",
     "text": [
      "Elapsed time for whole iteration: 2.43\n",
      "Time per single iteration: 2.4039119777112905e-05\n",
      "r: 110.0 . Turns to do: 0 . Min found: 0\n",
      "TOTAL ELAPSED TIME IN SECONDS: 2.43\n",
      "...gathering\n",
      "setup...\n",
      "...baking...\n",
      "Active radiuses: 101 / 101\n",
      "Sample size per active radius: 20\n",
      "Expected execution time for step: nan\n"
     ]
    },
    {
     "name": "stderr",
     "output_type": "stream",
     "text": [
      "Iterations:  35%|███▌      | 35/100 [01:25<02:38,  2.44s/it]"
     ]
    },
    {
     "name": "stdout",
     "output_type": "stream",
     "text": [
      "Elapsed time for whole iteration: 2.43\n",
      "Time per single iteration: 2.404438859165305e-05\n",
      "r: 110.0 . Turns to do: 0 . Min found: 0\n",
      "TOTAL ELAPSED TIME IN SECONDS: 2.43\n",
      "...gathering\n",
      "setup...\n",
      "...baking...\n",
      "Active radiuses: 101 / 101\n",
      "Sample size per active radius: 20\n",
      "Expected execution time for step: nan\n"
     ]
    },
    {
     "name": "stderr",
     "output_type": "stream",
     "text": [
      "Iterations:  36%|███▌      | 36/100 [01:28<02:36,  2.44s/it]"
     ]
    },
    {
     "name": "stdout",
     "output_type": "stream",
     "text": [
      "Elapsed time for whole iteration: 2.43\n",
      "Time per single iteration: 2.403062641030491e-05\n",
      "r: 110.0 . Turns to do: 0 . Min found: 0\n",
      "TOTAL ELAPSED TIME IN SECONDS: 2.43\n",
      "...gathering\n",
      "setup...\n",
      "...baking...\n",
      "Active radiuses: 101 / 101\n",
      "Sample size per active radius: 20\n",
      "Expected execution time for step: nan\n"
     ]
    },
    {
     "name": "stderr",
     "output_type": "stream",
     "text": [
      "Iterations:  37%|███▋      | 37/100 [01:30<02:33,  2.44s/it]"
     ]
    },
    {
     "name": "stdout",
     "output_type": "stream",
     "text": [
      "Elapsed time for whole iteration: 2.43\n",
      "Time per single iteration: 2.4013760066268467e-05\n",
      "r: 110.0 . Turns to do: 0 . Min found: 0\n",
      "TOTAL ELAPSED TIME IN SECONDS: 2.43\n",
      "...gathering\n",
      "setup...\n",
      "...baking...\n",
      "Active radiuses: 101 / 101\n",
      "Sample size per active radius: 20\n",
      "Expected execution time for step: nan\n"
     ]
    },
    {
     "name": "stderr",
     "output_type": "stream",
     "text": [
      "Iterations:  38%|███▊      | 38/100 [01:33<02:31,  2.44s/it]"
     ]
    },
    {
     "name": "stdout",
     "output_type": "stream",
     "text": [
      "Elapsed time for whole iteration: 2.43\n",
      "Time per single iteration: 2.40476391103008e-05\n",
      "r: 110.0 . Turns to do: 0 . Min found: 0\n",
      "TOTAL ELAPSED TIME IN SECONDS: 2.43\n",
      "...gathering\n",
      "setup...\n",
      "...baking...\n",
      "Active radiuses: 101 / 101\n",
      "Sample size per active radius: 20\n",
      "Expected execution time for step: nan\n"
     ]
    },
    {
     "name": "stderr",
     "output_type": "stream",
     "text": [
      "Iterations:  39%|███▉      | 39/100 [01:35<02:28,  2.44s/it]"
     ]
    },
    {
     "name": "stdout",
     "output_type": "stream",
     "text": [
      "Elapsed time for whole iteration: 2.43\n",
      "Time per single iteration: 2.4035760671785563e-05\n",
      "r: 110.0 . Turns to do: 0 . Min found: 0\n",
      "TOTAL ELAPSED TIME IN SECONDS: 2.43\n",
      "...gathering\n",
      "setup...\n",
      "...baking...\n",
      "Active radiuses: 101 / 101\n",
      "Sample size per active radius: 20\n",
      "Expected execution time for step: nan\n"
     ]
    },
    {
     "name": "stderr",
     "output_type": "stream",
     "text": [
      "Iterations:  40%|████      | 40/100 [01:37<02:26,  2.44s/it]"
     ]
    },
    {
     "name": "stdout",
     "output_type": "stream",
     "text": [
      "Elapsed time for whole iteration: 2.43\n",
      "Time per single iteration: 2.408967159762241e-05\n",
      "r: 110.0 . Turns to do: 0 . Min found: 0\n",
      "TOTAL ELAPSED TIME IN SECONDS: 2.43\n",
      "...gathering\n",
      "setup...\n",
      "...baking...\n",
      "Active radiuses: 101 / 101\n",
      "Sample size per active radius: 20\n",
      "Expected execution time for step: nan\n"
     ]
    },
    {
     "name": "stderr",
     "output_type": "stream",
     "text": [
      "Iterations:  41%|████      | 41/100 [01:40<02:24,  2.44s/it]"
     ]
    },
    {
     "name": "stdout",
     "output_type": "stream",
     "text": [
      "Elapsed time for whole iteration: 2.43\n",
      "Time per single iteration: 2.4074169668820826e-05\n",
      "r: 110.0 . Turns to do: 0 . Min found: 0\n",
      "TOTAL ELAPSED TIME IN SECONDS: 2.43\n",
      "...gathering\n",
      "setup...\n",
      "...baking...\n",
      "Active radiuses: 101 / 101\n",
      "Sample size per active radius: 20\n",
      "Expected execution time for step: nan\n"
     ]
    },
    {
     "name": "stderr",
     "output_type": "stream",
     "text": [
      "Iterations:  42%|████▏     | 42/100 [01:42<02:21,  2.44s/it]"
     ]
    },
    {
     "name": "stdout",
     "output_type": "stream",
     "text": [
      "Elapsed time for whole iteration: 2.43\n",
      "Time per single iteration: 2.4064746233496334e-05\n",
      "r: 110.0 . Turns to do: 0 . Min found: 0\n",
      "TOTAL ELAPSED TIME IN SECONDS: 2.43\n",
      "...gathering\n",
      "setup...\n",
      "...baking...\n",
      "Active radiuses: 101 / 101\n",
      "Sample size per active radius: 20\n",
      "Expected execution time for step: nan\n"
     ]
    },
    {
     "name": "stderr",
     "output_type": "stream",
     "text": [
      "Iterations:  43%|████▎     | 43/100 [01:45<02:19,  2.44s/it]"
     ]
    },
    {
     "name": "stdout",
     "output_type": "stream",
     "text": [
      "Elapsed time for whole iteration: 2.43\n",
      "Time per single iteration: 2.403737530849948e-05\n",
      "r: 110.0 . Turns to do: 0 . Min found: 0\n",
      "TOTAL ELAPSED TIME IN SECONDS: 2.43\n",
      "...gathering\n",
      "setup...\n",
      "...baking...\n",
      "Active radiuses: 100 / 100\n",
      "Sample size per active radius: 20\n",
      "Expected execution time for step: nan\n"
     ]
    },
    {
     "name": "stderr",
     "output_type": "stream",
     "text": [
      "Iterations:  44%|████▍     | 44/100 [01:47<02:16,  2.44s/it]"
     ]
    },
    {
     "name": "stdout",
     "output_type": "stream",
     "text": [
      "Elapsed time for whole iteration: 2.44\n",
      "Time per single iteration: 2.4385724067687987e-05\n",
      "r: 110.0 . Turns to do: 0 . Min found: 0\n",
      "TOTAL ELAPSED TIME IN SECONDS: 2.44\n",
      "...gathering\n",
      "setup...\n",
      "...baking...\n",
      "Active radiuses: 100 / 100\n",
      "Sample size per active radius: 20\n",
      "Expected execution time for step: nan\n"
     ]
    },
    {
     "name": "stderr",
     "output_type": "stream",
     "text": [
      "Iterations:  45%|████▌     | 45/100 [01:50<02:14,  2.45s/it]"
     ]
    },
    {
     "name": "stdout",
     "output_type": "stream",
     "text": [
      "Elapsed time for whole iteration: 2.44\n",
      "Time per single iteration: 2.4415929317474366e-05\n",
      "r: 110.0 . Turns to do: 0 . Min found: 0\n",
      "TOTAL ELAPSED TIME IN SECONDS: 2.44\n",
      "...gathering\n",
      "setup...\n",
      "...baking...\n",
      "Active radiuses: 100 / 100\n",
      "Sample size per active radius: 20\n",
      "Expected execution time for step: nan\n"
     ]
    },
    {
     "name": "stderr",
     "output_type": "stream",
     "text": [
      "Iterations:  46%|████▌     | 46/100 [01:52<02:12,  2.45s/it]"
     ]
    },
    {
     "name": "stdout",
     "output_type": "stream",
     "text": [
      "Elapsed time for whole iteration: 2.44\n",
      "Time per single iteration: 2.439631700515747e-05\n",
      "r: 110.0 . Turns to do: 0 . Min found: 0\n",
      "TOTAL ELAPSED TIME IN SECONDS: 2.44\n",
      "...gathering\n",
      "setup...\n",
      "...baking...\n",
      "Active radiuses: 100 / 100\n",
      "Sample size per active radius: 20\n",
      "Expected execution time for step: nan\n"
     ]
    },
    {
     "name": "stderr",
     "output_type": "stream",
     "text": [
      "Iterations:  47%|████▋     | 47/100 [01:55<02:09,  2.45s/it]"
     ]
    },
    {
     "name": "stdout",
     "output_type": "stream",
     "text": [
      "Elapsed time for whole iteration: 2.44\n",
      "Time per single iteration: 2.44049596786499e-05\n",
      "r: 110.0 . Turns to do: 0 . Min found: 0\n",
      "TOTAL ELAPSED TIME IN SECONDS: 2.44\n",
      "...gathering\n",
      "setup...\n",
      "...baking...\n",
      "Active radiuses: 100 / 100\n",
      "Sample size per active radius: 20\n",
      "Expected execution time for step: nan\n"
     ]
    },
    {
     "name": "stderr",
     "output_type": "stream",
     "text": [
      "Iterations:  48%|████▊     | 48/100 [01:57<02:07,  2.45s/it]"
     ]
    },
    {
     "name": "stdout",
     "output_type": "stream",
     "text": [
      "Elapsed time for whole iteration: 2.44\n",
      "Time per single iteration: 2.440265417098999e-05\n",
      "r: 110.0 . Turns to do: 0 . Min found: 0\n",
      "TOTAL ELAPSED TIME IN SECONDS: 2.44\n",
      "...gathering\n",
      "setup...\n",
      "...baking...\n",
      "Active radiuses: 100 / 100\n",
      "Sample size per active radius: 20\n",
      "Expected execution time for step: nan\n"
     ]
    },
    {
     "name": "stderr",
     "output_type": "stream",
     "text": [
      "Iterations:  49%|████▉     | 49/100 [01:59<02:04,  2.45s/it]"
     ]
    },
    {
     "name": "stdout",
     "output_type": "stream",
     "text": [
      "Elapsed time for whole iteration: 2.44\n",
      "Time per single iteration: 2.4399197101593017e-05\n",
      "r: 110.0 . Turns to do: 0 . Min found: 0\n",
      "TOTAL ELAPSED TIME IN SECONDS: 2.44\n",
      "...gathering\n",
      "setup...\n",
      "...baking...\n",
      "Active radiuses: 100 / 100\n",
      "Sample size per active radius: 20\n",
      "Expected execution time for step: nan\n"
     ]
    },
    {
     "name": "stderr",
     "output_type": "stream",
     "text": [
      "Iterations:  50%|█████     | 50/100 [02:02<02:02,  2.45s/it]"
     ]
    },
    {
     "name": "stdout",
     "output_type": "stream",
     "text": [
      "Elapsed time for whole iteration: 2.44\n",
      "Time per single iteration: 2.4413015842437745e-05\n",
      "r: 110.0 . Turns to do: 0 . Min found: 0\n",
      "TOTAL ELAPSED TIME IN SECONDS: 2.44\n",
      "...gathering\n",
      "setup...\n",
      "...baking...\n",
      "Active radiuses: 100 / 100\n",
      "Sample size per active radius: 20\n",
      "Expected execution time for step: nan\n"
     ]
    },
    {
     "name": "stderr",
     "output_type": "stream",
     "text": [
      "Iterations:  51%|█████     | 51/100 [02:04<02:00,  2.45s/it]"
     ]
    },
    {
     "name": "stdout",
     "output_type": "stream",
     "text": [
      "Elapsed time for whole iteration: 2.44\n",
      "Time per single iteration: 2.4403431415557863e-05\n",
      "r: 110.0 . Turns to do: 0 . Min found: 0\n",
      "TOTAL ELAPSED TIME IN SECONDS: 2.44\n",
      "...gathering\n",
      "setup...\n",
      "...baking...\n",
      "Active radiuses: 100 / 100\n",
      "Sample size per active radius: 20\n",
      "Expected execution time for step: nan\n"
     ]
    },
    {
     "name": "stderr",
     "output_type": "stream",
     "text": [
      "Iterations:  52%|█████▏    | 52/100 [02:07<01:57,  2.45s/it]"
     ]
    },
    {
     "name": "stdout",
     "output_type": "stream",
     "text": [
      "Elapsed time for whole iteration: 2.44\n",
      "Time per single iteration: 2.4415674209594728e-05\n",
      "r: 110.0 . Turns to do: 0 . Min found: 0\n",
      "TOTAL ELAPSED TIME IN SECONDS: 2.44\n",
      "...gathering\n",
      "setup...\n",
      "...baking...\n",
      "Active radiuses: 100 / 100\n",
      "Sample size per active radius: 20\n",
      "Expected execution time for step: nan\n"
     ]
    },
    {
     "name": "stderr",
     "output_type": "stream",
     "text": [
      "Iterations:  53%|█████▎    | 53/100 [02:09<01:55,  2.45s/it]"
     ]
    },
    {
     "name": "stdout",
     "output_type": "stream",
     "text": [
      "Elapsed time for whole iteration: 2.44\n",
      "Time per single iteration: 2.443084955215454e-05\n",
      "r: 110.0 . Turns to do: 0 . Min found: 0\n",
      "TOTAL ELAPSED TIME IN SECONDS: 2.44\n",
      "...gathering\n",
      "setup...\n",
      "...baking...\n",
      "Active radiuses: 100 / 100\n",
      "Sample size per active radius: 20\n",
      "Expected execution time for step: nan\n"
     ]
    },
    {
     "name": "stderr",
     "output_type": "stream",
     "text": [
      "Iterations:  54%|█████▍    | 54/100 [02:12<01:52,  2.45s/it]"
     ]
    },
    {
     "name": "stdout",
     "output_type": "stream",
     "text": [
      "Elapsed time for whole iteration: 2.45\n",
      "Time per single iteration: 2.4493699073791504e-05\n",
      "r: 110.0 . Turns to do: 0 . Min found: 0\n",
      "TOTAL ELAPSED TIME IN SECONDS: 2.45\n",
      "...gathering\n",
      "setup...\n",
      "...baking...\n",
      "Active radiuses: 100 / 100\n",
      "Sample size per active radius: 20\n",
      "Expected execution time for step: nan\n"
     ]
    },
    {
     "name": "stderr",
     "output_type": "stream",
     "text": [
      "Iterations:  55%|█████▌    | 55/100 [02:14<01:50,  2.45s/it]"
     ]
    },
    {
     "name": "stdout",
     "output_type": "stream",
     "text": [
      "Elapsed time for whole iteration: 2.44\n",
      "Time per single iteration: 2.4392292499542236e-05\n",
      "r: 110.0 . Turns to do: 0 . Min found: 0\n",
      "TOTAL ELAPSED TIME IN SECONDS: 2.44\n",
      "...gathering\n",
      "setup...\n",
      "...baking...\n",
      "Active radiuses: 101 / 101\n",
      "Sample size per active radius: 20\n",
      "Expected execution time for step: nan\n"
     ]
    },
    {
     "name": "stderr",
     "output_type": "stream",
     "text": [
      "Iterations:  56%|█████▌    | 56/100 [02:17<01:47,  2.45s/it]"
     ]
    },
    {
     "name": "stdout",
     "output_type": "stream",
     "text": [
      "Elapsed time for whole iteration: 2.44\n",
      "Time per single iteration: 2.4138991195376558e-05\n",
      "r: 110.0 . Turns to do: 0 . Min found: 0\n",
      "TOTAL ELAPSED TIME IN SECONDS: 2.44\n",
      "...gathering\n",
      "setup...\n",
      "...baking...\n",
      "Active radiuses: 101 / 101\n",
      "Sample size per active radius: 20\n",
      "Expected execution time for step: nan\n"
     ]
    },
    {
     "name": "stderr",
     "output_type": "stream",
     "text": [
      "Iterations:  57%|█████▋    | 57/100 [02:19<01:45,  2.45s/it]"
     ]
    },
    {
     "name": "stdout",
     "output_type": "stream",
     "text": [
      "Elapsed time for whole iteration: 2.43\n",
      "Time per single iteration: 2.410311746125174e-05\n",
      "r: 110.0 . Turns to do: 0 . Min found: 0\n",
      "TOTAL ELAPSED TIME IN SECONDS: 2.43\n",
      "...gathering\n",
      "setup...\n",
      "...baking...\n",
      "Active radiuses: 100 / 100\n",
      "Sample size per active radius: 20\n",
      "Expected execution time for step: nan\n"
     ]
    },
    {
     "name": "stderr",
     "output_type": "stream",
     "text": [
      "Iterations:  58%|█████▊    | 58/100 [02:22<01:42,  2.45s/it]"
     ]
    },
    {
     "name": "stdout",
     "output_type": "stream",
     "text": [
      "Elapsed time for whole iteration: 2.44\n",
      "Time per single iteration: 2.4413466453552245e-05\n",
      "r: 110.0 . Turns to do: 0 . Min found: 0\n",
      "TOTAL ELAPSED TIME IN SECONDS: 2.44\n",
      "...gathering\n",
      "setup...\n",
      "...baking...\n",
      "Active radiuses: 101 / 101\n",
      "Sample size per active radius: 20\n",
      "Expected execution time for step: nan\n"
     ]
    },
    {
     "name": "stderr",
     "output_type": "stream",
     "text": [
      "Iterations:  59%|█████▉    | 59/100 [02:24<01:40,  2.45s/it]"
     ]
    },
    {
     "name": "stdout",
     "output_type": "stream",
     "text": [
      "Elapsed time for whole iteration: 2.44\n",
      "Time per single iteration: 2.4120543262746074e-05\n",
      "r: 110.0 . Turns to do: 0 . Min found: 0\n",
      "TOTAL ELAPSED TIME IN SECONDS: 2.44\n",
      "...gathering\n",
      "setup...\n",
      "...baking...\n",
      "Active radiuses: 100 / 100\n",
      "Sample size per active radius: 20\n",
      "Expected execution time for step: nan\n"
     ]
    },
    {
     "name": "stderr",
     "output_type": "stream",
     "text": [
      "Iterations:  60%|██████    | 60/100 [02:26<01:37,  2.45s/it]"
     ]
    },
    {
     "name": "stdout",
     "output_type": "stream",
     "text": [
      "Elapsed time for whole iteration: 2.44\n",
      "Time per single iteration: 2.4392557144165038e-05\n",
      "r: 110.0 . Turns to do: 0 . Min found: 0\n",
      "TOTAL ELAPSED TIME IN SECONDS: 2.44\n",
      "...gathering\n",
      "setup...\n",
      "...baking...\n",
      "Active radiuses: 100 / 100\n",
      "Sample size per active radius: 20\n",
      "Expected execution time for step: nan\n"
     ]
    },
    {
     "name": "stderr",
     "output_type": "stream",
     "text": [
      "Iterations:  61%|██████    | 61/100 [02:29<01:35,  2.45s/it]"
     ]
    },
    {
     "name": "stdout",
     "output_type": "stream",
     "text": [
      "Elapsed time for whole iteration: 2.44\n",
      "Time per single iteration: 2.4393818378448486e-05\n",
      "r: 110.0 . Turns to do: 0 . Min found: 0\n",
      "TOTAL ELAPSED TIME IN SECONDS: 2.44\n",
      "...gathering\n",
      "setup...\n",
      "...baking...\n",
      "Active radiuses: 100 / 100\n",
      "Sample size per active radius: 20\n",
      "Expected execution time for step: nan\n"
     ]
    },
    {
     "name": "stderr",
     "output_type": "stream",
     "text": [
      "Iterations:  62%|██████▏   | 62/100 [02:31<01:33,  2.45s/it]"
     ]
    },
    {
     "name": "stdout",
     "output_type": "stream",
     "text": [
      "Elapsed time for whole iteration: 2.44\n",
      "Time per single iteration: 2.4387545585632325e-05\n",
      "r: 110.0 . Turns to do: 0 . Min found: 0\n",
      "TOTAL ELAPSED TIME IN SECONDS: 2.44\n",
      "...gathering\n",
      "setup...\n",
      "...baking...\n",
      "Active radiuses: 100 / 100\n",
      "Sample size per active radius: 20\n",
      "Expected execution time for step: nan\n"
     ]
    },
    {
     "name": "stderr",
     "output_type": "stream",
     "text": [
      "Iterations:  63%|██████▎   | 63/100 [02:34<01:30,  2.45s/it]"
     ]
    },
    {
     "name": "stdout",
     "output_type": "stream",
     "text": [
      "Elapsed time for whole iteration: 2.44\n",
      "Time per single iteration: 2.4433062076568605e-05\n",
      "r: 110.0 . Turns to do: 0 . Min found: 0\n",
      "TOTAL ELAPSED TIME IN SECONDS: 2.44\n",
      "...gathering\n",
      "setup...\n",
      "...baking...\n",
      "Active radiuses: 100 / 100\n",
      "Sample size per active radius: 20\n",
      "Expected execution time for step: nan\n"
     ]
    },
    {
     "name": "stderr",
     "output_type": "stream",
     "text": [
      "Iterations:  64%|██████▍   | 64/100 [02:36<01:28,  2.45s/it]"
     ]
    },
    {
     "name": "stdout",
     "output_type": "stream",
     "text": [
      "Elapsed time for whole iteration: 2.44\n",
      "Time per single iteration: 2.4426801204681396e-05\n",
      "r: 110.0 . Turns to do: 0 . Min found: 0\n",
      "TOTAL ELAPSED TIME IN SECONDS: 2.44\n",
      "...gathering\n",
      "setup...\n",
      "...baking...\n",
      "Active radiuses: 100 / 100\n",
      "Sample size per active radius: 20\n",
      "Expected execution time for step: nan\n"
     ]
    },
    {
     "name": "stderr",
     "output_type": "stream",
     "text": [
      "Iterations:  65%|██████▌   | 65/100 [02:39<01:25,  2.45s/it]"
     ]
    },
    {
     "name": "stdout",
     "output_type": "stream",
     "text": [
      "Elapsed time for whole iteration: 2.44\n",
      "Time per single iteration: 2.4405646324157715e-05\n",
      "r: 110.0 . Turns to do: 0 . Min found: 0\n",
      "TOTAL ELAPSED TIME IN SECONDS: 2.44\n",
      "...gathering\n",
      "setup...\n",
      "...baking...\n",
      "Active radiuses: 100 / 100\n",
      "Sample size per active radius: 20\n",
      "Expected execution time for step: nan\n"
     ]
    },
    {
     "name": "stderr",
     "output_type": "stream",
     "text": [
      "Iterations:  66%|██████▌   | 66/100 [02:41<01:23,  2.45s/it]"
     ]
    },
    {
     "name": "stdout",
     "output_type": "stream",
     "text": [
      "Elapsed time for whole iteration: 2.44\n",
      "Time per single iteration: 2.441286563873291e-05\n",
      "r: 110.0 . Turns to do: 0 . Min found: 0\n",
      "TOTAL ELAPSED TIME IN SECONDS: 2.44\n",
      "...gathering\n",
      "setup...\n",
      "...baking...\n",
      "Active radiuses: 100 / 100\n",
      "Sample size per active radius: 20\n",
      "Expected execution time for step: nan\n"
     ]
    },
    {
     "name": "stderr",
     "output_type": "stream",
     "text": [
      "Iterations:  67%|██████▋   | 67/100 [02:44<01:20,  2.45s/it]"
     ]
    },
    {
     "name": "stdout",
     "output_type": "stream",
     "text": [
      "Elapsed time for whole iteration: 2.44\n",
      "Time per single iteration: 2.4402375221252443e-05\n",
      "r: 110.0 . Turns to do: 0 . Min found: 0\n",
      "TOTAL ELAPSED TIME IN SECONDS: 2.44\n",
      "...gathering\n",
      "setup...\n",
      "...baking...\n",
      "Active radiuses: 100 / 100\n",
      "Sample size per active radius: 20\n",
      "Expected execution time for step: nan\n"
     ]
    },
    {
     "name": "stderr",
     "output_type": "stream",
     "text": [
      "Iterations:  68%|██████▊   | 68/100 [02:46<01:18,  2.45s/it]"
     ]
    },
    {
     "name": "stdout",
     "output_type": "stream",
     "text": [
      "Elapsed time for whole iteration: 2.44\n",
      "Time per single iteration: 2.4417929649353026e-05\n",
      "r: 110.0 . Turns to do: 0 . Min found: 0\n",
      "TOTAL ELAPSED TIME IN SECONDS: 2.44\n",
      "...gathering\n",
      "setup...\n",
      "...baking...\n",
      "Active radiuses: 100 / 100\n",
      "Sample size per active radius: 20\n",
      "Expected execution time for step: nan\n"
     ]
    },
    {
     "name": "stderr",
     "output_type": "stream",
     "text": [
      "Iterations:  69%|██████▉   | 69/100 [02:48<01:16,  2.45s/it]"
     ]
    },
    {
     "name": "stdout",
     "output_type": "stream",
     "text": [
      "Elapsed time for whole iteration: 2.44\n",
      "Time per single iteration: 2.4431247711181642e-05\n",
      "r: 110.0 . Turns to do: 0 . Min found: 0\n",
      "TOTAL ELAPSED TIME IN SECONDS: 2.44\n",
      "...gathering\n",
      "setup...\n",
      "...baking...\n",
      "Active radiuses: 100 / 100\n",
      "Sample size per active radius: 20\n",
      "Expected execution time for step: nan\n"
     ]
    },
    {
     "name": "stderr",
     "output_type": "stream",
     "text": [
      "Iterations:  70%|███████   | 70/100 [02:51<01:13,  2.45s/it]"
     ]
    },
    {
     "name": "stdout",
     "output_type": "stream",
     "text": [
      "Elapsed time for whole iteration: 2.44\n",
      "Time per single iteration: 2.4393835067749025e-05\n",
      "r: 110.0 . Turns to do: 0 . Min found: 0\n",
      "TOTAL ELAPSED TIME IN SECONDS: 2.44\n",
      "...gathering\n",
      "setup...\n",
      "...baking...\n",
      "Active radiuses: 100 / 100\n",
      "Sample size per active radius: 20\n",
      "Expected execution time for step: nan\n"
     ]
    },
    {
     "name": "stderr",
     "output_type": "stream",
     "text": [
      "Iterations:  71%|███████   | 71/100 [02:53<01:11,  2.45s/it]"
     ]
    },
    {
     "name": "stdout",
     "output_type": "stream",
     "text": [
      "Elapsed time for whole iteration: 2.44\n",
      "Time per single iteration: 2.438701868057251e-05\n",
      "r: 110.0 . Turns to do: 0 . Min found: 0\n",
      "TOTAL ELAPSED TIME IN SECONDS: 2.44\n",
      "...gathering\n",
      "setup...\n",
      "...baking...\n",
      "Active radiuses: 100 / 100\n",
      "Sample size per active radius: 20\n",
      "Expected execution time for step: nan\n"
     ]
    },
    {
     "name": "stderr",
     "output_type": "stream",
     "text": [
      "Iterations:  72%|███████▏  | 72/100 [02:56<01:08,  2.45s/it]"
     ]
    },
    {
     "name": "stdout",
     "output_type": "stream",
     "text": [
      "Elapsed time for whole iteration: 2.44\n",
      "Time per single iteration: 2.439852476119995e-05\n",
      "r: 110.0 . Turns to do: 0 . Min found: 0\n",
      "TOTAL ELAPSED TIME IN SECONDS: 2.44\n",
      "...gathering\n",
      "setup...\n",
      "...baking...\n",
      "Active radiuses: 100 / 100\n",
      "Sample size per active radius: 20\n",
      "Expected execution time for step: nan\n"
     ]
    },
    {
     "name": "stderr",
     "output_type": "stream",
     "text": [
      "Iterations:  73%|███████▎  | 73/100 [02:58<01:06,  2.45s/it]"
     ]
    },
    {
     "name": "stdout",
     "output_type": "stream",
     "text": [
      "Elapsed time for whole iteration: 2.44\n",
      "Time per single iteration: 2.4383325576782226e-05\n",
      "r: 110.0 . Turns to do: 0 . Min found: 0\n",
      "TOTAL ELAPSED TIME IN SECONDS: 2.44\n",
      "...gathering\n",
      "setup...\n",
      "...baking...\n",
      "Active radiuses: 100 / 100\n",
      "Sample size per active radius: 20\n",
      "Expected execution time for step: nan\n"
     ]
    },
    {
     "name": "stderr",
     "output_type": "stream",
     "text": [
      "Iterations:  74%|███████▍  | 74/100 [03:01<01:03,  2.45s/it]"
     ]
    },
    {
     "name": "stdout",
     "output_type": "stream",
     "text": [
      "Elapsed time for whole iteration: 2.44\n",
      "Time per single iteration: 2.439622163772583e-05\n",
      "r: 110.0 . Turns to do: 0 . Min found: 0\n",
      "TOTAL ELAPSED TIME IN SECONDS: 2.44\n",
      "...gathering\n",
      "setup...\n",
      "...baking...\n",
      "Active radiuses: 100 / 100\n",
      "Sample size per active radius: 20\n",
      "Expected execution time for step: nan\n"
     ]
    },
    {
     "name": "stderr",
     "output_type": "stream",
     "text": [
      "Iterations:  75%|███████▌  | 75/100 [03:03<01:01,  2.45s/it]"
     ]
    },
    {
     "name": "stdout",
     "output_type": "stream",
     "text": [
      "Elapsed time for whole iteration: 2.44\n",
      "Time per single iteration: 2.444553852081299e-05\n",
      "r: 110.0 . Turns to do: 0 . Min found: 0\n",
      "TOTAL ELAPSED TIME IN SECONDS: 2.44\n",
      "...gathering\n",
      "setup...\n",
      "...baking...\n",
      "Active radiuses: 100 / 100\n",
      "Sample size per active radius: 20\n",
      "Expected execution time for step: nan\n"
     ]
    },
    {
     "name": "stderr",
     "output_type": "stream",
     "text": [
      "Iterations:  76%|███████▌  | 76/100 [03:06<00:58,  2.45s/it]"
     ]
    },
    {
     "name": "stdout",
     "output_type": "stream",
     "text": [
      "Elapsed time for whole iteration: 2.45\n",
      "Time per single iteration: 2.445984601974487e-05\n",
      "r: 110.0 . Turns to do: 0 . Min found: 0\n",
      "TOTAL ELAPSED TIME IN SECONDS: 2.45\n",
      "...gathering\n",
      "setup...\n",
      "...baking...\n",
      "Active radiuses: 100 / 100\n",
      "Sample size per active radius: 20\n",
      "Expected execution time for step: nan\n"
     ]
    },
    {
     "name": "stderr",
     "output_type": "stream",
     "text": [
      "Iterations:  77%|███████▋  | 77/100 [03:08<00:56,  2.45s/it]"
     ]
    },
    {
     "name": "stdout",
     "output_type": "stream",
     "text": [
      "Elapsed time for whole iteration: 2.44\n",
      "Time per single iteration: 2.4413902759552003e-05\n",
      "r: 110.0 . Turns to do: 0 . Min found: 0\n",
      "TOTAL ELAPSED TIME IN SECONDS: 2.44\n",
      "...gathering\n",
      "setup...\n",
      "...baking...\n",
      "Active radiuses: 100 / 100\n",
      "Sample size per active radius: 20\n",
      "Expected execution time for step: nan\n"
     ]
    },
    {
     "name": "stderr",
     "output_type": "stream",
     "text": [
      "Iterations:  78%|███████▊  | 78/100 [03:11<00:53,  2.45s/it]"
     ]
    },
    {
     "name": "stdout",
     "output_type": "stream",
     "text": [
      "Elapsed time for whole iteration: 2.44\n",
      "Time per single iteration: 2.4382238388061523e-05\n",
      "r: 110.0 . Turns to do: 0 . Min found: 0\n",
      "TOTAL ELAPSED TIME IN SECONDS: 2.44\n",
      "...gathering\n",
      "setup...\n",
      "...baking...\n",
      "Active radiuses: 101 / 101\n",
      "Sample size per active radius: 20\n",
      "Expected execution time for step: nan\n"
     ]
    },
    {
     "name": "stderr",
     "output_type": "stream",
     "text": [
      "Iterations:  79%|███████▉  | 79/100 [03:13<00:51,  2.45s/it]"
     ]
    },
    {
     "name": "stdout",
     "output_type": "stream",
     "text": [
      "Elapsed time for whole iteration: 2.43\n",
      "Time per single iteration: 2.4070810563493483e-05\n",
      "r: 110.0 . Turns to do: 0 . Min found: 0\n",
      "TOTAL ELAPSED TIME IN SECONDS: 2.43\n",
      "...gathering\n",
      "setup...\n",
      "...baking...\n",
      "Active radiuses: 100 / 100\n",
      "Sample size per active radius: 20\n",
      "Expected execution time for step: nan\n"
     ]
    },
    {
     "name": "stderr",
     "output_type": "stream",
     "text": [
      "Iterations:  80%|████████  | 80/100 [03:15<00:49,  2.45s/it]"
     ]
    },
    {
     "name": "stdout",
     "output_type": "stream",
     "text": [
      "Elapsed time for whole iteration: 2.44\n",
      "Time per single iteration: 2.4436588287353515e-05\n",
      "r: 110.0 . Turns to do: 0 . Min found: 0\n",
      "TOTAL ELAPSED TIME IN SECONDS: 2.44\n",
      "...gathering\n",
      "setup...\n",
      "...baking...\n",
      "Active radiuses: 101 / 101\n",
      "Sample size per active radius: 20\n",
      "Expected execution time for step: nan\n"
     ]
    },
    {
     "name": "stderr",
     "output_type": "stream",
     "text": [
      "Iterations:  81%|████████  | 81/100 [03:18<00:46,  2.45s/it]"
     ]
    },
    {
     "name": "stdout",
     "output_type": "stream",
     "text": [
      "Elapsed time for whole iteration: 2.43\n",
      "Time per single iteration: 2.4088809985925656e-05\n",
      "r: 110.0 . Turns to do: 0 . Min found: 0\n",
      "TOTAL ELAPSED TIME IN SECONDS: 2.43\n",
      "...gathering\n",
      "setup...\n",
      "...baking...\n",
      "Active radiuses: 101 / 101\n",
      "Sample size per active radius: 20\n",
      "Expected execution time for step: nan\n"
     ]
    },
    {
     "name": "stderr",
     "output_type": "stream",
     "text": [
      "Iterations:  82%|████████▏ | 82/100 [03:20<00:44,  2.45s/it]"
     ]
    },
    {
     "name": "stdout",
     "output_type": "stream",
     "text": [
      "Elapsed time for whole iteration: 2.43\n",
      "Time per single iteration: 2.4026268779641332e-05\n",
      "r: 110.0 . Turns to do: 0 . Min found: 0\n",
      "TOTAL ELAPSED TIME IN SECONDS: 2.43\n",
      "...gathering\n",
      "setup...\n",
      "...baking...\n",
      "Active radiuses: 101 / 101\n",
      "Sample size per active radius: 20\n",
      "Expected execution time for step: nan\n"
     ]
    },
    {
     "name": "stderr",
     "output_type": "stream",
     "text": [
      "Iterations:  83%|████████▎ | 83/100 [03:23<00:41,  2.44s/it]"
     ]
    },
    {
     "name": "stdout",
     "output_type": "stream",
     "text": [
      "Elapsed time for whole iteration: 2.43\n",
      "Time per single iteration: 2.4053398925479095e-05\n",
      "r: 110.0 . Turns to do: 0 . Min found: 0\n",
      "TOTAL ELAPSED TIME IN SECONDS: 2.43\n",
      "...gathering\n",
      "setup...\n",
      "...baking...\n",
      "Active radiuses: 101 / 101\n",
      "Sample size per active radius: 20\n",
      "Expected execution time for step: nan\n"
     ]
    },
    {
     "name": "stderr",
     "output_type": "stream",
     "text": [
      "Iterations:  84%|████████▍ | 84/100 [03:25<00:39,  2.44s/it]"
     ]
    },
    {
     "name": "stdout",
     "output_type": "stream",
     "text": [
      "Elapsed time for whole iteration: 2.43\n",
      "Time per single iteration: 2.4011732328056108e-05\n",
      "r: 110.0 . Turns to do: 0 . Min found: 0\n",
      "TOTAL ELAPSED TIME IN SECONDS: 2.43\n",
      "...gathering\n",
      "setup...\n",
      "...baking...\n",
      "Active radiuses: 101 / 101\n",
      "Sample size per active radius: 20\n",
      "Expected execution time for step: nan\n"
     ]
    },
    {
     "name": "stderr",
     "output_type": "stream",
     "text": [
      "Iterations:  85%|████████▌ | 85/100 [03:28<00:36,  2.44s/it]"
     ]
    },
    {
     "name": "stdout",
     "output_type": "stream",
     "text": [
      "Elapsed time for whole iteration: 2.43\n",
      "Time per single iteration: 2.4053205357919825e-05\n",
      "r: 110.0 . Turns to do: 0 . Min found: 0\n",
      "TOTAL ELAPSED TIME IN SECONDS: 2.43\n",
      "...gathering\n",
      "setup...\n",
      "...baking...\n",
      "Active radiuses: 100 / 100\n",
      "Sample size per active radius: 20\n",
      "Expected execution time for step: nan\n"
     ]
    },
    {
     "name": "stderr",
     "output_type": "stream",
     "text": [
      "Iterations:  86%|████████▌ | 86/100 [03:30<00:34,  2.44s/it]"
     ]
    },
    {
     "name": "stdout",
     "output_type": "stream",
     "text": [
      "Elapsed time for whole iteration: 2.44\n",
      "Time per single iteration: 2.4409472942352296e-05\n",
      "r: 110.0 . Turns to do: 0 . Min found: 0\n",
      "TOTAL ELAPSED TIME IN SECONDS: 2.44\n",
      "...gathering\n",
      "setup...\n",
      "...baking...\n",
      "Active radiuses: 100 / 100\n",
      "Sample size per active radius: 20\n",
      "Expected execution time for step: nan\n"
     ]
    },
    {
     "name": "stderr",
     "output_type": "stream",
     "text": [
      "Iterations:  87%|████████▋ | 87/100 [03:33<00:31,  2.45s/it]"
     ]
    },
    {
     "name": "stdout",
     "output_type": "stream",
     "text": [
      "Elapsed time for whole iteration: 2.44\n",
      "Time per single iteration: 2.4413204193115234e-05\n",
      "r: 110.0 . Turns to do: 0 . Min found: 0\n",
      "TOTAL ELAPSED TIME IN SECONDS: 2.44\n",
      "...gathering\n",
      "setup...\n",
      "...baking...\n",
      "Active radiuses: 100 / 100\n",
      "Sample size per active radius: 20\n",
      "Expected execution time for step: nan\n"
     ]
    },
    {
     "name": "stderr",
     "output_type": "stream",
     "text": [
      "Iterations:  88%|████████▊ | 88/100 [03:35<00:29,  2.45s/it]"
     ]
    },
    {
     "name": "stdout",
     "output_type": "stream",
     "text": [
      "Elapsed time for whole iteration: 2.44\n",
      "Time per single iteration: 2.4444549083709715e-05\n",
      "r: 110.0 . Turns to do: 0 . Min found: 0\n",
      "TOTAL ELAPSED TIME IN SECONDS: 2.44\n",
      "...gathering\n",
      "setup...\n",
      "...baking...\n",
      "Active radiuses: 100 / 100\n",
      "Sample size per active radius: 20\n",
      "Expected execution time for step: nan\n"
     ]
    },
    {
     "name": "stderr",
     "output_type": "stream",
     "text": [
      "Iterations:  89%|████████▉ | 89/100 [03:37<00:26,  2.45s/it]"
     ]
    },
    {
     "name": "stdout",
     "output_type": "stream",
     "text": [
      "Elapsed time for whole iteration: 2.44\n",
      "Time per single iteration: 2.4391887187957763e-05\n",
      "r: 110.0 . Turns to do: 0 . Min found: 0\n",
      "TOTAL ELAPSED TIME IN SECONDS: 2.44\n",
      "...gathering\n",
      "setup...\n",
      "...baking...\n",
      "Active radiuses: 100 / 100\n",
      "Sample size per active radius: 20\n",
      "Expected execution time for step: nan\n"
     ]
    },
    {
     "name": "stderr",
     "output_type": "stream",
     "text": [
      "Iterations:  90%|█████████ | 90/100 [03:40<00:24,  2.45s/it]"
     ]
    },
    {
     "name": "stdout",
     "output_type": "stream",
     "text": [
      "Elapsed time for whole iteration: 2.44\n",
      "Time per single iteration: 2.441622257232666e-05\n",
      "r: 110.0 . Turns to do: 0 . Min found: 0\n",
      "TOTAL ELAPSED TIME IN SECONDS: 2.44\n",
      "...gathering\n",
      "setup...\n",
      "...baking...\n",
      "Active radiuses: 100 / 100\n",
      "Sample size per active radius: 20\n",
      "Expected execution time for step: nan\n"
     ]
    },
    {
     "name": "stderr",
     "output_type": "stream",
     "text": [
      "Iterations:  91%|█████████ | 91/100 [03:42<00:22,  2.45s/it]"
     ]
    },
    {
     "name": "stdout",
     "output_type": "stream",
     "text": [
      "Elapsed time for whole iteration: 2.44\n",
      "Time per single iteration: 2.4385049343109132e-05\n",
      "r: 110.0 . Turns to do: 0 . Min found: 0\n",
      "TOTAL ELAPSED TIME IN SECONDS: 2.44\n",
      "...gathering\n",
      "setup...\n",
      "...baking...\n",
      "Active radiuses: 100 / 100\n",
      "Sample size per active radius: 20\n",
      "Expected execution time for step: nan\n"
     ]
    },
    {
     "name": "stderr",
     "output_type": "stream",
     "text": [
      "Iterations:  92%|█████████▏| 92/100 [03:45<00:19,  2.45s/it]"
     ]
    },
    {
     "name": "stdout",
     "output_type": "stream",
     "text": [
      "Elapsed time for whole iteration: 2.44\n",
      "Time per single iteration: 2.4403195381164552e-05\n",
      "r: 110.0 . Turns to do: 0 . Min found: 0\n",
      "TOTAL ELAPSED TIME IN SECONDS: 2.44\n",
      "...gathering\n",
      "setup...\n",
      "...baking...\n",
      "Active radiuses: 100 / 100\n",
      "Sample size per active radius: 20\n",
      "Expected execution time for step: nan\n"
     ]
    },
    {
     "name": "stderr",
     "output_type": "stream",
     "text": [
      "Iterations:  93%|█████████▎| 93/100 [03:47<00:17,  2.45s/it]"
     ]
    },
    {
     "name": "stdout",
     "output_type": "stream",
     "text": [
      "Elapsed time for whole iteration: 2.44\n",
      "Time per single iteration: 2.4387879371643068e-05\n",
      "r: 110.0 . Turns to do: 0 . Min found: 0\n",
      "TOTAL ELAPSED TIME IN SECONDS: 2.44\n",
      "...gathering\n",
      "setup...\n",
      "...baking...\n",
      "Active radiuses: 100 / 100\n",
      "Sample size per active radius: 20\n",
      "Expected execution time for step: nan\n"
     ]
    },
    {
     "name": "stderr",
     "output_type": "stream",
     "text": [
      "Iterations:  94%|█████████▍| 94/100 [03:50<00:14,  2.45s/it]"
     ]
    },
    {
     "name": "stdout",
     "output_type": "stream",
     "text": [
      "Elapsed time for whole iteration: 2.44\n",
      "Time per single iteration: 2.439176559448242e-05\n",
      "r: 110.0 . Turns to do: 0 . Min found: 0\n",
      "TOTAL ELAPSED TIME IN SECONDS: 2.44\n",
      "...gathering\n",
      "setup...\n",
      "...baking...\n",
      "Active radiuses: 100 / 100\n",
      "Sample size per active radius: 20\n",
      "Expected execution time for step: nan\n"
     ]
    },
    {
     "name": "stderr",
     "output_type": "stream",
     "text": [
      "Iterations:  95%|█████████▌| 95/100 [03:52<00:12,  2.45s/it]"
     ]
    },
    {
     "name": "stdout",
     "output_type": "stream",
     "text": [
      "Elapsed time for whole iteration: 2.44\n",
      "Time per single iteration: 2.4411485195159912e-05\n",
      "r: 110.0 . Turns to do: 0 . Min found: 0\n",
      "TOTAL ELAPSED TIME IN SECONDS: 2.44\n",
      "...gathering\n",
      "setup...\n",
      "...baking...\n",
      "Active radiuses: 100 / 100\n",
      "Sample size per active radius: 20\n",
      "Expected execution time for step: nan\n"
     ]
    },
    {
     "name": "stderr",
     "output_type": "stream",
     "text": [
      "Iterations:  96%|█████████▌| 96/100 [03:55<00:09,  2.45s/it]"
     ]
    },
    {
     "name": "stdout",
     "output_type": "stream",
     "text": [
      "Elapsed time for whole iteration: 2.44\n",
      "Time per single iteration: 2.4418985843658446e-05\n",
      "r: 110.0 . Turns to do: 0 . Min found: 0\n",
      "TOTAL ELAPSED TIME IN SECONDS: 2.44\n",
      "...gathering\n",
      "setup...\n",
      "...baking...\n",
      "Active radiuses: 100 / 100\n",
      "Sample size per active radius: 20\n",
      "Expected execution time for step: nan\n"
     ]
    },
    {
     "name": "stderr",
     "output_type": "stream",
     "text": [
      "Iterations:  97%|█████████▋| 97/100 [03:57<00:07,  2.45s/it]"
     ]
    },
    {
     "name": "stdout",
     "output_type": "stream",
     "text": [
      "Elapsed time for whole iteration: 2.44\n",
      "Time per single iteration: 2.4417076110839843e-05\n",
      "r: 110.0 . Turns to do: 0 . Min found: 0\n",
      "TOTAL ELAPSED TIME IN SECONDS: 2.44\n",
      "...gathering\n",
      "setup...\n",
      "...baking...\n",
      "Active radiuses: 100 / 100\n",
      "Sample size per active radius: 20\n",
      "Expected execution time for step: nan\n"
     ]
    },
    {
     "name": "stderr",
     "output_type": "stream",
     "text": [
      "Iterations:  98%|█████████▊| 98/100 [04:00<00:04,  2.45s/it]"
     ]
    },
    {
     "name": "stdout",
     "output_type": "stream",
     "text": [
      "Elapsed time for whole iteration: 2.44\n",
      "Time per single iteration: 2.4419610500335694e-05\n",
      "r: 110.0 . Turns to do: 0 . Min found: 0\n",
      "TOTAL ELAPSED TIME IN SECONDS: 2.44\n",
      "...gathering\n",
      "setup...\n",
      "...baking...\n",
      "Active radiuses: 101 / 101\n",
      "Sample size per active radius: 20\n",
      "Expected execution time for step: nan\n"
     ]
    },
    {
     "name": "stderr",
     "output_type": "stream",
     "text": [
      "Iterations:  99%|█████████▉| 99/100 [04:02<00:02,  2.45s/it]"
     ]
    },
    {
     "name": "stdout",
     "output_type": "stream",
     "text": [
      "Elapsed time for whole iteration: 2.43\n",
      "Time per single iteration: 2.4085030697359897e-05\n",
      "r: 110.0 . Turns to do: 0 . Min found: 0\n",
      "TOTAL ELAPSED TIME IN SECONDS: 2.43\n",
      "...gathering\n",
      "setup...\n",
      "...baking...\n",
      "Active radiuses: 101 / 101\n",
      "Sample size per active radius: 20\n",
      "Expected execution time for step: nan\n"
     ]
    },
    {
     "name": "stderr",
     "output_type": "stream",
     "text": [
      "Iterations: 100%|██████████| 100/100 [04:04<00:00,  2.45s/it]"
     ]
    },
    {
     "name": "stdout",
     "output_type": "stream",
     "text": [
      "Elapsed time for whole iteration: 2.43\n",
      "Time per single iteration: 2.406357774640074e-05\n",
      "r: 110.0 . Turns to do: 0 . Min found: 0\n",
      "TOTAL ELAPSED TIME IN SECONDS: 2.43\n",
      "...gathering\n"
     ]
    },
    {
     "name": "stderr",
     "output_type": "stream",
     "text": [
      "\n"
     ]
    }
   ],
   "source": [
    "from stratified_mc import stratified_mc\n",
    "\n",
    "DA_4 = {}\n",
    "error_4 = {}\n",
    "\n",
    "d_samples = mcs_samples[1] - mcs_samples[0]\n",
    "\n",
    "engine = stratified_mc(mcs_n_sectors, mcs_max_samples, turn_sampling, d_r)\n",
    "for iters in tqdm(mcs_samples, desc=\"Iterations\"):\n",
    "    engine.compute(d_samples)\n",
    "    average, variance = engine.get_result()\n",
    "\n",
    "    DA_4[iters] = np.power(average, 1/4) \n",
    "    error_4[iters] = 0.25 * np.power(average, -3/4) * variance "
   ]
  },
  {
   "cell_type": "markdown",
   "metadata": {},
   "source": [
    "### Saving data"
   ]
  },
  {
   "cell_type": "code",
   "execution_count": 4,
   "metadata": {},
   "outputs": [],
   "source": [
    "with open(savepath + \"data/DA_4.pkl\", 'wb') as f:\n",
    "    pickle.dump(DA_4, f, protocol=4)\n",
    "\n",
    "with open(savepath + \"data/error_4.pkl\", 'wb') as f:\n",
    "    pickle.dump(error_4, f, protocol=4)"
   ]
  },
  {
   "cell_type": "code",
   "execution_count": null,
   "metadata": {},
   "outputs": [],
   "source": []
  }
 ],
 "metadata": {
  "kernelspec": {
   "display_name": "Python 3",
   "language": "python",
   "name": "python3"
  },
  "language_info": {
   "codemirror_mode": {
    "name": "ipython",
    "version": 3
   },
   "file_extension": ".py",
   "mimetype": "text/x-python",
   "name": "python",
   "nbconvert_exporter": "python",
   "pygments_lexer": "ipython3",
   "version": "3.8.1"
  }
 },
 "nbformat": 4,
 "nbformat_minor": 4
}
