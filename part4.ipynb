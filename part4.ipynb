{
 "cells": [
  {
   "cell_type": "markdown",
   "metadata": {},
   "source": [
    "# Stratified Monte Carlo\n",
    "## Import Libraries"
   ]
  },
  {
   "cell_type": "code",
   "execution_count": 1,
   "metadata": {},
   "outputs": [],
   "source": [
    "# Base libraries\n",
    "import math\n",
    "import numpy as np\n",
    "import scipy.integrate as integrate\n",
    "from tqdm import tqdm\n",
    "from scipy.special import erf\n",
    "import pickle\n",
    "import itertools\n",
    "\n",
    "from SALib.sample import saltelli\n",
    "from SALib.analyze import sobol\n",
    "\n",
    "# Personal libraries\n",
    "import sixtrackwrap as sr\n",
    "\n",
    "from parameters import *"
   ]
  },
  {
   "cell_type": "markdown",
   "metadata": {},
   "source": [
    "## Computation"
   ]
  },
  {
   "cell_type": "code",
   "execution_count": 2,
   "metadata": {},
   "outputs": [
    {
     "name": "stderr",
     "output_type": "stream",
     "text": [
      "100%|██████████| 2/2 [00:00<00:00, 10394.81it/s]"
     ]
    },
    {
     "name": "stdout",
     "output_type": "stream",
     "text": [
      "Initialization...\n",
      "...first computation...\n",
      "...setup...\n",
      "...baking...\n",
      "Active radiuses: 80 / 80\n",
      "Sample size per active radius: 26\n",
      "Expected execution time for step: nan\n"
     ]
    },
    {
     "name": "stderr",
     "output_type": "stream",
     "text": [
      "\n",
      "100%|██████████| 2/2 [00:00<00:00, 1468.59it/s]\n",
      "Iterations:   0%|          | 0/10 [00:00<?, ?it/s]"
     ]
    },
    {
     "name": "stdout",
     "output_type": "stream",
     "text": [
      "Time per single iteration: 2.198292315006256e-05\n",
      "r: 35.0 . Turns to do: 43 . Min found: 0\n",
      "TOTAL ELAPSED TIME IN SECONDS: 45.72\n",
      "...gathering...\n",
      "...done initializing.\n",
      "setup...\n",
      "...baking...\n",
      "Active radiuses: 100 / 100\n",
      "Sample size per active radius: 21\n",
      "Expected execution time for step: nan\n",
      "Time per single iteration: 2.1359764734903972e-05\n",
      "r: 30.0 . Turns to do: 123 . Min found: 0\n",
      "Active radiuses: 2 / 100\n",
      "Sample size per active radius: 1024\n",
      "Expected execution time for step: 5.38\n"
     ]
    },
    {
     "name": "stderr",
     "output_type": "stream",
     "text": [
      "Iterations:  10%|█         | 1/10 [00:48<07:18, 48.73s/it]"
     ]
    },
    {
     "name": "stdout",
     "output_type": "stream",
     "text": [
      "Time per single iteration: 1.50735495702886e-05\n",
      "r: 1054.0 . Turns to do: 0 . Min found: 0\n",
      "TOTAL ELAPSED TIME IN SECONDS: 48.65\n",
      "...gathering\n",
      "setup...\n",
      "...baking...\n",
      "Active radiuses: 100 / 100\n",
      "Sample size per active radius: 21\n",
      "Expected execution time for step: nan\n"
     ]
    },
    {
     "name": "stderr",
     "output_type": "stream",
     "text": [
      "Iterations:  20%|██        | 2/10 [01:33<06:20, 47.59s/it]"
     ]
    },
    {
     "name": "stdout",
     "output_type": "stream",
     "text": [
      "Time per single iteration: 2.136266549428304e-05\n",
      "r: 30.0 . Turns to do: 72 . Min found: 0\n",
      "TOTAL ELAPSED TIME IN SECONDS: 44.86\n",
      "...gathering\n",
      "setup...\n",
      "...baking...\n",
      "Active radiuses: 100 / 100\n",
      "Sample size per active radius: 21\n",
      "Expected execution time for step: nan\n",
      "Time per single iteration: 2.1352096512204124e-05\n",
      "r: 30.0 . Turns to do: 115 . Min found: 1\n",
      "Active radiuses: 1 / 100\n",
      "Sample size per active radius: 2048\n",
      "Expected execution time for step: 5.03\n"
     ]
    },
    {
     "name": "stderr",
     "output_type": "stream",
     "text": [
      "Iterations:  30%|███       | 3/10 [02:19<05:29, 47.02s/it]"
     ]
    },
    {
     "name": "stdout",
     "output_type": "stream",
     "text": [
      "Time per single iteration: 3.3435037197626154e-06\n",
      "r: 2078.0 . Turns to do: 0 . Min found: 0\n",
      "TOTAL ELAPSED TIME IN SECONDS: 45.63\n",
      "...gathering\n",
      "setup...\n",
      "...baking...\n",
      "Active radiuses: 100 / 100\n",
      "Sample size per active radius: 21\n",
      "Expected execution time for step: nan\n",
      "Time per single iteration: 2.1355306193942117e-05\n",
      "r: 30.0 . Turns to do: 158 . Min found: 1\n",
      "Active radiuses: 2 / 100\n",
      "Sample size per active radius: 1024\n",
      "Expected execution time for step: 6.91\n"
     ]
    },
    {
     "name": "stderr",
     "output_type": "stream",
     "text": [
      "Iterations:  40%|████      | 4/10 [03:08<04:45, 47.52s/it]"
     ]
    },
    {
     "name": "stdout",
     "output_type": "stream",
     "text": [
      "Time per single iteration: 1.1712798253409093e-05\n",
      "r: 1054.0 . Turns to do: 0 . Min found: 0\n",
      "TOTAL ELAPSED TIME IN SECONDS: 48.64\n",
      "...gathering\n",
      "setup...\n",
      "...baking...\n",
      "Active radiuses: 101 / 101\n",
      "Sample size per active radius: 21\n",
      "Expected execution time for step: nan\n"
     ]
    },
    {
     "name": "stderr",
     "output_type": "stream",
     "text": [
      "Iterations:  50%|█████     | 5/10 [03:52<03:53, 46.68s/it]"
     ]
    },
    {
     "name": "stdout",
     "output_type": "stream",
     "text": [
      "Time per single iteration: 2.1064924215832053e-05\n",
      "r: 30.0 . Turns to do: 77 . Min found: 1\n",
      "TOTAL ELAPSED TIME IN SECONDS: 44.68\n",
      "...gathering\n",
      "setup...\n",
      "...baking...\n",
      "Active radiuses: 100 / 100\n",
      "Sample size per active radius: 21\n",
      "Expected execution time for step: nan\n",
      "Time per single iteration: 2.1352950164249965e-05\n",
      "r: 30.0 . Turns to do: 154 . Min found: 0\n",
      "Active radiuses: 2 / 100\n",
      "Sample size per active radius: 1024\n",
      "Expected execution time for step: 6.73\n"
     ]
    },
    {
     "name": "stderr",
     "output_type": "stream",
     "text": [
      "Iterations:  60%|██████    | 6/10 [04:43<03:11, 47.87s/it]"
     ]
    },
    {
     "name": "stdout",
     "output_type": "stream",
     "text": [
      "Time per single iteration: 1.8222478230471736e-05\n",
      "r: 1054.0 . Turns to do: 0 . Min found: 0\n",
      "TOTAL ELAPSED TIME IN SECONDS: 50.59\n",
      "...gathering\n",
      "setup...\n",
      "...baking...\n",
      "Active radiuses: 100 / 100\n",
      "Sample size per active radius: 21\n",
      "Expected execution time for step: nan\n",
      "Time per single iteration: 2.1363578864506312e-05\n",
      "r: 30.0 . Turns to do: 104 . Min found: 1\n",
      "Active radiuses: 1 / 100\n",
      "Sample size per active radius: 2048\n",
      "Expected execution time for step: 4.55\n"
     ]
    },
    {
     "name": "stderr",
     "output_type": "stream",
     "text": [
      "Iterations:  70%|███████   | 7/10 [05:32<02:24, 48.17s/it]"
     ]
    },
    {
     "name": "stdout",
     "output_type": "stream",
     "text": [
      "Time per single iteration: 1.8442433569222114e-05\n",
      "r: 2078.0 . Turns to do: 0 . Min found: 0\n",
      "TOTAL ELAPSED TIME IN SECONDS: 48.79\n",
      "...gathering\n",
      "setup...\n",
      "...baking...\n",
      "Active radiuses: 100 / 100\n",
      "Sample size per active radius: 21\n",
      "Expected execution time for step: nan\n",
      "Time per single iteration: 2.1365331468128024e-05\n",
      "r: 30.0 . Turns to do: 165 . Min found: 0\n",
      "Active radiuses: 1 / 100\n",
      "Sample size per active radius: 2048\n",
      "Expected execution time for step: 7.22\n"
     ]
    },
    {
     "name": "stderr",
     "output_type": "stream",
     "text": [
      "Iterations:  80%|████████  | 8/10 [06:23<01:38, 49.05s/it]"
     ]
    },
    {
     "name": "stdout",
     "output_type": "stream",
     "text": [
      "Time per single iteration: 1.826910443152442e-05\n",
      "r: 2078.0 . Turns to do: 0 . Min found: 0\n",
      "TOTAL ELAPSED TIME IN SECONDS: 51.04\n",
      "...gathering\n",
      "setup...\n",
      "...baking...\n",
      "Active radiuses: 100 / 100\n",
      "Sample size per active radius: 21\n",
      "Expected execution time for step: nan\n",
      "Time per single iteration: 2.136347804750715e-05\n",
      "r: 30.0 . Turns to do: 118 . Min found: 1\n",
      "Active radiuses: 1 / 100\n",
      "Sample size per active radius: 2048\n",
      "Expected execution time for step: 5.16\n"
     ]
    },
    {
     "name": "stderr",
     "output_type": "stream",
     "text": [
      "Iterations:  90%|█████████ | 9/10 [07:12<00:49, 49.14s/it]"
     ]
    },
    {
     "name": "stdout",
     "output_type": "stream",
     "text": [
      "Time per single iteration: 1.8374876008700516e-05\n",
      "r: 2078.0 . Turns to do: 0 . Min found: 0\n",
      "TOTAL ELAPSED TIME IN SECONDS: 49.30\n",
      "...gathering\n",
      "setup...\n",
      "...baking...\n",
      "Active radiuses: 101 / 101\n",
      "Sample size per active radius: 21\n",
      "Expected execution time for step: nan\n",
      "Time per single iteration: 2.113903676041563e-05\n",
      "r: 30.0 . Turns to do: 105 . Min found: 1\n",
      "Active radiuses: 1 / 101\n",
      "Sample size per active radius: 2048\n",
      "Expected execution time for step: 4.55\n"
     ]
    },
    {
     "name": "stderr",
     "output_type": "stream",
     "text": [
      "Iterations: 100%|██████████| 10/10 [08:01<00:00, 48.16s/it]"
     ]
    },
    {
     "name": "stdout",
     "output_type": "stream",
     "text": [
      "Time per single iteration: 1.8438570467489106e-05\n",
      "r: 2078.0 . Turns to do: 0 . Min found: 0\n",
      "TOTAL ELAPSED TIME IN SECONDS: 48.80\n",
      "...gathering\n"
     ]
    },
    {
     "name": "stderr",
     "output_type": "stream",
     "text": [
      "\n"
     ]
    }
   ],
   "source": [
    "from stratified_mc import stratified_mc\n",
    "\n",
    "DA_4 = {}\n",
    "error_4 = {}\n",
    "\n",
    "d_samples = mcs_samples[1] - mcs_samples[0]\n",
    "\n",
    "engine = stratified_mc(mcs_n_sectors, mcs_max_samples, turn_sampling, d_r)\n",
    "for iters in tqdm(mcs_samples, desc=\"Iterations\"):\n",
    "    engine.compute(d_samples)\n",
    "    average, variance = engine.get_result()\n",
    "\n",
    "    DA_4[iters] = np.power(average, 1/4) \n",
    "    error_4[iters] = 0.25 * np.power(average, -3/4) * variance "
   ]
  },
  {
   "cell_type": "markdown",
   "metadata": {},
   "source": [
    "### Saving data"
   ]
  },
  {
   "cell_type": "code",
   "execution_count": 4,
   "metadata": {},
   "outputs": [],
   "source": [
    "with open(\"data/DA_4.pkl\", 'wb') as f:\n",
    "    pickle.dump(DA_4, f, protocol=4)\n",
    "\n",
    "with open(\"data/error_4.pkl\", 'wb') as f:\n",
    "    pickle.dump(error_4, f, protocol=4)"
   ]
  },
  {
   "cell_type": "code",
   "execution_count": null,
   "metadata": {},
   "outputs": [],
   "source": []
  }
 ],
 "metadata": {
  "kernelspec": {
   "display_name": "Python 3",
   "language": "python",
   "name": "python3"
  },
  "language_info": {
   "codemirror_mode": {
    "name": "ipython",
    "version": 3
   },
   "file_extension": ".py",
   "mimetype": "text/x-python",
   "name": "python",
   "nbconvert_exporter": "python",
   "pygments_lexer": "ipython3",
   "version": "3.8.1"
  }
 },
 "nbformat": 4,
 "nbformat_minor": 4
}
