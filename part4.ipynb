{
 "cells": [
  {
   "cell_type": "markdown",
   "metadata": {},
   "source": [
    "# Stratified Monte Carlo\n",
    "## Import Libraries"
   ]
  },
  {
   "cell_type": "code",
   "execution_count": 1,
   "metadata": {},
   "outputs": [],
   "source": [
    "# Base libraries\n",
    "import math\n",
    "import numpy as np\n",
    "import scipy.integrate as integrate\n",
    "from tqdm import tqdm\n",
    "from scipy.special import erf\n",
    "import pickle\n",
    "import itertools\n",
    "\n",
    "from SALib.sample import saltelli\n",
    "from SALib.analyze import sobol\n",
    "\n",
    "# Personal libraries\n",
    "import sixtrackwrap as sr\n",
    "\n",
    "from parameters import *\n",
    "\n",
    "import time"
   ]
  },
  {
   "cell_type": "markdown",
   "metadata": {},
   "source": [
    "## Computation"
   ]
  },
  {
   "cell_type": "code",
   "execution_count": 2,
   "metadata": {
    "scrolled": true
   },
   "outputs": [
    {
     "name": "stdout",
     "output_type": "stream",
     "text": [
      "Initialization...\n"
     ]
    },
    {
     "name": "stderr",
     "output_type": "stream",
     "text": [
      "100%|██████████| 5/5 [00:00<00:00, 5587.93it/s]"
     ]
    },
    {
     "name": "stdout",
     "output_type": "stream",
     "text": [
      "...first computation...\n",
      "...setup...\n",
      "...baking...\n",
      "Active radiuses: 375 / 375\n",
      "Sample size per active radius: 14\n",
      "Expected execution time for step: nan\n"
     ]
    },
    {
     "name": "stderr",
     "output_type": "stream",
     "text": [
      "\n"
     ]
    },
    {
     "name": "stdout",
     "output_type": "stream",
     "text": [
      "Elapsed time for whole iteration: 9.38\n",
      "Time per single iteration: 1.7864522025698707e-05\n",
      "r: 23.0 . Turns to do: 100 . Min found: 11\n",
      "Active radiuses: 375 / 375\n",
      "Sample size per active radius: 14\n",
      "Expected execution time for step: 9.38\n",
      "Elapsed time for whole iteration: 9.10\n",
      "Time per single iteration: 1.7337489355178107e-05\n",
      "r: 37.0 . Turns to do: 57 . Min found: 0\n",
      "Active radiuses: 14 / 375\n",
      "Sample size per active radius: 364\n",
      "Expected execution time for step: 5.04\n"
     ]
    },
    {
     "name": "stderr",
     "output_type": "stream",
     "text": [
      "100%|██████████| 5/5 [00:00<00:00, 1047.32it/s]\n",
      "Iterations:   0%|          | 0/10 [00:00<?, ?it/s]"
     ]
    },
    {
     "name": "stdout",
     "output_type": "stream",
     "text": [
      "Elapsed time for whole iteration: 1.83\n",
      "Time per single iteration: 6.317008894001818e-06\n",
      "r: 401.0 . Turns to do: 0 . Min found: 0\n",
      "TOTAL ELAPSED TIME IN SECONDS: 20.32\n",
      "...gathering...\n",
      "...done initializing.\n",
      "setup...\n",
      "...baking...\n",
      "Active radiuses: 1005 / 1005\n",
      "Sample size per active radius: 6\n",
      "Expected execution time for step: nan\n",
      "Elapsed time for whole iteration: 13.54\n",
      "Time per single iteration: 2.2454856837764506e-05\n",
      "r: 15.0 . Turns to do: 100 . Min found: 100\n",
      "Active radiuses: 1005 / 1005\n",
      "Sample size per active radius: 6\n",
      "Expected execution time for step: 13.54\n",
      "Elapsed time for whole iteration: 13.54\n",
      "Time per single iteration: 2.2458578619000133e-05\n",
      "r: 21.0 . Turns to do: 100 . Min found: 33\n",
      "Active radiuses: 1005 / 1005\n",
      "Sample size per active radius: 6\n",
      "Expected execution time for step: 13.54\n",
      "Elapsed time for whole iteration: 13.51\n",
      "Time per single iteration: 2.2405465048541674e-05\n",
      "r: 27.0 . Turns to do: 100 . Min found: 2\n",
      "Active radiuses: 867 / 1005\n",
      "Sample size per active radius: 6\n",
      "Expected execution time for step: 11.66\n",
      "Elapsed time for whole iteration: 11.54\n",
      "Time per single iteration: 2.217708482782642e-05\n",
      "r: 33.0 . Turns to do: 85 . Min found: 0\n",
      "Active radiuses: 281 / 1005\n",
      "Sample size per active radius: 19\n",
      "Expected execution time for step: 10.06\n"
     ]
    },
    {
     "name": "stderr",
     "output_type": "stream",
     "text": [
      "Iterations:  10%|█         | 1/10 [00:59<08:51, 59.09s/it]"
     ]
    },
    {
     "name": "stdout",
     "output_type": "stream",
     "text": [
      "Elapsed time for whole iteration: 6.74\n",
      "Time per single iteration: 1.4844234466510705e-05\n",
      "r: 52.0 . Turns to do: 2 . Min found: 0\n",
      "TOTAL ELAPSED TIME IN SECONDS: 58.87\n",
      "...gathering\n",
      "setup...\n",
      "...baking...\n",
      "Active radiuses: 1005 / 1005\n",
      "Sample size per active radius: 6\n",
      "Expected execution time for step: nan\n",
      "Elapsed time for whole iteration: 13.53\n",
      "Time per single iteration: 2.2441420784439414e-05\n",
      "r: 15.0 . Turns to do: 100 . Min found: 100\n",
      "Active radiuses: 1005 / 1005\n",
      "Sample size per active radius: 6\n",
      "Expected execution time for step: 13.53\n",
      "Elapsed time for whole iteration: 13.53\n",
      "Time per single iteration: 2.2438684703896494e-05\n",
      "r: 21.0 . Turns to do: 100 . Min found: 32\n",
      "Active radiuses: 1005 / 1005\n",
      "Sample size per active radius: 6\n",
      "Expected execution time for step: 13.53\n",
      "Elapsed time for whole iteration: 13.54\n",
      "Time per single iteration: 2.246130402408429e-05\n",
      "r: 27.0 . Turns to do: 100 . Min found: 1\n",
      "Active radiuses: 859 / 1005\n",
      "Sample size per active radius: 6\n",
      "Expected execution time for step: 11.58\n",
      "Elapsed time for whole iteration: 28.63\n",
      "Time per single iteration: 5.554644784864456e-05\n",
      "r: 33.0 . Turns to do: 92 . Min found: 0\n",
      "Active radiuses: 252 / 1005\n",
      "Sample size per active radius: 21\n",
      "Expected execution time for step: 27.04\n"
     ]
    },
    {
     "name": "stderr",
     "output_type": "stream",
     "text": [
      "Iterations:  20%|██        | 2/10 [02:15<08:33, 64.15s/it]"
     ]
    },
    {
     "name": "stdout",
     "output_type": "stream",
     "text": [
      "Elapsed time for whole iteration: 6.50\n",
      "Time per single iteration: 1.33464807214956e-05\n",
      "r: 54.0 . Turns to do: 3 . Min found: 0\n",
      "TOTAL ELAPSED TIME IN SECONDS: 75.73\n",
      "...gathering\n",
      "setup...\n",
      "...baking...\n",
      "Active radiuses: 1008 / 1008\n",
      "Sample size per active radius: 6\n",
      "Expected execution time for step: nan\n",
      "Elapsed time for whole iteration: 9.29\n",
      "Time per single iteration: 1.5360614846623134e-05\n",
      "r: 15.0 . Turns to do: 100 . Min found: 100\n",
      "Active radiuses: 1008 / 1008\n",
      "Sample size per active radius: 6\n",
      "Expected execution time for step: 9.29\n",
      "Elapsed time for whole iteration: 9.30\n",
      "Time per single iteration: 1.5371199401598127e-05\n",
      "r: 21.0 . Turns to do: 100 . Min found: 35\n",
      "Active radiuses: 1008 / 1008\n",
      "Sample size per active radius: 6\n",
      "Expected execution time for step: 9.30\n",
      "Elapsed time for whole iteration: 9.23\n",
      "Time per single iteration: 1.526283011549995e-05\n",
      "r: 27.0 . Turns to do: 100 . Min found: 2\n",
      "Active radiuses: 887 / 1008\n",
      "Sample size per active radius: 6\n",
      "Expected execution time for step: 8.12\n",
      "Elapsed time for whole iteration: 28.54\n",
      "Time per single iteration: 5.363010455235105e-05\n",
      "r: 33.0 . Turns to do: 85 . Min found: 0\n",
      "Active radiuses: 293 / 1008\n",
      "Sample size per active radius: 18\n",
      "Expected execution time for step: 24.04\n"
     ]
    },
    {
     "name": "stderr",
     "output_type": "stream",
     "text": [
      "Iterations:  30%|███       | 3/10 [03:18<07:27, 63.93s/it]"
     ]
    },
    {
     "name": "stdout",
     "output_type": "stream",
     "text": [
      "Elapsed time for whole iteration: 6.84\n",
      "Time per single iteration: 1.5263777190393537e-05\n",
      "r: 51.0 . Turns to do: 4 . Min found: 0\n",
      "TOTAL ELAPSED TIME IN SECONDS: 63.20\n",
      "...gathering\n",
      "setup...\n",
      "...baking...\n",
      "Active radiuses: 1004 / 1004\n",
      "Sample size per active radius: 6\n",
      "Expected execution time for step: nan\n",
      "Elapsed time for whole iteration: 9.30\n",
      "Time per single iteration: 1.5432892013514344e-05\n",
      "r: 15.0 . Turns to do: 100 . Min found: 100\n",
      "Active radiuses: 1004 / 1004\n",
      "Sample size per active radius: 6\n",
      "Expected execution time for step: 9.30\n",
      "Elapsed time for whole iteration: 9.29\n",
      "Time per single iteration: 1.542486992490244e-05\n",
      "r: 21.0 . Turns to do: 100 . Min found: 34\n",
      "Active radiuses: 1004 / 1004\n",
      "Sample size per active radius: 6\n",
      "Expected execution time for step: 9.29\n",
      "Elapsed time for whole iteration: 9.28\n",
      "Time per single iteration: 1.5409841717951802e-05\n",
      "r: 27.0 . Turns to do: 100 . Min found: 2\n",
      "Active radiuses: 871 / 1004\n",
      "Sample size per active radius: 6\n",
      "Expected execution time for step: 8.05\n",
      "Elapsed time for whole iteration: 9.04\n",
      "Time per single iteration: 1.729833591591112e-05\n",
      "r: 33.0 . Turns to do: 81 . Min found: 0\n",
      "Active radiuses: 270 / 1004\n",
      "Sample size per active radius: 19\n",
      "Expected execution time for step: 7.19\n"
     ]
    },
    {
     "name": "stderr",
     "output_type": "stream",
     "text": [
      "Iterations:  40%|████      | 4/10 [04:01<05:46, 57.76s/it]"
     ]
    },
    {
     "name": "stdout",
     "output_type": "stream",
     "text": [
      "Elapsed time for whole iteration: 6.23\n",
      "Time per single iteration: 1.4983862656403819e-05\n",
      "r: 52.0 . Turns to do: 5 . Min found: 0\n",
      "TOTAL ELAPSED TIME IN SECONDS: 43.14\n",
      "...gathering\n",
      "setup...\n",
      "...baking...\n",
      "Active radiuses: 1000 / 1000\n",
      "Sample size per active radius: 6\n",
      "Expected execution time for step: nan\n",
      "Elapsed time for whole iteration: 9.30\n",
      "Time per single iteration: 1.5497811635335286e-05\n",
      "r: 15.0 . Turns to do: 100 . Min found: 100\n",
      "Active radiuses: 1000 / 1000\n",
      "Sample size per active radius: 6\n",
      "Expected execution time for step: 9.30\n",
      "Elapsed time for whole iteration: 9.30\n",
      "Time per single iteration: 1.5492889881134035e-05\n",
      "r: 21.0 . Turns to do: 100 . Min found: 34\n",
      "Active radiuses: 1000 / 1000\n",
      "Sample size per active radius: 6\n",
      "Expected execution time for step: 9.30\n",
      "Elapsed time for whole iteration: 9.26\n",
      "Time per single iteration: 1.542757789293925e-05\n",
      "r: 27.0 . Turns to do: 100 . Min found: 1\n",
      "Active radiuses: 828 / 1000\n",
      "Sample size per active radius: 7\n",
      "Expected execution time for step: 8.94\n",
      "Elapsed time for whole iteration: 8.98\n",
      "Time per single iteration: 1.549940754250052e-05\n",
      "r: 34.0 . Turns to do: 85 . Min found: 0\n",
      "Active radiuses: 182 / 1000\n",
      "Sample size per active radius: 28\n",
      "Expected execution time for step: 6.71\n"
     ]
    },
    {
     "name": "stderr",
     "output_type": "stream",
     "text": [
      "Iterations:  50%|█████     | 5/10 [04:45<04:27, 53.53s/it]"
     ]
    },
    {
     "name": "stdout",
     "output_type": "stream",
     "text": [
      "Elapsed time for whole iteration: 6.59\n",
      "Time per single iteration: 1.5204159085556173e-05\n",
      "r: 62.0 . Turns to do: 2 . Min found: 0\n",
      "TOTAL ELAPSED TIME IN SECONDS: 43.42\n",
      "...gathering\n",
      "setup...\n",
      "...baking...\n",
      "Active radiuses: 1000 / 1000\n",
      "Sample size per active radius: 6\n",
      "Expected execution time for step: nan\n",
      "Elapsed time for whole iteration: 9.31\n",
      "Time per single iteration: 1.5508934656778972e-05\n",
      "r: 15.0 . Turns to do: 100 . Min found: 100\n",
      "Active radiuses: 1000 / 1000\n",
      "Sample size per active radius: 6\n",
      "Expected execution time for step: 9.31\n",
      "Elapsed time for whole iteration: 9.29\n",
      "Time per single iteration: 1.5490233500798543e-05\n",
      "r: 21.0 . Turns to do: 100 . Min found: 34\n",
      "Active radiuses: 1000 / 1000\n",
      "Sample size per active radius: 6\n",
      "Expected execution time for step: 9.29\n",
      "Elapsed time for whole iteration: 9.25\n",
      "Time per single iteration: 1.5414567391077676e-05\n",
      "r: 27.0 . Turns to do: 100 . Min found: 1\n",
      "Active radiuses: 864 / 1000\n",
      "Sample size per active radius: 6\n",
      "Expected execution time for step: 7.99\n",
      "Elapsed time for whole iteration: 8.99\n",
      "Time per single iteration: 1.7350652243620084e-05\n",
      "r: 33.0 . Turns to do: 100 . Min found: 0\n",
      "Active radiuses: 269 / 1000\n",
      "Sample size per active radius: 19\n",
      "Expected execution time for step: 8.87\n"
     ]
    },
    {
     "name": "stderr",
     "output_type": "stream",
     "text": [
      "Iterations:  60%|██████    | 6/10 [05:29<03:22, 50.66s/it]"
     ]
    },
    {
     "name": "stdout",
     "output_type": "stream",
     "text": [
      "Elapsed time for whole iteration: 6.89\n",
      "Time per single iteration: 1.3474186113775885e-05\n",
      "r: 52.0 . Turns to do: 3 . Min found: 0\n",
      "TOTAL ELAPSED TIME IN SECONDS: 43.73\n",
      "...gathering\n",
      "setup...\n",
      "...baking...\n",
      "Active radiuses: 1000 / 1000\n",
      "Sample size per active radius: 6\n",
      "Expected execution time for step: nan\n",
      "Elapsed time for whole iteration: 9.29\n",
      "Time per single iteration: 1.54896346728007e-05\n",
      "r: 15.0 . Turns to do: 100 . Min found: 100\n",
      "Active radiuses: 1000 / 1000\n",
      "Sample size per active radius: 6\n",
      "Expected execution time for step: 9.29\n",
      "Elapsed time for whole iteration: 9.30\n",
      "Time per single iteration: 1.5493045250574747e-05\n",
      "r: 21.0 . Turns to do: 100 . Min found: 33\n",
      "Active radiuses: 1000 / 1000\n",
      "Sample size per active radius: 6\n",
      "Expected execution time for step: 9.30\n",
      "Elapsed time for whole iteration: 9.29\n",
      "Time per single iteration: 1.5486560265223186e-05\n",
      "r: 27.0 . Turns to do: 100 . Min found: 1\n",
      "Active radiuses: 846 / 1000\n",
      "Sample size per active radius: 7\n",
      "Expected execution time for step: 9.17\n",
      "Elapsed time for whole iteration: 15.06\n",
      "Time per single iteration: 2.5428405125291717e-05\n",
      "r: 34.0 . Turns to do: 86 . Min found: 0\n",
      "Active radiuses: 200 / 1000\n",
      "Sample size per active radius: 26\n",
      "Expected execution time for step: 11.37\n"
     ]
    },
    {
     "name": "stderr",
     "output_type": "stream",
     "text": [
      "Iterations:  70%|███████   | 7/10 [06:18<02:30, 50.33s/it]"
     ]
    },
    {
     "name": "stdout",
     "output_type": "stream",
     "text": [
      "Elapsed time for whole iteration: 6.40\n",
      "Time per single iteration: 1.4310880082664421e-05\n",
      "r: 60.0 . Turns to do: 1 . Min found: 0\n",
      "TOTAL ELAPSED TIME IN SECONDS: 49.34\n",
      "...gathering\n",
      "setup...\n",
      "...baking...\n",
      "Active radiuses: 1000 / 1000\n",
      "Sample size per active radius: 6\n",
      "Expected execution time for step: nan\n",
      "Elapsed time for whole iteration: 9.30\n",
      "Time per single iteration: 1.5493807792663576e-05\n",
      "r: 15.0 . Turns to do: 100 . Min found: 100\n",
      "Active radiuses: 1000 / 1000\n",
      "Sample size per active radius: 6\n",
      "Expected execution time for step: 9.30\n",
      "Elapsed time for whole iteration: 9.30\n",
      "Time per single iteration: 1.5493055979410806e-05\n",
      "r: 21.0 . Turns to do: 100 . Min found: 34\n",
      "Active radiuses: 1000 / 1000\n",
      "Sample size per active radius: 6\n",
      "Expected execution time for step: 9.30\n",
      "Elapsed time for whole iteration: 9.21\n",
      "Time per single iteration: 1.5354592800140382e-05\n",
      "r: 27.0 . Turns to do: 100 . Min found: 1\n",
      "Active radiuses: 858 / 1000\n",
      "Sample size per active radius: 6\n",
      "Expected execution time for step: 7.90\n",
      "Elapsed time for whole iteration: 8.99\n",
      "Time per single iteration: 1.7468913544400683e-05\n",
      "r: 33.0 . Turns to do: 94 . Min found: 0\n",
      "Active radiuses: 271 / 1000\n",
      "Sample size per active radius: 19\n",
      "Expected execution time for step: 8.46\n"
     ]
    },
    {
     "name": "stderr",
     "output_type": "stream",
     "text": [
      "Iterations:  80%|████████  | 8/10 [07:03<01:36, 48.46s/it]"
     ]
    },
    {
     "name": "stdout",
     "output_type": "stream",
     "text": [
      "Elapsed time for whole iteration: 7.08\n",
      "Time per single iteration: 1.4634941579702449e-05\n",
      "r: 52.0 . Turns to do: 4 . Min found: 0\n",
      "TOTAL ELAPSED TIME IN SECONDS: 43.88\n",
      "...gathering\n",
      "setup...\n",
      "...baking...\n",
      "Active radiuses: 1000 / 1000\n",
      "Sample size per active radius: 6\n",
      "Expected execution time for step: nan\n",
      "Elapsed time for whole iteration: 9.30\n",
      "Time per single iteration: 1.5493580897649128e-05\n",
      "r: 15.0 . Turns to do: 100 . Min found: 100\n",
      "Active radiuses: 1000 / 1000\n",
      "Sample size per active radius: 6\n",
      "Expected execution time for step: 9.30\n",
      "Elapsed time for whole iteration: 9.30\n",
      "Time per single iteration: 1.5493293205897013e-05\n",
      "r: 21.0 . Turns to do: 100 . Min found: 32\n",
      "Active radiuses: 1000 / 1000\n",
      "Sample size per active radius: 6\n",
      "Expected execution time for step: 9.30\n",
      "Elapsed time for whole iteration: 9.27\n",
      "Time per single iteration: 1.5450032552083333e-05\n",
      "r: 27.0 . Turns to do: 100 . Min found: 1\n",
      "Active radiuses: 853 / 1000\n",
      "Sample size per active radius: 6\n",
      "Expected execution time for step: 7.91\n",
      "Elapsed time for whole iteration: 28.82\n",
      "Time per single iteration: 5.632024856692602e-05\n",
      "r: 33.0 . Turns to do: 100 . Min found: 0\n",
      "Active radiuses: 264 / 1000\n",
      "Sample size per active radius: 20\n",
      "Expected execution time for step: 29.74\n"
     ]
    },
    {
     "name": "stderr",
     "output_type": "stream",
     "text": [
      "Iterations:  90%|█████████ | 9/10 [08:07<00:53, 53.29s/it]"
     ]
    },
    {
     "name": "stdout",
     "output_type": "stream",
     "text": [
      "Elapsed time for whole iteration: 7.65\n",
      "Time per single iteration: 1.448792986797564e-05\n",
      "r: 53.0 . Turns to do: 4 . Min found: 0\n",
      "TOTAL ELAPSED TIME IN SECONDS: 64.34\n",
      "...gathering\n",
      "setup...\n",
      "...baking...\n",
      "Active radiuses: 1002 / 1002\n",
      "Sample size per active radius: 6\n",
      "Expected execution time for step: nan\n",
      "Elapsed time for whole iteration: 13.50\n",
      "Time per single iteration: 2.2449560032157365e-05\n",
      "r: 15.0 . Turns to do: 100 . Min found: 100\n",
      "Active radiuses: 1002 / 1002\n",
      "Sample size per active radius: 6\n",
      "Expected execution time for step: 13.50\n",
      "Elapsed time for whole iteration: 13.50\n",
      "Time per single iteration: 2.2449289570628843e-05\n",
      "r: 21.0 . Turns to do: 100 . Min found: 35\n",
      "Active radiuses: 1002 / 1002\n",
      "Sample size per active radius: 6\n",
      "Expected execution time for step: 13.50\n",
      "Elapsed time for whole iteration: 13.50\n",
      "Time per single iteration: 2.245873629214045e-05\n",
      "r: 27.0 . Turns to do: 100 . Min found: 1\n",
      "Active radiuses: 874 / 1002\n",
      "Sample size per active radius: 6\n",
      "Expected execution time for step: 11.78\n",
      "Elapsed time for whole iteration: 8.99\n",
      "Time per single iteration: 1.7144551357179084e-05\n",
      "r: 33.0 . Turns to do: 100 . Min found: 0\n",
      "Active radiuses: 254 / 1002\n",
      "Sample size per active radius: 21\n",
      "Expected execution time for step: 9.14\n"
     ]
    },
    {
     "name": "stderr",
     "output_type": "stream",
     "text": [
      "Iterations: 100%|██████████| 10/10 [09:05<00:00, 54.51s/it]"
     ]
    },
    {
     "name": "stdout",
     "output_type": "stream",
     "text": [
      "Elapsed time for whole iteration: 7.77\n",
      "Time per single iteration: 1.4566695775081033e-05\n",
      "r: 54.0 . Turns to do: 3 . Min found: 0\n",
      "TOTAL ELAPSED TIME IN SECONDS: 57.26\n",
      "...gathering\n"
     ]
    },
    {
     "name": "stderr",
     "output_type": "stream",
     "text": [
      "\n"
     ]
    }
   ],
   "source": [
    "from stratified_mc import stratified_mc\n",
    "\n",
    "DA_4 = {}\n",
    "error_4 = {}\n",
    "\n",
    "d_samples = mcs_samples[1] - mcs_samples[0]\n",
    "\n",
    "time_start = time.time()\n",
    "\n",
    "engine = stratified_mc(mcs_n_sectors, mcs_max_samples, turn_sampling, d_r)\n",
    "for iters in tqdm(mcs_samples, desc=\"Iterations\"):\n",
    "    engine.compute(d_samples)\n",
    "    average, variance = engine.get_result()\n",
    "\n",
    "    DA_4[iters] = np.power(average, 1/4) \n",
    "    error_4[iters] = 0.25 * np.power(average, -3/4) * variance \n",
    "    \n",
    "elapsed_time = time.time() - time_start"
   ]
  },
  {
   "cell_type": "markdown",
   "metadata": {},
   "source": [
    "### Saving data"
   ]
  },
  {
   "cell_type": "code",
   "execution_count": 4,
   "metadata": {},
   "outputs": [],
   "source": [
    "savepath = \"./\"\n",
    "with open(savepath + \"data/DA_4.pkl\", 'wb') as f:\n",
    "    pickle.dump(DA_4, f, protocol=4)\n",
    "\n",
    "with open(savepath + \"data/error_4.pkl\", 'wb') as f:\n",
    "    pickle.dump(error_4, f, protocol=4)\n",
    "    \n",
    "with open(savepath + \"data/time_4.pkl\", \"wb\") as f:\n",
    "    pickle.dump(elapsed_time, f, protocol=4)"
   ]
  },
  {
   "cell_type": "code",
   "execution_count": null,
   "metadata": {},
   "outputs": [],
   "source": []
  }
 ],
 "metadata": {
  "kernelspec": {
   "display_name": "Python 3",
   "language": "python",
   "name": "python3"
  },
  "language_info": {
   "codemirror_mode": {
    "name": "ipython",
    "version": 3
   },
   "file_extension": ".py",
   "mimetype": "text/x-python",
   "name": "python",
   "nbconvert_exporter": "python",
   "pygments_lexer": "ipython3",
   "version": "3.8.1"
  }
 },
 "nbformat": 4,
 "nbformat_minor": 4
}
