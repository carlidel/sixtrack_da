{
 "cells": [
  {
   "cell_type": "markdown",
   "metadata": {},
   "source": [
    "# Stratified Monte Carlo\n",
    "## Import Libraries"
   ]
  },
  {
   "cell_type": "code",
   "execution_count": 1,
   "metadata": {},
   "outputs": [],
   "source": [
    "# Base libraries\n",
    "import math\n",
    "import numpy as np\n",
    "import scipy.integrate as integrate\n",
    "from tqdm import tqdm\n",
    "from scipy.special import erf\n",
    "import pickle\n",
    "import itertools\n",
    "\n",
    "from SALib.sample import saltelli\n",
    "from SALib.analyze import sobol\n",
    "\n",
    "# Personal libraries\n",
    "import sixtrackwrap as sr\n",
    "\n",
    "from parameters import *"
   ]
  },
  {
   "cell_type": "markdown",
   "metadata": {},
   "source": [
    "## Computation"
   ]
  },
  {
   "cell_type": "code",
   "execution_count": 2,
   "metadata": {
    "scrolled": true
   },
   "outputs": [
    {
     "name": "stdout",
     "output_type": "stream",
     "text": [
      "Initialization...\n"
     ]
    },
    {
     "name": "stderr",
     "output_type": "stream",
     "text": [
      "100%|██████████| 5/5 [00:00<00:00, 5681.80it/s]"
     ]
    },
    {
     "name": "stdout",
     "output_type": "stream",
     "text": [
      "...first computation...\n",
      "...setup...\n",
      "...baking...\n",
      "Active radiuses: 375 / 375\n",
      "Sample size per active radius: 6\n",
      "Expected execution time for step: nan\n"
     ]
    },
    {
     "name": "stderr",
     "output_type": "stream",
     "text": [
      "\n"
     ]
    },
    {
     "name": "stdout",
     "output_type": "stream",
     "text": [
      "Elapsed time for whole iteration: 0.67\n",
      "Time per single iteration: 2.963939242892795e-05\n",
      "r: 15.0 . Turns to do: 10 . Min found: 10\n",
      "Active radiuses: 375 / 375\n",
      "Sample size per active radius: 6\n",
      "Expected execution time for step: 0.67\n",
      "Elapsed time for whole iteration: 0.60\n",
      "Time per single iteration: 2.6627137925889755e-05\n",
      "r: 21.0 . Turns to do: 10 . Min found: 10\n",
      "Active radiuses: 375 / 375\n",
      "Sample size per active radius: 6\n",
      "Expected execution time for step: 0.60\n",
      "Elapsed time for whole iteration: 0.60\n",
      "Time per single iteration: 2.6517772674560548e-05\n",
      "r: 27.0 . Turns to do: 10 . Min found: 1\n",
      "Active radiuses: 375 / 375\n",
      "Sample size per active radius: 6\n",
      "Expected execution time for step: 0.60\n",
      "Elapsed time for whole iteration: 0.59\n",
      "Time per single iteration: 2.6006232367621528e-05\n",
      "r: 33.0 . Turns to do: 10 . Min found: 0\n",
      "Active radiuses: 360 / 375\n",
      "Sample size per active radius: 6\n",
      "Expected execution time for step: 0.56\n",
      "Elapsed time for whole iteration: 0.58\n",
      "Time per single iteration: 2.6674502425723607e-05\n",
      "r: 39.0 . Turns to do: 10 . Min found: 0\n",
      "Active radiuses: 283 / 375\n",
      "Sample size per active radius: 8\n",
      "Expected execution time for step: 0.60\n",
      "Elapsed time for whole iteration: 0.83\n",
      "Time per single iteration: 3.6786533497247596e-05\n",
      "r: 47.0 . Turns to do: 4 . Min found: 0\n",
      "Active radiuses: 142 / 375\n",
      "Sample size per active radius: 15\n",
      "Expected execution time for step: 0.31\n",
      "Elapsed time for whole iteration: 0.30\n",
      "Time per single iteration: 3.54290848046961e-05\n",
      "r: 62.0 . Turns to do: 1 . Min found: 0\n",
      "Active radiuses: 30 / 375\n",
      "Sample size per active radius: 67\n",
      "Expected execution time for step: 0.07\n",
      "Elapsed time for whole iteration: 0.18\n",
      "Time per single iteration: 8.831795175277178e-05\n",
      "r: 129.0 . Turns to do: 0 . Min found: 0\n",
      "TOTAL ELAPSED TIME IN SECONDS: 4.34\n",
      "...gathering..."
     ]
    },
    {
     "name": "stderr",
     "output_type": "stream",
     "text": [
      "100%|██████████| 5/5 [00:00<00:00, 979.79it/s]\n",
      "Iterations:   0%|          | 0/100 [00:00<?, ?it/s]"
     ]
    },
    {
     "name": "stdout",
     "output_type": "stream",
     "text": [
      "\n",
      "...done initializing.\n",
      "setup...\n",
      "...baking...\n",
      "Active radiuses: 100 / 100\n",
      "Sample size per active radius: 20\n",
      "Expected execution time for step: nan\n",
      "Elapsed time for whole iteration: 0.59\n",
      "Time per single iteration: 2.967221736907959e-05\n",
      "r: 29.0 . Turns to do: 10 . Min found: 1\n",
      "Active radiuses: 100 / 100\n",
      "Sample size per active radius: 20\n",
      "Expected execution time for step: 0.59\n",
      "Elapsed time for whole iteration: 0.58\n",
      "Time per single iteration: 2.880481481552124e-05\n",
      "r: 49.0 . Turns to do: 3 . Min found: 0\n",
      "Active radiuses: 47 / 100\n",
      "Sample size per active radius: 43\n",
      "Expected execution time for step: 0.17\n"
     ]
    },
    {
     "name": "stderr",
     "output_type": "stream",
     "text": [
      "Iterations:   1%|          | 1/100 [00:01<02:37,  1.59s/it]"
     ]
    },
    {
     "name": "stdout",
     "output_type": "stream",
     "text": [
      "Elapsed time for whole iteration: 0.25\n",
      "Time per single iteration: 4.078750855730407e-05\n",
      "r: 92.0 . Turns to do: 1 . Min found: 0\n",
      "Active radiuses: 1 / 100\n",
      "Sample size per active radius: 2000\n",
      "Expected execution time for step: 0.08\n",
      "Elapsed time for whole iteration: 0.15\n",
      "Time per single iteration: 7.43468999862671e-05\n",
      "r: 2092.0 . Turns to do: 0 . Min found: 0\n",
      "TOTAL ELAPSED TIME IN SECONDS: 1.57\n",
      "...gathering\n",
      "setup...\n",
      "...baking...\n",
      "Active radiuses: 100 / 100\n",
      "Sample size per active radius: 20\n",
      "Expected execution time for step: nan\n",
      "Elapsed time for whole iteration: 0.59\n",
      "Time per single iteration: 2.9661524295806886e-05\n",
      "r: 29.0 . Turns to do: 10 . Min found: 2\n",
      "Active radiuses: 100 / 100\n",
      "Sample size per active radius: 20\n",
      "Expected execution time for step: 0.59\n",
      "Elapsed time for whole iteration: 0.58\n",
      "Time per single iteration: 2.881406545639038e-05\n",
      "r: 49.0 . Turns to do: 4 . Min found: 0\n",
      "Active radiuses: 41 / 100\n",
      "Sample size per active radius: 49\n",
      "Expected execution time for step: 0.23\n"
     ]
    },
    {
     "name": "stderr",
     "output_type": "stream",
     "text": [
      "Iterations:   2%|▏         | 2/100 [00:03<02:32,  1.56s/it]"
     ]
    },
    {
     "name": "stdout",
     "output_type": "stream",
     "text": [
      "Elapsed time for whole iteration: 0.27\n",
      "Time per single iteration: 3.405798721693237e-05\n",
      "r: 98.0 . Turns to do: 0 . Min found: 0\n",
      "TOTAL ELAPSED TIME IN SECONDS: 1.44\n",
      "...gathering\n",
      "setup...\n",
      "...baking...\n",
      "Active radiuses: 104 / 104\n",
      "Sample size per active radius: 20\n",
      "Expected execution time for step: nan\n",
      "Elapsed time for whole iteration: 0.58\n",
      "Time per single iteration: 2.7707115961955144e-05\n",
      "r: 29.0 . Turns to do: 10 . Min found: 1\n",
      "Active radiuses: 104 / 104\n",
      "Sample size per active radius: 20\n",
      "Expected execution time for step: 0.58\n",
      "Elapsed time for whole iteration: 0.57\n",
      "Time per single iteration: 2.7552453371194692e-05\n",
      "r: 49.0 . Turns to do: 2 . Min found: 0\n",
      "Active radiuses: 30 / 104\n",
      "Sample size per active radius: 67\n",
      "Expected execution time for step: 0.11\n"
     ]
    },
    {
     "name": "stderr",
     "output_type": "stream",
     "text": [
      "Iterations:   3%|▎         | 3/100 [00:04<02:26,  1.51s/it]"
     ]
    },
    {
     "name": "stdout",
     "output_type": "stream",
     "text": [
      "Elapsed time for whole iteration: 0.21\n",
      "Time per single iteration: 5.262497052624451e-05\n",
      "r: 116.0 . Turns to do: 0 . Min found: 0\n",
      "TOTAL ELAPSED TIME IN SECONDS: 1.36\n",
      "...gathering\n",
      "setup...\n",
      "...baking...\n",
      "Active radiuses: 101 / 101\n",
      "Sample size per active radius: 20\n",
      "Expected execution time for step: nan\n",
      "Elapsed time for whole iteration: 0.58\n",
      "Time per single iteration: 2.8705113004929948e-05\n",
      "r: 29.0 . Turns to do: 10 . Min found: 0\n",
      "Active radiuses: 100 / 101\n",
      "Sample size per active radius: 20\n",
      "Expected execution time for step: 0.57\n",
      "Elapsed time for whole iteration: 0.58\n",
      "Time per single iteration: 2.9029369354248046e-05\n",
      "r: 49.0 . Turns to do: 2 . Min found: 0\n",
      "Active radiuses: 31 / 101\n",
      "Sample size per active radius: 65\n",
      "Expected execution time for step: 0.12\n"
     ]
    },
    {
     "name": "stderr",
     "output_type": "stream",
     "text": [
      "Iterations:   4%|▍         | 4/100 [00:05<02:21,  1.47s/it]"
     ]
    },
    {
     "name": "stdout",
     "output_type": "stream",
     "text": [
      "Elapsed time for whole iteration: 0.20\n",
      "Time per single iteration: 5.0585914782199905e-05\n",
      "r: 114.0 . Turns to do: 0 . Min found: 0\n",
      "TOTAL ELAPSED TIME IN SECONDS: 1.36\n",
      "...gathering\n",
      "setup...\n",
      "...baking...\n",
      "Active radiuses: 103 / 103\n",
      "Sample size per active radius: 20\n",
      "Expected execution time for step: nan\n",
      "Elapsed time for whole iteration: 0.58\n",
      "Time per single iteration: 2.8046971385918773e-05\n",
      "r: 29.0 . Turns to do: 10 . Min found: 0\n",
      "Active radiuses: 101 / 103\n",
      "Sample size per active radius: 20\n",
      "Expected execution time for step: 0.57\n",
      "Elapsed time for whole iteration: 0.57\n",
      "Time per single iteration: 2.8293864561779666e-05\n",
      "r: 49.0 . Turns to do: 3 . Min found: 0\n",
      "Active radiuses: 40 / 103\n",
      "Sample size per active radius: 50\n",
      "Expected execution time for step: 0.17\n"
     ]
    },
    {
     "name": "stderr",
     "output_type": "stream",
     "text": [
      "Iterations:   5%|▌         | 5/100 [00:07<02:18,  1.46s/it]"
     ]
    },
    {
     "name": "stdout",
     "output_type": "stream",
     "text": [
      "Elapsed time for whole iteration: 0.24\n",
      "Time per single iteration: 4.0563344955444334e-05\n",
      "r: 99.0 . Turns to do: 0 . Min found: 0\n",
      "TOTAL ELAPSED TIME IN SECONDS: 1.39\n",
      "...gathering\n",
      "setup...\n",
      "...baking...\n",
      "Active radiuses: 101 / 101\n",
      "Sample size per active radius: 20\n",
      "Expected execution time for step: nan\n",
      "Elapsed time for whole iteration: 0.58\n",
      "Time per single iteration: 2.8522345099118677e-05\n",
      "r: 29.0 . Turns to do: 10 . Min found: 0\n",
      "Active radiuses: 99 / 101\n",
      "Sample size per active radius: 21\n",
      "Expected execution time for step: 0.59\n",
      "Elapsed time for whole iteration: 0.57\n",
      "Time per single iteration: 2.7511543009704324e-05\n",
      "r: 50.0 . Turns to do: 3 . Min found: 0\n",
      "Active radiuses: 42 / 101\n",
      "Sample size per active radius: 48\n",
      "Expected execution time for step: 0.17\n"
     ]
    },
    {
     "name": "stderr",
     "output_type": "stream",
     "text": [
      "Iterations:   6%|▌         | 6/100 [00:08<02:15,  1.45s/it]"
     ]
    },
    {
     "name": "stdout",
     "output_type": "stream",
     "text": [
      "Elapsed time for whole iteration: 0.25\n",
      "Time per single iteration: 4.1005433236480387e-05\n",
      "r: 98.0 . Turns to do: 0 . Min found: 0\n",
      "TOTAL ELAPSED TIME IN SECONDS: 1.40\n",
      "...gathering\n",
      "setup...\n",
      "...baking...\n",
      "Active radiuses: 104 / 104\n",
      "Sample size per active radius: 20\n",
      "Expected execution time for step: nan\n",
      "Elapsed time for whole iteration: 0.58\n",
      "Time per single iteration: 2.777388462653527e-05\n",
      "r: 29.0 . Turns to do: 10 . Min found: 1\n",
      "Active radiuses: 104 / 104\n",
      "Sample size per active radius: 20\n",
      "Expected execution time for step: 0.58\n",
      "Elapsed time for whole iteration: 0.57\n",
      "Time per single iteration: 2.748382779268118e-05\n",
      "r: 49.0 . Turns to do: 3 . Min found: 0\n",
      "Active radiuses: 53 / 104\n",
      "Sample size per active radius: 38\n",
      "Expected execution time for step: 0.17\n"
     ]
    },
    {
     "name": "stderr",
     "output_type": "stream",
     "text": [
      "Iterations:   7%|▋         | 7/100 [00:10<02:18,  1.49s/it]"
     ]
    },
    {
     "name": "stdout",
     "output_type": "stream",
     "text": [
      "Elapsed time for whole iteration: 0.25\n",
      "Time per single iteration: 4.059942460778296e-05\n",
      "r: 87.0 . Turns to do: 1 . Min found: 0\n",
      "Active radiuses: 1 / 104\n",
      "Sample size per active radius: 2000\n",
      "Expected execution time for step: 0.08\n",
      "Elapsed time for whole iteration: 0.17\n",
      "Time per single iteration: 8.357810974121094e-05\n",
      "r: 2087.0 . Turns to do: 0 . Min found: 0\n",
      "TOTAL ELAPSED TIME IN SECONDS: 1.56\n",
      "...gathering\n",
      "setup...\n",
      "...baking...\n",
      "Active radiuses: 108 / 108\n",
      "Sample size per active radius: 19\n",
      "Expected execution time for step: nan\n",
      "Elapsed time for whole iteration: 0.58\n",
      "Time per single iteration: 2.8437341165821453e-05\n",
      "r: 28.0 . Turns to do: 10 . Min found: 2\n",
      "Active radiuses: 108 / 108\n",
      "Sample size per active radius: 19\n",
      "Expected execution time for step: 0.58\n",
      "Elapsed time for whole iteration: 0.58\n",
      "Time per single iteration: 2.8245246898361115e-05\n",
      "r: 47.0 . Turns to do: 4 . Min found: 0\n",
      "Active radiuses: 66 / 108\n",
      "Sample size per active radius: 31\n",
      "Expected execution time for step: 0.23\n"
     ]
    },
    {
     "name": "stderr",
     "output_type": "stream",
     "text": [
      "Iterations:   8%|▊         | 8/100 [00:11<02:21,  1.54s/it]"
     ]
    },
    {
     "name": "stdout",
     "output_type": "stream",
     "text": [
      "Elapsed time for whole iteration: 0.31\n",
      "Time per single iteration: 3.731148799959632e-05\n",
      "r: 78.0 . Turns to do: 1 . Min found: 0\n",
      "Active radiuses: 8 / 108\n",
      "Sample size per active radius: 250\n",
      "Expected execution time for step: 0.07\n",
      "Elapsed time for whole iteration: 0.16\n",
      "Time per single iteration: 8.226096630096435e-05\n",
      "r: 328.0 . Turns to do: 0 . Min found: 0\n",
      "TOTAL ELAPSED TIME IN SECONDS: 1.63\n",
      "...gathering\n",
      "setup...\n",
      "...baking...\n",
      "Active radiuses: 108 / 108\n",
      "Sample size per active radius: 19\n",
      "Expected execution time for step: nan\n",
      "Elapsed time for whole iteration: 0.59\n",
      "Time per single iteration: 2.8536066441972816e-05\n",
      "r: 28.0 . Turns to do: 10 . Min found: 0\n",
      "Active radiuses: 107 / 108\n",
      "Sample size per active radius: 19\n",
      "Expected execution time for step: 0.58\n",
      "Elapsed time for whole iteration: 0.57\n",
      "Time per single iteration: 2.811781831169973e-05\n",
      "r: 47.0 . Turns to do: 3 . Min found: 0\n",
      "Active radiuses: 70 / 108\n",
      "Sample size per active radius: 29\n",
      "Expected execution time for step: 0.17\n"
     ]
    },
    {
     "name": "stderr",
     "output_type": "stream",
     "text": [
      "Iterations:   9%|▉         | 9/100 [00:13<02:22,  1.57s/it]"
     ]
    },
    {
     "name": "stdout",
     "output_type": "stream",
     "text": [
      "Elapsed time for whole iteration: 0.26\n",
      "Time per single iteration: 4.329505225120507e-05\n",
      "r: 76.0 . Turns to do: 1 . Min found: 0\n",
      "Active radiuses: 11 / 108\n",
      "Sample size per active radius: 182\n",
      "Expected execution time for step: 0.09\n",
      "Elapsed time for whole iteration: 0.17\n",
      "Time per single iteration: 8.574196627804569e-05\n",
      "r: 258.0 . Turns to do: 0 . Min found: 0\n",
      "TOTAL ELAPSED TIME IN SECONDS: 1.59\n",
      "...gathering\n",
      "setup...\n",
      "...baking...\n",
      "Active radiuses: 108 / 108\n",
      "Sample size per active radius: 19\n",
      "Expected execution time for step: nan\n",
      "Elapsed time for whole iteration: 0.59\n",
      "Time per single iteration: 2.876286618193688e-05\n",
      "r: 28.0 . Turns to do: 10 . Min found: 2\n",
      "Active radiuses: 108 / 108\n",
      "Sample size per active radius: 19\n",
      "Expected execution time for step: 0.59\n",
      "Elapsed time for whole iteration: 0.58\n",
      "Time per single iteration: 2.8195506648013467e-05\n",
      "r: 47.0 . Turns to do: 3 . Min found: 0\n",
      "Active radiuses: 67 / 108\n",
      "Sample size per active radius: 30\n",
      "Expected execution time for step: 0.17\n"
     ]
    },
    {
     "name": "stderr",
     "output_type": "stream",
     "text": [
      "Iterations:  10%|█         | 10/100 [00:15<02:22,  1.59s/it]"
     ]
    },
    {
     "name": "stdout",
     "output_type": "stream",
     "text": [
      "Elapsed time for whole iteration: 0.26\n",
      "Time per single iteration: 4.279277415615607e-05\n",
      "r: 77.0 . Turns to do: 1 . Min found: 0\n",
      "Active radiuses: 14 / 108\n",
      "Sample size per active radius: 143\n",
      "Expected execution time for step: 0.09\n",
      "Elapsed time for whole iteration: 0.17\n",
      "Time per single iteration: 8.45517788257275e-05\n",
      "r: 220.0 . Turns to do: 0 . Min found: 0\n",
      "TOTAL ELAPSED TIME IN SECONDS: 1.60\n",
      "...gathering\n",
      "setup...\n",
      "...baking...\n",
      "Active radiuses: 109 / 109\n",
      "Sample size per active radius: 19\n",
      "Expected execution time for step: nan\n",
      "Elapsed time for whole iteration: 0.57\n",
      "Time per single iteration: 2.7734562143043065e-05\n",
      "r: 28.0 . Turns to do: 10 . Min found: 2\n",
      "Active radiuses: 109 / 109\n",
      "Sample size per active radius: 19\n",
      "Expected execution time for step: 0.57\n",
      "Elapsed time for whole iteration: 0.58\n",
      "Time per single iteration: 2.7824242526007872e-05\n",
      "r: 47.0 . Turns to do: 8 . Min found: 0\n",
      "Active radiuses: 60 / 109\n",
      "Sample size per active radius: 34\n",
      "Expected execution time for step: 0.45\n"
     ]
    },
    {
     "name": "stderr",
     "output_type": "stream",
     "text": [
      "Iterations:  11%|█         | 11/100 [00:16<02:26,  1.64s/it]"
     ]
    },
    {
     "name": "stdout",
     "output_type": "stream",
     "text": [
      "Elapsed time for whole iteration: 0.43\n",
      "Time per single iteration: 2.6428845583223828e-05\n",
      "r: 81.0 . Turns to do: 1 . Min found: 0\n",
      "Active radiuses: 3 / 109\n",
      "Sample size per active radius: 667\n",
      "Expected execution time for step: 0.05\n",
      "Elapsed time for whole iteration: 0.16\n",
      "Time per single iteration: 8.238356808076674e-05\n",
      "r: 748.0 . Turns to do: 0 . Min found: 0\n",
      "TOTAL ELAPSED TIME IN SECONDS: 1.75\n",
      "...gathering\n",
      "setup...\n",
      "...baking...\n",
      "Active radiuses: 108 / 108\n",
      "Sample size per active radius: 19\n",
      "Expected execution time for step: nan\n",
      "Elapsed time for whole iteration: 0.59\n",
      "Time per single iteration: 2.86673593242266e-05\n",
      "r: 28.0 . Turns to do: 10 . Min found: 3\n",
      "Active radiuses: 108 / 108\n",
      "Sample size per active radius: 19\n",
      "Expected execution time for step: 0.59\n",
      "Elapsed time for whole iteration: 0.57\n",
      "Time per single iteration: 2.7813200365033067e-05\n",
      "r: 47.0 . Turns to do: 4 . Min found: 0\n",
      "Active radiuses: 52 / 108\n",
      "Sample size per active radius: 39\n",
      "Expected execution time for step: 0.23\n"
     ]
    },
    {
     "name": "stderr",
     "output_type": "stream",
     "text": [
      "Iterations:  12%|█▏        | 12/100 [00:18<02:24,  1.64s/it]"
     ]
    },
    {
     "name": "stdout",
     "output_type": "stream",
     "text": [
      "Elapsed time for whole iteration: 0.28\n",
      "Time per single iteration: 3.4300063018497864e-05\n",
      "r: 86.0 . Turns to do: 1 . Min found: 0\n",
      "Active radiuses: 1 / 108\n",
      "Sample size per active radius: 2000\n",
      "Expected execution time for step: 0.07\n",
      "Elapsed time for whole iteration: 0.17\n",
      "Time per single iteration: 8.297789096832275e-05\n",
      "r: 2086.0 . Turns to do: 0 . Min found: 0\n",
      "TOTAL ELAPSED TIME IN SECONDS: 1.60\n",
      "...gathering\n",
      "setup...\n",
      "...baking...\n",
      "Active radiuses: 109 / 109\n",
      "Sample size per active radius: 19\n",
      "Expected execution time for step: nan\n",
      "Elapsed time for whole iteration: 0.57\n",
      "Time per single iteration: 2.768007469085148e-05\n",
      "r: 28.0 . Turns to do: 10 . Min found: 3\n",
      "Active radiuses: 109 / 109\n",
      "Sample size per active radius: 19\n",
      "Expected execution time for step: 0.57\n",
      "Elapsed time for whole iteration: 0.57\n",
      "Time per single iteration: 2.758597360608199e-05\n",
      "r: 47.0 . Turns to do: 2 . Min found: 0\n",
      "Active radiuses: 51 / 109\n",
      "Sample size per active radius: 40\n",
      "Expected execution time for step: 0.11\n"
     ]
    },
    {
     "name": "stderr",
     "output_type": "stream",
     "text": [
      "Iterations:  13%|█▎        | 13/100 [00:20<02:20,  1.62s/it]"
     ]
    },
    {
     "name": "stdout",
     "output_type": "stream",
     "text": [
      "Elapsed time for whole iteration: 0.22\n",
      "Time per single iteration: 5.3627818238501457e-05\n",
      "r: 87.0 . Turns to do: 1 . Min found: 0\n",
      "Active radiuses: 2 / 109\n",
      "Sample size per active radius: 1000\n",
      "Expected execution time for step: 0.11\n",
      "Elapsed time for whole iteration: 0.17\n",
      "Time per single iteration: 8.284199237823486e-05\n",
      "r: 1087.0 . Turns to do: 0 . Min found: 0\n",
      "TOTAL ELAPSED TIME IN SECONDS: 1.53\n",
      "...gathering\n",
      "setup...\n",
      "...baking...\n",
      "Active radiuses: 109 / 109\n",
      "Sample size per active radius: 19\n",
      "Expected execution time for step: nan\n",
      "Elapsed time for whole iteration: 0.57\n",
      "Time per single iteration: 2.772846065357306e-05\n",
      "r: 28.0 . Turns to do: 10 . Min found: 3\n",
      "Active radiuses: 109 / 109\n",
      "Sample size per active radius: 19\n",
      "Expected execution time for step: 0.57\n",
      "Elapsed time for whole iteration: 0.57\n",
      "Time per single iteration: 2.7622755226566273e-05\n",
      "r: 47.0 . Turns to do: 5 . Min found: 0\n",
      "Active radiuses: 53 / 109\n",
      "Sample size per active radius: 38\n",
      "Expected execution time for step: 0.28\n"
     ]
    },
    {
     "name": "stderr",
     "output_type": "stream",
     "text": [
      "Iterations:  14%|█▍        | 14/100 [00:21<02:20,  1.63s/it]"
     ]
    },
    {
     "name": "stdout",
     "output_type": "stream",
     "text": [
      "Elapsed time for whole iteration: 0.32\n",
      "Time per single iteration: 3.132621249944238e-05\n",
      "r: 85.0 . Turns to do: 1 . Min found: 0\n",
      "Active radiuses: 1 / 109\n",
      "Sample size per active radius: 2000\n",
      "Expected execution time for step: 0.06\n",
      "Elapsed time for whole iteration: 0.17\n",
      "Time per single iteration: 8.46470594406128e-05\n",
      "r: 2085.0 . Turns to do: 0 . Min found: 0\n",
      "TOTAL ELAPSED TIME IN SECONDS: 1.63\n",
      "...gathering\n",
      "setup...\n",
      "...baking...\n",
      "Active radiuses: 109 / 109\n",
      "Sample size per active radius: 19\n",
      "Expected execution time for step: nan\n",
      "Elapsed time for whole iteration: 0.57\n",
      "Time per single iteration: 2.7753787590995727e-05\n",
      "r: 28.0 . Turns to do: 10 . Min found: 1\n",
      "Active radiuses: 109 / 109\n",
      "Sample size per active radius: 19\n",
      "Expected execution time for step: 0.57\n",
      "Elapsed time for whole iteration: 0.58\n",
      "Time per single iteration: 2.806670190285278e-05\n",
      "r: 47.0 . Turns to do: 3 . Min found: 0\n",
      "Active radiuses: 52 / 109\n",
      "Sample size per active radius: 39\n",
      "Expected execution time for step: 0.17\n"
     ]
    },
    {
     "name": "stderr",
     "output_type": "stream",
     "text": [
      "Iterations:  15%|█▌        | 15/100 [00:23<02:18,  1.62s/it]"
     ]
    },
    {
     "name": "stdout",
     "output_type": "stream",
     "text": [
      "Elapsed time for whole iteration: 0.26\n",
      "Time per single iteration: 4.348192145995291e-05\n",
      "r: 86.0 . Turns to do: 1 . Min found: 0\n",
      "Active radiuses: 1 / 109\n",
      "Sample size per active radius: 2000\n",
      "Expected execution time for step: 0.09\n",
      "Elapsed time for whole iteration: 0.16\n",
      "Time per single iteration: 7.869517803192139e-05\n",
      "r: 2086.0 . Turns to do: 0 . Min found: 0\n",
      "TOTAL ELAPSED TIME IN SECONDS: 1.58\n",
      "...gathering\n",
      "setup...\n",
      "...baking...\n",
      "Active radiuses: 108 / 108\n",
      "Sample size per active radius: 19\n",
      "Expected execution time for step: nan\n",
      "Elapsed time for whole iteration: 0.59\n",
      "Time per single iteration: 2.8682498671622768e-05\n",
      "r: 28.0 . Turns to do: 10 . Min found: 1\n",
      "Active radiuses: 108 / 108\n",
      "Sample size per active radius: 19\n",
      "Expected execution time for step: 0.59\n",
      "Elapsed time for whole iteration: 0.57\n",
      "Time per single iteration: 2.7999322549176727e-05\n",
      "r: 47.0 . Turns to do: 4 . Min found: 0\n",
      "Active radiuses: 54 / 108\n",
      "Sample size per active radius: 38\n",
      "Expected execution time for step: 0.23\n"
     ]
    },
    {
     "name": "stderr",
     "output_type": "stream",
     "text": [
      "Iterations:  16%|█▌        | 16/100 [00:25<02:17,  1.64s/it]"
     ]
    },
    {
     "name": "stdout",
     "output_type": "stream",
     "text": [
      "Elapsed time for whole iteration: 0.31\n",
      "Time per single iteration: 3.7977308557744614e-05\n",
      "r: 85.0 . Turns to do: 1 . Min found: 0\n",
      "Active radiuses: 1 / 108\n",
      "Sample size per active radius: 2000\n",
      "Expected execution time for step: 0.08\n",
      "Elapsed time for whole iteration: 0.18\n",
      "Time per single iteration: 9.005486965179443e-05\n",
      "r: 2085.0 . Turns to do: 0 . Min found: 0\n",
      "TOTAL ELAPSED TIME IN SECONDS: 1.65\n",
      "...gathering\n",
      "setup...\n",
      "...baking...\n",
      "Active radiuses: 107 / 107\n",
      "Sample size per active radius: 19\n",
      "Expected execution time for step: nan\n",
      "Elapsed time for whole iteration: 0.58\n",
      "Time per single iteration: 2.8430917142238515e-05\n",
      "r: 28.0 . Turns to do: 10 . Min found: 2\n",
      "Active radiuses: 107 / 107\n",
      "Sample size per active radius: 19\n",
      "Expected execution time for step: 0.58\n",
      "Elapsed time for whole iteration: 0.56\n",
      "Time per single iteration: 2.7310267728476237e-05\n",
      "r: 47.0 . Turns to do: 3 . Min found: 0\n",
      "Active radiuses: 58 / 107\n",
      "Sample size per active radius: 35\n",
      "Expected execution time for step: 0.17\n"
     ]
    },
    {
     "name": "stderr",
     "output_type": "stream",
     "text": [
      "Iterations:  17%|█▋        | 17/100 [00:26<02:14,  1.62s/it]"
     ]
    },
    {
     "name": "stdout",
     "output_type": "stream",
     "text": [
      "Elapsed time for whole iteration: 0.25\n",
      "Time per single iteration: 4.162741412082917e-05\n",
      "r: 82.0 . Turns to do: 1 . Min found: 0\n",
      "Active radiuses: 3 / 107\n",
      "Sample size per active radius: 667\n",
      "Expected execution time for step: 0.08\n",
      "Elapsed time for whole iteration: 0.17\n",
      "Time per single iteration: 8.267977427149463e-05\n",
      "r: 749.0 . Turns to do: 0 . Min found: 0\n",
      "TOTAL ELAPSED TIME IN SECONDS: 1.55\n",
      "...gathering\n",
      "setup...\n",
      "...baking...\n",
      "Active radiuses: 107 / 107\n",
      "Sample size per active radius: 19\n",
      "Expected execution time for step: nan\n",
      "Elapsed time for whole iteration: 0.57\n",
      "Time per single iteration: 2.8234858027362964e-05\n",
      "r: 28.0 . Turns to do: 10 . Min found: 2\n",
      "Active radiuses: 107 / 107\n",
      "Sample size per active radius: 19\n",
      "Expected execution time for step: 0.57\n",
      "Elapsed time for whole iteration: 0.58\n",
      "Time per single iteration: 2.8745376354241923e-05\n",
      "r: 47.0 . Turns to do: 4 . Min found: 0\n",
      "Active radiuses: 53 / 107\n",
      "Sample size per active radius: 38\n",
      "Expected execution time for step: 0.23\n"
     ]
    },
    {
     "name": "stderr",
     "output_type": "stream",
     "text": [
      "Iterations:  18%|█▊        | 18/100 [00:28<02:13,  1.63s/it]"
     ]
    },
    {
     "name": "stdout",
     "output_type": "stream",
     "text": [
      "Elapsed time for whole iteration: 0.29\n",
      "Time per single iteration: 3.601404974216738e-05\n",
      "r: 85.0 . Turns to do: 1 . Min found: 0\n",
      "Active radiuses: 2 / 107\n",
      "Sample size per active radius: 1000\n",
      "Expected execution time for step: 0.07\n",
      "Elapsed time for whole iteration: 0.17\n",
      "Time per single iteration: 8.348929882049561e-05\n",
      "r: 1085.0 . Turns to do: 0 . Min found: 0\n",
      "TOTAL ELAPSED TIME IN SECONDS: 1.62\n",
      "...gathering\n",
      "setup...\n",
      "...baking...\n",
      "Active radiuses: 106 / 106\n",
      "Sample size per active radius: 19\n",
      "Expected execution time for step: nan\n",
      "Elapsed time for whole iteration: 0.57\n",
      "Time per single iteration: 2.847690923211591e-05\n",
      "r: 28.0 . Turns to do: 10 . Min found: 2\n",
      "Active radiuses: 106 / 106\n",
      "Sample size per active radius: 19\n",
      "Expected execution time for step: 0.57\n",
      "Elapsed time for whole iteration: 0.57\n",
      "Time per single iteration: 2.8318350222757105e-05\n",
      "r: 47.0 . Turns to do: 7 . Min found: 0\n",
      "Active radiuses: 50 / 106\n",
      "Sample size per active radius: 40\n",
      "Expected execution time for step: 0.40\n"
     ]
    },
    {
     "name": "stderr",
     "output_type": "stream",
     "text": [
      "Iterations:  19%|█▉        | 19/100 [00:30<02:14,  1.66s/it]"
     ]
    },
    {
     "name": "stdout",
     "output_type": "stream",
     "text": [
      "Elapsed time for whole iteration: 0.39\n",
      "Time per single iteration: 2.8155735560825893e-05\n",
      "r: 87.0 . Turns to do: 1 . Min found: 0\n",
      "Active radiuses: 1 / 106\n",
      "Sample size per active radius: 2000\n",
      "Expected execution time for step: 0.06\n",
      "Elapsed time for whole iteration: 0.16\n",
      "Time per single iteration: 7.877552509307861e-05\n",
      "r: 2087.0 . Turns to do: 0 . Min found: 0\n",
      "TOTAL ELAPSED TIME IN SECONDS: 1.70\n",
      "...gathering\n",
      "setup...\n",
      "...baking...\n",
      "Active radiuses: 105 / 105\n",
      "Sample size per active radius: 20\n",
      "Expected execution time for step: nan\n",
      "Elapsed time for whole iteration: 0.58\n",
      "Time per single iteration: 2.7459428423926942e-05\n",
      "r: 29.0 . Turns to do: 10 . Min found: 0\n",
      "Active radiuses: 103 / 105\n",
      "Sample size per active radius: 20\n",
      "Expected execution time for step: 0.57\n",
      "Elapsed time for whole iteration: 0.57\n",
      "Time per single iteration: 2.774570752116083e-05\n",
      "r: 49.0 . Turns to do: 3 . Min found: 0\n",
      "Active radiuses: 42 / 105\n",
      "Sample size per active radius: 48\n",
      "Expected execution time for step: 0.17\n"
     ]
    },
    {
     "name": "stderr",
     "output_type": "stream",
     "text": [
      "Iterations:  20%|██        | 20/100 [00:31<02:07,  1.59s/it]"
     ]
    },
    {
     "name": "stdout",
     "output_type": "stream",
     "text": [
      "Elapsed time for whole iteration: 0.26\n",
      "Time per single iteration: 4.227672304425921e-05\n",
      "r: 97.0 . Turns to do: 0 . Min found: 0\n",
      "TOTAL ELAPSED TIME IN SECONDS: 1.40\n",
      "...gathering\n",
      "setup...\n",
      "...baking...\n",
      "Active radiuses: 105 / 105\n",
      "Sample size per active radius: 20\n",
      "Expected execution time for step: nan\n",
      "Elapsed time for whole iteration: 0.58\n",
      "Time per single iteration: 2.7660665057954335e-05\n",
      "r: 29.0 . Turns to do: 10 . Min found: 0\n",
      "Active radiuses: 102 / 105\n",
      "Sample size per active radius: 20\n",
      "Expected execution time for step: 0.56\n",
      "Elapsed time for whole iteration: 0.58\n",
      "Time per single iteration: 2.831111936008229e-05\n",
      "r: 49.0 . Turns to do: 4 . Min found: 0\n",
      "Active radiuses: 47 / 105\n",
      "Sample size per active radius: 43\n",
      "Expected execution time for step: 0.23\n"
     ]
    },
    {
     "name": "stderr",
     "output_type": "stream",
     "text": [
      "Iterations:  21%|██        | 21/100 [00:32<02:02,  1.55s/it]"
     ]
    },
    {
     "name": "stdout",
     "output_type": "stream",
     "text": [
      "Elapsed time for whole iteration: 0.27\n",
      "Time per single iteration: 3.398143083137312e-05\n",
      "r: 92.0 . Turns to do: 0 . Min found: 0\n",
      "TOTAL ELAPSED TIME IN SECONDS: 1.43\n",
      "...gathering\n",
      "setup...\n",
      "...baking...\n",
      "Active radiuses: 105 / 105\n",
      "Sample size per active radius: 20\n",
      "Expected execution time for step: nan\n",
      "Elapsed time for whole iteration: 0.58\n",
      "Time per single iteration: 2.7500004995436896e-05\n",
      "r: 29.0 . Turns to do: 10 . Min found: 1\n",
      "Active radiuses: 105 / 105\n",
      "Sample size per active radius: 20\n",
      "Expected execution time for step: 0.58\n",
      "Elapsed time for whole iteration: 0.58\n",
      "Time per single iteration: 2.7467262177240282e-05\n",
      "r: 49.0 . Turns to do: 4 . Min found: 0\n",
      "Active radiuses: 46 / 105\n",
      "Sample size per active radius: 44\n",
      "Expected execution time for step: 0.22\n"
     ]
    },
    {
     "name": "stderr",
     "output_type": "stream",
     "text": [
      "Iterations:  22%|██▏       | 22/100 [00:34<01:59,  1.53s/it]"
     ]
    },
    {
     "name": "stdout",
     "output_type": "stream",
     "text": [
      "Elapsed time for whole iteration: 0.28\n",
      "Time per single iteration: 3.504782561728135e-05\n",
      "r: 93.0 . Turns to do: 0 . Min found: 0\n",
      "TOTAL ELAPSED TIME IN SECONDS: 1.44\n",
      "...gathering\n",
      "setup...\n",
      "...baking...\n",
      "Active radiuses: 105 / 105\n",
      "Sample size per active radius: 20\n",
      "Expected execution time for step: nan\n",
      "Elapsed time for whole iteration: 0.58\n",
      "Time per single iteration: 2.745175361633301e-05\n",
      "r: 29.0 . Turns to do: 10 . Min found: 0\n",
      "Active radiuses: 104 / 105\n",
      "Sample size per active radius: 20\n",
      "Expected execution time for step: 0.57\n",
      "Elapsed time for whole iteration: 0.57\n",
      "Time per single iteration: 2.7637481689453125e-05\n",
      "r: 49.0 . Turns to do: 3 . Min found: 0\n",
      "Active radiuses: 47 / 105\n",
      "Sample size per active radius: 43\n",
      "Expected execution time for step: 0.17\n"
     ]
    },
    {
     "name": "stderr",
     "output_type": "stream",
     "text": [
      "Iterations:  23%|██▎       | 23/100 [00:36<01:59,  1.55s/it]"
     ]
    },
    {
     "name": "stdout",
     "output_type": "stream",
     "text": [
      "Elapsed time for whole iteration: 0.25\n",
      "Time per single iteration: 4.077382396790487e-05\n",
      "r: 92.0 . Turns to do: 1 . Min found: 0\n",
      "Active radiuses: 1 / 105\n",
      "Sample size per active radius: 2000\n",
      "Expected execution time for step: 0.08\n",
      "Elapsed time for whole iteration: 0.17\n",
      "Time per single iteration: 8.334517478942871e-05\n",
      "r: 2092.0 . Turns to do: 0 . Min found: 0\n",
      "TOTAL ELAPSED TIME IN SECONDS: 1.57\n",
      "...gathering\n",
      "setup...\n",
      "...baking...\n",
      "Active radiuses: 105 / 105\n",
      "Sample size per active radius: 20\n",
      "Expected execution time for step: nan\n",
      "Elapsed time for whole iteration: 0.58\n",
      "Time per single iteration: 2.7499164853777204e-05\n",
      "r: 29.0 . Turns to do: 10 . Min found: 1\n",
      "Active radiuses: 105 / 105\n",
      "Sample size per active radius: 20\n",
      "Expected execution time for step: 0.58\n",
      "Elapsed time for whole iteration: 0.57\n",
      "Time per single iteration: 2.7335473469325475e-05\n",
      "r: 49.0 . Turns to do: 3 . Min found: 0\n",
      "Active radiuses: 36 / 105\n",
      "Sample size per active radius: 56\n",
      "Expected execution time for step: 0.17\n"
     ]
    },
    {
     "name": "stderr",
     "output_type": "stream",
     "text": [
      "Iterations:  24%|██▍       | 24/100 [00:37<01:54,  1.51s/it]"
     ]
    },
    {
     "name": "stdout",
     "output_type": "stream",
     "text": [
      "Elapsed time for whole iteration: 0.25\n",
      "Time per single iteration: 4.0712455908457436e-05\n",
      "r: 105.0 . Turns to do: 0 . Min found: 0\n",
      "TOTAL ELAPSED TIME IN SECONDS: 1.40\n",
      "...gathering\n",
      "setup...\n",
      "...baking...\n",
      "Active radiuses: 106 / 106\n",
      "Sample size per active radius: 19\n",
      "Expected execution time for step: nan\n",
      "Elapsed time for whole iteration: 0.57\n",
      "Time per single iteration: 2.847211481679634e-05\n",
      "r: 28.0 . Turns to do: 10 . Min found: 3\n",
      "Active radiuses: 106 / 106\n",
      "Sample size per active radius: 19\n",
      "Expected execution time for step: 0.57\n",
      "Elapsed time for whole iteration: 0.58\n",
      "Time per single iteration: 2.8551204912475465e-05\n",
      "r: 47.0 . Turns to do: 7 . Min found: 0\n",
      "Active radiuses: 50 / 106\n",
      "Sample size per active radius: 40\n",
      "Expected execution time for step: 0.40\n"
     ]
    },
    {
     "name": "stderr",
     "output_type": "stream",
     "text": [
      "Iterations:  25%|██▌       | 25/100 [00:39<01:58,  1.58s/it]"
     ]
    },
    {
     "name": "stdout",
     "output_type": "stream",
     "text": [
      "Elapsed time for whole iteration: 0.40\n",
      "Time per single iteration: 2.8250455856323242e-05\n",
      "r: 87.0 . Turns to do: 1 . Min found: 0\n",
      "Active radiuses: 2 / 106\n",
      "Sample size per active radius: 1000\n",
      "Expected execution time for step: 0.06\n",
      "Elapsed time for whole iteration: 0.17\n",
      "Time per single iteration: 8.597481250762939e-05\n",
      "r: 1087.0 . Turns to do: 0 . Min found: 0\n",
      "TOTAL ELAPSED TIME IN SECONDS: 1.72\n",
      "...gathering\n",
      "setup...\n",
      "...baking...\n",
      "Active radiuses: 106 / 106\n",
      "Sample size per active radius: 19\n",
      "Expected execution time for step: nan\n",
      "Elapsed time for whole iteration: 0.58\n",
      "Time per single iteration: 2.883149471870127e-05\n",
      "r: 28.0 . Turns to do: 10 . Min found: 2\n",
      "Active radiuses: 106 / 106\n",
      "Sample size per active radius: 19\n",
      "Expected execution time for step: 0.58\n",
      "Elapsed time for whole iteration: 0.57\n",
      "Time per single iteration: 2.8516128733236242e-05\n",
      "r: 47.0 . Turns to do: 3 . Min found: 0\n",
      "Active radiuses: 43 / 106\n",
      "Sample size per active radius: 47\n",
      "Expected execution time for step: 0.17\n"
     ]
    },
    {
     "name": "stderr",
     "output_type": "stream",
     "text": [
      "Iterations:  26%|██▌       | 26/100 [00:40<01:54,  1.54s/it]"
     ]
    },
    {
     "name": "stdout",
     "output_type": "stream",
     "text": [
      "Elapsed time for whole iteration: 0.26\n",
      "Time per single iteration: 4.336595260013591e-05\n",
      "r: 94.0 . Turns to do: 0 . Min found: 0\n",
      "TOTAL ELAPSED TIME IN SECONDS: 1.42\n",
      "...gathering\n",
      "setup...\n",
      "...baking...\n",
      "Active radiuses: 106 / 106\n",
      "Sample size per active radius: 19\n",
      "Expected execution time for step: nan\n",
      "Elapsed time for whole iteration: 0.57\n",
      "Time per single iteration: 2.845300818389317e-05\n",
      "r: 28.0 . Turns to do: 10 . Min found: 2\n",
      "Active radiuses: 106 / 106\n",
      "Sample size per active radius: 19\n",
      "Expected execution time for step: 0.57\n",
      "Elapsed time for whole iteration: 0.57\n",
      "Time per single iteration: 2.829944483691673e-05\n",
      "r: 47.0 . Turns to do: 9 . Min found: 0\n",
      "Active radiuses: 51 / 106\n",
      "Sample size per active radius: 40\n",
      "Expected execution time for step: 0.52\n"
     ]
    },
    {
     "name": "stderr",
     "output_type": "stream",
     "text": [
      "Iterations:  27%|██▋       | 27/100 [00:42<01:58,  1.62s/it]"
     ]
    },
    {
     "name": "stdout",
     "output_type": "stream",
     "text": [
      "Elapsed time for whole iteration: 0.47\n",
      "Time per single iteration: 2.5377320308311312e-05\n",
      "r: 87.0 . Turns to do: 1 . Min found: 0\n",
      "Active radiuses: 1 / 106\n",
      "Sample size per active radius: 2000\n",
      "Expected execution time for step: 0.05\n",
      "Elapsed time for whole iteration: 0.17\n",
      "Time per single iteration: 8.319449424743652e-05\n",
      "r: 2087.0 . Turns to do: 0 . Min found: 0\n",
      "TOTAL ELAPSED TIME IN SECONDS: 1.78\n",
      "...gathering\n",
      "setup...\n",
      "...baking...\n",
      "Active radiuses: 106 / 106\n",
      "Sample size per active radius: 19\n",
      "Expected execution time for step: nan\n",
      "Elapsed time for whole iteration: 0.57\n",
      "Time per single iteration: 2.84404835137497e-05\n",
      "r: 28.0 . Turns to do: 10 . Min found: 3\n",
      "Active radiuses: 106 / 106\n",
      "Sample size per active radius: 19\n",
      "Expected execution time for step: 0.57\n",
      "Elapsed time for whole iteration: 0.57\n",
      "Time per single iteration: 2.8213831968790487e-05\n",
      "r: 47.0 . Turns to do: 4 . Min found: 0\n",
      "Active radiuses: 44 / 106\n",
      "Sample size per active radius: 46\n",
      "Expected execution time for step: 0.23\n"
     ]
    },
    {
     "name": "stderr",
     "output_type": "stream",
     "text": [
      "Iterations:  28%|██▊       | 28/100 [00:43<01:53,  1.57s/it]"
     ]
    },
    {
     "name": "stdout",
     "output_type": "stream",
     "text": [
      "Elapsed time for whole iteration: 0.28\n",
      "Time per single iteration: 3.467005467697566e-05\n",
      "r: 93.0 . Turns to do: 0 . Min found: 0\n",
      "TOTAL ELAPSED TIME IN SECONDS: 1.42\n",
      "...gathering\n",
      "setup...\n",
      "...baking...\n",
      "Active radiuses: 106 / 106\n",
      "Sample size per active radius: 19\n",
      "Expected execution time for step: nan\n",
      "Elapsed time for whole iteration: 0.58\n",
      "Time per single iteration: 2.8638865765417225e-05\n",
      "r: 28.0 . Turns to do: 10 . Min found: 3\n",
      "Active radiuses: 106 / 106\n",
      "Sample size per active radius: 19\n",
      "Expected execution time for step: 0.58\n",
      "Elapsed time for whole iteration: 0.57\n",
      "Time per single iteration: 2.8242385375582593e-05\n",
      "r: 47.0 . Turns to do: 10 . Min found: 0\n",
      "Active radiuses: 43 / 106\n",
      "Sample size per active radius: 47\n",
      "Expected execution time for step: 0.57\n"
     ]
    },
    {
     "name": "stderr",
     "output_type": "stream",
     "text": [
      "Iterations:  29%|██▉       | 29/100 [00:45<01:53,  1.60s/it]"
     ]
    },
    {
     "name": "stdout",
     "output_type": "stream",
     "text": [
      "Elapsed time for whole iteration: 0.49\n",
      "Time per single iteration: 2.4265726269736614e-05\n",
      "r: 94.0 . Turns to do: 0 . Min found: 0\n",
      "TOTAL ELAPSED TIME IN SECONDS: 1.64\n",
      "...gathering\n",
      "setup...\n",
      "...baking...\n",
      "Active radiuses: 105 / 105\n",
      "Sample size per active radius: 20\n",
      "Expected execution time for step: nan\n",
      "Elapsed time for whole iteration: 0.58\n",
      "Time per single iteration: 2.759794961838495e-05\n",
      "r: 29.0 . Turns to do: 10 . Min found: 0\n",
      "Active radiuses: 104 / 105\n",
      "Sample size per active radius: 20\n",
      "Expected execution time for step: 0.57\n",
      "Elapsed time for whole iteration: 0.58\n",
      "Time per single iteration: 2.794811358818641e-05\n",
      "r: 49.0 . Turns to do: 3 . Min found: 0\n",
      "Active radiuses: 41 / 105\n",
      "Sample size per active radius: 49\n",
      "Expected execution time for step: 0.17\n"
     ]
    },
    {
     "name": "stderr",
     "output_type": "stream",
     "text": [
      "Iterations:  30%|███       | 30/100 [00:47<01:48,  1.55s/it]"
     ]
    },
    {
     "name": "stdout",
     "output_type": "stream",
     "text": [
      "Elapsed time for whole iteration: 0.24\n",
      "Time per single iteration: 3.979390823012346e-05\n",
      "r: 98.0 . Turns to do: 0 . Min found: 0\n",
      "TOTAL ELAPSED TIME IN SECONDS: 1.40\n",
      "...gathering\n",
      "setup...\n",
      "...baking...\n",
      "Active radiuses: 108 / 108\n",
      "Sample size per active radius: 19\n",
      "Expected execution time for step: nan\n",
      "Elapsed time for whole iteration: 0.59\n",
      "Time per single iteration: 2.867491156966598e-05\n",
      "r: 28.0 . Turns to do: 10 . Min found: 2\n",
      "Active radiuses: 108 / 108\n",
      "Sample size per active radius: 19\n",
      "Expected execution time for step: 0.59\n",
      "Elapsed time for whole iteration: 0.57\n",
      "Time per single iteration: 2.790340903209664e-05\n",
      "r: 47.0 . Turns to do: 3 . Min found: 0\n",
      "Active radiuses: 52 / 108\n",
      "Sample size per active radius: 39\n",
      "Expected execution time for step: 0.17\n"
     ]
    },
    {
     "name": "stderr",
     "output_type": "stream",
     "text": [
      "Iterations:  31%|███       | 31/100 [00:48<01:48,  1.57s/it]"
     ]
    },
    {
     "name": "stdout",
     "output_type": "stream",
     "text": [
      "Elapsed time for whole iteration: 0.26\n",
      "Time per single iteration: 4.261638050718891e-05\n",
      "r: 86.0 . Turns to do: 1 . Min found: 0\n",
      "Active radiuses: 2 / 108\n",
      "Sample size per active radius: 1000\n",
      "Expected execution time for step: 0.09\n",
      "Elapsed time for whole iteration: 0.16\n",
      "Time per single iteration: 8.249616622924805e-05\n",
      "r: 1086.0 . Turns to do: 0 . Min found: 0\n",
      "TOTAL ELAPSED TIME IN SECONDS: 1.59\n",
      "...gathering\n",
      "setup...\n",
      "...baking...\n",
      "Active radiuses: 108 / 108\n",
      "Sample size per active radius: 19\n",
      "Expected execution time for step: nan\n",
      "Elapsed time for whole iteration: 0.59\n",
      "Time per single iteration: 2.8654880690992925e-05\n",
      "r: 28.0 . Turns to do: 10 . Min found: 2\n",
      "Active radiuses: 108 / 108\n",
      "Sample size per active radius: 19\n",
      "Expected execution time for step: 0.59\n",
      "Elapsed time for whole iteration: 0.57\n",
      "Time per single iteration: 2.7980534886291383e-05\n",
      "r: 47.0 . Turns to do: 6 . Min found: 0\n",
      "Active radiuses: 47 / 108\n",
      "Sample size per active radius: 43\n",
      "Expected execution time for step: 0.34\n"
     ]
    },
    {
     "name": "stderr",
     "output_type": "stream",
     "text": [
      "Iterations:  32%|███▏      | 32/100 [00:50<01:49,  1.61s/it]"
     ]
    },
    {
     "name": "stdout",
     "output_type": "stream",
     "text": [
      "Elapsed time for whole iteration: 0.35\n",
      "Time per single iteration: 2.880145983198148e-05\n",
      "r: 90.0 . Turns to do: 1 . Min found: 0\n",
      "Active radiuses: 1 / 108\n",
      "Sample size per active radius: 2000\n",
      "Expected execution time for step: 0.06\n",
      "Elapsed time for whole iteration: 0.17\n",
      "Time per single iteration: 8.368563652038574e-05\n",
      "r: 2090.0 . Turns to do: 0 . Min found: 0\n",
      "TOTAL ELAPSED TIME IN SECONDS: 1.68\n",
      "...gathering\n",
      "setup...\n",
      "...baking...\n",
      "Active radiuses: 108 / 108\n",
      "Sample size per active radius: 19\n",
      "Expected execution time for step: nan\n",
      "Elapsed time for whole iteration: 0.59\n",
      "Time per single iteration: 2.8614005614907188e-05\n",
      "r: 28.0 . Turns to do: 10 . Min found: 1\n",
      "Active radiuses: 108 / 108\n",
      "Sample size per active radius: 19\n",
      "Expected execution time for step: 0.59\n",
      "Elapsed time for whole iteration: 0.57\n",
      "Time per single iteration: 2.7961003617701244e-05\n",
      "r: 47.0 . Turns to do: 3 . Min found: 0\n",
      "Active radiuses: 52 / 108\n",
      "Sample size per active radius: 39\n",
      "Expected execution time for step: 0.17\n"
     ]
    },
    {
     "name": "stderr",
     "output_type": "stream",
     "text": [
      "Iterations:  33%|███▎      | 33/100 [00:51<01:47,  1.61s/it]"
     ]
    },
    {
     "name": "stdout",
     "output_type": "stream",
     "text": [
      "Elapsed time for whole iteration: 0.26\n",
      "Time per single iteration: 4.197209387684558e-05\n",
      "r: 86.0 . Turns to do: 1 . Min found: 0\n",
      "Active radiuses: 1 / 108\n",
      "Sample size per active radius: 2000\n",
      "Expected execution time for step: 0.08\n",
      "Elapsed time for whole iteration: 0.16\n",
      "Time per single iteration: 7.870900630950928e-05\n",
      "r: 2086.0 . Turns to do: 0 . Min found: 0\n",
      "TOTAL ELAPSED TIME IN SECONDS: 1.57\n",
      "...gathering\n",
      "setup...\n",
      "...baking...\n",
      "Active radiuses: 107 / 107\n",
      "Sample size per active radius: 19\n",
      "Expected execution time for step: nan\n",
      "Elapsed time for whole iteration: 0.57\n",
      "Time per single iteration: 2.816442310428948e-05\n",
      "r: 28.0 . Turns to do: 10 . Min found: 3\n",
      "Active radiuses: 107 / 107\n",
      "Sample size per active radius: 19\n",
      "Expected execution time for step: 0.57\n",
      "Elapsed time for whole iteration: 0.57\n",
      "Time per single iteration: 2.7960189973199772e-05\n",
      "r: 47.0 . Turns to do: 3 . Min found: 0\n",
      "Active radiuses: 49 / 107\n",
      "Sample size per active radius: 41\n",
      "Expected execution time for step: 0.17\n"
     ]
    },
    {
     "name": "stderr",
     "output_type": "stream",
     "text": [
      "Iterations:  34%|███▍      | 34/100 [00:53<01:45,  1.60s/it]"
     ]
    },
    {
     "name": "stdout",
     "output_type": "stream",
     "text": [
      "Elapsed time for whole iteration: 0.25\n",
      "Time per single iteration: 4.081546479005689e-05\n",
      "r: 88.0 . Turns to do: 1 . Min found: 0\n",
      "Active radiuses: 1 / 107\n",
      "Sample size per active radius: 2000\n",
      "Expected execution time for step: 0.08\n",
      "Elapsed time for whole iteration: 0.16\n",
      "Time per single iteration: 8.241963386535644e-05\n",
      "r: 2088.0 . Turns to do: 0 . Min found: 0\n",
      "TOTAL ELAPSED TIME IN SECONDS: 1.55\n",
      "...gathering\n",
      "setup...\n",
      "...baking...\n",
      "Active radiuses: 107 / 107\n",
      "Sample size per active radius: 19\n",
      "Expected execution time for step: nan\n",
      "Elapsed time for whole iteration: 0.57\n",
      "Time per single iteration: 2.8133615155086338e-05\n",
      "r: 28.0 . Turns to do: 10 . Min found: 1\n",
      "Active radiuses: 107 / 107\n",
      "Sample size per active radius: 19\n",
      "Expected execution time for step: 0.57\n",
      "Elapsed time for whole iteration: 0.57\n",
      "Time per single iteration: 2.795949805504104e-05\n",
      "r: 47.0 . Turns to do: 5 . Min found: 0\n",
      "Active radiuses: 50 / 107\n",
      "Sample size per active radius: 40\n",
      "Expected execution time for step: 0.28\n"
     ]
    },
    {
     "name": "stderr",
     "output_type": "stream",
     "text": [
      "Iterations:  35%|███▌      | 35/100 [00:55<01:41,  1.57s/it]"
     ]
    },
    {
     "name": "stdout",
     "output_type": "stream",
     "text": [
      "Elapsed time for whole iteration: 0.32\n",
      "Time per single iteration: 3.231184482574463e-05\n",
      "r: 87.0 . Turns to do: 0 . Min found: 0\n",
      "TOTAL ELAPSED TIME IN SECONDS: 1.46\n",
      "...gathering\n",
      "setup...\n",
      "...baking...\n",
      "Active radiuses: 108 / 108\n",
      "Sample size per active radius: 19\n",
      "Expected execution time for step: nan\n",
      "Elapsed time for whole iteration: 0.59\n",
      "Time per single iteration: 2.858218161450957e-05\n",
      "r: 28.0 . Turns to do: 10 . Min found: 1\n",
      "Active radiuses: 108 / 108\n",
      "Sample size per active radius: 19\n",
      "Expected execution time for step: 0.59\n",
      "Elapsed time for whole iteration: 0.57\n",
      "Time per single iteration: 2.7889419949775086e-05\n",
      "r: 47.0 . Turns to do: 4 . Min found: 0\n",
      "Active radiuses: 52 / 108\n",
      "Sample size per active radius: 39\n",
      "Expected execution time for step: 0.23\n"
     ]
    },
    {
     "name": "stderr",
     "output_type": "stream",
     "text": [
      "Iterations:  36%|███▌      | 36/100 [00:56<01:38,  1.54s/it]"
     ]
    },
    {
     "name": "stdout",
     "output_type": "stream",
     "text": [
      "Elapsed time for whole iteration: 0.28\n",
      "Time per single iteration: 3.454859205016488e-05\n",
      "r: 86.0 . Turns to do: 0 . Min found: 0\n",
      "TOTAL ELAPSED TIME IN SECONDS: 1.44\n",
      "...gathering\n",
      "setup...\n",
      "...baking...\n",
      "Active radiuses: 107 / 107\n",
      "Sample size per active radius: 19\n",
      "Expected execution time for step: nan\n",
      "Elapsed time for whole iteration: 0.58\n",
      "Time per single iteration: 2.8465337138778753e-05\n",
      "r: 28.0 . Turns to do: 10 . Min found: 1\n",
      "Active radiuses: 107 / 107\n",
      "Sample size per active radius: 19\n",
      "Expected execution time for step: 0.58\n",
      "Elapsed time for whole iteration: 0.58\n",
      "Time per single iteration: 2.8293389612621003e-05\n",
      "r: 47.0 . Turns to do: 9 . Min found: 0\n",
      "Active radiuses: 46 / 107\n",
      "Sample size per active radius: 44\n",
      "Expected execution time for step: 0.52\n"
     ]
    },
    {
     "name": "stderr",
     "output_type": "stream",
     "text": [
      "Iterations:  37%|███▋      | 37/100 [00:58<01:38,  1.57s/it]"
     ]
    },
    {
     "name": "stdout",
     "output_type": "stream",
     "text": [
      "Elapsed time for whole iteration: 0.46\n",
      "Time per single iteration: 2.5304069527419555e-05\n",
      "r: 91.0 . Turns to do: 0 . Min found: 0\n",
      "TOTAL ELAPSED TIME IN SECONDS: 1.61\n",
      "...gathering\n",
      "setup...\n",
      "...baking...\n",
      "Active radiuses: 106 / 106\n",
      "Sample size per active radius: 19\n",
      "Expected execution time for step: nan\n",
      "Elapsed time for whole iteration: 0.57\n",
      "Time per single iteration: 2.849450059301685e-05\n",
      "r: 28.0 . Turns to do: 10 . Min found: 1\n",
      "Active radiuses: 106 / 106\n",
      "Sample size per active radius: 19\n",
      "Expected execution time for step: 0.57\n",
      "Elapsed time for whole iteration: 0.58\n",
      "Time per single iteration: 2.856681931693599e-05\n",
      "r: 47.0 . Turns to do: 10 . Min found: 0\n",
      "Active radiuses: 50 / 106\n",
      "Sample size per active radius: 40\n",
      "Expected execution time for step: 0.57\n"
     ]
    },
    {
     "name": "stderr",
     "output_type": "stream",
     "text": [
      "Iterations:  38%|███▊      | 38/100 [01:00<01:43,  1.66s/it]"
     ]
    },
    {
     "name": "stdout",
     "output_type": "stream",
     "text": [
      "Elapsed time for whole iteration: 0.54\n",
      "Time per single iteration: 2.7008891105651856e-05\n",
      "r: 87.0 . Turns to do: 1 . Min found: 0\n",
      "Active radiuses: 1 / 106\n",
      "Sample size per active radius: 2000\n",
      "Expected execution time for step: 0.05\n",
      "Elapsed time for whole iteration: 0.17\n",
      "Time per single iteration: 8.271706104278564e-05\n",
      "r: 2087.0 . Turns to do: 0 . Min found: 0\n",
      "TOTAL ELAPSED TIME IN SECONDS: 1.85\n",
      "...gathering\n",
      "setup...\n",
      "...baking...\n",
      "Active radiuses: 107 / 107\n",
      "Sample size per active radius: 19\n",
      "Expected execution time for step: nan\n",
      "Elapsed time for whole iteration: 0.57\n",
      "Time per single iteration: 2.8148368257521644e-05\n",
      "r: 28.0 . Turns to do: 10 . Min found: 1\n",
      "Active radiuses: 107 / 107\n",
      "Sample size per active radius: 19\n",
      "Expected execution time for step: 0.57\n",
      "Elapsed time for whole iteration: 0.57\n",
      "Time per single iteration: 2.7994668606872107e-05\n",
      "r: 47.0 . Turns to do: 10 . Min found: 0\n",
      "Active radiuses: 52 / 107\n",
      "Sample size per active radius: 39\n",
      "Expected execution time for step: 0.57\n"
     ]
    },
    {
     "name": "stderr",
     "output_type": "stream",
     "text": [
      "Iterations:  39%|███▉      | 39/100 [01:01<01:44,  1.71s/it]"
     ]
    },
    {
     "name": "stdout",
     "output_type": "stream",
     "text": [
      "Elapsed time for whole iteration: 0.49\n",
      "Time per single iteration: 2.4353952332596336e-05\n",
      "r: 86.0 . Turns to do: 1 . Min found: 0\n",
      "Active radiuses: 3 / 107\n",
      "Sample size per active radius: 667\n",
      "Expected execution time for step: 0.05\n",
      "Elapsed time for whole iteration: 0.16\n",
      "Time per single iteration: 8.221437548590206e-05\n",
      "r: 753.0 . Turns to do: 0 . Min found: 0\n",
      "TOTAL ELAPSED TIME IN SECONDS: 1.80\n",
      "...gathering\n",
      "setup...\n",
      "...baking...\n",
      "Active radiuses: 108 / 108\n",
      "Sample size per active radius: 19\n",
      "Expected execution time for step: nan\n",
      "Elapsed time for whole iteration: 0.59\n",
      "Time per single iteration: 2.8639532204492283e-05\n",
      "r: 28.0 . Turns to do: 10 . Min found: 0\n",
      "Active radiuses: 107 / 108\n",
      "Sample size per active radius: 19\n",
      "Expected execution time for step: 0.58\n",
      "Elapsed time for whole iteration: 0.57\n",
      "Time per single iteration: 2.806142111804998e-05\n",
      "r: 47.0 . Turns to do: 7 . Min found: 0\n",
      "Active radiuses: 57 / 108\n",
      "Sample size per active radius: 36\n",
      "Expected execution time for step: 0.40\n"
     ]
    },
    {
     "name": "stderr",
     "output_type": "stream",
     "text": [
      "Iterations:  40%|████      | 40/100 [01:03<01:43,  1.72s/it]"
     ]
    },
    {
     "name": "stdout",
     "output_type": "stream",
     "text": [
      "Elapsed time for whole iteration: 0.39\n",
      "Time per single iteration: 2.723711508291739e-05\n",
      "r: 83.0 . Turns to do: 1 . Min found: 0\n",
      "Active radiuses: 2 / 108\n",
      "Sample size per active radius: 1000\n",
      "Expected execution time for step: 0.05\n",
      "Elapsed time for whole iteration: 0.17\n",
      "Time per single iteration: 8.276188373565673e-05\n",
      "r: 1083.0 . Turns to do: 0 . Min found: 0\n",
      "TOTAL ELAPSED TIME IN SECONDS: 1.71\n",
      "...gathering\n",
      "setup...\n",
      "...baking...\n",
      "Active radiuses: 107 / 107\n",
      "Sample size per active radius: 19\n",
      "Expected execution time for step: nan\n",
      "Elapsed time for whole iteration: 0.57\n",
      "Time per single iteration: 2.8191314093068616e-05\n",
      "r: 28.0 . Turns to do: 10 . Min found: 0\n",
      "Active radiuses: 105 / 107\n",
      "Sample size per active radius: 20\n",
      "Expected execution time for step: 0.59\n",
      "Elapsed time for whole iteration: 0.57\n",
      "Time per single iteration: 2.7185360590616863e-05\n",
      "r: 48.0 . Turns to do: 5 . Min found: 0\n",
      "Active radiuses: 51 / 107\n",
      "Sample size per active radius: 40\n",
      "Expected execution time for step: 0.28\n"
     ]
    },
    {
     "name": "stderr",
     "output_type": "stream",
     "text": [
      "Iterations:  41%|████      | 41/100 [01:05<01:40,  1.71s/it]"
     ]
    },
    {
     "name": "stdout",
     "output_type": "stream",
     "text": [
      "Elapsed time for whole iteration: 0.34\n",
      "Time per single iteration: 3.355302062689089e-05\n",
      "r: 88.0 . Turns to do: 1 . Min found: 0\n",
      "Active radiuses: 2 / 107\n",
      "Sample size per active radius: 1000\n",
      "Expected execution time for step: 0.07\n",
      "Elapsed time for whole iteration: 0.17\n",
      "Time per single iteration: 8.352518081665039e-05\n",
      "r: 1088.0 . Turns to do: 0 . Min found: 0\n",
      "TOTAL ELAPSED TIME IN SECONDS: 1.65\n",
      "...gathering\n",
      "setup...\n",
      "...baking...\n",
      "Active radiuses: 108 / 108\n",
      "Sample size per active radius: 19\n",
      "Expected execution time for step: nan\n",
      "Elapsed time for whole iteration: 0.59\n",
      "Time per single iteration: 2.8608161338821024e-05\n",
      "r: 28.0 . Turns to do: 10 . Min found: 1\n",
      "Active radiuses: 108 / 108\n",
      "Sample size per active radius: 19\n",
      "Expected execution time for step: 0.59\n",
      "Elapsed time for whole iteration: 0.57\n",
      "Time per single iteration: 2.790666230705514e-05\n",
      "r: 47.0 . Turns to do: 5 . Min found: 0\n",
      "Active radiuses: 58 / 108\n",
      "Sample size per active radius: 35\n",
      "Expected execution time for step: 0.28\n"
     ]
    },
    {
     "name": "stderr",
     "output_type": "stream",
     "text": [
      "Iterations:  42%|████▏     | 42/100 [01:06<01:38,  1.70s/it]"
     ]
    },
    {
     "name": "stdout",
     "output_type": "stream",
     "text": [
      "Elapsed time for whole iteration: 0.32\n",
      "Time per single iteration: 3.198489766990023e-05\n",
      "r: 82.0 . Turns to do: 1 . Min found: 0\n",
      "Active radiuses: 2 / 108\n",
      "Sample size per active radius: 1000\n",
      "Expected execution time for step: 0.06\n",
      "Elapsed time for whole iteration: 0.17\n",
      "Time per single iteration: 8.329212665557862e-05\n",
      "r: 1082.0 . Turns to do: 0 . Min found: 0\n",
      "TOTAL ELAPSED TIME IN SECONDS: 1.65\n",
      "...gathering\n",
      "setup...\n",
      "...baking...\n",
      "Active radiuses: 108 / 108\n",
      "Sample size per active radius: 19\n",
      "Expected execution time for step: nan\n",
      "Elapsed time for whole iteration: 0.59\n",
      "Time per single iteration: 2.8882795839514185e-05\n",
      "r: 28.0 . Turns to do: 10 . Min found: 1\n",
      "Active radiuses: 108 / 108\n",
      "Sample size per active radius: 19\n",
      "Expected execution time for step: 0.59\n",
      "Elapsed time for whole iteration: 0.57\n",
      "Time per single iteration: 2.795068608854714e-05\n",
      "r: 47.0 . Turns to do: 5 . Min found: 0\n",
      "Active radiuses: 52 / 108\n",
      "Sample size per active radius: 39\n",
      "Expected execution time for step: 0.28\n"
     ]
    },
    {
     "name": "stderr",
     "output_type": "stream",
     "text": [
      "Iterations:  43%|████▎     | 43/100 [01:08<01:36,  1.70s/it]"
     ]
    },
    {
     "name": "stdout",
     "output_type": "stream",
     "text": [
      "Elapsed time for whole iteration: 0.32\n",
      "Time per single iteration: 3.144675222844532e-05\n",
      "r: 86.0 . Turns to do: 1 . Min found: 0\n",
      "Active radiuses: 3 / 108\n",
      "Sample size per active radius: 667\n",
      "Expected execution time for step: 0.06\n",
      "Elapsed time for whole iteration: 0.17\n",
      "Time per single iteration: 8.259291412948311e-05\n",
      "r: 753.0 . Turns to do: 0 . Min found: 0\n",
      "TOTAL ELAPSED TIME IN SECONDS: 1.65\n",
      "...gathering\n",
      "setup...\n",
      "...baking...\n",
      "Active radiuses: 107 / 107\n",
      "Sample size per active radius: 19\n",
      "Expected execution time for step: nan\n",
      "Elapsed time for whole iteration: 0.57\n",
      "Time per single iteration: 2.8199007284799587e-05\n",
      "r: 28.0 . Turns to do: 10 . Min found: 0\n",
      "Active radiuses: 106 / 107\n",
      "Sample size per active radius: 19\n",
      "Expected execution time for step: 0.57\n",
      "Elapsed time for whole iteration: 0.57\n",
      "Time per single iteration: 2.826640480443051e-05\n",
      "r: 47.0 . Turns to do: 7 . Min found: 0\n",
      "Active radiuses: 50 / 107\n",
      "Sample size per active radius: 40\n",
      "Expected execution time for step: 0.40\n"
     ]
    },
    {
     "name": "stderr",
     "output_type": "stream",
     "text": [
      "Iterations:  44%|████▍     | 44/100 [01:10<01:35,  1.71s/it]"
     ]
    },
    {
     "name": "stdout",
     "output_type": "stream",
     "text": [
      "Elapsed time for whole iteration: 0.39\n",
      "Time per single iteration: 2.819911071232387e-05\n",
      "r: 87.0 . Turns to do: 1 . Min found: 0\n",
      "Active radiuses: 3 / 107\n",
      "Sample size per active radius: 667\n",
      "Expected execution time for step: 0.06\n",
      "Elapsed time for whole iteration: 0.16\n",
      "Time per single iteration: 8.242515133119475e-05\n",
      "r: 754.0 . Turns to do: 0 . Min found: 0\n",
      "TOTAL ELAPSED TIME IN SECONDS: 1.70\n",
      "...gathering\n",
      "setup...\n",
      "...baking...\n",
      "Active radiuses: 108 / 108\n",
      "Sample size per active radius: 19\n",
      "Expected execution time for step: nan\n",
      "Elapsed time for whole iteration: 0.59\n",
      "Time per single iteration: 2.858914129915293e-05\n",
      "r: 28.0 . Turns to do: 10 . Min found: 1\n",
      "Active radiuses: 108 / 108\n",
      "Sample size per active radius: 19\n",
      "Expected execution time for step: 0.59\n",
      "Elapsed time for whole iteration: 0.57\n",
      "Time per single iteration: 2.7960864191631592e-05\n",
      "r: 47.0 . Turns to do: 6 . Min found: 0\n",
      "Active radiuses: 53 / 108\n",
      "Sample size per active radius: 38\n",
      "Expected execution time for step: 0.34\n"
     ]
    },
    {
     "name": "stderr",
     "output_type": "stream",
     "text": [
      "Iterations:  45%|████▌     | 45/100 [01:12<01:33,  1.71s/it]"
     ]
    },
    {
     "name": "stdout",
     "output_type": "stream",
     "text": [
      "Elapsed time for whole iteration: 0.35\n",
      "Time per single iteration: 2.8681218407083843e-05\n",
      "r: 85.0 . Turns to do: 1 . Min found: 0\n",
      "Active radiuses: 1 / 108\n",
      "Sample size per active radius: 2000\n",
      "Expected execution time for step: 0.06\n",
      "Elapsed time for whole iteration: 0.17\n",
      "Time per single iteration: 8.305418491363525e-05\n",
      "r: 2085.0 . Turns to do: 0 . Min found: 0\n",
      "TOTAL ELAPSED TIME IN SECONDS: 1.67\n",
      "...gathering\n",
      "setup...\n",
      "...baking...\n",
      "Active radiuses: 108 / 108\n",
      "Sample size per active radius: 19\n",
      "Expected execution time for step: nan\n",
      "Elapsed time for whole iteration: 0.59\n",
      "Time per single iteration: 2.863735948157357e-05\n",
      "r: 28.0 . Turns to do: 10 . Min found: 1\n",
      "Active radiuses: 108 / 108\n",
      "Sample size per active radius: 19\n",
      "Expected execution time for step: 0.59\n",
      "Elapsed time for whole iteration: 0.57\n",
      "Time per single iteration: 2.7859187730339302e-05\n",
      "r: 47.0 . Turns to do: 3 . Min found: 0\n",
      "Active radiuses: 47 / 108\n",
      "Sample size per active radius: 43\n",
      "Expected execution time for step: 0.17\n"
     ]
    },
    {
     "name": "stderr",
     "output_type": "stream",
     "text": [
      "Iterations:  46%|████▌     | 46/100 [01:13<01:30,  1.68s/it]"
     ]
    },
    {
     "name": "stdout",
     "output_type": "stream",
     "text": [
      "Elapsed time for whole iteration: 0.24\n",
      "Time per single iteration: 3.998935881294906e-05\n",
      "r: 90.0 . Turns to do: 1 . Min found: 0\n",
      "Active radiuses: 1 / 108\n",
      "Sample size per active radius: 2000\n",
      "Expected execution time for step: 0.08\n",
      "Elapsed time for whole iteration: 0.17\n",
      "Time per single iteration: 8.541750907897949e-05\n",
      "r: 2090.0 . Turns to do: 0 . Min found: 0\n",
      "TOTAL ELAPSED TIME IN SECONDS: 1.57\n",
      "...gathering\n",
      "setup...\n",
      "...baking...\n",
      "Active radiuses: 108 / 108\n",
      "Sample size per active radius: 19\n",
      "Expected execution time for step: nan\n",
      "Elapsed time for whole iteration: 0.59\n",
      "Time per single iteration: 2.8674563004491853e-05\n",
      "r: 28.0 . Turns to do: 10 . Min found: 1\n",
      "Active radiuses: 108 / 108\n",
      "Sample size per active radius: 19\n",
      "Expected execution time for step: 0.59\n",
      "Elapsed time for whole iteration: 0.57\n",
      "Time per single iteration: 2.7923439910769694e-05\n",
      "r: 47.0 . Turns to do: 3 . Min found: 0\n",
      "Active radiuses: 43 / 108\n",
      "Sample size per active radius: 47\n",
      "Expected execution time for step: 0.17\n"
     ]
    },
    {
     "name": "stderr",
     "output_type": "stream",
     "text": [
      "Iterations:  47%|████▋     | 47/100 [01:15<01:24,  1.60s/it]"
     ]
    },
    {
     "name": "stdout",
     "output_type": "stream",
     "text": [
      "Elapsed time for whole iteration: 0.24\n",
      "Time per single iteration: 3.9129628416297654e-05\n",
      "r: 94.0 . Turns to do: 0 . Min found: 0\n",
      "TOTAL ELAPSED TIME IN SECONDS: 1.40\n",
      "...gathering\n",
      "setup...\n",
      "...baking...\n",
      "Active radiuses: 108 / 108\n",
      "Sample size per active radius: 19\n",
      "Expected execution time for step: nan\n",
      "Elapsed time for whole iteration: 0.59\n",
      "Time per single iteration: 2.858788646452608e-05\n",
      "r: 28.0 . Turns to do: 10 . Min found: 1\n",
      "Active radiuses: 108 / 108\n",
      "Sample size per active radius: 19\n",
      "Expected execution time for step: 0.59\n",
      "Elapsed time for whole iteration: 0.57\n",
      "Time per single iteration: 2.7938253930670012e-05\n",
      "r: 47.0 . Turns to do: 5 . Min found: 0\n",
      "Active radiuses: 50 / 108\n",
      "Sample size per active radius: 40\n",
      "Expected execution time for step: 0.28\n"
     ]
    },
    {
     "name": "stderr",
     "output_type": "stream",
     "text": [
      "Iterations:  48%|████▊     | 48/100 [01:16<01:24,  1.63s/it]"
     ]
    },
    {
     "name": "stdout",
     "output_type": "stream",
     "text": [
      "Elapsed time for whole iteration: 0.33\n",
      "Time per single iteration: 3.271293640136719e-05\n",
      "r: 87.0 . Turns to do: 1 . Min found: 0\n",
      "Active radiuses: 2 / 108\n",
      "Sample size per active radius: 1000\n",
      "Expected execution time for step: 0.07\n",
      "Elapsed time for whole iteration: 0.17\n",
      "Time per single iteration: 8.307540416717529e-05\n",
      "r: 1087.0 . Turns to do: 0 . Min found: 0\n",
      "TOTAL ELAPSED TIME IN SECONDS: 1.65\n",
      "...gathering\n",
      "setup...\n",
      "...baking...\n",
      "Active radiuses: 108 / 108\n",
      "Sample size per active radius: 19\n",
      "Expected execution time for step: nan\n",
      "Elapsed time for whole iteration: 0.59\n",
      "Time per single iteration: 2.87060849150719e-05\n",
      "r: 28.0 . Turns to do: 10 . Min found: 1\n",
      "Active radiuses: 108 / 108\n",
      "Sample size per active radius: 19\n",
      "Expected execution time for step: 0.59\n",
      "Elapsed time for whole iteration: 0.57\n",
      "Time per single iteration: 2.7875651625397145e-05\n",
      "r: 47.0 . Turns to do: 3 . Min found: 0\n",
      "Active radiuses: 48 / 108\n",
      "Sample size per active radius: 42\n",
      "Expected execution time for step: 0.17\n"
     ]
    },
    {
     "name": "stderr",
     "output_type": "stream",
     "text": [
      "Iterations:  49%|████▉     | 49/100 [01:18<01:22,  1.62s/it]"
     ]
    },
    {
     "name": "stdout",
     "output_type": "stream",
     "text": [
      "Elapsed time for whole iteration: 0.25\n",
      "Time per single iteration: 4.158862841823114e-05\n",
      "r: 89.0 . Turns to do: 1 . Min found: 0\n",
      "Active radiuses: 1 / 108\n",
      "Sample size per active radius: 2000\n",
      "Expected execution time for step: 0.08\n",
      "Elapsed time for whole iteration: 0.17\n",
      "Time per single iteration: 8.336281776428223e-05\n",
      "r: 2089.0 . Turns to do: 0 . Min found: 0\n",
      "TOTAL ELAPSED TIME IN SECONDS: 1.58\n",
      "...gathering\n",
      "setup...\n",
      "...baking...\n",
      "Active radiuses: 108 / 108\n",
      "Sample size per active radius: 19\n",
      "Expected execution time for step: nan\n",
      "Elapsed time for whole iteration: 0.59\n",
      "Time per single iteration: 2.862856402034648e-05\n",
      "r: 28.0 . Turns to do: 10 . Min found: 2\n",
      "Active radiuses: 108 / 108\n",
      "Sample size per active radius: 19\n",
      "Expected execution time for step: 0.59\n",
      "Elapsed time for whole iteration: 0.57\n",
      "Time per single iteration: 2.796832348635787e-05\n",
      "r: 47.0 . Turns to do: 3 . Min found: 0\n",
      "Active radiuses: 41 / 108\n",
      "Sample size per active radius: 49\n",
      "Expected execution time for step: 0.17\n"
     ]
    },
    {
     "name": "stderr",
     "output_type": "stream",
     "text": [
      "Iterations:  50%|█████     | 50/100 [01:19<01:18,  1.56s/it]"
     ]
    },
    {
     "name": "stdout",
     "output_type": "stream",
     "text": [
      "Elapsed time for whole iteration: 0.24\n",
      "Time per single iteration: 3.959947861069685e-05\n",
      "r: 96.0 . Turns to do: 0 . Min found: 0\n",
      "TOTAL ELAPSED TIME IN SECONDS: 1.40\n",
      "...gathering\n",
      "setup...\n",
      "...baking...\n",
      "Active radiuses: 108 / 108\n",
      "Sample size per active radius: 19\n",
      "Expected execution time for step: nan\n",
      "Elapsed time for whole iteration: 0.59\n",
      "Time per single iteration: 2.8711406343396878e-05\n",
      "r: 28.0 . Turns to do: 10 . Min found: 1\n",
      "Active radiuses: 108 / 108\n",
      "Sample size per active radius: 19\n",
      "Expected execution time for step: 0.59\n",
      "Elapsed time for whole iteration: 0.58\n",
      "Time per single iteration: 2.8024686475013896e-05\n",
      "r: 47.0 . Turns to do: 4 . Min found: 0\n",
      "Active radiuses: 41 / 108\n",
      "Sample size per active radius: 49\n",
      "Expected execution time for step: 0.23\n"
     ]
    },
    {
     "name": "stderr",
     "output_type": "stream",
     "text": [
      "Iterations:  51%|█████     | 51/100 [01:21<01:15,  1.53s/it]"
     ]
    },
    {
     "name": "stdout",
     "output_type": "stream",
     "text": [
      "Elapsed time for whole iteration: 0.28\n",
      "Time per single iteration: 3.432761738702633e-05\n",
      "r: 96.0 . Turns to do: 0 . Min found: 0\n",
      "TOTAL ELAPSED TIME IN SECONDS: 1.44\n",
      "...gathering\n",
      "setup...\n",
      "...baking...\n",
      "Active radiuses: 108 / 108\n",
      "Sample size per active radius: 19\n",
      "Expected execution time for step: nan\n",
      "Elapsed time for whole iteration: 0.60\n",
      "Time per single iteration: 2.9040544818484062e-05\n",
      "r: 28.0 . Turns to do: 10 . Min found: 3\n",
      "Active radiuses: 108 / 108\n",
      "Sample size per active radius: 19\n",
      "Expected execution time for step: 0.60\n",
      "Elapsed time for whole iteration: 0.58\n",
      "Time per single iteration: 2.814523193106549e-05\n",
      "r: 47.0 . Turns to do: 4 . Min found: 0\n",
      "Active radiuses: 52 / 108\n",
      "Sample size per active radius: 39\n",
      "Expected execution time for step: 0.23\n"
     ]
    },
    {
     "name": "stderr",
     "output_type": "stream",
     "text": [
      "Iterations:  52%|█████▏    | 52/100 [01:22<01:12,  1.52s/it]"
     ]
    },
    {
     "name": "stdout",
     "output_type": "stream",
     "text": [
      "Elapsed time for whole iteration: 0.28\n",
      "Time per single iteration: 3.499330500879231e-05\n",
      "r: 86.0 . Turns to do: 0 . Min found: 0\n",
      "TOTAL ELAPSED TIME IN SECONDS: 1.46\n",
      "...gathering\n",
      "setup...\n",
      "...baking...\n",
      "Active radiuses: 108 / 108\n",
      "Sample size per active radius: 19\n",
      "Expected execution time for step: nan\n",
      "Elapsed time for whole iteration: 0.59\n",
      "Time per single iteration: 2.8910925049066077e-05\n",
      "r: 28.0 . Turns to do: 10 . Min found: 3\n",
      "Active radiuses: 108 / 108\n",
      "Sample size per active radius: 19\n",
      "Expected execution time for step: 0.59\n",
      "Elapsed time for whole iteration: 0.58\n",
      "Time per single iteration: 2.8185096168146263e-05\n",
      "r: 47.0 . Turns to do: 4 . Min found: 0\n",
      "Active radiuses: 44 / 108\n",
      "Sample size per active radius: 46\n",
      "Expected execution time for step: 0.23\n"
     ]
    },
    {
     "name": "stderr",
     "output_type": "stream",
     "text": [
      "Iterations:  53%|█████▎    | 53/100 [01:24<01:11,  1.51s/it]"
     ]
    },
    {
     "name": "stdout",
     "output_type": "stream",
     "text": [
      "Elapsed time for whole iteration: 0.29\n",
      "Time per single iteration: 3.5793531553547375e-05\n",
      "r: 93.0 . Turns to do: 0 . Min found: 0\n",
      "TOTAL ELAPSED TIME IN SECONDS: 1.46\n",
      "...gathering\n",
      "setup...\n",
      "...baking...\n",
      "Active radiuses: 107 / 107\n",
      "Sample size per active radius: 19\n",
      "Expected execution time for step: nan\n",
      "Elapsed time for whole iteration: 0.57\n",
      "Time per single iteration: 2.8248977848771635e-05\n",
      "r: 28.0 . Turns to do: 10 . Min found: 2\n",
      "Active radiuses: 107 / 107\n",
      "Sample size per active radius: 19\n",
      "Expected execution time for step: 0.57\n",
      "Elapsed time for whole iteration: 0.58\n",
      "Time per single iteration: 2.8626542342336554e-05\n",
      "r: 47.0 . Turns to do: 4 . Min found: 0\n",
      "Active radiuses: 52 / 107\n",
      "Sample size per active radius: 39\n",
      "Expected execution time for step: 0.23\n"
     ]
    },
    {
     "name": "stderr",
     "output_type": "stream",
     "text": [
      "Iterations:  54%|█████▍    | 54/100 [01:25<01:11,  1.55s/it]"
     ]
    },
    {
     "name": "stdout",
     "output_type": "stream",
     "text": [
      "Elapsed time for whole iteration: 0.28\n",
      "Time per single iteration: 3.479738559948622e-05\n",
      "r: 86.0 . Turns to do: 1 . Min found: 0\n",
      "Active radiuses: 2 / 107\n",
      "Sample size per active radius: 1000\n",
      "Expected execution time for step: 0.07\n",
      "Elapsed time for whole iteration: 0.17\n",
      "Time per single iteration: 8.262276649475098e-05\n",
      "r: 1086.0 . Turns to do: 0 . Min found: 0\n",
      "TOTAL ELAPSED TIME IN SECONDS: 1.60\n",
      "...gathering\n",
      "setup...\n",
      "...baking...\n",
      "Active radiuses: 107 / 107\n",
      "Sample size per active radius: 19\n",
      "Expected execution time for step: nan\n",
      "Elapsed time for whole iteration: 0.57\n",
      "Time per single iteration: 2.817134228587678e-05\n",
      "r: 28.0 . Turns to do: 10 . Min found: 1\n",
      "Active radiuses: 107 / 107\n",
      "Sample size per active radius: 19\n",
      "Expected execution time for step: 0.57\n",
      "Elapsed time for whole iteration: 0.57\n",
      "Time per single iteration: 2.8069231584045138e-05\n",
      "r: 47.0 . Turns to do: 4 . Min found: 0\n",
      "Active radiuses: 56 / 107\n",
      "Sample size per active radius: 36\n",
      "Expected execution time for step: 0.23\n"
     ]
    },
    {
     "name": "stderr",
     "output_type": "stream",
     "text": [
      "Iterations:  55%|█████▌    | 55/100 [01:27<01:10,  1.57s/it]"
     ]
    },
    {
     "name": "stdout",
     "output_type": "stream",
     "text": [
      "Elapsed time for whole iteration: 0.30\n",
      "Time per single iteration: 3.688279835004655e-05\n",
      "r: 83.0 . Turns to do: 1 . Min found: 0\n",
      "Active radiuses: 1 / 107\n",
      "Sample size per active radius: 2000\n",
      "Expected execution time for step: 0.07\n",
      "Elapsed time for whole iteration: 0.15\n",
      "Time per single iteration: 7.747387886047364e-05\n",
      "r: 2083.0 . Turns to do: 0 . Min found: 0\n",
      "TOTAL ELAPSED TIME IN SECONDS: 1.60\n",
      "...gathering\n",
      "setup...\n",
      "...baking...\n",
      "Active radiuses: 108 / 108\n",
      "Sample size per active radius: 19\n",
      "Expected execution time for step: nan\n",
      "Elapsed time for whole iteration: 0.60\n",
      "Time per single iteration: 2.9071404455233272e-05\n",
      "r: 28.0 . Turns to do: 10 . Min found: 1\n",
      "Active radiuses: 108 / 108\n",
      "Sample size per active radius: 19\n",
      "Expected execution time for step: 0.60\n",
      "Elapsed time for whole iteration: 0.57\n",
      "Time per single iteration: 2.799186325445045e-05\n",
      "r: 47.0 . Turns to do: 4 . Min found: 0\n",
      "Active radiuses: 58 / 108\n",
      "Sample size per active radius: 35\n",
      "Expected execution time for step: 0.23\n"
     ]
    },
    {
     "name": "stderr",
     "output_type": "stream",
     "text": [
      "Iterations:  56%|█████▌    | 56/100 [01:29<01:10,  1.60s/it]"
     ]
    },
    {
     "name": "stdout",
     "output_type": "stream",
     "text": [
      "Elapsed time for whole iteration: 0.29\n",
      "Time per single iteration: 3.5362319993268094e-05\n",
      "r: 82.0 . Turns to do: 1 . Min found: 0\n",
      "Active radiuses: 2 / 108\n",
      "Sample size per active radius: 1000\n",
      "Expected execution time for step: 0.07\n",
      "Elapsed time for whole iteration: 0.17\n",
      "Time per single iteration: 8.274352550506591e-05\n",
      "r: 1082.0 . Turns to do: 0 . Min found: 0\n",
      "TOTAL ELAPSED TIME IN SECONDS: 1.62\n",
      "...gathering\n",
      "setup...\n",
      "...baking...\n",
      "Active radiuses: 109 / 109\n",
      "Sample size per active radius: 19\n",
      "Expected execution time for step: nan\n",
      "Elapsed time for whole iteration: 0.57\n",
      "Time per single iteration: 2.768161733158541e-05\n",
      "r: 28.0 . Turns to do: 10 . Min found: 2\n",
      "Active radiuses: 109 / 109\n",
      "Sample size per active radius: 19\n",
      "Expected execution time for step: 0.57\n",
      "Elapsed time for whole iteration: 0.57\n",
      "Time per single iteration: 2.7659962800089028e-05\n",
      "r: 47.0 . Turns to do: 5 . Min found: 0\n",
      "Active radiuses: 58 / 109\n",
      "Sample size per active radius: 35\n",
      "Expected execution time for step: 0.28\n"
     ]
    },
    {
     "name": "stderr",
     "output_type": "stream",
     "text": [
      "Iterations:  57%|█████▋    | 57/100 [01:30<01:09,  1.62s/it]"
     ]
    },
    {
     "name": "stdout",
     "output_type": "stream",
     "text": [
      "Elapsed time for whole iteration: 0.34\n",
      "Time per single iteration: 3.355737977427215e-05\n",
      "r: 82.0 . Turns to do: 1 . Min found: 0\n",
      "Active radiuses: 1 / 109\n",
      "Sample size per active radius: 2000\n",
      "Expected execution time for step: 0.07\n",
      "Elapsed time for whole iteration: 0.17\n",
      "Time per single iteration: 8.461940288543702e-05\n",
      "r: 2082.0 . Turns to do: 0 . Min found: 0\n",
      "TOTAL ELAPSED TIME IN SECONDS: 1.66\n",
      "...gathering\n",
      "setup...\n",
      "...baking...\n",
      "Active radiuses: 109 / 109\n",
      "Sample size per active radius: 19\n",
      "Expected execution time for step: nan\n",
      "Elapsed time for whole iteration: 0.57\n",
      "Time per single iteration: 2.7687500088414036e-05\n",
      "r: 28.0 . Turns to do: 10 . Min found: 2\n",
      "Active radiuses: 109 / 109\n",
      "Sample size per active radius: 19\n",
      "Expected execution time for step: 0.57\n",
      "Elapsed time for whole iteration: 0.57\n",
      "Time per single iteration: 2.748132730554924e-05\n",
      "r: 47.0 . Turns to do: 3 . Min found: 0\n",
      "Active radiuses: 57 / 109\n",
      "Sample size per active radius: 36\n",
      "Expected execution time for step: 0.17\n"
     ]
    },
    {
     "name": "stderr",
     "output_type": "stream",
     "text": [
      "Iterations:  58%|█████▊    | 58/100 [01:32<01:07,  1.62s/it]"
     ]
    },
    {
     "name": "stdout",
     "output_type": "stream",
     "text": [
      "Elapsed time for whole iteration: 0.26\n",
      "Time per single iteration: 4.20091522444836e-05\n",
      "r: 83.0 . Turns to do: 1 . Min found: 0\n",
      "Active radiuses: 1 / 109\n",
      "Sample size per active radius: 2000\n",
      "Expected execution time for step: 0.08\n",
      "Elapsed time for whole iteration: 0.16\n",
      "Time per single iteration: 8.066558837890625e-05\n",
      "r: 2083.0 . Turns to do: 0 . Min found: 0\n",
      "TOTAL ELAPSED TIME IN SECONDS: 1.56\n",
      "...gathering\n",
      "setup...\n",
      "...baking...\n",
      "Active radiuses: 108 / 108\n",
      "Sample size per active radius: 19\n",
      "Expected execution time for step: nan\n",
      "Elapsed time for whole iteration: 0.60\n",
      "Time per single iteration: 2.9064270488002844e-05\n",
      "r: 28.0 . Turns to do: 10 . Min found: 2\n",
      "Active radiuses: 108 / 108\n",
      "Sample size per active radius: 19\n",
      "Expected execution time for step: 0.60\n",
      "Elapsed time for whole iteration: 0.58\n",
      "Time per single iteration: 2.814934500012017e-05\n",
      "r: 47.0 . Turns to do: 3 . Min found: 0\n",
      "Active radiuses: 49 / 108\n",
      "Sample size per active radius: 41\n",
      "Expected execution time for step: 0.17\n"
     ]
    },
    {
     "name": "stderr",
     "output_type": "stream",
     "text": [
      "Iterations:  59%|█████▉    | 59/100 [01:34<01:06,  1.62s/it]"
     ]
    },
    {
     "name": "stdout",
     "output_type": "stream",
     "text": [
      "Elapsed time for whole iteration: 0.26\n",
      "Time per single iteration: 4.338150062390143e-05\n",
      "r: 88.0 . Turns to do: 1 . Min found: 0\n",
      "Active radiuses: 2 / 108\n",
      "Sample size per active radius: 1000\n",
      "Expected execution time for step: 0.09\n",
      "Elapsed time for whole iteration: 0.17\n",
      "Time per single iteration: 8.405351638793945e-05\n",
      "r: 1088.0 . Turns to do: 0 . Min found: 0\n",
      "TOTAL ELAPSED TIME IN SECONDS: 1.60\n",
      "...gathering\n",
      "setup...\n",
      "...baking...\n",
      "Active radiuses: 110 / 110\n",
      "Sample size per active radius: 19\n",
      "Expected execution time for step: nan\n",
      "Elapsed time for whole iteration: 0.58\n",
      "Time per single iteration: 2.7697497007379123e-05\n",
      "r: 28.0 . Turns to do: 10 . Min found: 1\n",
      "Active radiuses: 110 / 110\n",
      "Sample size per active radius: 19\n",
      "Expected execution time for step: 0.58\n",
      "Elapsed time for whole iteration: 0.57\n",
      "Time per single iteration: 2.7356946297239458e-05\n",
      "r: 47.0 . Turns to do: 4 . Min found: 0\n",
      "Active radiuses: 50 / 110\n",
      "Sample size per active radius: 40\n",
      "Expected execution time for step: 0.22\n"
     ]
    },
    {
     "name": "stderr",
     "output_type": "stream",
     "text": [
      "Iterations:  60%|██████    | 60/100 [01:35<01:04,  1.62s/it]"
     ]
    },
    {
     "name": "stdout",
     "output_type": "stream",
     "text": [
      "Elapsed time for whole iteration: 0.28\n",
      "Time per single iteration: 3.537648916244507e-05\n",
      "r: 87.0 . Turns to do: 1 . Min found: 0\n",
      "Active radiuses: 1 / 110\n",
      "Sample size per active radius: 2000\n",
      "Expected execution time for step: 0.07\n",
      "Elapsed time for whole iteration: 0.17\n",
      "Time per single iteration: 8.374094963073731e-05\n",
      "r: 2087.0 . Turns to do: 0 . Min found: 0\n",
      "TOTAL ELAPSED TIME IN SECONDS: 1.60\n",
      "...gathering\n",
      "setup...\n",
      "...baking...\n",
      "Active radiuses: 111 / 111\n",
      "Sample size per active radius: 19\n",
      "Expected execution time for step: nan\n",
      "Elapsed time for whole iteration: 0.57\n",
      "Time per single iteration: 2.711433095918441e-05\n",
      "r: 28.0 . Turns to do: 10 . Min found: 1\n",
      "Active radiuses: 111 / 111\n",
      "Sample size per active radius: 19\n",
      "Expected execution time for step: 0.57\n",
      "Elapsed time for whole iteration: 0.57\n",
      "Time per single iteration: 2.703018921028669e-05\n",
      "r: 47.0 . Turns to do: 3 . Min found: 0\n",
      "Active radiuses: 56 / 111\n",
      "Sample size per active radius: 36\n",
      "Expected execution time for step: 0.16\n"
     ]
    },
    {
     "name": "stderr",
     "output_type": "stream",
     "text": [
      "Iterations:  61%|██████    | 61/100 [01:37<01:02,  1.61s/it]"
     ]
    },
    {
     "name": "stdout",
     "output_type": "stream",
     "text": [
      "Elapsed time for whole iteration: 0.25\n",
      "Time per single iteration: 4.1323245833159755e-05\n",
      "r: 83.0 . Turns to do: 1 . Min found: 0\n",
      "Active radiuses: 2 / 111\n",
      "Sample size per active radius: 1000\n",
      "Expected execution time for step: 0.08\n",
      "Elapsed time for whole iteration: 0.17\n",
      "Time per single iteration: 8.275675773620606e-05\n",
      "r: 1083.0 . Turns to do: 0 . Min found: 0\n",
      "TOTAL ELAPSED TIME IN SECONDS: 1.56\n",
      "...gathering\n",
      "setup...\n",
      "...baking...\n",
      "Active radiuses: 111 / 111\n",
      "Sample size per active radius: 19\n",
      "Expected execution time for step: nan\n",
      "Elapsed time for whole iteration: 0.57\n",
      "Time per single iteration: 2.715574050187047e-05\n",
      "r: 28.0 . Turns to do: 10 . Min found: 3\n",
      "Active radiuses: 111 / 111\n",
      "Sample size per active radius: 19\n",
      "Expected execution time for step: 0.57\n",
      "Elapsed time for whole iteration: 0.57\n",
      "Time per single iteration: 2.7060520032843802e-05\n",
      "r: 47.0 . Turns to do: 5 . Min found: 0\n",
      "Active radiuses: 46 / 111\n",
      "Sample size per active radius: 44\n",
      "Expected execution time for step: 0.27\n"
     ]
    },
    {
     "name": "stderr",
     "output_type": "stream",
     "text": [
      "Iterations:  62%|██████▏   | 62/100 [01:38<00:59,  1.58s/it]"
     ]
    },
    {
     "name": "stdout",
     "output_type": "stream",
     "text": [
      "Elapsed time for whole iteration: 0.32\n",
      "Time per single iteration: 3.117320565838116e-05\n",
      "r: 91.0 . Turns to do: 0 . Min found: 0\n",
      "TOTAL ELAPSED TIME IN SECONDS: 1.46\n",
      "...gathering\n",
      "setup...\n",
      "...baking...\n",
      "Active radiuses: 111 / 111\n",
      "Sample size per active radius: 19\n",
      "Expected execution time for step: nan\n",
      "Elapsed time for whole iteration: 0.57\n",
      "Time per single iteration: 2.7073746668099792e-05\n",
      "r: 28.0 . Turns to do: 10 . Min found: 1\n",
      "Active radiuses: 111 / 111\n",
      "Sample size per active radius: 19\n",
      "Expected execution time for step: 0.57\n",
      "Elapsed time for whole iteration: 0.57\n",
      "Time per single iteration: 2.7156531839022538e-05\n",
      "r: 47.0 . Turns to do: 10 . Min found: 0\n",
      "Active radiuses: 54 / 111\n",
      "Sample size per active radius: 38\n",
      "Expected execution time for step: 0.56\n"
     ]
    },
    {
     "name": "stderr",
     "output_type": "stream",
     "text": [
      "Iterations:  63%|██████▎   | 63/100 [01:40<01:01,  1.66s/it]"
     ]
    },
    {
     "name": "stdout",
     "output_type": "stream",
     "text": [
      "Elapsed time for whole iteration: 0.50\n",
      "Time per single iteration: 2.43622308586076e-05\n",
      "r: 85.0 . Turns to do: 1 . Min found: 0\n",
      "Active radiuses: 3 / 111\n",
      "Sample size per active radius: 667\n",
      "Expected execution time for step: 0.05\n",
      "Elapsed time for whole iteration: 0.16\n",
      "Time per single iteration: 8.235664024524603e-05\n",
      "r: 752.0 . Turns to do: 0 . Min found: 0\n",
      "TOTAL ELAPSED TIME IN SECONDS: 1.81\n",
      "...gathering\n",
      "setup...\n",
      "...baking...\n",
      "Active radiuses: 111 / 111\n",
      "Sample size per active radius: 19\n",
      "Expected execution time for step: nan\n",
      "Elapsed time for whole iteration: 0.57\n",
      "Time per single iteration: 2.723103057948149e-05\n",
      "r: 28.0 . Turns to do: 10 . Min found: 3\n",
      "Active radiuses: 111 / 111\n",
      "Sample size per active radius: 19\n",
      "Expected execution time for step: 0.57\n",
      "Elapsed time for whole iteration: 0.58\n",
      "Time per single iteration: 2.7296191541546043e-05\n",
      "r: 47.0 . Turns to do: 4 . Min found: 0\n",
      "Active radiuses: 54 / 111\n",
      "Sample size per active radius: 38\n",
      "Expected execution time for step: 0.22\n"
     ]
    },
    {
     "name": "stderr",
     "output_type": "stream",
     "text": [
      "Iterations:  64%|██████▍   | 64/100 [01:42<00:59,  1.65s/it]"
     ]
    },
    {
     "name": "stdout",
     "output_type": "stream",
     "text": [
      "Elapsed time for whole iteration: 0.29\n",
      "Time per single iteration: 3.5448642502054134e-05\n",
      "r: 85.0 . Turns to do: 1 . Min found: 0\n",
      "Active radiuses: 1 / 111\n",
      "Sample size per active radius: 2000\n",
      "Expected execution time for step: 0.07\n",
      "Elapsed time for whole iteration: 0.18\n",
      "Time per single iteration: 8.974099159240723e-05\n",
      "r: 2085.0 . Turns to do: 0 . Min found: 0\n",
      "TOTAL ELAPSED TIME IN SECONDS: 1.62\n",
      "...gathering\n",
      "setup...\n",
      "...baking...\n",
      "Active radiuses: 111 / 111\n",
      "Sample size per active radius: 19\n",
      "Expected execution time for step: nan\n",
      "Elapsed time for whole iteration: 0.58\n",
      "Time per single iteration: 2.7469155233355142e-05\n",
      "r: 28.0 . Turns to do: 10 . Min found: 1\n",
      "Active radiuses: 111 / 111\n",
      "Sample size per active radius: 19\n",
      "Expected execution time for step: 0.58\n",
      "Elapsed time for whole iteration: 0.58\n",
      "Time per single iteration: 2.735785931532504e-05\n",
      "r: 47.0 . Turns to do: 3 . Min found: 0\n",
      "Active radiuses: 50 / 111\n",
      "Sample size per active radius: 40\n",
      "Expected execution time for step: 0.16\n"
     ]
    },
    {
     "name": "stderr",
     "output_type": "stream",
     "text": [
      "Iterations:  65%|██████▌   | 65/100 [01:43<00:57,  1.65s/it]"
     ]
    },
    {
     "name": "stdout",
     "output_type": "stream",
     "text": [
      "Elapsed time for whole iteration: 0.26\n",
      "Time per single iteration: 4.334902763366699e-05\n",
      "r: 87.0 . Turns to do: 1 . Min found: 0\n",
      "Active radiuses: 1 / 111\n",
      "Sample size per active radius: 2000\n",
      "Expected execution time for step: 0.09\n",
      "Elapsed time for whole iteration: 0.18\n",
      "Time per single iteration: 8.8637113571167e-05\n",
      "r: 2087.0 . Turns to do: 0 . Min found: 0\n",
      "TOTAL ELAPSED TIME IN SECONDS: 1.59\n",
      "...gathering\n",
      "setup...\n",
      "...baking...\n",
      "Active radiuses: 111 / 111\n",
      "Sample size per active radius: 19\n",
      "Expected execution time for step: nan\n",
      "Elapsed time for whole iteration: 0.57\n",
      "Time per single iteration: 2.7181051985920183e-05\n",
      "r: 28.0 . Turns to do: 10 . Min found: 1\n",
      "Active radiuses: 111 / 111\n",
      "Sample size per active radius: 19\n",
      "Expected execution time for step: 0.57\n",
      "Elapsed time for whole iteration: 0.57\n",
      "Time per single iteration: 2.7145826177836707e-05\n",
      "r: 47.0 . Turns to do: 6 . Min found: 0\n",
      "Active radiuses: 56 / 111\n",
      "Sample size per active radius: 36\n",
      "Expected execution time for step: 0.33\n"
     ]
    },
    {
     "name": "stderr",
     "output_type": "stream",
     "text": [
      "Iterations:  66%|██████▌   | 66/100 [01:45<00:56,  1.66s/it]"
     ]
    },
    {
     "name": "stdout",
     "output_type": "stream",
     "text": [
      "Elapsed time for whole iteration: 0.37\n",
      "Time per single iteration: 3.020276152898395e-05\n",
      "r: 83.0 . Turns to do: 1 . Min found: 0\n",
      "Active radiuses: 5 / 111\n",
      "Sample size per active radius: 400\n",
      "Expected execution time for step: 0.06\n",
      "Elapsed time for whole iteration: 0.16\n",
      "Time per single iteration: 8.219289779663086e-05\n",
      "r: 483.0 . Turns to do: 0 . Min found: 0\n",
      "TOTAL ELAPSED TIME IN SECONDS: 1.68\n",
      "...gathering\n",
      "setup...\n",
      "...baking...\n",
      "Active radiuses: 111 / 111\n",
      "Sample size per active radius: 19\n",
      "Expected execution time for step: nan\n",
      "Elapsed time for whole iteration: 0.57\n",
      "Time per single iteration: 2.7138240645993316e-05\n",
      "r: 28.0 . Turns to do: 10 . Min found: 2\n",
      "Active radiuses: 111 / 111\n",
      "Sample size per active radius: 19\n",
      "Expected execution time for step: 0.57\n",
      "Elapsed time for whole iteration: 0.57\n",
      "Time per single iteration: 2.7209325331881917e-05\n",
      "r: 47.0 . Turns to do: 3 . Min found: 0\n",
      "Active radiuses: 49 / 111\n",
      "Sample size per active radius: 41\n",
      "Expected execution time for step: 0.16\n"
     ]
    },
    {
     "name": "stderr",
     "output_type": "stream",
     "text": [
      "Iterations:  67%|██████▋   | 67/100 [01:47<00:52,  1.59s/it]"
     ]
    },
    {
     "name": "stdout",
     "output_type": "stream",
     "text": [
      "Elapsed time for whole iteration: 0.25\n",
      "Time per single iteration: 4.1888645084141224e-05\n",
      "r: 88.0 . Turns to do: 0 . Min found: 0\n",
      "TOTAL ELAPSED TIME IN SECONDS: 1.40\n",
      "...gathering\n",
      "setup...\n",
      "...baking...\n",
      "Active radiuses: 111 / 111\n",
      "Sample size per active radius: 19\n",
      "Expected execution time for step: nan\n",
      "Elapsed time for whole iteration: 0.58\n",
      "Time per single iteration: 2.7445754263286854e-05\n",
      "r: 28.0 . Turns to do: 10 . Min found: 1\n",
      "Active radiuses: 111 / 111\n",
      "Sample size per active radius: 19\n",
      "Expected execution time for step: 0.58\n",
      "Elapsed time for whole iteration: 0.57\n",
      "Time per single iteration: 2.726371280386189e-05\n",
      "r: 47.0 . Turns to do: 3 . Min found: 0\n",
      "Active radiuses: 52 / 111\n",
      "Sample size per active radius: 39\n",
      "Expected execution time for step: 0.17\n"
     ]
    },
    {
     "name": "stderr",
     "output_type": "stream",
     "text": [
      "Iterations:  68%|██████▊   | 68/100 [01:48<00:51,  1.60s/it]"
     ]
    },
    {
     "name": "stdout",
     "output_type": "stream",
     "text": [
      "Elapsed time for whole iteration: 0.25\n",
      "Time per single iteration: 4.123489297118177e-05\n",
      "r: 86.0 . Turns to do: 1 . Min found: 0\n",
      "Active radiuses: 2 / 111\n",
      "Sample size per active radius: 1000\n",
      "Expected execution time for step: 0.08\n",
      "Elapsed time for whole iteration: 0.17\n",
      "Time per single iteration: 8.547139167785644e-05\n",
      "r: 1086.0 . Turns to do: 0 . Min found: 0\n",
      "TOTAL ELAPSED TIME IN SECONDS: 1.58\n",
      "...gathering\n",
      "setup...\n",
      "...baking...\n",
      "Active radiuses: 111 / 111\n",
      "Sample size per active radius: 19\n",
      "Expected execution time for step: nan\n",
      "Elapsed time for whole iteration: 0.58\n",
      "Time per single iteration: 2.7326398011122116e-05\n",
      "r: 28.0 . Turns to do: 10 . Min found: 1\n",
      "Active radiuses: 111 / 111\n",
      "Sample size per active radius: 19\n",
      "Expected execution time for step: 0.58\n",
      "Elapsed time for whole iteration: 0.58\n",
      "Time per single iteration: 2.770670334158943e-05\n",
      "r: 47.0 . Turns to do: 5 . Min found: 0\n",
      "Active radiuses: 56 / 111\n",
      "Sample size per active radius: 36\n",
      "Expected execution time for step: 0.28\n"
     ]
    },
    {
     "name": "stderr",
     "output_type": "stream",
     "text": [
      "Iterations:  69%|██████▉   | 69/100 [01:50<00:50,  1.64s/it]"
     ]
    },
    {
     "name": "stdout",
     "output_type": "stream",
     "text": [
      "Elapsed time for whole iteration: 0.36\n",
      "Time per single iteration: 3.533682652882167e-05\n",
      "r: 83.0 . Turns to do: 1 . Min found: 0\n",
      "Active radiuses: 2 / 111\n",
      "Sample size per active radius: 1000\n",
      "Expected execution time for step: 0.07\n",
      "Elapsed time for whole iteration: 0.17\n",
      "Time per single iteration: 8.709657192230225e-05\n",
      "r: 1083.0 . Turns to do: 0 . Min found: 0\n",
      "TOTAL ELAPSED TIME IN SECONDS: 1.69\n",
      "...gathering\n",
      "setup...\n",
      "...baking...\n",
      "Active radiuses: 111 / 111\n",
      "Sample size per active radius: 19\n",
      "Expected execution time for step: nan\n",
      "Elapsed time for whole iteration: 0.58\n",
      "Time per single iteration: 2.7665079007390667e-05\n",
      "r: 28.0 . Turns to do: 10 . Min found: 1\n",
      "Active radiuses: 111 / 111\n",
      "Sample size per active radius: 19\n",
      "Expected execution time for step: 0.58\n",
      "Elapsed time for whole iteration: 0.57\n",
      "Time per single iteration: 2.7178960594875432e-05\n",
      "r: 47.0 . Turns to do: 5 . Min found: 0\n",
      "Active radiuses: 51 / 111\n",
      "Sample size per active radius: 40\n",
      "Expected execution time for step: 0.28\n"
     ]
    },
    {
     "name": "stderr",
     "output_type": "stream",
     "text": [
      "Iterations:  70%|███████   | 70/100 [01:52<00:49,  1.65s/it]"
     ]
    },
    {
     "name": "stdout",
     "output_type": "stream",
     "text": [
      "Elapsed time for whole iteration: 0.32\n",
      "Time per single iteration: 3.13875955693862e-05\n",
      "r: 87.0 . Turns to do: 1 . Min found: 0\n",
      "Active radiuses: 1 / 111\n",
      "Sample size per active radius: 2000\n",
      "Expected execution time for step: 0.06\n",
      "Elapsed time for whole iteration: 0.16\n",
      "Time per single iteration: 7.853329181671142e-05\n",
      "r: 2087.0 . Turns to do: 0 . Min found: 0\n",
      "TOTAL ELAPSED TIME IN SECONDS: 1.63\n",
      "...gathering\n",
      "setup...\n",
      "...baking...\n",
      "Active radiuses: 109 / 109\n",
      "Sample size per active radius: 19\n",
      "Expected execution time for step: nan\n",
      "Elapsed time for whole iteration: 0.58\n",
      "Time per single iteration: 2.7854577289693657e-05\n",
      "r: 28.0 . Turns to do: 10 . Min found: 1\n",
      "Active radiuses: 109 / 109\n",
      "Sample size per active radius: 19\n",
      "Expected execution time for step: 0.58\n",
      "Elapsed time for whole iteration: 0.58\n",
      "Time per single iteration: 2.822352169447622e-05\n",
      "r: 47.0 . Turns to do: 3 . Min found: 0\n",
      "Active radiuses: 54 / 109\n",
      "Sample size per active radius: 38\n",
      "Expected execution time for step: 0.17\n"
     ]
    },
    {
     "name": "stderr",
     "output_type": "stream",
     "text": [
      "Iterations:  71%|███████   | 71/100 [01:53<00:47,  1.64s/it]"
     ]
    },
    {
     "name": "stdout",
     "output_type": "stream",
     "text": [
      "Elapsed time for whole iteration: 0.26\n",
      "Time per single iteration: 4.295411243153672e-05\n",
      "r: 85.0 . Turns to do: 1 . Min found: 0\n",
      "Active radiuses: 1 / 109\n",
      "Sample size per active radius: 2000\n",
      "Expected execution time for step: 0.09\n",
      "Elapsed time for whole iteration: 0.17\n",
      "Time per single iteration: 8.726119995117188e-05\n",
      "r: 2085.0 . Turns to do: 0 . Min found: 0\n",
      "TOTAL ELAPSED TIME IN SECONDS: 1.60\n",
      "...gathering\n",
      "setup...\n",
      "...baking...\n",
      "Active radiuses: 109 / 109\n",
      "Sample size per active radius: 19\n",
      "Expected execution time for step: nan\n",
      "Elapsed time for whole iteration: 0.59\n",
      "Time per single iteration: 2.8381872614589305e-05\n",
      "r: 28.0 . Turns to do: 10 . Min found: 1\n",
      "Active radiuses: 109 / 109\n",
      "Sample size per active radius: 19\n",
      "Expected execution time for step: 0.59\n",
      "Elapsed time for whole iteration: 0.58\n",
      "Time per single iteration: 2.810031765615923e-05\n",
      "r: 47.0 . Turns to do: 3 . Min found: 0\n",
      "Active radiuses: 50 / 109\n",
      "Sample size per active radius: 40\n",
      "Expected execution time for step: 0.17\n"
     ]
    },
    {
     "name": "stderr",
     "output_type": "stream",
     "text": [
      "Iterations:  72%|███████▏  | 72/100 [01:55<00:44,  1.59s/it]"
     ]
    },
    {
     "name": "stdout",
     "output_type": "stream",
     "text": [
      "Elapsed time for whole iteration: 0.26\n",
      "Time per single iteration: 4.342381159464518e-05\n",
      "r: 87.0 . Turns to do: 0 . Min found: 0\n",
      "TOTAL ELAPSED TIME IN SECONDS: 1.43\n",
      "...gathering\n",
      "setup...\n",
      "...baking...\n",
      "Active radiuses: 109 / 109\n",
      "Sample size per active radius: 19\n",
      "Expected execution time for step: nan\n",
      "Elapsed time for whole iteration: 0.58\n",
      "Time per single iteration: 2.78346035458626e-05\n",
      "r: 28.0 . Turns to do: 10 . Min found: 1\n",
      "Active radiuses: 109 / 109\n",
      "Sample size per active radius: 19\n",
      "Expected execution time for step: 0.58\n",
      "Elapsed time for whole iteration: 0.58\n",
      "Time per single iteration: 2.7920128008641234e-05\n",
      "r: 47.0 . Turns to do: 7 . Min found: 0\n",
      "Active radiuses: 46 / 109\n",
      "Sample size per active radius: 44\n",
      "Expected execution time for step: 0.40\n"
     ]
    },
    {
     "name": "stderr",
     "output_type": "stream",
     "text": [
      "Iterations:  73%|███████▎  | 73/100 [01:56<00:42,  1.59s/it]"
     ]
    },
    {
     "name": "stdout",
     "output_type": "stream",
     "text": [
      "Elapsed time for whole iteration: 0.40\n",
      "Time per single iteration: 2.8572046844249793e-05\n",
      "r: 91.0 . Turns to do: 0 . Min found: 0\n",
      "TOTAL ELAPSED TIME IN SECONDS: 1.56\n",
      "...gathering\n",
      "setup...\n",
      "...baking...\n",
      "Active radiuses: 109 / 109\n",
      "Sample size per active radius: 19\n",
      "Expected execution time for step: nan\n",
      "Elapsed time for whole iteration: 0.59\n",
      "Time per single iteration: 2.851366478714144e-05\n",
      "r: 28.0 . Turns to do: 10 . Min found: 3\n",
      "Active radiuses: 109 / 109\n",
      "Sample size per active radius: 19\n",
      "Expected execution time for step: 0.59\n",
      "Elapsed time for whole iteration: 0.58\n",
      "Time per single iteration: 2.8228621618693604e-05\n",
      "r: 47.0 . Turns to do: 4 . Min found: 0\n",
      "Active radiuses: 47 / 109\n",
      "Sample size per active radius: 43\n",
      "Expected execution time for step: 0.23\n"
     ]
    },
    {
     "name": "stderr",
     "output_type": "stream",
     "text": [
      "Iterations:  74%|███████▍  | 74/100 [01:58<00:40,  1.56s/it]"
     ]
    },
    {
     "name": "stdout",
     "output_type": "stream",
     "text": [
      "Elapsed time for whole iteration: 0.29\n",
      "Time per single iteration: 3.5522038366817e-05\n",
      "r: 90.0 . Turns to do: 0 . Min found: 0\n",
      "TOTAL ELAPSED TIME IN SECONDS: 1.46\n",
      "...gathering\n",
      "setup...\n",
      "...baking...\n",
      "Active radiuses: 109 / 109\n",
      "Sample size per active radius: 19\n",
      "Expected execution time for step: nan\n",
      "Elapsed time for whole iteration: 0.58\n",
      "Time per single iteration: 2.788574093496782e-05\n",
      "r: 28.0 . Turns to do: 10 . Min found: 1\n",
      "Active radiuses: 109 / 109\n",
      "Sample size per active radius: 19\n",
      "Expected execution time for step: 0.58\n",
      "Elapsed time for whole iteration: 0.57\n",
      "Time per single iteration: 2.7682780068257995e-05\n",
      "r: 47.0 . Turns to do: 7 . Min found: 0\n",
      "Active radiuses: 48 / 109\n",
      "Sample size per active radius: 42\n",
      "Expected execution time for step: 0.39\n"
     ]
    },
    {
     "name": "stderr",
     "output_type": "stream",
     "text": [
      "Iterations:  75%|███████▌  | 75/100 [01:59<00:39,  1.57s/it]"
     ]
    },
    {
     "name": "stdout",
     "output_type": "stream",
     "text": [
      "Elapsed time for whole iteration: 0.40\n",
      "Time per single iteration: 2.824187346326521e-05\n",
      "r: 89.0 . Turns to do: 0 . Min found: 0\n",
      "TOTAL ELAPSED TIME IN SECONDS: 1.55\n",
      "...gathering\n",
      "setup...\n",
      "...baking...\n",
      "Active radiuses: 108 / 108\n",
      "Sample size per active radius: 19\n",
      "Expected execution time for step: nan\n",
      "Elapsed time for whole iteration: 0.59\n",
      "Time per single iteration: 2.886284629271509e-05\n",
      "r: 28.0 . Turns to do: 10 . Min found: 1\n",
      "Active radiuses: 108 / 108\n",
      "Sample size per active radius: 19\n",
      "Expected execution time for step: 0.59\n",
      "Elapsed time for whole iteration: 0.58\n",
      "Time per single iteration: 2.8289840002970854e-05\n",
      "r: 47.0 . Turns to do: 5 . Min found: 0\n",
      "Active radiuses: 48 / 108\n",
      "Sample size per active radius: 42\n",
      "Expected execution time for step: 0.29\n"
     ]
    },
    {
     "name": "stderr",
     "output_type": "stream",
     "text": [
      "Iterations:  76%|███████▌  | 76/100 [02:01<00:37,  1.55s/it]"
     ]
    },
    {
     "name": "stdout",
     "output_type": "stream",
     "text": [
      "Elapsed time for whole iteration: 0.32\n",
      "Time per single iteration: 3.204395373662313e-05\n",
      "r: 89.0 . Turns to do: 0 . Min found: 0\n",
      "TOTAL ELAPSED TIME IN SECONDS: 1.50\n",
      "...gathering\n",
      "setup...\n",
      "...baking...\n",
      "Active radiuses: 108 / 108\n",
      "Sample size per active radius: 19\n",
      "Expected execution time for step: nan\n",
      "Elapsed time for whole iteration: 0.59\n",
      "Time per single iteration: 2.8861858691388404e-05\n",
      "r: 28.0 . Turns to do: 10 . Min found: 1\n",
      "Active radiuses: 108 / 108\n",
      "Sample size per active radius: 19\n",
      "Expected execution time for step: 0.59\n",
      "Elapsed time for whole iteration: 0.58\n",
      "Time per single iteration: 2.8202210718195807e-05\n",
      "r: 47.0 . Turns to do: 4 . Min found: 0\n",
      "Active radiuses: 40 / 108\n",
      "Sample size per active radius: 50\n",
      "Expected execution time for step: 0.23\n"
     ]
    },
    {
     "name": "stderr",
     "output_type": "stream",
     "text": [
      "Iterations:  77%|███████▋  | 77/100 [02:02<00:35,  1.53s/it]"
     ]
    },
    {
     "name": "stdout",
     "output_type": "stream",
     "text": [
      "Elapsed time for whole iteration: 0.28\n",
      "Time per single iteration: 3.5292953252792355e-05\n",
      "r: 97.0 . Turns to do: 0 . Min found: 0\n",
      "TOTAL ELAPSED TIME IN SECONDS: 1.45\n",
      "...gathering\n",
      "setup...\n",
      "...baking...\n",
      "Active radiuses: 108 / 108\n",
      "Sample size per active radius: 19\n",
      "Expected execution time for step: nan\n",
      "Elapsed time for whole iteration: 0.60\n",
      "Time per single iteration: 2.900273711593063e-05\n",
      "r: 28.0 . Turns to do: 10 . Min found: 1\n",
      "Active radiuses: 108 / 108\n",
      "Sample size per active radius: 19\n",
      "Expected execution time for step: 0.60\n",
      "Elapsed time for whole iteration: 0.58\n",
      "Time per single iteration: 2.8124225069904886e-05\n",
      "r: 47.0 . Turns to do: 8 . Min found: 0\n",
      "Active radiuses: 54 / 108\n",
      "Sample size per active radius: 38\n",
      "Expected execution time for step: 0.46\n"
     ]
    },
    {
     "name": "stderr",
     "output_type": "stream",
     "text": [
      "Iterations:  78%|███████▊  | 78/100 [02:04<00:34,  1.56s/it]"
     ]
    },
    {
     "name": "stdout",
     "output_type": "stream",
     "text": [
      "Elapsed time for whole iteration: 0.43\n",
      "Time per single iteration: 2.6104365408304373e-05\n",
      "r: 85.0 . Turns to do: 0 . Min found: 0\n",
      "TOTAL ELAPSED TIME IN SECONDS: 1.60\n",
      "...gathering\n",
      "setup...\n",
      "...baking...\n",
      "Active radiuses: 108 / 108\n",
      "Sample size per active radius: 19\n",
      "Expected execution time for step: nan\n",
      "Elapsed time for whole iteration: 0.59\n",
      "Time per single iteration: 2.872470991420932e-05\n",
      "r: 28.0 . Turns to do: 10 . Min found: 2\n",
      "Active radiuses: 108 / 108\n",
      "Sample size per active radius: 19\n",
      "Expected execution time for step: 0.59\n",
      "Elapsed time for whole iteration: 0.57\n",
      "Time per single iteration: 2.8006688893189905e-05\n",
      "r: 47.0 . Turns to do: 3 . Min found: 0\n",
      "Active radiuses: 59 / 108\n",
      "Sample size per active radius: 34\n",
      "Expected execution time for step: 0.17\n"
     ]
    },
    {
     "name": "stderr",
     "output_type": "stream",
     "text": [
      "Iterations:  79%|███████▉  | 79/100 [02:06<00:33,  1.58s/it]"
     ]
    },
    {
     "name": "stdout",
     "output_type": "stream",
     "text": [
      "Elapsed time for whole iteration: 0.25\n",
      "Time per single iteration: 4.20507302352383e-05\n",
      "r: 81.0 . Turns to do: 1 . Min found: 0\n",
      "Active radiuses: 3 / 108\n",
      "Sample size per active radius: 667\n",
      "Expected execution time for step: 0.08\n",
      "Elapsed time for whole iteration: 0.17\n",
      "Time per single iteration: 8.323250979795746e-05\n",
      "r: 748.0 . Turns to do: 0 . Min found: 0\n",
      "TOTAL ELAPSED TIME IN SECONDS: 1.58\n",
      "...gathering\n",
      "setup...\n",
      "...baking...\n",
      "Active radiuses: 108 / 108\n",
      "Sample size per active radius: 19\n",
      "Expected execution time for step: nan\n",
      "Elapsed time for whole iteration: 0.59\n",
      "Time per single iteration: 2.8737723014043322e-05\n",
      "r: 28.0 . Turns to do: 10 . Min found: 2\n",
      "Active radiuses: 108 / 108\n",
      "Sample size per active radius: 19\n",
      "Expected execution time for step: 0.59\n",
      "Elapsed time for whole iteration: 0.58\n",
      "Time per single iteration: 2.8034086115876135e-05\n",
      "r: 47.0 . Turns to do: 5 . Min found: 0\n",
      "Active radiuses: 55 / 108\n",
      "Sample size per active radius: 37\n",
      "Expected execution time for step: 0.29\n"
     ]
    },
    {
     "name": "stderr",
     "output_type": "stream",
     "text": [
      "Iterations:  80%|████████  | 80/100 [02:07<00:32,  1.61s/it]"
     ]
    },
    {
     "name": "stdout",
     "output_type": "stream",
     "text": [
      "Elapsed time for whole iteration: 0.32\n",
      "Time per single iteration: 3.114208249553709e-05\n",
      "r: 84.0 . Turns to do: 1 . Min found: 0\n",
      "Active radiuses: 2 / 108\n",
      "Sample size per active radius: 1000\n",
      "Expected execution time for step: 0.06\n",
      "Elapsed time for whole iteration: 0.17\n",
      "Time per single iteration: 8.425283432006836e-05\n",
      "r: 1084.0 . Turns to do: 0 . Min found: 0\n",
      "TOTAL ELAPSED TIME IN SECONDS: 1.65\n",
      "...gathering\n",
      "setup...\n",
      "...baking...\n",
      "Active radiuses: 108 / 108\n",
      "Sample size per active radius: 19\n",
      "Expected execution time for step: nan\n",
      "Elapsed time for whole iteration: 0.59\n",
      "Time per single iteration: 2.8860359861139665e-05\n",
      "r: 28.0 . Turns to do: 10 . Min found: 1\n",
      "Active radiuses: 108 / 108\n",
      "Sample size per active radius: 19\n",
      "Expected execution time for step: 0.59\n",
      "Elapsed time for whole iteration: 0.58\n",
      "Time per single iteration: 2.8159860049539608e-05\n",
      "r: 47.0 . Turns to do: 5 . Min found: 0\n",
      "Active radiuses: 52 / 108\n",
      "Sample size per active radius: 39\n",
      "Expected execution time for step: 0.29\n"
     ]
    },
    {
     "name": "stderr",
     "output_type": "stream",
     "text": [
      "Iterations:  81%|████████  | 81/100 [02:09<00:31,  1.63s/it]"
     ]
    },
    {
     "name": "stdout",
     "output_type": "stream",
     "text": [
      "Elapsed time for whole iteration: 0.32\n",
      "Time per single iteration: 3.122714379365157e-05\n",
      "r: 86.0 . Turns to do: 1 . Min found: 0\n",
      "Active radiuses: 1 / 108\n",
      "Sample size per active radius: 2000\n",
      "Expected execution time for step: 0.06\n",
      "Elapsed time for whole iteration: 0.17\n",
      "Time per single iteration: 8.613669872283936e-05\n",
      "r: 2086.0 . Turns to do: 0 . Min found: 0\n",
      "TOTAL ELAPSED TIME IN SECONDS: 1.66\n",
      "...gathering\n",
      "setup...\n",
      "...baking...\n",
      "Active radiuses: 108 / 108\n",
      "Sample size per active radius: 19\n",
      "Expected execution time for step: nan\n",
      "Elapsed time for whole iteration: 0.59\n",
      "Time per single iteration: 2.883608810618142e-05\n",
      "r: 28.0 . Turns to do: 10 . Min found: 0\n",
      "Active radiuses: 106 / 108\n",
      "Sample size per active radius: 19\n",
      "Expected execution time for step: 0.58\n",
      "Elapsed time for whole iteration: 0.57\n",
      "Time per single iteration: 2.850604270397137e-05\n",
      "r: 47.0 . Turns to do: 3 . Min found: 0\n",
      "Active radiuses: 54 / 108\n",
      "Sample size per active radius: 38\n",
      "Expected execution time for step: 0.18\n"
     ]
    },
    {
     "name": "stderr",
     "output_type": "stream",
     "text": [
      "Iterations:  82%|████████▏ | 82/100 [02:11<00:29,  1.63s/it]"
     ]
    },
    {
     "name": "stdout",
     "output_type": "stream",
     "text": [
      "Elapsed time for whole iteration: 0.26\n",
      "Time per single iteration: 4.2109151719993705e-05\n",
      "r: 85.0 . Turns to do: 1 . Min found: 0\n",
      "Active radiuses: 2 / 108\n",
      "Sample size per active radius: 1000\n",
      "Expected execution time for step: 0.08\n",
      "Elapsed time for whole iteration: 0.17\n",
      "Time per single iteration: 8.46463441848755e-05\n",
      "r: 1085.0 . Turns to do: 0 . Min found: 0\n",
      "TOTAL ELAPSED TIME IN SECONDS: 1.59\n",
      "...gathering\n",
      "setup...\n",
      "...baking...\n",
      "Active radiuses: 108 / 108\n",
      "Sample size per active radius: 19\n",
      "Expected execution time for step: nan\n",
      "Elapsed time for whole iteration: 0.59\n",
      "Time per single iteration: 2.8808923260277938e-05\n",
      "r: 28.0 . Turns to do: 10 . Min found: 0\n",
      "Active radiuses: 107 / 108\n",
      "Sample size per active radius: 19\n",
      "Expected execution time for step: 0.59\n",
      "Elapsed time for whole iteration: 0.57\n",
      "Time per single iteration: 2.8116199926853884e-05\n",
      "r: 47.0 . Turns to do: 3 . Min found: 0\n",
      "Active radiuses: 52 / 108\n",
      "Sample size per active radius: 39\n",
      "Expected execution time for step: 0.17\n"
     ]
    },
    {
     "name": "stderr",
     "output_type": "stream",
     "text": [
      "Iterations:  83%|████████▎ | 83/100 [02:12<00:26,  1.58s/it]"
     ]
    },
    {
     "name": "stdout",
     "output_type": "stream",
     "text": [
      "Elapsed time for whole iteration: 0.25\n",
      "Time per single iteration: 4.181122795521312e-05\n",
      "r: 86.0 . Turns to do: 0 . Min found: 0\n",
      "TOTAL ELAPSED TIME IN SECONDS: 1.42\n",
      "...gathering\n",
      "setup...\n",
      "...baking...\n",
      "Active radiuses: 108 / 108\n",
      "Sample size per active radius: 19\n",
      "Expected execution time for step: nan\n",
      "Elapsed time for whole iteration: 0.59\n",
      "Time per single iteration: 2.8728486036929006e-05\n",
      "r: 28.0 . Turns to do: 10 . Min found: 0\n",
      "Active radiuses: 107 / 108\n",
      "Sample size per active radius: 19\n",
      "Expected execution time for step: 0.58\n",
      "Elapsed time for whole iteration: 0.57\n",
      "Time per single iteration: 2.781645863500652e-05\n",
      "r: 47.0 . Turns to do: 3 . Min found: 0\n",
      "Active radiuses: 52 / 108\n",
      "Sample size per active radius: 39\n",
      "Expected execution time for step: 0.17\n"
     ]
    },
    {
     "name": "stderr",
     "output_type": "stream",
     "text": [
      "Iterations:  84%|████████▍ | 84/100 [02:13<00:24,  1.53s/it]"
     ]
    },
    {
     "name": "stdout",
     "output_type": "stream",
     "text": [
      "Elapsed time for whole iteration: 0.25\n",
      "Time per single iteration: 4.161979554908045e-05\n",
      "r: 86.0 . Turns to do: 0 . Min found: 0\n",
      "TOTAL ELAPSED TIME IN SECONDS: 1.41\n",
      "...gathering\n",
      "setup...\n",
      "...baking...\n",
      "Active radiuses: 108 / 108\n",
      "Sample size per active radius: 19\n",
      "Expected execution time for step: nan\n",
      "Elapsed time for whole iteration: 0.59\n",
      "Time per single iteration: 2.875170047752574e-05\n",
      "r: 28.0 . Turns to do: 10 . Min found: 1\n",
      "Active radiuses: 108 / 108\n",
      "Sample size per active radius: 19\n",
      "Expected execution time for step: 0.59\n",
      "Elapsed time for whole iteration: 0.58\n",
      "Time per single iteration: 2.8087927816439326e-05\n",
      "r: 47.0 . Turns to do: 3 . Min found: 0\n",
      "Active radiuses: 43 / 108\n",
      "Sample size per active radius: 47\n",
      "Expected execution time for step: 0.17\n"
     ]
    },
    {
     "name": "stderr",
     "output_type": "stream",
     "text": [
      "Iterations:  85%|████████▌ | 85/100 [02:15<00:22,  1.50s/it]"
     ]
    },
    {
     "name": "stdout",
     "output_type": "stream",
     "text": [
      "Elapsed time for whole iteration: 0.24\n",
      "Time per single iteration: 3.998562307733721e-05\n",
      "r: 94.0 . Turns to do: 0 . Min found: 0\n",
      "TOTAL ELAPSED TIME IN SECONDS: 1.41\n",
      "...gathering\n",
      "setup...\n",
      "...baking...\n",
      "Active radiuses: 108 / 108\n",
      "Sample size per active radius: 19\n",
      "Expected execution time for step: nan\n",
      "Elapsed time for whole iteration: 0.59\n",
      "Time per single iteration: 2.8933105412979573e-05\n",
      "r: 28.0 . Turns to do: 10 . Min found: 2\n",
      "Active radiuses: 108 / 108\n",
      "Sample size per active radius: 19\n",
      "Expected execution time for step: 0.59\n",
      "Elapsed time for whole iteration: 0.58\n",
      "Time per single iteration: 2.8041731312028612e-05\n",
      "r: 47.0 . Turns to do: 3 . Min found: 0\n",
      "Active radiuses: 37 / 108\n",
      "Sample size per active radius: 55\n",
      "Expected execution time for step: 0.17\n"
     ]
    },
    {
     "name": "stderr",
     "output_type": "stream",
     "text": [
      "Iterations:  86%|████████▌ | 86/100 [02:16<00:20,  1.49s/it]"
     ]
    },
    {
     "name": "stdout",
     "output_type": "stream",
     "text": [
      "Elapsed time for whole iteration: 0.24\n",
      "Time per single iteration: 3.985358885718993e-05\n",
      "r: 102.0 . Turns to do: 0 . Min found: 0\n",
      "TOTAL ELAPSED TIME IN SECONDS: 1.41\n",
      "...gathering\n",
      "setup...\n",
      "...baking...\n",
      "Active radiuses: 108 / 108\n",
      "Sample size per active radius: 19\n",
      "Expected execution time for step: nan\n",
      "Elapsed time for whole iteration: 0.59\n",
      "Time per single iteration: 2.876336579201979e-05\n",
      "r: 28.0 . Turns to do: 10 . Min found: 1\n",
      "Active radiuses: 108 / 108\n",
      "Sample size per active radius: 19\n",
      "Expected execution time for step: 0.59\n",
      "Elapsed time for whole iteration: 0.58\n",
      "Time per single iteration: 2.8040499715080038e-05\n",
      "r: 47.0 . Turns to do: 3 . Min found: 0\n",
      "Active radiuses: 50 / 108\n",
      "Sample size per active radius: 40\n",
      "Expected execution time for step: 0.17\n"
     ]
    },
    {
     "name": "stderr",
     "output_type": "stream",
     "text": [
      "Iterations:  87%|████████▋ | 87/100 [02:18<00:19,  1.53s/it]"
     ]
    },
    {
     "name": "stdout",
     "output_type": "stream",
     "text": [
      "Elapsed time for whole iteration: 0.26\n",
      "Time per single iteration: 4.2962948481241863e-05\n",
      "r: 87.0 . Turns to do: 1 . Min found: 0\n",
      "Active radiuses: 4 / 108\n",
      "Sample size per active radius: 500\n",
      "Expected execution time for step: 0.09\n",
      "Elapsed time for whole iteration: 0.17\n",
      "Time per single iteration: 8.405721187591553e-05\n",
      "r: 587.0 . Turns to do: 0 . Min found: 0\n",
      "TOTAL ELAPSED TIME IN SECONDS: 1.59\n",
      "...gathering\n",
      "setup...\n",
      "...baking...\n",
      "Active radiuses: 110 / 110\n",
      "Sample size per active radius: 19\n",
      "Expected execution time for step: nan\n",
      "Elapsed time for whole iteration: 0.58\n",
      "Time per single iteration: 2.798484272934033e-05\n",
      "r: 28.0 . Turns to do: 10 . Min found: 1\n",
      "Active radiuses: 110 / 110\n",
      "Sample size per active radius: 19\n",
      "Expected execution time for step: 0.58\n",
      "Elapsed time for whole iteration: 0.57\n",
      "Time per single iteration: 2.7446803864109458e-05\n",
      "r: 47.0 . Turns to do: 4 . Min found: 0\n",
      "Active radiuses: 54 / 110\n",
      "Sample size per active radius: 38\n",
      "Expected execution time for step: 0.23\n"
     ]
    },
    {
     "name": "stderr",
     "output_type": "stream",
     "text": [
      "Iterations:  88%|████████▊ | 88/100 [02:19<00:18,  1.51s/it]"
     ]
    },
    {
     "name": "stdout",
     "output_type": "stream",
     "text": [
      "Elapsed time for whole iteration: 0.28\n",
      "Time per single iteration: 3.450182330073901e-05\n",
      "r: 85.0 . Turns to do: 0 . Min found: 0\n",
      "TOTAL ELAPSED TIME IN SECONDS: 1.44\n",
      "...gathering\n",
      "setup...\n",
      "...baking...\n",
      "Active radiuses: 110 / 110\n",
      "Sample size per active radius: 19\n",
      "Expected execution time for step: nan\n",
      "Elapsed time for whole iteration: 0.58\n",
      "Time per single iteration: 2.770496897720264e-05\n",
      "r: 28.0 . Turns to do: 10 . Min found: 1\n",
      "Active radiuses: 110 / 110\n",
      "Sample size per active radius: 19\n",
      "Expected execution time for step: 0.58\n",
      "Elapsed time for whole iteration: 0.58\n",
      "Time per single iteration: 2.7521101481606514e-05\n",
      "r: 47.0 . Turns to do: 3 . Min found: 0\n",
      "Active radiuses: 49 / 110\n",
      "Sample size per active radius: 41\n",
      "Expected execution time for step: 0.17\n"
     ]
    },
    {
     "name": "stderr",
     "output_type": "stream",
     "text": [
      "Iterations:  89%|████████▉ | 89/100 [02:21<00:16,  1.49s/it]"
     ]
    },
    {
     "name": "stdout",
     "output_type": "stream",
     "text": [
      "Elapsed time for whole iteration: 0.25\n",
      "Time per single iteration: 4.202084931366792e-05\n",
      "r: 88.0 . Turns to do: 0 . Min found: 0\n",
      "TOTAL ELAPSED TIME IN SECONDS: 1.41\n",
      "...gathering\n",
      "setup...\n",
      "...baking...\n",
      "Active radiuses: 110 / 110\n",
      "Sample size per active radius: 19\n",
      "Expected execution time for step: nan\n",
      "Elapsed time for whole iteration: 0.58\n",
      "Time per single iteration: 2.7728947726162996e-05\n",
      "r: 28.0 . Turns to do: 10 . Min found: 2\n",
      "Active radiuses: 110 / 110\n",
      "Sample size per active radius: 19\n",
      "Expected execution time for step: 0.58\n",
      "Elapsed time for whole iteration: 0.57\n",
      "Time per single iteration: 2.7422756669624e-05\n",
      "r: 47.0 . Turns to do: 6 . Min found: 0\n",
      "Active radiuses: 52 / 110\n",
      "Sample size per active radius: 39\n",
      "Expected execution time for step: 0.33\n"
     ]
    },
    {
     "name": "stderr",
     "output_type": "stream",
     "text": [
      "Iterations:  90%|█████████ | 90/100 [02:22<00:15,  1.50s/it]"
     ]
    },
    {
     "name": "stdout",
     "output_type": "stream",
     "text": [
      "Elapsed time for whole iteration: 0.35\n",
      "Time per single iteration: 2.8693895446556637e-05\n",
      "r: 86.0 . Turns to do: 0 . Min found: 0\n",
      "TOTAL ELAPSED TIME IN SECONDS: 1.50\n",
      "...gathering\n",
      "setup...\n",
      "...baking...\n",
      "Active radiuses: 110 / 110\n",
      "Sample size per active radius: 19\n",
      "Expected execution time for step: nan\n",
      "Elapsed time for whole iteration: 0.58\n",
      "Time per single iteration: 2.7733830173620196e-05\n",
      "r: 28.0 . Turns to do: 10 . Min found: 2\n",
      "Active radiuses: 110 / 110\n",
      "Sample size per active radius: 19\n",
      "Expected execution time for step: 0.58\n",
      "Elapsed time for whole iteration: 0.57\n",
      "Time per single iteration: 2.7417497771778747e-05\n",
      "r: 47.0 . Turns to do: 4 . Min found: 0\n",
      "Active radiuses: 52 / 110\n",
      "Sample size per active radius: 39\n",
      "Expected execution time for step: 0.22\n"
     ]
    },
    {
     "name": "stderr",
     "output_type": "stream",
     "text": [
      "Iterations:  91%|█████████ | 91/100 [02:24<00:13,  1.54s/it]"
     ]
    },
    {
     "name": "stdout",
     "output_type": "stream",
     "text": [
      "Elapsed time for whole iteration: 0.28\n",
      "Time per single iteration: 3.469901442292644e-05\n",
      "r: 86.0 . Turns to do: 1 . Min found: 0\n",
      "Active radiuses: 4 / 110\n",
      "Sample size per active radius: 500\n",
      "Expected execution time for step: 0.07\n",
      "Elapsed time for whole iteration: 0.17\n",
      "Time per single iteration: 8.329355716705322e-05\n",
      "r: 586.0 . Turns to do: 0 . Min found: 0\n",
      "TOTAL ELAPSED TIME IN SECONDS: 1.60\n",
      "...gathering\n",
      "setup...\n",
      "...baking...\n",
      "Active radiuses: 110 / 110\n",
      "Sample size per active radius: 19\n",
      "Expected execution time for step: nan\n",
      "Elapsed time for whole iteration: 0.58\n",
      "Time per single iteration: 2.7899012040863767e-05\n",
      "r: 28.0 . Turns to do: 10 . Min found: 1\n",
      "Active radiuses: 110 / 110\n",
      "Sample size per active radius: 19\n",
      "Expected execution time for step: 0.58\n",
      "Elapsed time for whole iteration: 0.58\n",
      "Time per single iteration: 2.7547703975695743e-05\n",
      "r: 47.0 . Turns to do: 5 . Min found: 0\n",
      "Active radiuses: 55 / 110\n",
      "Sample size per active radius: 37\n",
      "Expected execution time for step: 0.28\n"
     ]
    },
    {
     "name": "stderr",
     "output_type": "stream",
     "text": [
      "Iterations:  92%|█████████▏| 92/100 [02:26<00:12,  1.58s/it]"
     ]
    },
    {
     "name": "stdout",
     "output_type": "stream",
     "text": [
      "Elapsed time for whole iteration: 0.33\n",
      "Time per single iteration: 3.2219008087233185e-05\n",
      "r: 84.0 . Turns to do: 1 . Min found: 0\n",
      "Active radiuses: 5 / 110\n",
      "Sample size per active radius: 400\n",
      "Expected execution time for step: 0.06\n",
      "Elapsed time for whole iteration: 0.17\n",
      "Time per single iteration: 8.280205726623536e-05\n",
      "r: 484.0 . Turns to do: 0 . Min found: 0\n",
      "TOTAL ELAPSED TIME IN SECONDS: 1.65\n",
      "...gathering\n",
      "setup...\n",
      "...baking...\n",
      "Active radiuses: 110 / 110\n",
      "Sample size per active radius: 19\n",
      "Expected execution time for step: nan\n",
      "Elapsed time for whole iteration: 0.58\n",
      "Time per single iteration: 2.7669251820687474e-05\n",
      "r: 28.0 . Turns to do: 10 . Min found: 3\n",
      "Active radiuses: 110 / 110\n",
      "Sample size per active radius: 19\n",
      "Expected execution time for step: 0.58\n",
      "Elapsed time for whole iteration: 0.58\n",
      "Time per single iteration: 2.7522401946583434e-05\n",
      "r: 47.0 . Turns to do: 5 . Min found: 0\n",
      "Active radiuses: 57 / 110\n",
      "Sample size per active radius: 36\n",
      "Expected execution time for step: 0.28\n"
     ]
    },
    {
     "name": "stderr",
     "output_type": "stream",
     "text": [
      "Iterations:  93%|█████████▎| 93/100 [02:27<00:11,  1.61s/it]"
     ]
    },
    {
     "name": "stdout",
     "output_type": "stream",
     "text": [
      "Elapsed time for whole iteration: 0.33\n",
      "Time per single iteration: 3.2592470418175295e-05\n",
      "r: 83.0 . Turns to do: 1 . Min found: 0\n",
      "Active radiuses: 5 / 110\n",
      "Sample size per active radius: 400\n",
      "Expected execution time for step: 0.07\n",
      "Elapsed time for whole iteration: 0.17\n",
      "Time per single iteration: 8.300542831420898e-05\n",
      "r: 483.0 . Turns to do: 0 . Min found: 0\n",
      "TOTAL ELAPSED TIME IN SECONDS: 1.65\n",
      "...gathering\n",
      "setup...\n",
      "...baking...\n",
      "Active radiuses: 110 / 110\n",
      "Sample size per active radius: 19\n",
      "Expected execution time for step: nan\n",
      "Elapsed time for whole iteration: 0.60\n",
      "Time per single iteration: 2.8924565566213507e-05\n",
      "r: 28.0 . Turns to do: 10 . Min found: 1\n",
      "Active radiuses: 110 / 110\n",
      "Sample size per active radius: 19\n",
      "Expected execution time for step: 0.60\n",
      "Elapsed time for whole iteration: 0.58\n",
      "Time per single iteration: 2.758315875769802e-05\n",
      "r: 47.0 . Turns to do: 3 . Min found: 0\n",
      "Active radiuses: 50 / 110\n",
      "Sample size per active radius: 40\n",
      "Expected execution time for step: 0.17\n"
     ]
    },
    {
     "name": "stderr",
     "output_type": "stream",
     "text": [
      "Iterations:  94%|█████████▍| 94/100 [02:29<00:09,  1.62s/it]"
     ]
    },
    {
     "name": "stdout",
     "output_type": "stream",
     "text": [
      "Elapsed time for whole iteration: 0.26\n",
      "Time per single iteration: 4.34111754099528e-05\n",
      "r: 87.0 . Turns to do: 1 . Min found: 0\n",
      "Active radiuses: 2 / 110\n",
      "Sample size per active radius: 1000\n",
      "Expected execution time for step: 0.09\n",
      "Elapsed time for whole iteration: 0.17\n",
      "Time per single iteration: 8.45632553100586e-05\n",
      "r: 1087.0 . Turns to do: 0 . Min found: 0\n",
      "TOTAL ELAPSED TIME IN SECONDS: 1.61\n",
      "...gathering\n",
      "setup...\n",
      "...baking...\n",
      "Active radiuses: 110 / 110\n",
      "Sample size per active radius: 19\n",
      "Expected execution time for step: nan\n",
      "Elapsed time for whole iteration: 0.58\n",
      "Time per single iteration: 2.7782004415703733e-05\n",
      "r: 28.0 . Turns to do: 10 . Min found: 0\n",
      "Active radiuses: 109 / 110\n",
      "Sample size per active radius: 19\n",
      "Expected execution time for step: 0.58\n",
      "Elapsed time for whole iteration: 0.57\n",
      "Time per single iteration: 2.7661021926563065e-05\n",
      "r: 47.0 . Turns to do: 2 . Min found: 0\n",
      "Active radiuses: 50 / 110\n",
      "Sample size per active radius: 40\n",
      "Expected execution time for step: 0.11\n"
     ]
    },
    {
     "name": "stderr",
     "output_type": "stream",
     "text": [
      "Iterations:  95%|█████████▌| 95/100 [02:30<00:07,  1.56s/it]"
     ]
    },
    {
     "name": "stdout",
     "output_type": "stream",
     "text": [
      "Elapsed time for whole iteration: 0.22\n",
      "Time per single iteration: 5.6017160415649415e-05\n",
      "r: 87.0 . Turns to do: 0 . Min found: 0\n",
      "TOTAL ELAPSED TIME IN SECONDS: 1.38\n",
      "...gathering\n",
      "setup...\n",
      "...baking...\n",
      "Active radiuses: 111 / 111\n",
      "Sample size per active radius: 19\n",
      "Expected execution time for step: nan\n",
      "Elapsed time for whole iteration: 0.58\n",
      "Time per single iteration: 2.7319784693494123e-05\n",
      "r: 28.0 . Turns to do: 10 . Min found: 3\n",
      "Active radiuses: 111 / 111\n",
      "Sample size per active radius: 19\n",
      "Expected execution time for step: 0.58\n",
      "Elapsed time for whole iteration: 0.57\n",
      "Time per single iteration: 2.721159759999e-05\n",
      "r: 47.0 . Turns to do: 5 . Min found: 0\n",
      "Active radiuses: 50 / 111\n",
      "Sample size per active radius: 40\n",
      "Expected execution time for step: 0.27\n"
     ]
    },
    {
     "name": "stderr",
     "output_type": "stream",
     "text": [
      "Iterations:  96%|█████████▌| 96/100 [02:32<00:06,  1.60s/it]"
     ]
    },
    {
     "name": "stdout",
     "output_type": "stream",
     "text": [
      "Elapsed time for whole iteration: 0.33\n",
      "Time per single iteration: 3.343226909637451e-05\n",
      "r: 87.0 . Turns to do: 1 . Min found: 0\n",
      "Active radiuses: 2 / 111\n",
      "Sample size per active radius: 1000\n",
      "Expected execution time for step: 0.07\n",
      "Elapsed time for whole iteration: 0.17\n",
      "Time per single iteration: 8.469021320343017e-05\n",
      "r: 1087.0 . Turns to do: 0 . Min found: 0\n",
      "TOTAL ELAPSED TIME IN SECONDS: 1.65\n",
      "...gathering\n",
      "setup...\n",
      "...baking...\n",
      "Active radiuses: 111 / 111\n",
      "Sample size per active radius: 19\n",
      "Expected execution time for step: nan\n",
      "Elapsed time for whole iteration: 0.58\n",
      "Time per single iteration: 2.733786109501064e-05\n",
      "r: 28.0 . Turns to do: 10 . Min found: 1\n",
      "Active radiuses: 111 / 111\n",
      "Sample size per active radius: 19\n",
      "Expected execution time for step: 0.58\n",
      "Elapsed time for whole iteration: 0.57\n",
      "Time per single iteration: 2.7242685845249802e-05\n",
      "r: 47.0 . Turns to do: 3 . Min found: 0\n",
      "Active radiuses: 57 / 111\n",
      "Sample size per active radius: 36\n",
      "Expected execution time for step: 0.17\n"
     ]
    },
    {
     "name": "stderr",
     "output_type": "stream",
     "text": [
      "Iterations:  97%|█████████▋| 97/100 [02:34<00:04,  1.60s/it]"
     ]
    },
    {
     "name": "stdout",
     "output_type": "stream",
     "text": [
      "Elapsed time for whole iteration: 0.25\n",
      "Time per single iteration: 4.0920273369980605e-05\n",
      "r: 83.0 . Turns to do: 1 . Min found: 0\n",
      "Active radiuses: 2 / 111\n",
      "Sample size per active radius: 1000\n",
      "Expected execution time for step: 0.08\n",
      "Elapsed time for whole iteration: 0.17\n",
      "Time per single iteration: 8.487522602081299e-05\n",
      "r: 1083.0 . Turns to do: 0 . Min found: 0\n",
      "TOTAL ELAPSED TIME IN SECONDS: 1.57\n",
      "...gathering\n",
      "setup...\n",
      "...baking...\n",
      "Active radiuses: 109 / 109\n",
      "Sample size per active radius: 19\n",
      "Expected execution time for step: nan\n",
      "Elapsed time for whole iteration: 0.58\n",
      "Time per single iteration: 2.7861979662767646e-05\n",
      "r: 28.0 . Turns to do: 10 . Min found: 4\n",
      "Active radiuses: 109 / 109\n",
      "Sample size per active radius: 19\n",
      "Expected execution time for step: 0.58\n",
      "Elapsed time for whole iteration: 0.57\n",
      "Time per single iteration: 2.7705010211968525e-05\n",
      "r: 47.0 . Turns to do: 4 . Min found: 0\n",
      "Active radiuses: 52 / 109\n",
      "Sample size per active radius: 39\n",
      "Expected execution time for step: 0.22\n"
     ]
    },
    {
     "name": "stderr",
     "output_type": "stream",
     "text": [
      "Iterations:  98%|█████████▊| 98/100 [02:35<00:03,  1.62s/it]"
     ]
    },
    {
     "name": "stdout",
     "output_type": "stream",
     "text": [
      "Elapsed time for whole iteration: 0.31\n",
      "Time per single iteration: 3.77350892776098e-05\n",
      "r: 86.0 . Turns to do: 1 . Min found: 0\n",
      "Active radiuses: 1 / 109\n",
      "Sample size per active radius: 2000\n",
      "Expected execution time for step: 0.08\n",
      "Elapsed time for whole iteration: 0.17\n",
      "Time per single iteration: 8.456027507781982e-05\n",
      "r: 2086.0 . Turns to do: 0 . Min found: 0\n",
      "TOTAL ELAPSED TIME IN SECONDS: 1.63\n",
      "...gathering\n",
      "setup...\n",
      "...baking...\n",
      "Active radiuses: 109 / 109\n",
      "Sample size per active radius: 19\n",
      "Expected execution time for step: nan\n",
      "Elapsed time for whole iteration: 0.58\n",
      "Time per single iteration: 2.7817876254919357e-05\n",
      "r: 28.0 . Turns to do: 10 . Min found: 2\n",
      "Active radiuses: 109 / 109\n",
      "Sample size per active radius: 19\n",
      "Expected execution time for step: 0.58\n",
      "Elapsed time for whole iteration: 0.57\n",
      "Time per single iteration: 2.7600271813481513e-05\n",
      "r: 47.0 . Turns to do: 10 . Min found: 0\n",
      "Active radiuses: 54 / 109\n",
      "Sample size per active radius: 38\n",
      "Expected execution time for step: 0.57\n"
     ]
    },
    {
     "name": "stderr",
     "output_type": "stream",
     "text": [
      "Iterations:  99%|█████████▉| 99/100 [02:37<00:01,  1.69s/it]"
     ]
    },
    {
     "name": "stdout",
     "output_type": "stream",
     "text": [
      "Elapsed time for whole iteration: 0.50\n",
      "Time per single iteration: 2.4362254096285874e-05\n",
      "r: 85.0 . Turns to do: 1 . Min found: 0\n",
      "Active radiuses: 1 / 109\n",
      "Sample size per active radius: 2000\n",
      "Expected execution time for step: 0.05\n",
      "Elapsed time for whole iteration: 0.17\n",
      "Time per single iteration: 8.475303649902344e-05\n",
      "r: 2085.0 . Turns to do: 0 . Min found: 0\n",
      "TOTAL ELAPSED TIME IN SECONDS: 1.82\n",
      "...gathering\n",
      "setup...\n",
      "...baking...\n",
      "Active radiuses: 109 / 109\n",
      "Sample size per active radius: 19\n",
      "Expected execution time for step: nan\n",
      "Elapsed time for whole iteration: 0.58\n",
      "Time per single iteration: 2.7840670498599758e-05\n",
      "r: 28.0 . Turns to do: 10 . Min found: 3\n",
      "Active radiuses: 109 / 109\n",
      "Sample size per active radius: 19\n",
      "Expected execution time for step: 0.58\n",
      "Elapsed time for whole iteration: 0.58\n",
      "Time per single iteration: 2.7777594912173034e-05\n",
      "r: 47.0 . Turns to do: 3 . Min found: 0\n",
      "Active radiuses: 48 / 109\n",
      "Sample size per active radius: 42\n",
      "Expected execution time for step: 0.17\n"
     ]
    },
    {
     "name": "stderr",
     "output_type": "stream",
     "text": [
      "Iterations: 100%|██████████| 100/100 [02:39<00:00,  1.59s/it]"
     ]
    },
    {
     "name": "stdout",
     "output_type": "stream",
     "text": [
      "Elapsed time for whole iteration: 0.25\n",
      "Time per single iteration: 4.1670781910104093e-05\n",
      "r: 89.0 . Turns to do: 0 . Min found: 0\n",
      "TOTAL ELAPSED TIME IN SECONDS: 1.40\n",
      "...gathering\n"
     ]
    },
    {
     "name": "stderr",
     "output_type": "stream",
     "text": [
      "\n"
     ]
    }
   ],
   "source": [
    "from stratified_mc import stratified_mc\n",
    "\n",
    "DA_4 = {}\n",
    "error_4 = {}\n",
    "\n",
    "d_samples = mcs_samples[1] - mcs_samples[0]\n",
    "\n",
    "engine = stratified_mc(mcs_n_sectors, mcs_max_samples, turn_sampling, d_r)\n",
    "for iters in tqdm(mcs_samples, desc=\"Iterations\"):\n",
    "    engine.compute(d_samples)\n",
    "    average, variance = engine.get_result()\n",
    "\n",
    "    DA_4[iters] = np.power(average, 1/4) \n",
    "    error_4[iters] = 0.25 * np.power(average, -3/4) * variance "
   ]
  },
  {
   "cell_type": "markdown",
   "metadata": {},
   "source": [
    "### Saving data"
   ]
  },
  {
   "cell_type": "code",
   "execution_count": 3,
   "metadata": {},
   "outputs": [
    {
     "ename": "FileNotFoundError",
     "evalue": "[Errno 2] No such file or directory: '/afs/cern.ch/work/c/camontan/public/sixtrack_da/data/DA_4.pkl'",
     "output_type": "error",
     "traceback": [
      "\u001b[0;31m---------------------------------------------------------------------------\u001b[0m",
      "\u001b[0;31mFileNotFoundError\u001b[0m                         Traceback (most recent call last)",
      "\u001b[0;32m<ipython-input-3-cf253509b1ae>\u001b[0m in \u001b[0;36m<module>\u001b[0;34m\u001b[0m\n\u001b[0;32m----> 1\u001b[0;31m \u001b[0;32mwith\u001b[0m \u001b[0mopen\u001b[0m\u001b[0;34m(\u001b[0m\u001b[0msavepath\u001b[0m \u001b[0;34m+\u001b[0m \u001b[0;34m\"data/DA_4.pkl\"\u001b[0m\u001b[0;34m,\u001b[0m \u001b[0;34m'wb'\u001b[0m\u001b[0;34m)\u001b[0m \u001b[0;32mas\u001b[0m \u001b[0mf\u001b[0m\u001b[0;34m:\u001b[0m\u001b[0;34m\u001b[0m\u001b[0;34m\u001b[0m\u001b[0m\n\u001b[0m\u001b[1;32m      2\u001b[0m     \u001b[0mpickle\u001b[0m\u001b[0;34m.\u001b[0m\u001b[0mdump\u001b[0m\u001b[0;34m(\u001b[0m\u001b[0mDA_4\u001b[0m\u001b[0;34m,\u001b[0m \u001b[0mf\u001b[0m\u001b[0;34m,\u001b[0m \u001b[0mprotocol\u001b[0m\u001b[0;34m=\u001b[0m\u001b[0;36m4\u001b[0m\u001b[0;34m)\u001b[0m\u001b[0;34m\u001b[0m\u001b[0;34m\u001b[0m\u001b[0m\n\u001b[1;32m      3\u001b[0m \u001b[0;34m\u001b[0m\u001b[0m\n\u001b[1;32m      4\u001b[0m \u001b[0;32mwith\u001b[0m \u001b[0mopen\u001b[0m\u001b[0;34m(\u001b[0m\u001b[0msavepath\u001b[0m \u001b[0;34m+\u001b[0m \u001b[0;34m\"data/error_4.pkl\"\u001b[0m\u001b[0;34m,\u001b[0m \u001b[0;34m'wb'\u001b[0m\u001b[0;34m)\u001b[0m \u001b[0;32mas\u001b[0m \u001b[0mf\u001b[0m\u001b[0;34m:\u001b[0m\u001b[0;34m\u001b[0m\u001b[0;34m\u001b[0m\u001b[0m\n\u001b[1;32m      5\u001b[0m     \u001b[0mpickle\u001b[0m\u001b[0;34m.\u001b[0m\u001b[0mdump\u001b[0m\u001b[0;34m(\u001b[0m\u001b[0merror_4\u001b[0m\u001b[0;34m,\u001b[0m \u001b[0mf\u001b[0m\u001b[0;34m,\u001b[0m \u001b[0mprotocol\u001b[0m\u001b[0;34m=\u001b[0m\u001b[0;36m4\u001b[0m\u001b[0;34m)\u001b[0m\u001b[0;34m\u001b[0m\u001b[0;34m\u001b[0m\u001b[0m\n",
      "\u001b[0;31mFileNotFoundError\u001b[0m: [Errno 2] No such file or directory: '/afs/cern.ch/work/c/camontan/public/sixtrack_da/data/DA_4.pkl'"
     ]
    }
   ],
   "source": [
    "with open(savepath + \"data/DA_4.pkl\", 'wb') as f:\n",
    "    pickle.dump(DA_4, f, protocol=4)\n",
    "\n",
    "with open(savepath + \"data/error_4.pkl\", 'wb') as f:\n",
    "    pickle.dump(error_4, f, protocol=4)"
   ]
  },
  {
   "cell_type": "code",
   "execution_count": null,
   "metadata": {},
   "outputs": [],
   "source": []
  }
 ],
 "metadata": {
  "kernelspec": {
   "display_name": "Python 3",
   "language": "python",
   "name": "python3"
  },
  "language_info": {
   "codemirror_mode": {
    "name": "ipython",
    "version": 3
   },
   "file_extension": ".py",
   "mimetype": "text/x-python",
   "name": "python",
   "nbconvert_exporter": "python",
   "pygments_lexer": "ipython3",
   "version": "3.8.1"
  }
 },
 "nbformat": 4,
 "nbformat_minor": 4
}
